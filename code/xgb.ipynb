{
 "cells": [
  {
   "cell_type": "markdown",
   "metadata": {},
   "source": [
    "### Mixing our ideas and others (not all) from the forum\n",
    "\n",
    "**Steps:**\n",
    "1. Remove zero-variance features.\n",
    "2. Compute mean, std, etc *per row*.\n",
    "3. Train a simple lgb model on the remaining original features and determine `N` most important.\n",
    "5. Assemble dataset of N relevant features + statistical properties of all features.\n",
    "6. Train xgb:\n",
    "    - `booster`: gbtree\n",
    "    - `learning_rate`: 0.01\n",
    "    - `eval_metric`: rmse\n",
    "    - `lambda`: 2.5\n",
    "    - `alpha`: 0.05\n",
    "    - `colsample_bytree`: 0.075\n",
    "   \n",
    "**Results:**\n",
    "1. `N=1000`:\n",
    "    - log: mean 1.3327, std 0.0421\n",
    "    - no log, only target: mean 1.3308, std 0.0560  \n",
    "    \n",
    "2. `N=2000`:\n",
    "    - log: mean 1.3364, std 0.0319\n",
    "    - no log, only target: mean 1.3393, std 0.0403\n",
    "    \n",
    "2. `N=1500`:\n",
    "    - log: mean 1.3320, std 0.0470\n",
    "    - no log, only target: mean 1.3303, std 0.0463\n",
    "    \n",
    "2. `N=100`:\n",
    "    - log: mean 1.3263, std 0.0318\n",
    "    - no log, only target: mean 1.3289, std 0.0372\n",
    "    \n",
    "2. `N=150`:\n",
    "    - log: mean 1.3275, std 0.0428\n",
    "    - no log, only target: mean 1.3252, std 0.0275\n",
    "    - no log, only target, **lr=0.007**: mean 1.3255, std 0.0329\n",
    "    - no log, only target, **lr=0.005**: mean 1.3223, std 0.0313\n",
    "    - no log, only target, **lr=0.003**: mean: 1.3269, std 0.0207\n",
    "    - no log, only target, **lr=0.003, lambda=3.0**: mean: 1.3199, std 0.0295\n",
    "    - no log, only target, **lr=0.003, alpha=0.01, 5-fold**: mean: 1.3232, std 0.0124 --> LB: 1.39\n",
    "    - no log, only target, random state = 0, **lr=0.003, alpha=0.01, 5-fold**: mean: 1.32605, std: 0.02145 --> LB: 1.39\n",
    "    - no log, only target, **dart with lr=0.007**: mean 1.3191, std 0.0366\n",
    "    \n",
    "    \n",
    "### Comments\n",
    "\n",
    "- We need to rethink the kind of feature preprocessing we are going to do. I think we are doing this by trial and error, when it should be done be analyzing feature characteristics.\n",
    "- For example, I tried the xgb model without dividing by 1000 every feature, and I get results pretty much the same as applying it. I really don't see any good reason to divide everything by 1000, so I would discard it.\n",
    "    - **César:** The idea here is to slightly overestimate the results&mdash;see [this post](https://www.kaggle.com/c/santander-value-prediction-challenge/discussion/60056). All values are multiples of 1000, so we will indeed not see the difference directly, but doing `np.ceil()` before multiplying by 1000 *might* help avoiding underestimations.\n",
    "- Adding statistics column is a great improvement. However, I would add it AFTER applying shap.\n",
    "    - **César:** In principle I assume that having the stats of ALL non-zero columns is better, but it can be that it doesn't make a difference.\n",
    "- I'm not sure about standardization and applying log to features. In my experience, applying them doesn't make any difference in this case.\n",
    "    - **César:** Let's ditch them, not helping.\n",
    "- In summary, we should try to choose the feature preprocessing based on feature characteristics. Otherwise, we might end up wasting too much time on trial and error. To me, the feature preprocessing that makes the greatest impact are shap and stats column, and maybe removing zero variance features (which doesn't hurt, anyway).\n",
    "\n",
    "### Pre processing proposition plan\n",
    "\n",
    "1. Remove zero variance features.\n",
    "2. ~~Log transform (maybe only features with outliers or sparse data, but applying to all is quicker).~~\n",
    "3. Apply SHAP and keep N most important features (N would be a hyperparameter).\n",
    "4. Remove features that are too different between train and test data (use KS test with threshold as hyperparameter). With this we may solve the difference in distibutions of train and test set. (**TO DO**)\n",
    "5. Add stats columns."
   ]
  },
  {
   "cell_type": "code",
   "execution_count": 4,
   "metadata": {},
   "outputs": [],
   "source": [
    "# misc\n",
    "import warnings\n",
    "warnings.filterwarnings('ignore')\n",
    "import gc\n",
    "\n",
    "# basic imports\n",
    "import numpy as np\n",
    "import pandas as pd\n",
    "import seaborn as sns\n",
    "import matplotlib.pyplot as plt\n",
    "%matplotlib inline\n",
    "plt.style.use('seaborn')\n",
    "sns.set(palette='colorblind')\n",
    "\n",
    "# processing\n",
    "from sklearn.model_selection import KFold\n",
    "from sklearn.metrics import mean_squared_error\n",
    "from sklearn.feature_selection import VarianceThreshold\n",
    "\n",
    "import shap\n",
    "\n",
    "# models\n",
    "import xgboost as xgb\n",
    "import lightgbm as lgb\n",
    "import catboost as cb"
   ]
  },
  {
   "cell_type": "code",
   "execution_count": 5,
   "metadata": {},
   "outputs": [],
   "source": [
    "def stats_prop(df):\n",
    "    tr_means = []\n",
    "    tr_medians = []\n",
    "    tr_stds = []\n",
    "    tr_skews = []\n",
    "    tr_mins = []\n",
    "    tr_maxs = []\n",
    "    tr_sums = []\n",
    "    tr_nonzero = []\n",
    "    for i, row in df.iterrows():\n",
    "        tr_means.append(row[row.nonzero()[0]].mean())\n",
    "        tr_medians.append(row[row.nonzero()[0]].median())\n",
    "        tr_stds.append(row[row.nonzero()[0]].std())\n",
    "        tr_skews.append(row[row.nonzero()[0]].skew())\n",
    "        tr_mins.append(row[row.nonzero()[0]].min())\n",
    "        tr_maxs.append(row[row.nonzero()[0]].max())\n",
    "        tr_sums.append(row[row.nonzero()[0]].sum())\n",
    "        tr_nonzero.append(row[row.nonzero()[0]].count()/df.shape[1])\n",
    "        \n",
    "    tr_means = np.nan_to_num(np.array(tr_means))\n",
    "    tr_medians = np.nan_to_num(np.array(tr_medians))\n",
    "    tr_stds = np.nan_to_num(np.array(tr_stds))\n",
    "    tr_skews = np.nan_to_num(np.array(tr_skews))\n",
    "    tr_mins = np.nan_to_num(np.array(tr_mins))\n",
    "    tr_maxs = np.nan_to_num(np.array(tr_maxs))\n",
    "    tr_sums = np.nan_to_num(np.array(tr_sums))\n",
    "    tr_nonzero = np.nan_to_num(np.array(tr_nonzero))\n",
    "        \n",
    "    return np.stack((tr_means, tr_medians, tr_stds, tr_skews, tr_mins, tr_maxs, tr_sums, tr_nonzero), axis=-1)\n",
    "    "
   ]
  },
  {
   "cell_type": "code",
   "execution_count": 6,
   "metadata": {},
   "outputs": [],
   "source": [
    "train_data = pd.read_csv('../data/train.csv')\n",
    "test_data = pd.read_csv('../data/test.csv')"
   ]
  },
  {
   "cell_type": "markdown",
   "metadata": {},
   "source": [
    "#### divide by 1000 to overestimate later"
   ]
  },
  {
   "cell_type": "code",
   "execution_count": 7,
   "metadata": {},
   "outputs": [],
   "source": [
    "train_data[train_data.columns[1:]] = train_data[train_data.columns[1:]]/1000\n",
    "test_data[test_data.columns[1:]] = test_data[test_data.columns[1:]]/1000"
   ]
  },
  {
   "cell_type": "markdown",
   "metadata": {},
   "source": [
    "### Preprocessing\n",
    "\n",
    "#### Removing target"
   ]
  },
  {
   "cell_type": "code",
   "execution_count": 8,
   "metadata": {},
   "outputs": [],
   "source": [
    "# remove target and ID columns\n",
    "target = train_data.target\n",
    "train_data = train_data.drop(['target', 'ID'], axis=1)\n",
    "test_ID = test_data.ID\n",
    "test_data = test_data.drop(['ID'], axis=1)"
   ]
  },
  {
   "cell_type": "markdown",
   "metadata": {},
   "source": [
    "#### Variance threshold"
   ]
  },
  {
   "cell_type": "code",
   "execution_count": 9,
   "metadata": {},
   "outputs": [],
   "source": [
    "#properties_train = train_data.describe()\n",
    "#max_std = properties_train.transpose()['std'].max()\n",
    "\n",
    "#threshold_var = max_std**2/10000.\n",
    "threshold_var = 0."
   ]
  },
  {
   "cell_type": "code",
   "execution_count": 10,
   "metadata": {},
   "outputs": [],
   "source": [
    "vt = VarianceThreshold(threshold=threshold_var)\n",
    "vt.fit(train_data)\n",
    "selected_columns = train_data.columns[vt.get_support(indices=True)]"
   ]
  },
  {
   "cell_type": "code",
   "execution_count": 11,
   "metadata": {},
   "outputs": [],
   "source": [
    "train_novar = train_data[selected_columns]\n",
    "test_novar = test_data[selected_columns]"
   ]
  },
  {
   "cell_type": "code",
   "execution_count": 12,
   "metadata": {},
   "outputs": [
    {
     "name": "stdout",
     "output_type": "stream",
     "text": [
      "Remaining columns: 4735\n"
     ]
    }
   ],
   "source": [
    "print('Remaining columns: %i' % len(selected_columns))"
   ]
  },
  {
   "cell_type": "markdown",
   "metadata": {},
   "source": [
    "#### SHAP"
   ]
  },
  {
   "cell_type": "code",
   "execution_count": 13,
   "metadata": {},
   "outputs": [],
   "source": [
    "#transform to log\n",
    "#log_features_train = np.log1p(train_novar)\n",
    "#log_features_test = np.log1p(test_novar)\n",
    "\n",
    "log_features_train = train_novar\n",
    "log_features_test = test_novar\n",
    "log_target = np.log1p(target)"
   ]
  },
  {
   "cell_type": "markdown",
   "metadata": {},
   "source": [
    "#### Stat all cols"
   ]
  },
  {
   "cell_type": "code",
   "execution_count": 14,
   "metadata": {},
   "outputs": [],
   "source": [
    "stat_train = stats_prop(log_features_train)\n",
    "stat_test = stats_prop(log_features_test)"
   ]
  },
  {
   "cell_type": "code",
   "execution_count": 15,
   "metadata": {},
   "outputs": [],
   "source": [
    "# CV folds\n",
    "kf = KFold(n_splits=10, shuffle=True)\n",
    "n_splits = kf.get_n_splits()"
   ]
  },
  {
   "cell_type": "code",
   "execution_count": 16,
   "metadata": {},
   "outputs": [],
   "source": [
    "# model parameters\n",
    "params = {'learning_rate':0.5, 'metric':'rmse', 'max_bin':63, 'device':'cpu'}"
   ]
  },
  {
   "cell_type": "code",
   "execution_count": 17,
   "metadata": {},
   "outputs": [],
   "source": [
    "shap_values = np.zeros((log_features_train.shape[0],log_features_train.shape[1]+1))\n",
    "\n",
    "for train_index, test_index in kf.split(log_features_train):\n",
    "    \n",
    "    X_tr, X_tst = log_features_train.values[train_index], log_features_train.values[test_index]\n",
    "    y_tr, y_tst = log_target[train_index], log_target[test_index]\n",
    "    \n",
    "    train_set = lgb.Dataset(X_tr, label=y_tr)\n",
    "    valid_set = lgb.Dataset(X_tst, label=y_tst, reference=train_set)\n",
    "    \n",
    "    bst = lgb.train(params, train_set, num_boost_round=50, valid_sets=[train_set, valid_set], early_stopping_rounds=5,\n",
    "                    verbose_eval=False)\n",
    "\n",
    "    shap_values += shap.TreeExplainer(bst).shap_values(log_features_train.values)/n_splits"
   ]
  },
  {
   "cell_type": "code",
   "execution_count": 18,
   "metadata": {},
   "outputs": [
    {
     "data": {
      "image/png": "[encoded data removed]",
      "text/plain": [
       "<Figure size 576x396 with 2 Axes>"
      ]
     },
     "metadata": {},
     "output_type": "display_data"
    }
   ],
   "source": [
    "shap.summary_plot(shap_values, log_features_train, max_display=10, plot_type='dot')"
   ]
  },
  {
   "cell_type": "code",
   "execution_count": 19,
   "metadata": {},
   "outputs": [],
   "source": [
    "N = 150\n",
    "sorted_columns = np.argsort(np.sum(np.abs(shap_values), axis=0)[:-1])[::-1]\n",
    "most_relevant = train_novar.columns[sorted_columns[:N]]"
   ]
  },
  {
   "cell_type": "code",
   "execution_count": 20,
   "metadata": {},
   "outputs": [],
   "source": [
    "log_features_train = log_features_train[most_relevant]\n",
    "log_features_test = log_features_test[most_relevant]"
   ]
  },
  {
   "cell_type": "code",
   "execution_count": 21,
   "metadata": {},
   "outputs": [
    {
     "name": "stdout",
     "output_type": "stream",
     "text": [
      "Remaining columns: 150\n"
     ]
    }
   ],
   "source": [
    "print('Remaining columns: %i' % log_features_train.shape[1])"
   ]
  },
  {
   "cell_type": "markdown",
   "metadata": {},
   "source": [
    "#### Statistical properties\n",
    "\n",
    "Considering non-zero values, except for non-zero fraction."
   ]
  },
  {
   "cell_type": "code",
   "execution_count": 22,
   "metadata": {},
   "outputs": [],
   "source": [
    "#stat_train = stats_prop(log_features_train)\n",
    "#stat_test = stats_prop(log_features_test)"
   ]
  },
  {
   "cell_type": "markdown",
   "metadata": {
    "heading_collapsed": true
   },
   "source": [
    "#### Standarisation (not now)"
   ]
  },
  {
   "cell_type": "code",
   "execution_count": 23,
   "metadata": {
    "hidden": true
   },
   "outputs": [],
   "source": [
    "#scaling\n",
    "#scaler = StandardScaler()\n",
    "\n",
    "#log_features_train = scaler.fit_transform(log_features_train)\n",
    "#log_features_test = scaler.transform(log_features_test)"
   ]
  },
  {
   "cell_type": "markdown",
   "metadata": {
    "heading_collapsed": true
   },
   "source": [
    "#### Polynomial (not now)"
   ]
  },
  {
   "cell_type": "code",
   "execution_count": 24,
   "metadata": {
    "hidden": true
   },
   "outputs": [],
   "source": [
    "#poly = PolynomialFeatures(2, interaction_only=True, include_bias=False)"
   ]
  },
  {
   "cell_type": "code",
   "execution_count": 25,
   "metadata": {
    "hidden": true
   },
   "outputs": [],
   "source": [
    "#poly_train = poly.fit_transform(log_features_train)\n",
    "#poly_test = poly.fit_transform(log_features_test)"
   ]
  },
  {
   "cell_type": "markdown",
   "metadata": {},
   "source": [
    "#### Assembly"
   ]
  },
  {
   "cell_type": "code",
   "execution_count": 26,
   "metadata": {},
   "outputs": [],
   "source": [
    "#train_final = np.hstack((poly_train, stat_train))\n",
    "#test_final = np.hstack((poly_test, stat_test))"
   ]
  },
  {
   "cell_type": "code",
   "execution_count": 27,
   "metadata": {},
   "outputs": [],
   "source": [
    "train_final = np.hstack((log_features_train.values, stat_train))\n",
    "test_final = np.hstack((log_features_test.values, stat_test))"
   ]
  },
  {
   "cell_type": "code",
   "execution_count": null,
   "metadata": {
    "collapsed": true
   },
   "outputs": [],
   "source": [
    "del train_data, test_data, train_novar, test_novar, log_features_train, log_features_test\n",
    "gc.collect()"
   ]
  },
  {
   "cell_type": "code",
   "execution_count": 28,
   "metadata": {},
   "outputs": [
    {
     "name": "stdout",
     "output_type": "stream",
     "text": [
      "Final number of features: 158\n"
     ]
    }
   ],
   "source": [
    "print('Final number of features: %i' % train_final.shape[1])"
   ]
  },
  {
   "cell_type": "markdown",
   "metadata": {},
   "source": [
    "### xgb (cross validation)"
   ]
  },
  {
   "cell_type": "code",
   "execution_count": 29,
   "metadata": {},
   "outputs": [],
   "source": [
    "# CV folds\n",
    "kf = KFold(n_splits=5, shuffle=True)#, random_state=0)\n",
    "n_splits = kf.get_n_splits()"
   ]
  },
  {
   "cell_type": "code",
   "execution_count": 30,
   "metadata": {},
   "outputs": [],
   "source": [
    "# model parameters\n",
    "\n",
    "params = {'booster': 'gbtree', 'learning_rate':0.003, 'colsample_bytree': 0.05, 'eval_metric':'rmse', 'lambda': 3.,\n",
    "          'alpha': 0.03}"
   ]
  },
  {
   "cell_type": "code",
   "execution_count": 39,
   "metadata": {
    "scrolled": true
   },
   "outputs": [
    {
     "name": "stdout",
     "output_type": "stream",
     "text": [
      "[0]\ttrain-rmse:7.28931\tval-rmse:7.22449\n",
      "Multiple eval metrics have been passed: 'val-rmse' will be used for early stopping.\n",
      "\n",
      "Will train until val-rmse hasn't improved in 500 rounds.\n",
      "[1000]\ttrain-rmse:1.36269\tval-rmse:1.44806\n",
      "[2000]\ttrain-rmse:1.1478\tval-rmse:1.33673\n",
      "[3000]\ttrain-rmse:1.0558\tval-rmse:1.31458\n",
      "[4000]\ttrain-rmse:0.988784\tval-rmse:1.30754\n",
      "[5000]\ttrain-rmse:0.935792\tval-rmse:1.3053\n",
      "[6000]\ttrain-rmse:0.891379\tval-rmse:1.30483\n",
      "[7000]\ttrain-rmse:0.851043\tval-rmse:1.30455\n",
      "Stopping. Best iteration:\n",
      "[6975]\ttrain-rmse:0.851898\tval-rmse:1.3045\n",
      "\n",
      "RMSLE: 1.30450\n",
      "[0]\ttrain-rmse:7.2849\tval-rmse:7.24236\n",
      "Multiple eval metrics have been passed: 'val-rmse' will be used for early stopping.\n",
      "\n",
      "Will train until val-rmse hasn't improved in 500 rounds.\n",
      "[1000]\ttrain-rmse:1.35534\tval-rmse:1.45812\n",
      "[2000]\ttrain-rmse:1.132\tval-rmse:1.35234\n",
      "[3000]\ttrain-rmse:1.03485\tval-rmse:1.3354\n",
      "[4000]\ttrain-rmse:0.966683\tval-rmse:1.33117\n",
      "[5000]\ttrain-rmse:0.913265\tval-rmse:1.32963\n",
      "[6000]\ttrain-rmse:0.867772\tval-rmse:1.32974\n",
      "Stopping. Best iteration:\n",
      "[5509]\ttrain-rmse:0.889307\tval-rmse:1.32923\n",
      "\n",
      "RMSLE: 1.32923\n",
      "[0]\ttrain-rmse:7.28621\tval-rmse:7.23703\n",
      "Multiple eval metrics have been passed: 'val-rmse' will be used for early stopping.\n",
      "\n",
      "Will train until val-rmse hasn't improved in 500 rounds.\n",
      "[1000]\ttrain-rmse:1.35132\tval-rmse:1.47727\n",
      "[2000]\ttrain-rmse:1.13179\tval-rmse:1.38537\n",
      "[3000]\ttrain-rmse:1.03851\tval-rmse:1.37428\n",
      "[4000]\ttrain-rmse:0.969822\tval-rmse:1.37241\n",
      "Stopping. Best iteration:\n",
      "[3581]\ttrain-rmse:0.996542\tval-rmse:1.37203\n",
      "\n",
      "RMSLE: 1.37203\n",
      "[0]\ttrain-rmse:7.24732\tval-rmse:7.3922\n",
      "Multiple eval metrics have been passed: 'val-rmse' will be used for early stopping.\n",
      "\n",
      "Will train until val-rmse hasn't improved in 500 rounds.\n",
      "[1000]\ttrain-rmse:1.36651\tval-rmse:1.45708\n",
      "[2000]\ttrain-rmse:1.14731\tval-rmse:1.31471\n",
      "[3000]\ttrain-rmse:1.05507\tval-rmse:1.29623\n",
      "[4000]\ttrain-rmse:0.990373\tval-rmse:1.29101\n",
      "[5000]\ttrain-rmse:0.938792\tval-rmse:1.2901\n",
      "Stopping. Best iteration:\n",
      "[4706]\ttrain-rmse:0.95277\tval-rmse:1.28976\n",
      "\n",
      "RMSLE: 1.28976\n",
      "[0]\ttrain-rmse:7.27436\tval-rmse:7.28481\n",
      "Multiple eval metrics have been passed: 'val-rmse' will be used for early stopping.\n",
      "\n",
      "Will train until val-rmse hasn't improved in 500 rounds.\n",
      "[1000]\ttrain-rmse:1.35039\tval-rmse:1.48316\n",
      "[2000]\ttrain-rmse:1.13222\tval-rmse:1.37188\n",
      "[3000]\ttrain-rmse:1.03961\tval-rmse:1.35125\n",
      "[4000]\ttrain-rmse:0.973085\tval-rmse:1.34349\n",
      "[5000]\ttrain-rmse:0.921858\tval-rmse:1.34011\n",
      "[6000]\ttrain-rmse:0.878096\tval-rmse:1.33826\n",
      "[7000]\ttrain-rmse:0.838774\tval-rmse:1.33714\n",
      "Stopping. Best iteration:\n",
      "[7484]\ttrain-rmse:0.821458\tval-rmse:1.33682\n",
      "\n",
      "RMSLE: 1.33682\n",
      "\n",
      " Fold mean of RMSLE: 1.32647\n",
      "\n",
      " Fold std of RMSLE: 0.02836\n"
     ]
    }
   ],
   "source": [
    "submission = pd.DataFrame.from_dict({'ID': test_ID, 'target': np.zeros(test_ID.shape[0])})\n",
    "\n",
    "errors = []\n",
    "\n",
    "test_set = xgb.DMatrix(test_final)\n",
    "\n",
    "for train_index, test_index in kf.split(train_final):\n",
    "        \n",
    "    X_tr, X_tst = train_final[train_index], train_final[test_index]\n",
    "    y_tr, y_tst = log_target[train_index], log_target[test_index]\n",
    "\n",
    "    train_set = xgb.DMatrix(X_tr, label=y_tr)\n",
    "    valid_set = xgb.DMatrix(X_tst, label=y_tst)\n",
    "\n",
    "    bst = xgb.train(params, train_set, num_boost_round=20000, evals=[(train_set, 'train'), (valid_set, 'val')],\n",
    "                    early_stopping_rounds=500, verbose_eval=1000)\n",
    "\n",
    "    y_val = bst.predict(valid_set, ntree_limit=bst.best_ntree_limit)\n",
    "\n",
    "    rmsle = np.sqrt(mean_squared_error(y_tst, y_val))\n",
    "\n",
    "    print('RMSLE: %.5f' % rmsle)\n",
    "\n",
    "    errors.append(rmsle)\n",
    "\n",
    "    submission.target = submission.target + np.expm1(bst.predict(test_set, ntree_limit=bst.best_ntree_limit))/n_splits\n",
    "        \n",
    "print('\\n Fold mean of RMSLE: %.5f' % np.mean(errors))\n",
    "print('\\n Fold std of RMSLE: %.5f' % np.std(errors))"
   ]
  },
  {
   "cell_type": "markdown",
   "metadata": {},
   "source": [
    "#### ceiling to overestimate"
   ]
  },
  {
   "cell_type": "code",
   "execution_count": 61,
   "metadata": {},
   "outputs": [],
   "source": [
    "submission.target = 1000*np.ceil(submission.target)"
   ]
  },
  {
   "cell_type": "code",
   "execution_count": 62,
   "metadata": {},
   "outputs": [
    {
     "data": {
      "text/html": [
       "<div>\n",
       "<style scoped>\n",
       "    .dataframe tbody tr th:only-of-type {\n",
       "        vertical-align: middle;\n",
       "    }\n",
       "\n",
       "    .dataframe tbody tr th {\n",
       "        vertical-align: top;\n",
       "    }\n",
       "\n",
       "    .dataframe thead th {\n",
       "        text-align: right;\n",
       "    }\n",
       "</style>\n",
       "<table border=\"1\" class=\"dataframe\">\n",
       "  <thead>\n",
       "    <tr style=\"text-align: right;\">\n",
       "      <th></th>\n",
       "      <th>ID</th>\n",
       "      <th>target</th>\n",
       "    </tr>\n",
       "  </thead>\n",
       "  <tbody>\n",
       "    <tr>\n",
       "      <th>0</th>\n",
       "      <td>000137c73</td>\n",
       "      <td>1981000.0</td>\n",
       "    </tr>\n",
       "    <tr>\n",
       "      <th>1</th>\n",
       "      <td>00021489f</td>\n",
       "      <td>1587000.0</td>\n",
       "    </tr>\n",
       "    <tr>\n",
       "      <th>2</th>\n",
       "      <td>0004d7953</td>\n",
       "      <td>1949000.0</td>\n",
       "    </tr>\n",
       "    <tr>\n",
       "      <th>3</th>\n",
       "      <td>00056a333</td>\n",
       "      <td>4921000.0</td>\n",
       "    </tr>\n",
       "    <tr>\n",
       "      <th>4</th>\n",
       "      <td>00056d8eb</td>\n",
       "      <td>1982000.0</td>\n",
       "    </tr>\n",
       "  </tbody>\n",
       "</table>\n",
       "</div>"
      ],
      "text/plain": [
       "          ID     target\n",
       "0  000137c73  1981000.0\n",
       "1  00021489f  1587000.0\n",
       "2  0004d7953  1949000.0\n",
       "3  00056a333  4921000.0\n",
       "4  00056d8eb  1982000.0"
      ]
     },
     "execution_count": 62,
     "metadata": {},
     "output_type": "execute_result"
    }
   ],
   "source": [
    "submission.head()"
   ]
  },
  {
   "cell_type": "code",
   "execution_count": 63,
   "metadata": {},
   "outputs": [],
   "source": [
    "submission.to_csv('../submission_files/5fold_3.csv', index=False)"
   ]
  },
  {
   "cell_type": "markdown",
   "metadata": {},
   "source": [
    "#### bagging 3 runs"
   ]
  },
  {
   "cell_type": "code",
   "execution_count": 64,
   "metadata": {},
   "outputs": [],
   "source": [
    "sub_final = submission.copy()\n",
    "sub1 = pd.read_csv('../submission_files/5fold_1.csv')\n",
    "sub2 = pd.read_csv('../submission_files/5fold_2.csv')\n",
    "sub3 = pd.read_csv('../submission_files/5fold_3.csv')"
   ]
  },
  {
   "cell_type": "code",
   "execution_count": 65,
   "metadata": {},
   "outputs": [],
   "source": [
    "sub_final.target = (sub1.target + sub2.target + sub3.target)/3."
   ]
  },
  {
   "cell_type": "code",
   "execution_count": 70,
   "metadata": {},
   "outputs": [
    {
     "data": {
      "text/html": [
       "<div>\n",
       "<style scoped>\n",
       "    .dataframe tbody tr th:only-of-type {\n",
       "        vertical-align: middle;\n",
       "    }\n",
       "\n",
       "    .dataframe tbody tr th {\n",
       "        vertical-align: top;\n",
       "    }\n",
       "\n",
       "    .dataframe thead th {\n",
       "        text-align: right;\n",
       "    }\n",
       "</style>\n",
       "<table border=\"1\" class=\"dataframe\">\n",
       "  <thead>\n",
       "    <tr style=\"text-align: right;\">\n",
       "      <th></th>\n",
       "      <th>ID</th>\n",
       "      <th>target</th>\n",
       "    </tr>\n",
       "  </thead>\n",
       "  <tbody>\n",
       "    <tr>\n",
       "      <th>0</th>\n",
       "      <td>000137c73</td>\n",
       "      <td>2.187167e+06</td>\n",
       "    </tr>\n",
       "    <tr>\n",
       "      <th>1</th>\n",
       "      <td>00021489f</td>\n",
       "      <td>1.450167e+06</td>\n",
       "    </tr>\n",
       "    <tr>\n",
       "      <th>2</th>\n",
       "      <td>0004d7953</td>\n",
       "      <td>1.714667e+06</td>\n",
       "    </tr>\n",
       "    <tr>\n",
       "      <th>3</th>\n",
       "      <td>00056a333</td>\n",
       "      <td>5.080000e+06</td>\n",
       "    </tr>\n",
       "    <tr>\n",
       "      <th>4</th>\n",
       "      <td>00056d8eb</td>\n",
       "      <td>2.024000e+06</td>\n",
       "    </tr>\n",
       "  </tbody>\n",
       "</table>\n",
       "</div>"
      ],
      "text/plain": [
       "          ID        target\n",
       "0  000137c73  2.187167e+06\n",
       "1  00021489f  1.450167e+06\n",
       "2  0004d7953  1.714667e+06\n",
       "3  00056a333  5.080000e+06\n",
       "4  00056d8eb  2.024000e+06"
      ]
     },
     "execution_count": 70,
     "metadata": {},
     "output_type": "execute_result"
    }
   ],
   "source": [
    "sub_final.head()"
   ]
  },
  {
   "cell_type": "code",
   "execution_count": 71,
   "metadata": {},
   "outputs": [],
   "source": [
    "sub_final.to_csv('../submission_files/5fold_bag.csv', index=False)"
   ]
  },
  {
   "cell_type": "markdown",
   "metadata": {},
   "source": [
    "### same with lgb"
   ]
  },
  {
   "cell_type": "code",
   "execution_count": 55,
   "metadata": {},
   "outputs": [],
   "source": [
    "# model parameters\n",
    "params = {'boosting': 'gbdt', 'objective':'regression', 'learning_rate':0.01, 'metric':'rmse', 'max_bin':63, \n",
    "          'lambda_l2': 0.05, 'device':'cpu', 'feature_fraction': 0.075, 'lambda_l1': 0.01}"
   ]
  },
  {
   "cell_type": "code",
   "execution_count": 60,
   "metadata": {},
   "outputs": [
    {
     "name": "stdout",
     "output_type": "stream",
     "text": [
      "Training until validation scores don't improve for 500 rounds.\n",
      "[500]\ttraining's rmse: 1.12871\tvalid_1's rmse: 1.29651\n",
      "[1000]\ttraining's rmse: 0.979305\tvalid_1's rmse: 1.29114\n",
      "Early stopping, best iteration is:\n",
      "[707]\ttraining's rmse: 1.05633\tvalid_1's rmse: 1.2904\n",
      "RMSLE: 1.29040\n",
      "Training until validation scores don't improve for 500 rounds.\n",
      "[500]\ttraining's rmse: 1.11813\tvalid_1's rmse: 1.31876\n",
      "[1000]\ttraining's rmse: 0.961834\tvalid_1's rmse: 1.32097\n",
      "Early stopping, best iteration is:\n",
      "[622]\ttraining's rmse: 1.07142\tvalid_1's rmse: 1.31576\n",
      "RMSLE: 1.31576\n",
      "Training until validation scores don't improve for 500 rounds.\n",
      "[500]\ttraining's rmse: 1.11885\tvalid_1's rmse: 1.33885\n",
      "[1000]\ttraining's rmse: 0.966966\tvalid_1's rmse: 1.32521\n",
      "Early stopping, best iteration is:\n",
      "[980]\ttraining's rmse: 0.971866\tvalid_1's rmse: 1.32495\n",
      "RMSLE: 1.32495\n",
      "Training until validation scores don't improve for 500 rounds.\n",
      "[500]\ttraining's rmse: 1.11977\tvalid_1's rmse: 1.33268\n",
      "[1000]\ttraining's rmse: 0.967233\tvalid_1's rmse: 1.31526\n",
      "[1500]\ttraining's rmse: 0.864393\tvalid_1's rmse: 1.31679\n",
      "Early stopping, best iteration is:\n",
      "[1123]\ttraining's rmse: 0.939034\tvalid_1's rmse: 1.31452\n",
      "RMSLE: 1.31452\n",
      "Training until validation scores don't improve for 500 rounds.\n",
      "[500]\ttraining's rmse: 1.10776\tvalid_1's rmse: 1.39012\n",
      "[1000]\ttraining's rmse: 0.958883\tvalid_1's rmse: 1.37725\n",
      "[1500]\ttraining's rmse: 0.861818\tvalid_1's rmse: 1.37577\n",
      "[2000]\ttraining's rmse: 0.790276\tvalid_1's rmse: 1.37621\n",
      "Early stopping, best iteration is:\n",
      "[1817]\ttraining's rmse: 0.813629\tvalid_1's rmse: 1.37492\n",
      "RMSLE: 1.37492\n",
      "\n",
      " Fold mean of RMSLE: 1.32411\n",
      "\n",
      " Fold std of RMSLE: 0.02786\n"
     ]
    }
   ],
   "source": [
    "submission = pd.DataFrame.from_dict({'ID': test_ID, 'target': np.zeros(test_ID.shape[0])})\n",
    "\n",
    "errors = []\n",
    "\n",
    "for train_index, test_index in kf.split(train_final):\n",
    "        \n",
    "    X_tr, X_tst = train_final[train_index], train_final[test_index]\n",
    "    y_tr, y_tst = log_target[train_index], log_target[test_index]\n",
    "\n",
    "    train_set = lgb.Dataset(X_tr, label=y_tr)\n",
    "    valid_set = lgb.Dataset(X_tst, label=y_tst, reference=train_set)\n",
    "\n",
    "    bst = lgb.train(params, train_set, num_boost_round=5000, valid_sets=[train_set, valid_set], early_stopping_rounds=500, \n",
    "                    verbose_eval=500)\n",
    "\n",
    "    y_val = bst.predict(X_tst, num_iteration=bst.best_iteration)\n",
    "\n",
    "    rmsle = np.sqrt(mean_squared_error(y_tst, y_val))\n",
    "\n",
    "    print('RMSLE: %.5f' % rmsle)\n",
    "\n",
    "    errors.append(rmsle)\n",
    "\n",
    "    submission.target = submission.target + np.expm1(bst.predict(test_final, num_iteration=bst.best_iteration))/n_splits\n",
    "        \n",
    "print('\\n Fold mean of RMSLE: %.5f' % np.mean(errors))\n",
    "print('\\n Fold std of RMSLE: %.5f' % np.std(errors))"
   ]
  },
  {
   "cell_type": "markdown",
   "metadata": {},
   "source": [
    "#### ceiling to overestimate"
   ]
  },
  {
   "cell_type": "code",
   "execution_count": 61,
   "metadata": {},
   "outputs": [],
   "source": [
    "submission.target = 1000*np.ceil(submission.target)"
   ]
  },
  {
   "cell_type": "code",
   "execution_count": 62,
   "metadata": {},
   "outputs": [
    {
     "data": {
      "text/html": [
       "<div>\n",
       "<style scoped>\n",
       "    .dataframe tbody tr th:only-of-type {\n",
       "        vertical-align: middle;\n",
       "    }\n",
       "\n",
       "    .dataframe tbody tr th {\n",
       "        vertical-align: top;\n",
       "    }\n",
       "\n",
       "    .dataframe thead th {\n",
       "        text-align: right;\n",
       "    }\n",
       "</style>\n",
       "<table border=\"1\" class=\"dataframe\">\n",
       "  <thead>\n",
       "    <tr style=\"text-align: right;\">\n",
       "      <th></th>\n",
       "      <th>ID</th>\n",
       "      <th>target</th>\n",
       "    </tr>\n",
       "  </thead>\n",
       "  <tbody>\n",
       "    <tr>\n",
       "      <th>0</th>\n",
       "      <td>000137c73</td>\n",
       "      <td>1981000.0</td>\n",
       "    </tr>\n",
       "    <tr>\n",
       "      <th>1</th>\n",
       "      <td>00021489f</td>\n",
       "      <td>1587000.0</td>\n",
       "    </tr>\n",
       "    <tr>\n",
       "      <th>2</th>\n",
       "      <td>0004d7953</td>\n",
       "      <td>1949000.0</td>\n",
       "    </tr>\n",
       "    <tr>\n",
       "      <th>3</th>\n",
       "      <td>00056a333</td>\n",
       "      <td>4921000.0</td>\n",
       "    </tr>\n",
       "    <tr>\n",
       "      <th>4</th>\n",
       "      <td>00056d8eb</td>\n",
       "      <td>1982000.0</td>\n",
       "    </tr>\n",
       "  </tbody>\n",
       "</table>\n",
       "</div>"
      ],
      "text/plain": [
       "          ID     target\n",
       "0  000137c73  1981000.0\n",
       "1  00021489f  1587000.0\n",
       "2  0004d7953  1949000.0\n",
       "3  00056a333  4921000.0\n",
       "4  00056d8eb  1982000.0"
      ]
     },
     "execution_count": 62,
     "metadata": {},
     "output_type": "execute_result"
    }
   ],
   "source": [
    "submission.head()"
   ]
  },
  {
   "cell_type": "code",
   "execution_count": 63,
   "metadata": {},
   "outputs": [],
   "source": [
    "submission.to_csv('../submission_files/5fold_l3.csv', index=False)"
   ]
  },
  {
   "cell_type": "markdown",
   "metadata": {},
   "source": [
    "#### bagging 3 runs"
   ]
  },
  {
   "cell_type": "code",
   "execution_count": 64,
   "metadata": {},
   "outputs": [],
   "source": [
    "sub_final = submission.copy()\n",
    "sub1 = pd.read_csv('../submission_files/5fold_l1.csv')\n",
    "sub2 = pd.read_csv('../submission_files/5fold_l2.csv')\n",
    "sub3 = pd.read_csv('../submission_files/5fold_l3.csv')"
   ]
  },
  {
   "cell_type": "code",
   "execution_count": 65,
   "metadata": {},
   "outputs": [],
   "source": [
    "sub_final.target = (sub1.target + sub2.target + sub3.target)/3."
   ]
  },
  {
   "cell_type": "code",
   "execution_count": 70,
   "metadata": {},
   "outputs": [
    {
     "data": {
      "text/html": [
       "<div>\n",
       "<style scoped>\n",
       "    .dataframe tbody tr th:only-of-type {\n",
       "        vertical-align: middle;\n",
       "    }\n",
       "\n",
       "    .dataframe tbody tr th {\n",
       "        vertical-align: top;\n",
       "    }\n",
       "\n",
       "    .dataframe thead th {\n",
       "        text-align: right;\n",
       "    }\n",
       "</style>\n",
       "<table border=\"1\" class=\"dataframe\">\n",
       "  <thead>\n",
       "    <tr style=\"text-align: right;\">\n",
       "      <th></th>\n",
       "      <th>ID</th>\n",
       "      <th>target</th>\n",
       "    </tr>\n",
       "  </thead>\n",
       "  <tbody>\n",
       "    <tr>\n",
       "      <th>0</th>\n",
       "      <td>000137c73</td>\n",
       "      <td>2.187167e+06</td>\n",
       "    </tr>\n",
       "    <tr>\n",
       "      <th>1</th>\n",
       "      <td>00021489f</td>\n",
       "      <td>1.450167e+06</td>\n",
       "    </tr>\n",
       "    <tr>\n",
       "      <th>2</th>\n",
       "      <td>0004d7953</td>\n",
       "      <td>1.714667e+06</td>\n",
       "    </tr>\n",
       "    <tr>\n",
       "      <th>3</th>\n",
       "      <td>00056a333</td>\n",
       "      <td>5.080000e+06</td>\n",
       "    </tr>\n",
       "    <tr>\n",
       "      <th>4</th>\n",
       "      <td>00056d8eb</td>\n",
       "      <td>2.024000e+06</td>\n",
       "    </tr>\n",
       "  </tbody>\n",
       "</table>\n",
       "</div>"
      ],
      "text/plain": [
       "          ID        target\n",
       "0  000137c73  2.187167e+06\n",
       "1  00021489f  1.450167e+06\n",
       "2  0004d7953  1.714667e+06\n",
       "3  00056a333  5.080000e+06\n",
       "4  00056d8eb  2.024000e+06"
      ]
     },
     "execution_count": 70,
     "metadata": {},
     "output_type": "execute_result"
    }
   ],
   "source": [
    "sub_final.head()"
   ]
  },
  {
   "cell_type": "code",
   "execution_count": 71,
   "metadata": {},
   "outputs": [],
   "source": [
    "sub_final.to_csv('../submission_files/5fold_lbag.csv', index=False)"
   ]
  },
  {
   "cell_type": "code",
   "execution_count": null,
   "metadata": {},
   "outputs": [],
   "source": []
  },
  {
   "cell_type": "code",
   "execution_count": null,
   "metadata": {},
   "outputs": [],
   "source": []
  },
  {
   "cell_type": "code",
   "execution_count": null,
   "metadata": {},
   "outputs": [],
   "source": []
  },
  {
   "cell_type": "code",
   "execution_count": null,
   "metadata": {},
   "outputs": [],
   "source": []
  },
  {
   "cell_type": "code",
   "execution_count": null,
   "metadata": {},
   "outputs": [],
   "source": []
  },
  {
   "cell_type": "markdown",
   "metadata": {},
   "source": [
    "### xgb (adversarial validation)"
   ]
  },
  {
   "cell_type": "markdown",
   "metadata": {},
   "source": [
    "**Adversarial procedure:**\n",
    "\n",
    "- the code receives a train set and a test set (reduced size), both in pandas dataframe format, with stats columns removed\n",
    "- The column 'is_test' is added to both train and test set, with the value 0 for train and 1 for test sample.\n",
    "- Train and test sets are stacked and ramdomly sorted.\n",
    "- A random forest classifier is used to clasify train and test samples. It uses a 5-fold cv and 50 trees.\n",
    "- the program returns  the original train set (in the original order) with the 'p' column added, which is the probability for each sample of being in reality a test sample.\n",
    "- The code is stored in the adv_cv.py file.\n",
    "\n",
    "\n",
    "**Ideas to improve:**\n",
    "\n",
    "- Another classifier\n",
    "- Other hyperparameters"
   ]
  },
  {
   "cell_type": "code",
   "execution_count": 51,
   "metadata": {
    "scrolled": true
   },
   "outputs": [
    {
     "name": "stdout",
     "output_type": "stream",
     "text": [
      "Analyzing Fold 1\n",
      "Accuracy = 75.62%\n",
      "\n",
      "Analyzing Fold 2\n",
      "Accuracy = 75.78%\n",
      "\n",
      "Analyzing Fold 3\n",
      "Accuracy = 75.50%\n",
      "\n",
      "Analyzing Fold 4\n",
      "Accuracy = 75.78%\n",
      "\n",
      "Analyzing Fold 5\n",
      "Accuracy = 74.64%\n",
      "\n"
     ]
    }
   ],
   "source": [
    "#adversarial validation\n",
    "import adver_cv\n",
    "import importlib\n",
    "importlib.reload(adver_cv)\n",
    "\n",
    "train_final_df = pd.DataFrame(train_final)\n",
    "test_final_df = pd.DataFrame(test_final)\n",
    "\n",
    "train_stats = train_final_df.iloc[:, N:]\n",
    "\n",
    "train_final_df_nostats = train_final_df.iloc[:,:N]\n",
    "test_final_df_nostats = test_final_df.iloc[:,:N]\n",
    "\n",
    "all_train_p = []\n",
    "\n",
    "for i in range(1):\n",
    "    train_final_p = adver_cv.create_adv_train(train_final_df_nostats, \n",
    "                                              test_final_df_nostats.sample(train_final_df_nostats.shape[0]))\n",
    "    #train_final_p = adver_cv.create_adv_train(train_final_df_nostats, \n",
    "    #                                          test_final_df_nostats)\n",
    "    train_final_p = pd.concat([train_final_p, train_stats], axis = 1)\n",
    "    all_train_p.append(train_final_p)"
   ]
  },
  {
   "cell_type": "code",
   "execution_count": 52,
   "metadata": {
    "scrolled": true
   },
   "outputs": [
    {
     "name": "stdout",
     "output_type": "stream",
     "text": [
      "train size: 3121\n",
      "test size: 1338\n",
      "[0]\ttrain-rmse:7.25954\tval-rmse:7.22392\n",
      "Multiple eval metrics have been passed: 'val-rmse' will be used for early stopping.\n",
      "\n",
      "Will train until val-rmse hasn't improved in 500 rounds.\n",
      "[500]\ttrain-rmse:1.26227\tval-rmse:1.45263\n",
      "[1000]\ttrain-rmse:1.08674\tval-rmse:1.38819\n",
      "[1500]\ttrain-rmse:0.982377\tval-rmse:1.36934\n",
      "[2000]\ttrain-rmse:0.912083\tval-rmse:1.36389\n",
      "[2500]\ttrain-rmse:0.853563\tval-rmse:1.36278\n",
      "Stopping. Best iteration:\n",
      "[2429]\ttrain-rmse:0.860804\tval-rmse:1.36264\n",
      "\n",
      "RMSLE: 1.36264\n"
     ]
    }
   ],
   "source": [
    "# model parameters\n",
    "params = {'booster': 'gbtree', 'learning_rate':0.007, 'colsample_bytree': 0.05, 'eval_metric':'rmse', 'lambda': 3.,\n",
    "          'alpha': 0.05}\n",
    "\n",
    "submission = pd.DataFrame.from_dict({'ID': test_ID, 'target': np.zeros(test_ID.shape[0])})\n",
    "n_splits = len(all_train_p)\n",
    "\n",
    "for train_final_p in all_train_p:\n",
    "    #partition train set\n",
    "    train_percent = 0.7\n",
    "\n",
    "    train_final_p.sort_values(by='p', ascending=True)\n",
    "    train_val_cut = int(len(train_final_p)*train_percent)\n",
    "\n",
    "    train_index = np.arange(0,train_val_cut)\n",
    "    np.random.shuffle(train_index)\n",
    "    test_index = np.arange(train_val_cut, len(train_final_p))\n",
    "    np.random.shuffle(test_index)\n",
    "    \n",
    "    train_final = train_final_p.drop('p', axis=1).values\n",
    "\n",
    "    print(\"train size: {}\".format(len(train_index)))\n",
    "    print(\"test size: {}\".format(len(test_index)))\n",
    "\n",
    "    #train model\n",
    "    test_set = xgb.DMatrix(test_final)\n",
    "\n",
    "    X_tr, X_tst = train_final[train_index], train_final[test_index]\n",
    "    y_tr, y_tst = log_target[train_index], log_target[test_index]\n",
    "\n",
    "    train_set = xgb.DMatrix(X_tr, label=y_tr)\n",
    "    valid_set = xgb.DMatrix(X_tst, label=y_tst)\n",
    "\n",
    "    bst = xgb.train(params, train_set, num_boost_round=20000, evals=[(train_set, 'train'), (valid_set, 'val')],\n",
    "                    early_stopping_rounds=500, verbose_eval=500)\n",
    "\n",
    "    y_val = bst.predict(valid_set, ntree_limit=bst.best_ntree_limit)\n",
    "\n",
    "    rmsle = np.sqrt(mean_squared_error(y_tst, y_val))\n",
    "\n",
    "    print('RMSLE: %.5f' % rmsle)\n",
    "\n",
    "    submission.target = submission.target + np.expm1(bst.predict(test_set, ntree_limit=bst.best_ntree_limit))/n_splits"
   ]
  },
  {
   "cell_type": "markdown",
   "metadata": {},
   "source": [
    "### submission"
   ]
  },
  {
   "cell_type": "code",
   "execution_count": 38,
   "metadata": {},
   "outputs": [
    {
     "data": {
      "text/html": [
       "<div>\n",
       "<style scoped>\n",
       "    .dataframe tbody tr th:only-of-type {\n",
       "        vertical-align: middle;\n",
       "    }\n",
       "\n",
       "    .dataframe tbody tr th {\n",
       "        vertical-align: top;\n",
       "    }\n",
       "\n",
       "    .dataframe thead th {\n",
       "        text-align: right;\n",
       "    }\n",
       "</style>\n",
       "<table border=\"1\" class=\"dataframe\">\n",
       "  <thead>\n",
       "    <tr style=\"text-align: right;\">\n",
       "      <th></th>\n",
       "      <th>ID</th>\n",
       "      <th>target</th>\n",
       "    </tr>\n",
       "  </thead>\n",
       "  <tbody>\n",
       "    <tr>\n",
       "      <th>0</th>\n",
       "      <td>000137c73</td>\n",
       "      <td>2397.757172</td>\n",
       "    </tr>\n",
       "    <tr>\n",
       "      <th>1</th>\n",
       "      <td>00021489f</td>\n",
       "      <td>1343.396240</td>\n",
       "    </tr>\n",
       "    <tr>\n",
       "      <th>2</th>\n",
       "      <td>0004d7953</td>\n",
       "      <td>1565.715652</td>\n",
       "    </tr>\n",
       "    <tr>\n",
       "      <th>3</th>\n",
       "      <td>00056a333</td>\n",
       "      <td>5185.840576</td>\n",
       "    </tr>\n",
       "    <tr>\n",
       "      <th>4</th>\n",
       "      <td>00056d8eb</td>\n",
       "      <td>2157.548248</td>\n",
       "    </tr>\n",
       "  </tbody>\n",
       "</table>\n",
       "</div>"
      ],
      "text/plain": [
       "          ID       target\n",
       "0  000137c73  2397.757172\n",
       "1  00021489f  1343.396240\n",
       "2  0004d7953  1565.715652\n",
       "3  00056a333  5185.840576\n",
       "4  00056d8eb  2157.548248"
      ]
     },
     "execution_count": 38,
     "metadata": {},
     "output_type": "execute_result"
    }
   ],
   "source": [
    "submission.head()"
   ]
  },
  {
   "cell_type": "markdown",
   "metadata": {},
   "source": [
    "#### ceiling to overestimate"
   ]
  },
  {
   "cell_type": "code",
   "execution_count": 39,
   "metadata": {
    "collapsed": true
   },
   "outputs": [],
   "source": [
    "submission.target = 1000*np.ceil(submission.target)"
   ]
  },
  {
   "cell_type": "code",
   "execution_count": 40,
   "metadata": {
    "collapsed": true
   },
   "outputs": [],
   "source": [
    "submission.to_csv('../submission_files/xgb_cv_5fold_132605_02145.csv', index=False)"
   ]
  },
  {
   "cell_type": "code",
   "execution_count": null,
   "metadata": {
    "collapsed": true
   },
   "outputs": [],
   "source": [
    "submission.to_csv('../submission_files/lgb_cv_13277_0325.csv', index=False)"
   ]
  },
  {
   "cell_type": "code",
   "execution_count": null,
   "metadata": {
    "collapsed": true
   },
   "outputs": [],
   "source": []
  },
  {
   "cell_type": "code",
   "execution_count": null,
   "metadata": {
    "collapsed": true
   },
   "outputs": [],
   "source": []
  },
  {
   "cell_type": "code",
   "execution_count": null,
   "metadata": {
    "collapsed": true
   },
   "outputs": [],
   "source": []
  },
  {
   "cell_type": "code",
   "execution_count": null,
   "metadata": {
    "collapsed": true
   },
   "outputs": [],
   "source": []
  },
  {
   "cell_type": "code",
   "execution_count": null,
   "metadata": {
    "collapsed": true
   },
   "outputs": [],
   "source": []
  },
  {
   "cell_type": "markdown",
   "metadata": {
    "heading_collapsed": true
   },
   "source": [
    "### lgb once again"
   ]
  },
  {
   "cell_type": "code",
   "execution_count": null,
   "metadata": {
    "collapsed": true,
    "hidden": true
   },
   "outputs": [],
   "source": [
    "# model parameters\n",
    "params = {'boosting': 'gbdt', 'objective':'regression', 'learning_rate':0.1, 'metric':'rmse', 'max_bin':63, \n",
    "          'lambda_l2': 0.05, 'device':'gpu', 'feature_fraction': 0.1, 'lambda_l1': 0.01}"
   ]
  },
  {
   "cell_type": "code",
   "execution_count": null,
   "metadata": {
    "collapsed": true,
    "hidden": true
   },
   "outputs": [],
   "source": [
    "submission = pd.DataFrame.from_dict({'ID': test_ID, 'target': np.zeros(test_ID.shape[0])})\n",
    "n_splits = len(all_train_p)\n",
    "\n",
    "train_set = lgb.Dataset(X_tr, label=y_tr)\n",
    "valid_set = lgb.Dataset(X_tst, label=y_tst, reference=train_set)\n",
    "\n",
    "bst = lgb.train(params, train_set, num_boost_round=500, valid_sets=[train_set, valid_set], early_stopping_rounds=50, verbose_eval=50)\n",
    "\n",
    "submission.target = submission.target + np.expm1(bst.predict(test_final, ntree_limit=bst.best_iteration))/n_splits"
   ]
  },
  {
   "cell_type": "code",
   "execution_count": null,
   "metadata": {
    "collapsed": true,
    "hidden": true
   },
   "outputs": [],
   "source": [
    "submission.head()"
   ]
  },
  {
   "cell_type": "code",
   "execution_count": null,
   "metadata": {
    "collapsed": true,
    "hidden": true
   },
   "outputs": [],
   "source": [
    "submission.target = 1000*np.ceil(submission.target)"
   ]
  },
  {
   "cell_type": "code",
   "execution_count": null,
   "metadata": {
    "collapsed": true,
    "hidden": true
   },
   "outputs": [],
   "source": [
    "submission.to_csv('../submission_files/lgb_adv_test_129672.csv', index=False)"
   ]
  },
  {
   "cell_type": "code",
   "execution_count": null,
   "metadata": {
    "collapsed": true,
    "hidden": true
   },
   "outputs": [],
   "source": []
  },
  {
   "cell_type": "code",
   "execution_count": null,
   "metadata": {
    "collapsed": true,
    "hidden": true
   },
   "outputs": [],
   "source": []
  },
  {
   "cell_type": "markdown",
   "metadata": {
    "heading_collapsed": true
   },
   "source": [
    "### catboost once again"
   ]
  },
  {
   "cell_type": "code",
   "execution_count": null,
   "metadata": {
    "collapsed": true,
    "hidden": true
   },
   "outputs": [],
   "source": [
    "submission = pd.DataFrame.from_dict({'ID': test_ID, 'target': np.zeros(test_ID.shape[0])})\n",
    "n_splits = len(all_train_p)\n",
    "\n",
    "train_set = lgb.Dataset(X_tr, label=y_tr)\n",
    "valid_set = lgb.Dataset(X_tst, label=y_tst, reference=train_set)\n",
    "\n",
    "bst = cb.CatBoostRegressor(eta=0.005,iterations=5000, loss_function='RMSE', eval_metric='RMSE', depth=5)\n",
    "\n",
    "bst.fit(X_tr, y_tr, use_best_model=True, eval_set=(X_tst, y_tst), verbose=True)\n",
    "\n",
    "submission.target = submission.target + np.expm1(bst.predict(test_final))/n_splits"
   ]
  },
  {
   "cell_type": "code",
   "execution_count": null,
   "metadata": {
    "collapsed": true,
    "hidden": true
   },
   "outputs": [],
   "source": [
    "submission.head()"
   ]
  },
  {
   "cell_type": "code",
   "execution_count": null,
   "metadata": {
    "collapsed": true,
    "hidden": true
   },
   "outputs": [],
   "source": [
    "submission.target = 1000*np.ceil(submission.target)"
   ]
  },
  {
   "cell_type": "code",
   "execution_count": null,
   "metadata": {
    "collapsed": true,
    "hidden": true
   },
   "outputs": [],
   "source": [
    "submission.to_csv('../submission_files/cb_adv_test_131855.csv', index=False)"
   ]
  },
  {
   "cell_type": "code",
   "execution_count": null,
   "metadata": {
    "collapsed": true,
    "hidden": true
   },
   "outputs": [],
   "source": []
  }
 ],
 "metadata": {
  "kernelspec": {
   "display_name": "Python 3",
   "language": "python",
   "name": "python3"
  },
  "language_info": {
   "codemirror_mode": {
    "name": "ipython",
    "version": 3
   },
   "file_extension": ".py",
   "mimetype": "text/x-python",
   "name": "python",
   "nbconvert_exporter": "python",
   "pygments_lexer": "ipython3",
   "version": "3.6.2"
  }
 },
 "nbformat": 4,
 "nbformat_minor": 2
}
