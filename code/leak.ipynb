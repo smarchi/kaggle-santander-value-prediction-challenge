{
 "cells": [
  {
   "cell_type": "code",
   "execution_count": 1,
   "metadata": {},
   "outputs": [],
   "source": [
    "# misc\n",
    "import warnings\n",
    "warnings.filterwarnings('ignore')\n",
    "import gc\n",
    "\n",
    "# basic imports\n",
    "import numpy as np\n",
    "import pandas as pd\n",
    "import seaborn as sns\n",
    "import matplotlib.pyplot as plt\n",
    "%matplotlib inline\n",
    "plt.style.use('seaborn')\n",
    "sns.set(palette='colorblind')\n",
    "\n",
    "# processing\n",
    "from sklearn.model_selection import KFold\n",
    "from sklearn.metrics import mean_squared_error\n",
    "from sklearn.feature_selection import VarianceThreshold\n",
    "from scipy.stats import gmean\n",
    "from scipy.sparse import csr_matrix\n",
    "\n",
    "import shap\n",
    "\n",
    "# models\n",
    "import xgboost as xgb\n",
    "import lightgbm as lgb\n",
    "import catboost as cb\n",
    "from sklearn.linear_model import LinearRegression, Ridge"
   ]
  },
  {
   "cell_type": "code",
   "execution_count": 11,
   "metadata": {},
   "outputs": [],
   "source": [
    "# This will be now a dataframe\n",
    "def stats_prop(df, usefractions=False):\n",
    "    means = []\n",
    "    gmeans = []\n",
    "    medians = []\n",
    "    stds = []\n",
    "    skews = []\n",
    "    kurts = []\n",
    "    mins = []\n",
    "    maxs = []\n",
    "    sums = []\n",
    "    counts = []\n",
    "    fractions = []\n",
    "    q1s = []\n",
    "    q3s = []\n",
    "    p10s = []\n",
    "    p20s = []\n",
    "    p30s = []\n",
    "    p40s = []\n",
    "    p60s = []\n",
    "    p70s = []\n",
    "    p80s = []\n",
    "    p90s = []\n",
    "    log_means = []\n",
    "    log_gmeans = []\n",
    "    log_medians = []\n",
    "    log_stds = []\n",
    "    log_skews = []\n",
    "    log_kurts = []\n",
    "    log_mins = []\n",
    "    log_maxs = []\n",
    "    log_q1s = []\n",
    "    log_q3s = []\n",
    "    log_p10s = []\n",
    "    log_p20s = []\n",
    "    log_p30s = []\n",
    "    log_p40s = []\n",
    "    log_p60s = []\n",
    "    log_p70s = []\n",
    "    log_p80s = []\n",
    "    log_p90s = []\n",
    "       \n",
    "    for i, row in df.iterrows():\n",
    "        nonzero_values = row[row.nonzero()[0]]\n",
    "        if usefractions:\n",
    "            nonzero_values = nonzero_values[nonzero_values-nonzero_values//1 != 0.]\n",
    "        means.append(nonzero_values.mean())\n",
    "        gmeans.append(gmean(nonzero_values))\n",
    "        medians.append(nonzero_values.median())\n",
    "        stds.append(nonzero_values.std())\n",
    "        skews.append(nonzero_values.skew())\n",
    "        kurts.append(nonzero_values.kurtosis())\n",
    "        mins.append(nonzero_values.min())\n",
    "        maxs.append(nonzero_values.max())\n",
    "        sums.append(nonzero_values.sum())\n",
    "        counts.append(nonzero_values.count())\n",
    "        fractions.append(nonzero_values.count()/row.count())        \n",
    "        q1s.append(np.percentile(nonzero_values, q=25) if len(nonzero_values)>0 else np.nan)\n",
    "        q3s.append(np.percentile(nonzero_values, q=75) if len(nonzero_values)>0 else np.nan)\n",
    "        p10s.append(np.percentile(nonzero_values, q=10) if len(nonzero_values)>0 else np.nan)\n",
    "        p20s.append(np.percentile(nonzero_values, q=20) if len(nonzero_values)>0 else np.nan)\n",
    "        p30s.append(np.percentile(nonzero_values, q=30) if len(nonzero_values)>0 else np.nan)\n",
    "        p40s.append(np.percentile(nonzero_values, q=40) if len(nonzero_values)>0 else np.nan)\n",
    "        p60s.append(np.percentile(nonzero_values, q=60) if len(nonzero_values)>0 else np.nan)\n",
    "        p70s.append(np.percentile(nonzero_values, q=70) if len(nonzero_values)>0 else np.nan)\n",
    "        p80s.append(np.percentile(nonzero_values, q=80) if len(nonzero_values)>0 else np.nan)\n",
    "        p90s.append(np.percentile(nonzero_values, q=90) if len(nonzero_values)>0 else np.nan)\n",
    "        log_means.append(np.log1p(nonzero_values).mean())\n",
    "        log_gmeans.append(gmean(np.log1p(nonzero_values)))\n",
    "        log_medians.append(np.log1p(nonzero_values).median())\n",
    "        log_stds.append(np.log1p(nonzero_values).std())\n",
    "        log_skews.append(np.log1p(nonzero_values).skew())\n",
    "        log_kurts.append(np.log1p(nonzero_values).kurtosis())\n",
    "        log_mins.append(np.log1p(nonzero_values).min())\n",
    "        log_maxs.append(np.log1p(nonzero_values).max())\n",
    "        log_q1s.append(np.percentile(np.log1p(nonzero_values), q=25) if len(nonzero_values)>0 else np.nan)\n",
    "        log_q3s.append(np.percentile(np.log1p(nonzero_values), q=75) if len(nonzero_values)>0 else np.nan)\n",
    "        log_p10s.append(np.percentile(np.log1p(nonzero_values), q=10) if len(nonzero_values)>0 else np.nan)\n",
    "        log_p20s.append(np.percentile(np.log1p(nonzero_values), q=20) if len(nonzero_values)>0 else np.nan)\n",
    "        log_p30s.append(np.percentile(np.log1p(nonzero_values), q=30) if len(nonzero_values)>0 else np.nan)\n",
    "        log_p40s.append(np.percentile(np.log1p(nonzero_values), q=40) if len(nonzero_values)>0 else np.nan)\n",
    "        log_p60s.append(np.percentile(np.log1p(nonzero_values), q=60) if len(nonzero_values)>0 else np.nan)\n",
    "        log_p70s.append(np.percentile(np.log1p(nonzero_values), q=70) if len(nonzero_values)>0 else np.nan)\n",
    "        log_p80s.append(np.percentile(np.log1p(nonzero_values), q=80) if len(nonzero_values)>0 else np.nan)\n",
    "        log_p90s.append(np.percentile(np.log1p(nonzero_values), q=90) if len(nonzero_values)>0 else np.nan)\n",
    "    \n",
    "    #stat_df = pd.DataFrame({'means': np.array(means)})\n",
    "    #stat_df['gmeans'] = np.array(gmeans)\n",
    "    #stat_df['medians'] = np.array(medians)\n",
    "    #stat_df['stds'] = np.array(stds)\n",
    "    #stat_df['skews'] = np.array(skews)\n",
    "    #stat_df['kurts'] = np.array(kurts)\n",
    "    #stat_df['mins'] = np.array(mins)\n",
    "    #stat_df['maxs'] = np.array(maxs)\n",
    "    #stat_df['sums'] = np.array(sums)\n",
    "    #stat_df['counts'] = np.array(counts)\n",
    "    #stat_df['fractions'] = np.array(fractions)\n",
    "    #stat_df['q1s'] = np.array(q1s)\n",
    "    #stat_df['q3s'] = np.array(q3s)\n",
    "    #stat_df['p10s'] = np.array(p10s)\n",
    "    #stat_df['p20s'] = np.array(p20s)\n",
    "    #stat_df['p30s'] = np.array(p30s)\n",
    "    #stat_df['p40s'] = np.array(p40s)\n",
    "    #stat_df['p60s'] = np.array(p60s)\n",
    "    #stat_df['p70s'] = np.array(p70s)\n",
    "    #stat_df['p80s'] = np.array(p80s)\n",
    "    #stat_df['p90s'] = np.array(p90s)\n",
    "    #stat_df['log_means'] = np.array(log_means)\n",
    "    stat_df = pd.DataFrame({'log_means': np.array(log_means)})\n",
    "    stat_df['log_gmeans'] = np.array(log_gmeans)\n",
    "    stat_df['log_medians'] = np.array(log_medians)\n",
    "    #stat_df['log_stds'] = np.array(log_stds)\n",
    "    #stat_df['log_skews'] = np.array(log_skews)\n",
    "    #stat_df['log_kurts'] = np.array(log_kurts)\n",
    "    stat_df['log_mins'] = np.array(log_mins)\n",
    "    stat_df['log_maxs'] = np.array(log_maxs)\n",
    "    stat_df['log_q1s'] = np.array(log_q1s)\n",
    "    stat_df['log_q3s'] = np.array(log_q3s)\n",
    "    stat_df['log_p10s'] = np.array(log_p10s)\n",
    "    stat_df['log_p20s'] = np.array(log_p20s)\n",
    "    stat_df['log_p30s'] = np.array(log_p30s)\n",
    "    stat_df['log_p40s'] = np.array(log_p40s)\n",
    "    stat_df['log_p60s'] = np.array(log_p60s)\n",
    "    stat_df['log_p70s'] = np.array(log_p70s)\n",
    "    stat_df['log_p80s'] = np.array(log_p80s)\n",
    "    stat_df['log_p90s'] = np.array(log_p90s)\n",
    "    \n",
    "    return stat_df    "
   ]
  },
  {
   "cell_type": "code",
   "execution_count": 12,
   "metadata": {},
   "outputs": [],
   "source": [
    "train_data = pd.read_csv('../data/train.csv')\n",
    "test_data = pd.read_csv('../data/test.csv')"
   ]
  },
  {
   "cell_type": "code",
   "execution_count": 13,
   "metadata": {},
   "outputs": [],
   "source": [
    "target = train_data.target\n",
    "train_ID = train_data.ID\n",
    "train_data = train_data.drop(['target', 'ID'], axis=1)\n",
    "test_ID = test_data.ID\n",
    "test_data = test_data.drop(['ID'], axis=1)"
   ]
  },
  {
   "cell_type": "code",
   "execution_count": 14,
   "metadata": {},
   "outputs": [],
   "source": [
    "vt = VarianceThreshold(threshold=0.)\n",
    "vt.fit(train_data)\n",
    "selected_columns = train_data.columns[vt.get_support(indices=True)]"
   ]
  },
  {
   "cell_type": "code",
   "execution_count": 15,
   "metadata": {},
   "outputs": [
    {
     "data": {
      "text/plain": [
       "(4459, 4735)"
      ]
     },
     "execution_count": 15,
     "metadata": {},
     "output_type": "execute_result"
    }
   ],
   "source": [
    "train_data = train_data[selected_columns]\n",
    "test_data = test_data[selected_columns]\n",
    "\n",
    "train_data.shape"
   ]
  },
  {
   "cell_type": "code",
   "execution_count": 16,
   "metadata": {},
   "outputs": [
    {
     "data": {
      "text/plain": [
       "(4459, 4730)"
      ]
     },
     "execution_count": 16,
     "metadata": {},
     "output_type": "execute_result"
    }
   ],
   "source": [
    "train_data = train_data.T.drop_duplicates().T\n",
    "test_data = test_data[train_data.columns]\n",
    "\n",
    "train_data.shape"
   ]
  },
  {
   "cell_type": "code",
   "execution_count": 17,
   "metadata": {},
   "outputs": [],
   "source": [
    "train_data = train_data/1000.\n",
    "test_data = test_data/1000."
   ]
  },
  {
   "cell_type": "code",
   "execution_count": 18,
   "metadata": {},
   "outputs": [],
   "source": [
    "log_target = np.log1p(target/1000.)\n",
    "#log_target = np.log1p(target)"
   ]
  },
  {
   "cell_type": "code",
   "execution_count": 19,
   "metadata": {},
   "outputs": [],
   "source": [
    "stat_train = stats_prop(train_data)\n",
    "stat_test = stats_prop(test_data)"
   ]
  },
  {
   "cell_type": "code",
   "execution_count": 20,
   "metadata": {},
   "outputs": [],
   "source": [
    "train_data = np.log1p(train_data).replace(0., np.nan)\n",
    "test_data = np.log1p(test_data).replace(0., np.nan)"
   ]
  },
  {
   "cell_type": "code",
   "execution_count": 22,
   "metadata": {},
   "outputs": [
    {
     "data": {
      "text/html": [
       "<div>\n",
       "<style scoped>\n",
       "    .dataframe tbody tr th:only-of-type {\n",
       "        vertical-align: middle;\n",
       "    }\n",
       "\n",
       "    .dataframe tbody tr th {\n",
       "        vertical-align: top;\n",
       "    }\n",
       "\n",
       "    .dataframe thead th {\n",
       "        text-align: right;\n",
       "    }\n",
       "</style>\n",
       "<table border=\"1\" class=\"dataframe\">\n",
       "  <thead>\n",
       "    <tr style=\"text-align: right;\">\n",
       "      <th></th>\n",
       "      <th>48df886f9</th>\n",
       "      <th>0deb4b6a8</th>\n",
       "      <th>34b15f335</th>\n",
       "      <th>a8cb14b00</th>\n",
       "      <th>2f0771a37</th>\n",
       "      <th>30347e683</th>\n",
       "      <th>d08d1fbe3</th>\n",
       "      <th>6ee66e115</th>\n",
       "      <th>20aa07010</th>\n",
       "      <th>dc5a8f1d8</th>\n",
       "      <th>...</th>\n",
       "      <th>3ecc09859</th>\n",
       "      <th>9281abeea</th>\n",
       "      <th>8675bec0b</th>\n",
       "      <th>3a13ed79a</th>\n",
       "      <th>f677d4d13</th>\n",
       "      <th>71b203550</th>\n",
       "      <th>137efaa80</th>\n",
       "      <th>fb36b89d9</th>\n",
       "      <th>7e293fbaf</th>\n",
       "      <th>9fc776466</th>\n",
       "    </tr>\n",
       "  </thead>\n",
       "  <tbody>\n",
       "    <tr>\n",
       "      <th>0</th>\n",
       "      <td>NaN</td>\n",
       "      <td>NaN</td>\n",
       "      <td>NaN</td>\n",
       "      <td>NaN</td>\n",
       "      <td>NaN</td>\n",
       "      <td>NaN</td>\n",
       "      <td>NaN</td>\n",
       "      <td>NaN</td>\n",
       "      <td>NaN</td>\n",
       "      <td>NaN</td>\n",
       "      <td>...</td>\n",
       "      <td>NaN</td>\n",
       "      <td>NaN</td>\n",
       "      <td>NaN</td>\n",
       "      <td>NaN</td>\n",
       "      <td>NaN</td>\n",
       "      <td>NaN</td>\n",
       "      <td>NaN</td>\n",
       "      <td>NaN</td>\n",
       "      <td>NaN</td>\n",
       "      <td>NaN</td>\n",
       "    </tr>\n",
       "    <tr>\n",
       "      <th>1</th>\n",
       "      <td>NaN</td>\n",
       "      <td>NaN</td>\n",
       "      <td>NaN</td>\n",
       "      <td>NaN</td>\n",
       "      <td>NaN</td>\n",
       "      <td>NaN</td>\n",
       "      <td>NaN</td>\n",
       "      <td>NaN</td>\n",
       "      <td>7.696667</td>\n",
       "      <td>NaN</td>\n",
       "      <td>...</td>\n",
       "      <td>NaN</td>\n",
       "      <td>NaN</td>\n",
       "      <td>NaN</td>\n",
       "      <td>NaN</td>\n",
       "      <td>NaN</td>\n",
       "      <td>NaN</td>\n",
       "      <td>NaN</td>\n",
       "      <td>NaN</td>\n",
       "      <td>NaN</td>\n",
       "      <td>NaN</td>\n",
       "    </tr>\n",
       "    <tr>\n",
       "      <th>2</th>\n",
       "      <td>NaN</td>\n",
       "      <td>NaN</td>\n",
       "      <td>NaN</td>\n",
       "      <td>NaN</td>\n",
       "      <td>NaN</td>\n",
       "      <td>NaN</td>\n",
       "      <td>NaN</td>\n",
       "      <td>NaN</td>\n",
       "      <td>NaN</td>\n",
       "      <td>NaN</td>\n",
       "      <td>...</td>\n",
       "      <td>NaN</td>\n",
       "      <td>NaN</td>\n",
       "      <td>NaN</td>\n",
       "      <td>NaN</td>\n",
       "      <td>NaN</td>\n",
       "      <td>NaN</td>\n",
       "      <td>NaN</td>\n",
       "      <td>NaN</td>\n",
       "      <td>NaN</td>\n",
       "      <td>NaN</td>\n",
       "    </tr>\n",
       "    <tr>\n",
       "      <th>3</th>\n",
       "      <td>NaN</td>\n",
       "      <td>NaN</td>\n",
       "      <td>NaN</td>\n",
       "      <td>NaN</td>\n",
       "      <td>NaN</td>\n",
       "      <td>NaN</td>\n",
       "      <td>NaN</td>\n",
       "      <td>NaN</td>\n",
       "      <td>NaN</td>\n",
       "      <td>NaN</td>\n",
       "      <td>...</td>\n",
       "      <td>NaN</td>\n",
       "      <td>NaN</td>\n",
       "      <td>NaN</td>\n",
       "      <td>NaN</td>\n",
       "      <td>NaN</td>\n",
       "      <td>NaN</td>\n",
       "      <td>NaN</td>\n",
       "      <td>NaN</td>\n",
       "      <td>NaN</td>\n",
       "      <td>NaN</td>\n",
       "    </tr>\n",
       "    <tr>\n",
       "      <th>4</th>\n",
       "      <td>NaN</td>\n",
       "      <td>NaN</td>\n",
       "      <td>NaN</td>\n",
       "      <td>NaN</td>\n",
       "      <td>NaN</td>\n",
       "      <td>NaN</td>\n",
       "      <td>NaN</td>\n",
       "      <td>NaN</td>\n",
       "      <td>7.601402</td>\n",
       "      <td>NaN</td>\n",
       "      <td>...</td>\n",
       "      <td>NaN</td>\n",
       "      <td>NaN</td>\n",
       "      <td>NaN</td>\n",
       "      <td>NaN</td>\n",
       "      <td>NaN</td>\n",
       "      <td>NaN</td>\n",
       "      <td>NaN</td>\n",
       "      <td>NaN</td>\n",
       "      <td>NaN</td>\n",
       "      <td>NaN</td>\n",
       "    </tr>\n",
       "  </tbody>\n",
       "</table>\n",
       "<p>5 rows × 4730 columns</p>\n",
       "</div>"
      ],
      "text/plain": [
       "   48df886f9  0deb4b6a8  34b15f335  a8cb14b00  2f0771a37  30347e683  \\\n",
       "0        NaN        NaN        NaN        NaN        NaN        NaN   \n",
       "1        NaN        NaN        NaN        NaN        NaN        NaN   \n",
       "2        NaN        NaN        NaN        NaN        NaN        NaN   \n",
       "3        NaN        NaN        NaN        NaN        NaN        NaN   \n",
       "4        NaN        NaN        NaN        NaN        NaN        NaN   \n",
       "\n",
       "   d08d1fbe3  6ee66e115  20aa07010  dc5a8f1d8    ...      3ecc09859  \\\n",
       "0        NaN        NaN        NaN        NaN    ...            NaN   \n",
       "1        NaN        NaN   7.696667        NaN    ...            NaN   \n",
       "2        NaN        NaN        NaN        NaN    ...            NaN   \n",
       "3        NaN        NaN        NaN        NaN    ...            NaN   \n",
       "4        NaN        NaN   7.601402        NaN    ...            NaN   \n",
       "\n",
       "   9281abeea  8675bec0b  3a13ed79a  f677d4d13  71b203550  137efaa80  \\\n",
       "0        NaN        NaN        NaN        NaN        NaN        NaN   \n",
       "1        NaN        NaN        NaN        NaN        NaN        NaN   \n",
       "2        NaN        NaN        NaN        NaN        NaN        NaN   \n",
       "3        NaN        NaN        NaN        NaN        NaN        NaN   \n",
       "4        NaN        NaN        NaN        NaN        NaN        NaN   \n",
       "\n",
       "   fb36b89d9  7e293fbaf  9fc776466  \n",
       "0        NaN        NaN        NaN  \n",
       "1        NaN        NaN        NaN  \n",
       "2        NaN        NaN        NaN  \n",
       "3        NaN        NaN        NaN  \n",
       "4        NaN        NaN        NaN  \n",
       "\n",
       "[5 rows x 4730 columns]"
      ]
     },
     "execution_count": 22,
     "metadata": {},
     "output_type": "execute_result"
    }
   ],
   "source": [
    "train_data.head()"
   ]
  },
  {
   "cell_type": "code",
   "execution_count": 21,
   "metadata": {},
   "outputs": [
    {
     "data": {
      "text/html": [
       "<div>\n",
       "<style scoped>\n",
       "    .dataframe tbody tr th:only-of-type {\n",
       "        vertical-align: middle;\n",
       "    }\n",
       "\n",
       "    .dataframe tbody tr th {\n",
       "        vertical-align: top;\n",
       "    }\n",
       "\n",
       "    .dataframe thead th {\n",
       "        text-align: right;\n",
       "    }\n",
       "</style>\n",
       "<table border=\"1\" class=\"dataframe\">\n",
       "  <thead>\n",
       "    <tr style=\"text-align: right;\">\n",
       "      <th></th>\n",
       "      <th>log_means</th>\n",
       "      <th>log_gmeans</th>\n",
       "      <th>log_medians</th>\n",
       "      <th>log_mins</th>\n",
       "      <th>log_maxs</th>\n",
       "      <th>log_q1s</th>\n",
       "      <th>log_q3s</th>\n",
       "      <th>log_p10s</th>\n",
       "      <th>log_p20s</th>\n",
       "      <th>log_p30s</th>\n",
       "      <th>log_p40s</th>\n",
       "      <th>log_p60s</th>\n",
       "      <th>log_p70s</th>\n",
       "      <th>log_p80s</th>\n",
       "      <th>log_p90s</th>\n",
       "    </tr>\n",
       "  </thead>\n",
       "  <tbody>\n",
       "    <tr>\n",
       "      <th>0</th>\n",
       "      <td>7.958966</td>\n",
       "      <td>7.840273</td>\n",
       "      <td>7.780159</td>\n",
       "      <td>5.525453</td>\n",
       "      <td>10.596660</td>\n",
       "      <td>6.817007</td>\n",
       "      <td>8.878479</td>\n",
       "      <td>6.016226</td>\n",
       "      <td>6.579178</td>\n",
       "      <td>7.030055</td>\n",
       "      <td>7.410382</td>\n",
       "      <td>8.309112</td>\n",
       "      <td>8.705490</td>\n",
       "      <td>9.341456</td>\n",
       "      <td>9.998843</td>\n",
       "    </tr>\n",
       "    <tr>\n",
       "      <th>1</th>\n",
       "      <td>8.367472</td>\n",
       "      <td>8.307402</td>\n",
       "      <td>7.707962</td>\n",
       "      <td>6.685861</td>\n",
       "      <td>10.819798</td>\n",
       "      <td>7.601402</td>\n",
       "      <td>9.157766</td>\n",
       "      <td>7.601402</td>\n",
       "      <td>7.601402</td>\n",
       "      <td>7.601402</td>\n",
       "      <td>7.601402</td>\n",
       "      <td>8.294300</td>\n",
       "      <td>8.853808</td>\n",
       "      <td>9.544127</td>\n",
       "      <td>9.878957</td>\n",
       "    </tr>\n",
       "    <tr>\n",
       "      <th>2</th>\n",
       "      <td>7.814503</td>\n",
       "      <td>7.706173</td>\n",
       "      <td>8.294300</td>\n",
       "      <td>5.303305</td>\n",
       "      <td>9.392745</td>\n",
       "      <td>7.010038</td>\n",
       "      <td>8.677932</td>\n",
       "      <td>5.942616</td>\n",
       "      <td>6.775018</td>\n",
       "      <td>7.364943</td>\n",
       "      <td>7.824446</td>\n",
       "      <td>8.357977</td>\n",
       "      <td>8.612685</td>\n",
       "      <td>8.699681</td>\n",
       "      <td>9.108949</td>\n",
       "    </tr>\n",
       "    <tr>\n",
       "      <th>3</th>\n",
       "      <td>6.018596</td>\n",
       "      <td>5.610893</td>\n",
       "      <td>5.543963</td>\n",
       "      <td>1.098612</td>\n",
       "      <td>8.699681</td>\n",
       "      <td>4.615121</td>\n",
       "      <td>7.601402</td>\n",
       "      <td>4.615121</td>\n",
       "      <td>4.615121</td>\n",
       "      <td>4.615121</td>\n",
       "      <td>5.303305</td>\n",
       "      <td>6.338374</td>\n",
       "      <td>7.472248</td>\n",
       "      <td>7.601402</td>\n",
       "      <td>8.664920</td>\n",
       "    </tr>\n",
       "    <tr>\n",
       "      <th>4</th>\n",
       "      <td>7.852233</td>\n",
       "      <td>7.647920</td>\n",
       "      <td>8.444320</td>\n",
       "      <td>4.110874</td>\n",
       "      <td>10.536433</td>\n",
       "      <td>7.074117</td>\n",
       "      <td>8.972850</td>\n",
       "      <td>5.303305</td>\n",
       "      <td>5.993961</td>\n",
       "      <td>7.337760</td>\n",
       "      <td>7.601402</td>\n",
       "      <td>8.699681</td>\n",
       "      <td>8.869724</td>\n",
       "      <td>8.987322</td>\n",
       "      <td>9.301593</td>\n",
       "    </tr>\n",
       "  </tbody>\n",
       "</table>\n",
       "</div>"
      ],
      "text/plain": [
       "   log_means  log_gmeans  log_medians  log_mins   log_maxs   log_q1s  \\\n",
       "0   7.958966    7.840273     7.780159  5.525453  10.596660  6.817007   \n",
       "1   8.367472    8.307402     7.707962  6.685861  10.819798  7.601402   \n",
       "2   7.814503    7.706173     8.294300  5.303305   9.392745  7.010038   \n",
       "3   6.018596    5.610893     5.543963  1.098612   8.699681  4.615121   \n",
       "4   7.852233    7.647920     8.444320  4.110874  10.536433  7.074117   \n",
       "\n",
       "    log_q3s  log_p10s  log_p20s  log_p30s  log_p40s  log_p60s  log_p70s  \\\n",
       "0  8.878479  6.016226  6.579178  7.030055  7.410382  8.309112  8.705490   \n",
       "1  9.157766  7.601402  7.601402  7.601402  7.601402  8.294300  8.853808   \n",
       "2  8.677932  5.942616  6.775018  7.364943  7.824446  8.357977  8.612685   \n",
       "3  7.601402  4.615121  4.615121  4.615121  5.303305  6.338374  7.472248   \n",
       "4  8.972850  5.303305  5.993961  7.337760  7.601402  8.699681  8.869724   \n",
       "\n",
       "   log_p80s  log_p90s  \n",
       "0  9.341456  9.998843  \n",
       "1  9.544127  9.878957  \n",
       "2  8.699681  9.108949  \n",
       "3  7.601402  8.664920  \n",
       "4  8.987322  9.301593  "
      ]
     },
     "execution_count": 21,
     "metadata": {},
     "output_type": "execute_result"
    }
   ],
   "source": [
    "stat_train.head()"
   ]
  },
  {
   "cell_type": "code",
   "execution_count": 12,
   "metadata": {
    "collapsed": true
   },
   "outputs": [],
   "source": [
    "#train_leak = pd.read_csv('../submission_files/leak/public/01. train_leak.csv', usecols=['compiled_leak']).replace(np.nan, 0.)\n",
    "#test_leak = pd.read_csv('../submission_files/leak/public/01. test_leak.csv', usecols=['compiled_leak']).replace(np.nan, 0.)"
   ]
  },
  {
   "cell_type": "code",
   "execution_count": 13,
   "metadata": {
    "collapsed": true
   },
   "outputs": [],
   "source": [
    "#leak_index_train = train_leak[train_leak.compiled_leak != 0.].index.values\n",
    "#leak_index_test = test_leak[test_leak.compiled_leak != 0.].index.values"
   ]
  },
  {
   "cell_type": "code",
   "execution_count": 14,
   "metadata": {
    "collapsed": true
   },
   "outputs": [],
   "source": [
    "#leak_values_train = train_leak.compiled_leak[leak_index_train].values\n",
    "#leak_values_test = test_leak.compiled_leak[leak_index_test].values"
   ]
  },
  {
   "cell_type": "code",
   "execution_count": 23,
   "metadata": {},
   "outputs": [],
   "source": [
    "cols_leak = ['f190486d6', '58e2e02e6', 'eeb9cd3aa', '9fd594eec', '6eef030c1', '15ace8c9f', 'fb0f5dbfe', '58e056e12', '20aa07010',\n",
    "             '024c577b9', 'd6bb78916', 'b43a7cfd5', '58232a6fb', '1702b5bf0', '324921c7b', '62e59a501', '2ec5b290f', '241f0f867',\n",
    "             'fb49e4212', '66ace2992', 'f74e8f13d', '5c6487af1', '963a49cdc', '26fc93eb7', '1931ccfdd', '703885424', '70feb1494',\n",
    "             '491b9ee45', '23310aa6f', 'e176a204a', '6619d81fc', '1db387535', 'fc99f9426', '91f701ba2', '0572565c2', '190db8488',\n",
    "             'adb64ff71', 'c47340d97', 'c5a231d81', '0ff32eb98']"
   ]
  },
  {
   "cell_type": "code",
   "execution_count": 24,
   "metadata": {},
   "outputs": [],
   "source": [
    "new_train = train_data.drop(cols_leak, axis=1)"
   ]
  },
  {
   "cell_type": "code",
   "execution_count": 25,
   "metadata": {},
   "outputs": [],
   "source": [
    "# CV folds\n",
    "kf = KFold(n_splits=10, shuffle=True)\n",
    "n_splits = kf.get_n_splits()"
   ]
  },
  {
   "cell_type": "code",
   "execution_count": 26,
   "metadata": {},
   "outputs": [],
   "source": [
    "# model parameters\n",
    "params = {'learning_rate':0.5, 'metric':'rmse', 'max_bin':63, 'device':'cpu'}"
   ]
  },
  {
   "cell_type": "code",
   "execution_count": 27,
   "metadata": {},
   "outputs": [
    {
     "name": "stdout",
     "output_type": "stream",
     "text": [
      "Training until validation scores don't improve for 5 rounds.\n",
      "Early stopping, best iteration is:\n",
      "[6]\ttraining's rmse: 1.19336\tvalid_1's rmse: 1.58994\n",
      "Training until validation scores don't improve for 5 rounds.\n",
      "Early stopping, best iteration is:\n",
      "[3]\ttraining's rmse: 1.34282\tvalid_1's rmse: 1.52553\n",
      "Training until validation scores don't improve for 5 rounds.\n",
      "Early stopping, best iteration is:\n",
      "[3]\ttraining's rmse: 1.34113\tvalid_1's rmse: 1.54612\n",
      "Training until validation scores don't improve for 5 rounds.\n",
      "Early stopping, best iteration is:\n",
      "[4]\ttraining's rmse: 1.28031\tvalid_1's rmse: 1.5073\n",
      "Training until validation scores don't improve for 5 rounds.\n",
      "Early stopping, best iteration is:\n",
      "[3]\ttraining's rmse: 1.33352\tvalid_1's rmse: 1.5501\n",
      "Training until validation scores don't improve for 5 rounds.\n",
      "Early stopping, best iteration is:\n",
      "[4]\ttraining's rmse: 1.28396\tvalid_1's rmse: 1.55033\n",
      "Training until validation scores don't improve for 5 rounds.\n",
      "Early stopping, best iteration is:\n",
      "[4]\ttraining's rmse: 1.29165\tvalid_1's rmse: 1.52885\n",
      "Training until validation scores don't improve for 5 rounds.\n",
      "Early stopping, best iteration is:\n",
      "[8]\ttraining's rmse: 1.12987\tvalid_1's rmse: 1.50612\n",
      "Training until validation scores don't improve for 5 rounds.\n",
      "Early stopping, best iteration is:\n",
      "[4]\ttraining's rmse: 1.28618\tvalid_1's rmse: 1.50559\n",
      "Training until validation scores don't improve for 5 rounds.\n",
      "Early stopping, best iteration is:\n",
      "[6]\ttraining's rmse: 1.2025\tvalid_1's rmse: 1.47789\n"
     ]
    }
   ],
   "source": [
    "shap_values = np.zeros((new_train.shape[0],new_train.shape[1]+1))\n",
    "\n",
    "for train_index, test_index in kf.split(new_train):\n",
    "    \n",
    "    X_tr, X_tst = new_train.values[train_index], new_train.values[test_index]\n",
    "    y_tr, y_tst = log_target[train_index], log_target[test_index]\n",
    "    \n",
    "    train_set = lgb.Dataset(X_tr, label=y_tr)\n",
    "    valid_set = lgb.Dataset(X_tst, label=y_tst, reference=train_set)\n",
    "    \n",
    "    bst = lgb.train(params, train_set, num_boost_round=50, valid_sets=[train_set, valid_set], early_stopping_rounds=5,\n",
    "                    verbose_eval=50)\n",
    "\n",
    "    shap_values += shap.TreeExplainer(bst).shap_values(new_train.values)/n_splits"
   ]
  },
  {
   "cell_type": "code",
   "execution_count": 28,
   "metadata": {},
   "outputs": [
    {
     "data": {
      "image/png": "[encoded data removed]",
      "text/plain": [
       "<Figure size 576x396 with 2 Axes>"
      ]
     },
     "metadata": {},
     "output_type": "display_data"
    }
   ],
   "source": [
    "shap.summary_plot(shap_values, train_data, max_display=10, plot_type='violin')"
   ]
  },
  {
   "cell_type": "code",
   "execution_count": 29,
   "metadata": {},
   "outputs": [],
   "source": [
    "N = 150\n",
    "sorted_columns = np.argsort(np.sum(np.abs(shap_values), axis=0)[:-1])[::-1]\n",
    "most_relevant = train_data.columns[sorted_columns[:N]]"
   ]
  },
  {
   "cell_type": "code",
   "execution_count": 31,
   "metadata": {},
   "outputs": [],
   "source": [
    "union_cols = list(set(most_relevant)|set(cols_leak))\n",
    "#diff_cols = list(set(most_relevant)-set(cols_leak))"
   ]
  },
  {
   "cell_type": "code",
   "execution_count": 32,
   "metadata": {},
   "outputs": [],
   "source": [
    "feat_train = train_data[union_cols]\n",
    "feat_test = test_data[union_cols]"
   ]
  },
  {
   "cell_type": "code",
   "execution_count": 33,
   "metadata": {},
   "outputs": [],
   "source": [
    "feat_train = feat_train[feat_train.isna().sum().sort_values().index.values]\n",
    "feat_test = feat_test[feat_train.isna().sum().sort_values().index.values]"
   ]
  },
  {
   "cell_type": "markdown",
   "metadata": {},
   "source": [
    "#### Assembly"
   ]
  },
  {
   "cell_type": "code",
   "execution_count": 34,
   "metadata": {},
   "outputs": [],
   "source": [
    "train_final = np.hstack((feat_train.values, stat_train.values))\n",
    "test_final = np.hstack((feat_test.values, stat_test.values))"
   ]
  },
  {
   "cell_type": "code",
   "execution_count": 35,
   "metadata": {},
   "outputs": [
    {
     "name": "stdout",
     "output_type": "stream",
     "text": [
      "Final number of features: 205\n"
     ]
    }
   ],
   "source": [
    "print('Final number of features: %i' % train_final.shape[1])"
   ]
  },
  {
   "cell_type": "markdown",
   "metadata": {},
   "source": [
    "### before anything, grid search\n",
    "\n",
    "#### xgb\n",
    "\n",
    "params before:\n",
    "{'learning_rate':0.1, 'colsample_bytree': .04, 'eval_metric':'rmse', 'lambda': 3., 'alpha': 0.03}\n",
    "\n",
    "params now:\n",
    "{'learning_rate':0.003, 'colsample_bytree': .75, 'eval_metric':'rmse', 'lambda': 0.0004, 'alpha': 0., 'min_child_weight': 4, 'subsample': 0.15}"
   ]
  },
  {
   "cell_type": "code",
   "execution_count": null,
   "metadata": {
    "collapsed": true
   },
   "outputs": [],
   "source": [
    "from sklearn.model_selection import GridSearchCV"
   ]
  },
  {
   "cell_type": "code",
   "execution_count": null,
   "metadata": {
    "collapsed": true
   },
   "outputs": [],
   "source": [
    "cv_params = {'learning_rate': [0.003]}\n",
    "ind_params = {'num_boost_round': 6000, 'colsample_bytree': 0.75, 'min_child_weight': 4, 'reg_alpha': 0.,\n",
    "             'subsample': 0.15, 'reg_lambda': 0.0004}"
   ]
  },
  {
   "cell_type": "code",
   "execution_count": null,
   "metadata": {
    "collapsed": true
   },
   "outputs": [],
   "source": [
    "optimized_GBM = GridSearchCV(xgb.XGBRegressor(**ind_params), cv_params, scoring = 'neg_mean_squared_error', cv = 5, n_jobs = -1,\n",
    "                            verbose=1)"
   ]
  },
  {
   "cell_type": "code",
   "execution_count": null,
   "metadata": {
    "collapsed": true
   },
   "outputs": [],
   "source": [
    "optimized_GBM.fit(train_final, log_target)"
   ]
  },
  {
   "cell_type": "code",
   "execution_count": null,
   "metadata": {
    "collapsed": true
   },
   "outputs": [],
   "source": [
    "optimized_GBM.best_params_"
   ]
  },
  {
   "cell_type": "markdown",
   "metadata": {},
   "source": [
    "#### lgb\n",
    "\n",
    "params before:\n",
    "{'learning_rate':0.001, 'lambda_l2': 0.05, 'feature_fraction': 0.075, 'lambda_l1': 0.01}\n",
    "\n",
    "params now:\n",
    "{'learning_rate':0.002, 'lambda_l2': 0.1, 'feature_fraction': 0.1, 'lambda_l1': 0.002}}"
   ]
  },
  {
   "cell_type": "code",
   "execution_count": null,
   "metadata": {
    "collapsed": true
   },
   "outputs": [],
   "source": [
    "cv_params = {'learning_rate': [0.002], 'lambda_l2': [0.1], 'feature_fraction': [0.08, 0.1,0.12],\n",
    "             'lambda_l1': [0.002]}"
   ]
  },
  {
   "cell_type": "code",
   "execution_count": null,
   "metadata": {
    "collapsed": true
   },
   "outputs": [],
   "source": [
    "def crossvaltest(params,n_splits=5):\n",
    "    kf = KFold(n_splits=n_splits,shuffle=True) \n",
    "    res = []\n",
    "    for train_index, test_index in kf.split(train_final):\n",
    "        X_tr, X_tst = train_final[train_index], train_final[test_index]\n",
    "        y_tr, y_tst = log_target[train_index], log_target[test_index]\n",
    "\n",
    "        train_set = lgb.Dataset(X_tr, label=y_tr)\n",
    "        valid_set = lgb.Dataset(X_tst, label=y_tst, reference=train_set)\n",
    "\n",
    "        bst = lgb.train(params, train_set, num_boost_round=7500, valid_sets=[train_set, valid_set], early_stopping_rounds=500, \n",
    "                        verbose_eval=1000)\n",
    "\n",
    "        y_val = bst.predict(X_tst, num_iteration=bst.best_iteration)\n",
    "\n",
    "        rmsle = np.sqrt(mean_squared_error(y_tst, y_val))\n",
    "\n",
    "        res.append(rmsle)\n",
    "    return np.mean(res)"
   ]
  },
  {
   "cell_type": "code",
   "execution_count": null,
   "metadata": {
    "collapsed": true
   },
   "outputs": [],
   "source": [
    "from itertools import product\n",
    "\n",
    "def param_tune(n_splits=5):\n",
    "    score = ('nothing', 3.)\n",
    "    for prms in product(cv_params['learning_rate'],\n",
    "                      cv_params['lambda_l2'],\n",
    "                      cv_params['feature_fraction'],\n",
    "                      cv_params['lambda_l1']):\n",
    "        params = {'metric': 'rmse', 'learning_rate': prms[0], 'lambda_l2': prms[1], 'feature_fraction': prms[2],\n",
    "                  'lambda_l1': prms[3]}\n",
    "        res = crossvaltest(params,n_splits)\n",
    "        # save the crossvalidation result so that future iterations can reuse the best parameters\n",
    "        print(res)\n",
    "        if res<score[1]:\n",
    "            score = (str(params), res)\n",
    "    return score"
   ]
  },
  {
   "cell_type": "code",
   "execution_count": null,
   "metadata": {
    "collapsed": true
   },
   "outputs": [],
   "source": [
    "bestpar = param_tune()"
   ]
  },
  {
   "cell_type": "code",
   "execution_count": null,
   "metadata": {
    "collapsed": true
   },
   "outputs": [],
   "source": [
    "bestpar"
   ]
  },
  {
   "cell_type": "markdown",
   "metadata": {},
   "source": [
    "#### cb\n",
    "\n",
    "params before:\n",
    "{'eta':0.01, 'l2_leaf_reg: 3, 'border_count': 32, 'depth': 5}\n",
    "\n",
    "params now:\n",
    "{'learning_rate':0.01, 'l2_leaf_reg': 8, 'border_count': 45, 'depth': 5}}"
   ]
  },
  {
   "cell_type": "code",
   "execution_count": null,
   "metadata": {
    "collapsed": true
   },
   "outputs": [],
   "source": [
    "cv_params = {'eta': [0.01], 'l2_leaf_reg':[8], 'border_count':[45], 'depth': [5]}"
   ]
  },
  {
   "cell_type": "code",
   "execution_count": null,
   "metadata": {
    "collapsed": true
   },
   "outputs": [],
   "source": [
    "def crossvaltest(params,n_splits=5):\n",
    "    kf = KFold(n_splits=n_splits,shuffle=True) \n",
    "    res = []\n",
    "    for train_index, test_index in kf.split(train_final):\n",
    "        X_tr, X_tst = train_final[train_index], train_final[test_index]\n",
    "        y_tr, y_tst = log_target[train_index], log_target[test_index]\n",
    "\n",
    "        bst = cb.CatBoostRegressor(eta=params[0], l2_leaf_reg=params[1], border_count=params[2], iterations=7500,\n",
    "                                   loss_function='RMSE', eval_metric='RMSE', depth=params[3])\n",
    "    \n",
    "        bst.fit(X_tr, y_tr, use_best_model=True, eval_set=(X_tst, y_tst), verbose=False)\n",
    "\n",
    "        y_val = bst.predict(X_tst)\n",
    "\n",
    "        rmsle = np.sqrt(mean_squared_error(y_tst, y_val))\n",
    "\n",
    "        res.append(rmsle)\n",
    "    return np.mean(res)"
   ]
  },
  {
   "cell_type": "code",
   "execution_count": null,
   "metadata": {
    "collapsed": true
   },
   "outputs": [],
   "source": [
    "from itertools import product\n",
    "\n",
    "def param_tune(n_splits=5):\n",
    "    score = ('nothing', 3.)\n",
    "    for prms in product(cv_params['eta'],\n",
    "                      cv_params['l2_leaf_reg'],\n",
    "                      cv_params['border_count'],\n",
    "                      cv_params['depth']):\n",
    "        res = crossvaltest(prms,n_splits)\n",
    "        # save the crossvalidation result so that future iterations can reuse the best parameters\n",
    "        print(res)\n",
    "        if res<score[1]:\n",
    "            score = (str(prms), res)\n",
    "    return score"
   ]
  },
  {
   "cell_type": "code",
   "execution_count": null,
   "metadata": {
    "collapsed": true,
    "scrolled": false
   },
   "outputs": [],
   "source": [
    "bestpar = param_tune()"
   ]
  },
  {
   "cell_type": "code",
   "execution_count": null,
   "metadata": {
    "collapsed": true
   },
   "outputs": [],
   "source": [
    "bestpar"
   ]
  },
  {
   "cell_type": "markdown",
   "metadata": {},
   "source": [
    "### oof train+test"
   ]
  },
  {
   "cell_type": "code",
   "execution_count": 42,
   "metadata": {},
   "outputs": [],
   "source": [
    "train_df = pd.DataFrame.from_dict({'ID': train_ID})\n",
    "test_df = pd.DataFrame.from_dict({'ID': test_ID})"
   ]
  },
  {
   "cell_type": "code",
   "execution_count": 47,
   "metadata": {},
   "outputs": [],
   "source": [
    "def lgbCV(ooftrain, ooftest, n_folds=5, multiplier=10):\n",
    "    params = {'boosting': 'gbdt', 'objective':'regression', 'learning_rate':0.002, 'metric':'rmse', 'max_bin':63, \n",
    "              'lambda_l2': 0.1, 'device':'cpu', 'feature_fraction': 0.1, 'lambda_l1': 0.002}\n",
    "    for i in range(multiplier):\n",
    "        ooftrain['lgb_'+str(i)] = np.zeros(train_ID.shape[0])\n",
    "        ooftest['lgb_'+str(i)] = np.zeros(test_ID.shape[0])\n",
    "        kf = KFold(n_splits=n_folds,shuffle=True)\n",
    "        res = []\n",
    "        for train_index, test_index in kf.split(train_final):\n",
    "            X_tr, X_tst = train_final[train_index], train_final[test_index]\n",
    "            y_tr, y_tst = log_target[train_index], log_target[test_index]\n",
    "\n",
    "            train_set = lgb.Dataset(X_tr, label=y_tr)\n",
    "            valid_set = lgb.Dataset(X_tst, label=y_tst, reference=train_set)\n",
    "\n",
    "            bst = lgb.train(params, train_set, num_boost_round=7500, valid_sets=[train_set, valid_set],\n",
    "                            early_stopping_rounds=500, verbose_eval=False)\n",
    "\n",
    "            y_val = bst.predict(X_tst, num_iteration=bst.best_iteration)\n",
    "\n",
    "            rmsle = np.sqrt(mean_squared_error(y_tst, y_val))\n",
    "            \n",
    "            res.append(rmsle)\n",
    "            \n",
    "            ooftrain['lgb_'+str(i)][test_index] = y_val\n",
    "    \n",
    "            ooftest['lgb_'+str(i)] = ooftest['lgb_'+str(i)] + bst.predict(test_final, \n",
    "                                                                                   num_iteration=bst.best_iteration)/n_folds\n",
    "\n",
    "        print(np.mean(res))\n",
    "    return"
   ]
  },
  {
   "cell_type": "code",
   "execution_count": 48,
   "metadata": {},
   "outputs": [],
   "source": [
    "def xgbCV(ooftrain, ooftest, n_folds=5, multiplier=10):\n",
    "    params = {'booster': 'gbtree', 'learning_rate':0.003, 'colsample_bytree': .75, 'eval_metric':'rmse', 'lambda': 0.0004,\n",
    "              'alpha': 0., 'min_child_weight': 4, 'subsample': 0.15}\n",
    "    test_set = xgb.DMatrix(test_final)\n",
    "    for i in range(multiplier):\n",
    "        ooftrain['xgb_'+str(i)] = np.zeros(train_ID.shape[0])\n",
    "        ooftest['xgb_'+str(i)] = np.zeros(test_ID.shape[0])\n",
    "        kf = KFold(n_splits=n_folds,shuffle=True)\n",
    "        res = []\n",
    "        for train_index, test_index in kf.split(train_final):\n",
    "            X_tr, X_tst = train_final[train_index], train_final[test_index]\n",
    "            y_tr, y_tst = log_target[train_index], log_target[test_index]\n",
    "\n",
    "            train_set = xgb.DMatrix(X_tr, label=y_tr)\n",
    "            valid_set = xgb.DMatrix(X_tst, label=y_tst)\n",
    "\n",
    "            bst = xgb.train(params, train_set, num_boost_round=20000, evals=[(train_set, 'train'), (valid_set, 'val')],\n",
    "                            early_stopping_rounds=500, verbose_eval=False)\n",
    "\n",
    "            y_val = bst.predict(valid_set, ntree_limit=bst.best_ntree_limit)\n",
    "\n",
    "            rmsle = np.sqrt(mean_squared_error(y_tst, y_val))\n",
    "            \n",
    "            res.append(rmsle)\n",
    "            \n",
    "            ooftrain['xgb_'+str(i)][test_index] = y_val\n",
    "    \n",
    "            ooftest['xgb_'+str(i)] = ooftest['xgb_'+str(i)] + bst.predict(test_set,\n",
    "                                                                                     ntree_limit=bst.best_ntree_limit)/n_folds\n",
    "\n",
    "        print(np.mean(res))\n",
    "    return"
   ]
  },
  {
   "cell_type": "code",
   "execution_count": 49,
   "metadata": {},
   "outputs": [],
   "source": [
    "def cbCV(ooftrain, ooftest, n_folds=5, multiplier=10):\n",
    "    for i in range(multiplier):\n",
    "        ooftrain['cb_'+str(i)] = np.zeros(train_ID.shape[0])\n",
    "        ooftest['cb_'+str(i)] = np.zeros(test_ID.shape[0])\n",
    "        kf = KFold(n_splits=n_folds,shuffle=True)\n",
    "        res = []\n",
    "        for train_index, test_index in kf.split(train_final):\n",
    "            X_tr, X_tst = train_final[train_index], train_final[test_index]\n",
    "            y_tr, y_tst = log_target[train_index], log_target[test_index]\n",
    "\n",
    "            bst = cb.CatBoostRegressor(eta=0.01, l2_leaf_reg=8, border_count=45, iterations=7500,\n",
    "                                       loss_function='RMSE', eval_metric='RMSE', depth=5)\n",
    "    \n",
    "            bst.fit(X_tr, y_tr, use_best_model=True, eval_set=(X_tst, y_tst), verbose=False)\n",
    "\n",
    "            y_val = bst.predict(X_tst)\n",
    "\n",
    "            rmsle = np.sqrt(mean_squared_error(y_tst, y_val))\n",
    "            \n",
    "            res.append(rmsle)\n",
    "            \n",
    "            ooftrain['cb_'+str(i)][test_index] = y_val\n",
    "    \n",
    "            ooftest['cb_'+str(i)] = ooftest['cb_'+str(i)] + bst.predict(test_final)/n_folds\n",
    "\n",
    "        print(np.mean(res))\n",
    "    return"
   ]
  },
  {
   "cell_type": "code",
   "execution_count": 50,
   "metadata": {},
   "outputs": [
    {
     "name": "stdout",
     "output_type": "stream",
     "text": [
      "1.336810394702624\n",
      "1.3378176217239106\n",
      "1.3346796810999026\n",
      "1.3365288863039737\n",
      "1.3382978429249843\n",
      "1.3381799259513099\n",
      "1.3378764919975332\n",
      "1.3332503589408475\n",
      "1.3373477672915817\n",
      "1.336381256148576\n"
     ]
    }
   ],
   "source": [
    "lgbCV(train_df,test_df)"
   ]
  },
  {
   "cell_type": "code",
   "execution_count": 51,
   "metadata": {},
   "outputs": [
    {
     "name": "stdout",
     "output_type": "stream",
     "text": [
      "1.3480678751593917\n",
      "1.341467694510134\n",
      "1.3446946245867697\n",
      "1.3454574565354662\n",
      "1.343183409973572\n",
      "1.3413988439340971\n",
      "1.3445565726329687\n",
      "1.3420974542056143\n",
      "1.3433654289263044\n",
      "1.3437278098444216\n"
     ]
    }
   ],
   "source": [
    "xgbCV(train_df,test_df)"
   ]
  },
  {
   "cell_type": "code",
   "execution_count": 52,
   "metadata": {},
   "outputs": [
    {
     "name": "stdout",
     "output_type": "stream",
     "text": [
      "1.344008292803654\n",
      "1.3549151515336553\n",
      "1.3467101021526566\n",
      "1.345453710372965\n",
      "1.3478708698884054\n",
      "1.3474964862042182\n",
      "1.3531385152567124\n",
      "1.3462103315114609\n",
      "1.3453524204186504\n",
      "1.345422985027589\n"
     ]
    }
   ],
   "source": [
    "cbCV(train_df,test_df)"
   ]
  },
  {
   "cell_type": "code",
   "execution_count": 53,
   "metadata": {},
   "outputs": [
    {
     "data": {
      "text/html": [
       "<div>\n",
       "<style scoped>\n",
       "    .dataframe tbody tr th:only-of-type {\n",
       "        vertical-align: middle;\n",
       "    }\n",
       "\n",
       "    .dataframe tbody tr th {\n",
       "        vertical-align: top;\n",
       "    }\n",
       "\n",
       "    .dataframe thead th {\n",
       "        text-align: right;\n",
       "    }\n",
       "</style>\n",
       "<table border=\"1\" class=\"dataframe\">\n",
       "  <thead>\n",
       "    <tr style=\"text-align: right;\">\n",
       "      <th></th>\n",
       "      <th>ID</th>\n",
       "      <th>lgb_0</th>\n",
       "      <th>lgb_1</th>\n",
       "      <th>lgb_2</th>\n",
       "      <th>lgb_3</th>\n",
       "      <th>lgb_4</th>\n",
       "      <th>lgb_5</th>\n",
       "      <th>lgb_6</th>\n",
       "      <th>lgb_7</th>\n",
       "      <th>lgb_8</th>\n",
       "      <th>...</th>\n",
       "      <th>cb_0</th>\n",
       "      <th>cb_1</th>\n",
       "      <th>cb_2</th>\n",
       "      <th>cb_3</th>\n",
       "      <th>cb_4</th>\n",
       "      <th>cb_5</th>\n",
       "      <th>cb_6</th>\n",
       "      <th>cb_7</th>\n",
       "      <th>cb_8</th>\n",
       "      <th>cb_9</th>\n",
       "    </tr>\n",
       "  </thead>\n",
       "  <tbody>\n",
       "    <tr>\n",
       "      <th>0</th>\n",
       "      <td>000d6aaf2</td>\n",
       "      <td>7.753029</td>\n",
       "      <td>7.747617</td>\n",
       "      <td>7.825004</td>\n",
       "      <td>7.870987</td>\n",
       "      <td>7.710407</td>\n",
       "      <td>7.980169</td>\n",
       "      <td>7.825685</td>\n",
       "      <td>7.759748</td>\n",
       "      <td>7.761133</td>\n",
       "      <td>...</td>\n",
       "      <td>7.992147</td>\n",
       "      <td>8.038068</td>\n",
       "      <td>8.016566</td>\n",
       "      <td>7.950019</td>\n",
       "      <td>8.136293</td>\n",
       "      <td>8.067785</td>\n",
       "      <td>8.017080</td>\n",
       "      <td>8.121889</td>\n",
       "      <td>8.099864</td>\n",
       "      <td>8.122183</td>\n",
       "    </tr>\n",
       "    <tr>\n",
       "      <th>1</th>\n",
       "      <td>000fbd867</td>\n",
       "      <td>8.261636</td>\n",
       "      <td>8.186773</td>\n",
       "      <td>8.005811</td>\n",
       "      <td>8.028526</td>\n",
       "      <td>8.188043</td>\n",
       "      <td>8.104598</td>\n",
       "      <td>8.023031</td>\n",
       "      <td>8.058528</td>\n",
       "      <td>8.105224</td>\n",
       "      <td>...</td>\n",
       "      <td>8.120449</td>\n",
       "      <td>8.031286</td>\n",
       "      <td>8.185972</td>\n",
       "      <td>8.127230</td>\n",
       "      <td>8.120759</td>\n",
       "      <td>8.370089</td>\n",
       "      <td>8.275958</td>\n",
       "      <td>8.186946</td>\n",
       "      <td>8.176630</td>\n",
       "      <td>8.193901</td>\n",
       "    </tr>\n",
       "    <tr>\n",
       "      <th>2</th>\n",
       "      <td>0027d6b71</td>\n",
       "      <td>7.820717</td>\n",
       "      <td>7.897378</td>\n",
       "      <td>7.851823</td>\n",
       "      <td>7.890696</td>\n",
       "      <td>7.853119</td>\n",
       "      <td>7.763616</td>\n",
       "      <td>7.783942</td>\n",
       "      <td>7.844068</td>\n",
       "      <td>7.812068</td>\n",
       "      <td>...</td>\n",
       "      <td>7.730164</td>\n",
       "      <td>7.662585</td>\n",
       "      <td>7.679829</td>\n",
       "      <td>7.612589</td>\n",
       "      <td>7.568582</td>\n",
       "      <td>7.637506</td>\n",
       "      <td>7.723344</td>\n",
       "      <td>7.763682</td>\n",
       "      <td>7.667777</td>\n",
       "      <td>7.649965</td>\n",
       "    </tr>\n",
       "    <tr>\n",
       "      <th>3</th>\n",
       "      <td>0028cbf45</td>\n",
       "      <td>6.701742</td>\n",
       "      <td>6.927078</td>\n",
       "      <td>6.923967</td>\n",
       "      <td>6.838828</td>\n",
       "      <td>6.762302</td>\n",
       "      <td>6.789089</td>\n",
       "      <td>6.840253</td>\n",
       "      <td>6.748182</td>\n",
       "      <td>6.734840</td>\n",
       "      <td>...</td>\n",
       "      <td>6.769028</td>\n",
       "      <td>6.700885</td>\n",
       "      <td>6.729224</td>\n",
       "      <td>6.696022</td>\n",
       "      <td>6.488180</td>\n",
       "      <td>6.735504</td>\n",
       "      <td>6.765385</td>\n",
       "      <td>6.540103</td>\n",
       "      <td>6.627396</td>\n",
       "      <td>6.507892</td>\n",
       "    </tr>\n",
       "    <tr>\n",
       "      <th>4</th>\n",
       "      <td>002a68644</td>\n",
       "      <td>7.995028</td>\n",
       "      <td>8.010985</td>\n",
       "      <td>8.010574</td>\n",
       "      <td>7.948614</td>\n",
       "      <td>8.063189</td>\n",
       "      <td>7.969004</td>\n",
       "      <td>7.959648</td>\n",
       "      <td>7.996370</td>\n",
       "      <td>8.067984</td>\n",
       "      <td>...</td>\n",
       "      <td>7.873266</td>\n",
       "      <td>8.044569</td>\n",
       "      <td>8.104314</td>\n",
       "      <td>7.904591</td>\n",
       "      <td>7.870340</td>\n",
       "      <td>7.810409</td>\n",
       "      <td>7.951151</td>\n",
       "      <td>7.936653</td>\n",
       "      <td>7.791888</td>\n",
       "      <td>8.072439</td>\n",
       "    </tr>\n",
       "  </tbody>\n",
       "</table>\n",
       "<p>5 rows × 31 columns</p>\n",
       "</div>"
      ],
      "text/plain": [
       "          ID     lgb_0     lgb_1     lgb_2     lgb_3     lgb_4     lgb_5  \\\n",
       "0  000d6aaf2  7.753029  7.747617  7.825004  7.870987  7.710407  7.980169   \n",
       "1  000fbd867  8.261636  8.186773  8.005811  8.028526  8.188043  8.104598   \n",
       "2  0027d6b71  7.820717  7.897378  7.851823  7.890696  7.853119  7.763616   \n",
       "3  0028cbf45  6.701742  6.927078  6.923967  6.838828  6.762302  6.789089   \n",
       "4  002a68644  7.995028  8.010985  8.010574  7.948614  8.063189  7.969004   \n",
       "\n",
       "      lgb_6     lgb_7     lgb_8    ...         cb_0      cb_1      cb_2  \\\n",
       "0  7.825685  7.759748  7.761133    ...     7.992147  8.038068  8.016566   \n",
       "1  8.023031  8.058528  8.105224    ...     8.120449  8.031286  8.185972   \n",
       "2  7.783942  7.844068  7.812068    ...     7.730164  7.662585  7.679829   \n",
       "3  6.840253  6.748182  6.734840    ...     6.769028  6.700885  6.729224   \n",
       "4  7.959648  7.996370  8.067984    ...     7.873266  8.044569  8.104314   \n",
       "\n",
       "       cb_3      cb_4      cb_5      cb_6      cb_7      cb_8      cb_9  \n",
       "0  7.950019  8.136293  8.067785  8.017080  8.121889  8.099864  8.122183  \n",
       "1  8.127230  8.120759  8.370089  8.275958  8.186946  8.176630  8.193901  \n",
       "2  7.612589  7.568582  7.637506  7.723344  7.763682  7.667777  7.649965  \n",
       "3  6.696022  6.488180  6.735504  6.765385  6.540103  6.627396  6.507892  \n",
       "4  7.904591  7.870340  7.810409  7.951151  7.936653  7.791888  8.072439  \n",
       "\n",
       "[5 rows x 31 columns]"
      ]
     },
     "execution_count": 53,
     "metadata": {},
     "output_type": "execute_result"
    }
   ],
   "source": [
    "train_df.head()"
   ]
  },
  {
   "cell_type": "code",
   "execution_count": 54,
   "metadata": {},
   "outputs": [
    {
     "data": {
      "text/html": [
       "<div>\n",
       "<style scoped>\n",
       "    .dataframe tbody tr th:only-of-type {\n",
       "        vertical-align: middle;\n",
       "    }\n",
       "\n",
       "    .dataframe tbody tr th {\n",
       "        vertical-align: top;\n",
       "    }\n",
       "\n",
       "    .dataframe thead th {\n",
       "        text-align: right;\n",
       "    }\n",
       "</style>\n",
       "<table border=\"1\" class=\"dataframe\">\n",
       "  <thead>\n",
       "    <tr style=\"text-align: right;\">\n",
       "      <th></th>\n",
       "      <th>ID</th>\n",
       "      <th>lgb_0</th>\n",
       "      <th>lgb_1</th>\n",
       "      <th>lgb_2</th>\n",
       "      <th>lgb_3</th>\n",
       "      <th>lgb_4</th>\n",
       "      <th>lgb_5</th>\n",
       "      <th>lgb_6</th>\n",
       "      <th>lgb_7</th>\n",
       "      <th>lgb_8</th>\n",
       "      <th>...</th>\n",
       "      <th>cb_0</th>\n",
       "      <th>cb_1</th>\n",
       "      <th>cb_2</th>\n",
       "      <th>cb_3</th>\n",
       "      <th>cb_4</th>\n",
       "      <th>cb_5</th>\n",
       "      <th>cb_6</th>\n",
       "      <th>cb_7</th>\n",
       "      <th>cb_8</th>\n",
       "      <th>cb_9</th>\n",
       "    </tr>\n",
       "  </thead>\n",
       "  <tbody>\n",
       "    <tr>\n",
       "      <th>0</th>\n",
       "      <td>000137c73</td>\n",
       "      <td>7.561947</td>\n",
       "      <td>7.579051</td>\n",
       "      <td>7.538180</td>\n",
       "      <td>7.572240</td>\n",
       "      <td>7.548354</td>\n",
       "      <td>7.601278</td>\n",
       "      <td>7.589472</td>\n",
       "      <td>7.574483</td>\n",
       "      <td>7.568794</td>\n",
       "      <td>...</td>\n",
       "      <td>6.956811</td>\n",
       "      <td>6.980940</td>\n",
       "      <td>7.065855</td>\n",
       "      <td>7.042854</td>\n",
       "      <td>7.238453</td>\n",
       "      <td>7.165427</td>\n",
       "      <td>6.848261</td>\n",
       "      <td>7.015738</td>\n",
       "      <td>7.049149</td>\n",
       "      <td>7.146585</td>\n",
       "    </tr>\n",
       "    <tr>\n",
       "      <th>1</th>\n",
       "      <td>00021489f</td>\n",
       "      <td>7.345030</td>\n",
       "      <td>7.297256</td>\n",
       "      <td>7.299332</td>\n",
       "      <td>7.314983</td>\n",
       "      <td>7.308169</td>\n",
       "      <td>7.317639</td>\n",
       "      <td>7.321649</td>\n",
       "      <td>7.301856</td>\n",
       "      <td>7.307182</td>\n",
       "      <td>...</td>\n",
       "      <td>7.305182</td>\n",
       "      <td>7.357889</td>\n",
       "      <td>7.289545</td>\n",
       "      <td>7.297676</td>\n",
       "      <td>7.345311</td>\n",
       "      <td>7.323508</td>\n",
       "      <td>7.290049</td>\n",
       "      <td>7.282990</td>\n",
       "      <td>7.298458</td>\n",
       "      <td>7.276539</td>\n",
       "    </tr>\n",
       "    <tr>\n",
       "      <th>2</th>\n",
       "      <td>0004d7953</td>\n",
       "      <td>7.603411</td>\n",
       "      <td>7.596046</td>\n",
       "      <td>7.606833</td>\n",
       "      <td>7.586825</td>\n",
       "      <td>7.611509</td>\n",
       "      <td>7.611546</td>\n",
       "      <td>7.615185</td>\n",
       "      <td>7.583842</td>\n",
       "      <td>7.593907</td>\n",
       "      <td>...</td>\n",
       "      <td>7.472648</td>\n",
       "      <td>7.487265</td>\n",
       "      <td>7.490059</td>\n",
       "      <td>7.519690</td>\n",
       "      <td>7.544184</td>\n",
       "      <td>7.488554</td>\n",
       "      <td>7.511034</td>\n",
       "      <td>7.515903</td>\n",
       "      <td>7.470030</td>\n",
       "      <td>7.472780</td>\n",
       "    </tr>\n",
       "    <tr>\n",
       "      <th>3</th>\n",
       "      <td>00056a333</td>\n",
       "      <td>8.461938</td>\n",
       "      <td>8.506863</td>\n",
       "      <td>8.540237</td>\n",
       "      <td>8.485902</td>\n",
       "      <td>8.480631</td>\n",
       "      <td>8.495072</td>\n",
       "      <td>8.460724</td>\n",
       "      <td>8.493157</td>\n",
       "      <td>8.475631</td>\n",
       "      <td>...</td>\n",
       "      <td>8.439960</td>\n",
       "      <td>8.381890</td>\n",
       "      <td>8.472869</td>\n",
       "      <td>8.419513</td>\n",
       "      <td>8.377253</td>\n",
       "      <td>8.317931</td>\n",
       "      <td>8.435537</td>\n",
       "      <td>8.422719</td>\n",
       "      <td>8.358623</td>\n",
       "      <td>8.383203</td>\n",
       "    </tr>\n",
       "    <tr>\n",
       "      <th>4</th>\n",
       "      <td>00056d8eb</td>\n",
       "      <td>7.834957</td>\n",
       "      <td>7.834479</td>\n",
       "      <td>7.853647</td>\n",
       "      <td>7.856089</td>\n",
       "      <td>7.866123</td>\n",
       "      <td>7.813269</td>\n",
       "      <td>7.835235</td>\n",
       "      <td>7.825301</td>\n",
       "      <td>7.825653</td>\n",
       "      <td>...</td>\n",
       "      <td>7.793000</td>\n",
       "      <td>7.815992</td>\n",
       "      <td>7.743884</td>\n",
       "      <td>7.821484</td>\n",
       "      <td>7.828551</td>\n",
       "      <td>7.807781</td>\n",
       "      <td>7.796624</td>\n",
       "      <td>7.766287</td>\n",
       "      <td>7.802120</td>\n",
       "      <td>7.780669</td>\n",
       "    </tr>\n",
       "  </tbody>\n",
       "</table>\n",
       "<p>5 rows × 31 columns</p>\n",
       "</div>"
      ],
      "text/plain": [
       "          ID     lgb_0     lgb_1     lgb_2     lgb_3     lgb_4     lgb_5  \\\n",
       "0  000137c73  7.561947  7.579051  7.538180  7.572240  7.548354  7.601278   \n",
       "1  00021489f  7.345030  7.297256  7.299332  7.314983  7.308169  7.317639   \n",
       "2  0004d7953  7.603411  7.596046  7.606833  7.586825  7.611509  7.611546   \n",
       "3  00056a333  8.461938  8.506863  8.540237  8.485902  8.480631  8.495072   \n",
       "4  00056d8eb  7.834957  7.834479  7.853647  7.856089  7.866123  7.813269   \n",
       "\n",
       "      lgb_6     lgb_7     lgb_8    ...         cb_0      cb_1      cb_2  \\\n",
       "0  7.589472  7.574483  7.568794    ...     6.956811  6.980940  7.065855   \n",
       "1  7.321649  7.301856  7.307182    ...     7.305182  7.357889  7.289545   \n",
       "2  7.615185  7.583842  7.593907    ...     7.472648  7.487265  7.490059   \n",
       "3  8.460724  8.493157  8.475631    ...     8.439960  8.381890  8.472869   \n",
       "4  7.835235  7.825301  7.825653    ...     7.793000  7.815992  7.743884   \n",
       "\n",
       "       cb_3      cb_4      cb_5      cb_6      cb_7      cb_8      cb_9  \n",
       "0  7.042854  7.238453  7.165427  6.848261  7.015738  7.049149  7.146585  \n",
       "1  7.297676  7.345311  7.323508  7.290049  7.282990  7.298458  7.276539  \n",
       "2  7.519690  7.544184  7.488554  7.511034  7.515903  7.470030  7.472780  \n",
       "3  8.419513  8.377253  8.317931  8.435537  8.422719  8.358623  8.383203  \n",
       "4  7.821484  7.828551  7.807781  7.796624  7.766287  7.802120  7.780669  \n",
       "\n",
       "[5 rows x 31 columns]"
      ]
     },
     "execution_count": 54,
     "metadata": {},
     "output_type": "execute_result"
    }
   ],
   "source": [
    "test_df.head()"
   ]
  },
  {
   "cell_type": "code",
   "execution_count": 55,
   "metadata": {},
   "outputs": [],
   "source": [
    "train_df.to_csv('../submission_files/leak/oof/logtrain_df_sumf_pc_10x5fold.csv', index=False)\n",
    "test_df.to_csv('../submission_files/leak/oof/logtest_df_sumf_pc_10x5fold.csv', index=False)\n",
    "#train_df = pd.read_csv('../submission_files/leak/20. train_df_sumf_10x5fold.csv')\n",
    "#test_df = pd.read_csv('../submission_files/leak/20. test_df_sumf_10x5fold.csv')"
   ]
  },
  {
   "cell_type": "code",
   "execution_count": 56,
   "metadata": {},
   "outputs": [],
   "source": [
    "train_df = train_df.drop(['ID'], axis=1)\n",
    "test_df = test_df.drop(['ID'], axis=1)"
   ]
  },
  {
   "cell_type": "code",
   "execution_count": 97,
   "metadata": {},
   "outputs": [],
   "source": [
    "train_df = train_df[train_df.columns[:10]]\n",
    "test_df = test_df[test_df.columns[:10]]"
   ]
  },
  {
   "cell_type": "code",
   "execution_count": 98,
   "metadata": {},
   "outputs": [],
   "source": [
    "#train_df2 = np.hstack((train_df.values, stat_train.values))#, stat_train2.values))\n",
    "#test_df2 = np.hstack((test_df.values, stat_test.values))#, stat_test2.values))\n",
    "train_df2 = train_df.values\n",
    "test_df2 = test_df.values"
   ]
  },
  {
   "cell_type": "code",
   "execution_count": 99,
   "metadata": {},
   "outputs": [
    {
     "data": {
      "text/plain": [
       "(4459, 10)"
      ]
     },
     "execution_count": 99,
     "metadata": {},
     "output_type": "execute_result"
    }
   ],
   "source": [
    "train_df2.shape"
   ]
  },
  {
   "cell_type": "markdown",
   "metadata": {},
   "source": [
    "### Final CV\n",
    "\n",
    "#### cb"
   ]
  },
  {
   "cell_type": "code",
   "execution_count": 100,
   "metadata": {},
   "outputs": [],
   "source": [
    "def finalCV(n_folds=5, multiplier=10):\n",
    "    submission = pd.DataFrame.from_dict({'ID': test_ID, 'target': np.zeros(test_ID.shape[0])})\n",
    "    for i in range(multiplier):\n",
    "        preds = np.zeros(test_ID.shape[0])\n",
    "        kf = KFold(n_splits=n_folds,shuffle=True)\n",
    "        res = []\n",
    "        for train_index, test_index in kf.split(train_df2):\n",
    "            X_tr, X_tst = train_df2[train_index], train_df2[test_index]\n",
    "            y_tr, y_tst = log_target[train_index], log_target[test_index]\n",
    "\n",
    "            bst = cb.CatBoostRegressor(eta=0.01, iterations=2500,\n",
    "                                       loss_function='RMSE', eval_metric='RMSE', depth=4)\n",
    "    \n",
    "            bst.fit(X_tr, y_tr, use_best_model=True, eval_set=(X_tst, y_tst), verbose=False)\n",
    "\n",
    "            y_val = bst.predict(X_tst)\n",
    "\n",
    "            rmsle = np.sqrt(mean_squared_error(y_tst, y_val))\n",
    "            \n",
    "            res.append(rmsle)\n",
    "            \n",
    "            preds = preds + bst.predict(test_df2)/n_folds\n",
    "\n",
    "        print(np.mean(res))\n",
    "        \n",
    "        submission.target = submission.target + preds/multiplier\n",
    "    return submission"
   ]
  },
  {
   "cell_type": "code",
   "execution_count": 60,
   "metadata": {},
   "outputs": [],
   "source": [
    "def lgbfinalCV(n_folds=5, multiplier=10):\n",
    "    params = {'boosting': 'gbdt', 'objective':'regression', 'learning_rate':0.01, 'metric':'rmse', 'max_bin':63, \n",
    "              'lambda_l2': 0.1, 'device':'cpu', 'feature_fraction': 0.1, 'lambda_l1': 0.002}\n",
    "    submission = pd.DataFrame.from_dict({'ID': test_ID, 'target': np.zeros(test_ID.shape[0])})\n",
    "    for i in range(multiplier):\n",
    "        preds = np.zeros(test_ID.shape[0])\n",
    "        kf = KFold(n_splits=n_folds,shuffle=True)\n",
    "        res = []\n",
    "        for train_index, test_index in kf.split(train_df2):\n",
    "            X_tr, X_tst = train_df2[train_index], train_df2[test_index]\n",
    "            y_tr, y_tst = log_target[train_index], log_target[test_index]\n",
    "\n",
    "            train_set = lgb.Dataset(X_tr, label=y_tr)\n",
    "            valid_set = lgb.Dataset(X_tst, label=y_tst, reference=train_set)\n",
    "\n",
    "            bst = lgb.train(params, train_set, num_boost_round=7500, valid_sets=[train_set, valid_set],\n",
    "                            early_stopping_rounds=500, verbose_eval=False)\n",
    "\n",
    "            y_val = bst.predict(X_tst, num_iteration=bst.best_iteration)\n",
    "\n",
    "            rmsle = np.sqrt(mean_squared_error(y_tst, y_val))\n",
    "            \n",
    "            res.append(rmsle)\n",
    "            \n",
    "            preds = preds + bst.predict(test_df2, num_iteration=bst.best_iteration)/n_folds\n",
    "\n",
    "        print(np.mean(res))\n",
    "        \n",
    "        submission.target = submission.target + preds/multiplier\n",
    "    return submission"
   ]
  },
  {
   "cell_type": "code",
   "execution_count": 85,
   "metadata": {},
   "outputs": [],
   "source": [
    "def xgbfinalCV(n_folds=5, multiplier=10):\n",
    "    params = {'booster': 'gbtree', 'learning_rate':0.003, 'colsample_bytree': .75, 'eval_metric':'rmse', 'lambda': 0.0004,\n",
    "              'alpha': 0., 'min_child_weight': 4, 'subsample': 0.15}\n",
    "    test_set = xgb.DMatrix(test_df2)\n",
    "    submission = pd.DataFrame.from_dict({'ID': test_ID, 'target': np.zeros(test_ID.shape[0])})\n",
    "    for i in range(multiplier):\n",
    "        preds = np.zeros(test_ID.shape[0])\n",
    "        kf = KFold(n_splits=n_folds,shuffle=True)\n",
    "        res = []\n",
    "        for train_index, test_index in kf.split(train_df2):\n",
    "            X_tr, X_tst = train_df2[train_index], train_df2[test_index]\n",
    "            y_tr, y_tst = log_target[train_index], log_target[test_index]\n",
    "\n",
    "            train_set = xgb.DMatrix(X_tr, label=y_tr)\n",
    "            valid_set = xgb.DMatrix(X_tst, label=y_tst)\n",
    "\n",
    "            bst = xgb.train(params, train_set, num_boost_round=20000, evals=[(train_set, 'train'), (valid_set, 'val')],\n",
    "                            early_stopping_rounds=500, verbose_eval=False)\n",
    "\n",
    "            y_val = bst.predict(valid_set, ntree_limit=bst.best_ntree_limit)\n",
    "\n",
    "            rmsle = np.sqrt(mean_squared_error(y_tst, y_val))\n",
    "            \n",
    "            res.append(rmsle)\n",
    "            \n",
    "            preds = preds + bst.predict(test_set, ntree_limit=bst.best_ntree_limit)/n_folds\n",
    "\n",
    "        print(np.mean(res))\n",
    "        \n",
    "        submission.target = submission.target + preds/multiplier\n",
    "    return submission"
   ]
  },
  {
   "cell_type": "code",
   "execution_count": 101,
   "metadata": {},
   "outputs": [
    {
     "name": "stdout",
     "output_type": "stream",
     "text": [
      "1.3332032421066118\n",
      "1.3320986439426643\n",
      "1.3328091778544846\n",
      "1.3326367550002678\n",
      "1.3322724978461644\n",
      "1.3319430932306084\n",
      "1.3334892886605014\n",
      "1.3321092911099763\n",
      "1.3324263680839745\n",
      "1.3317385631914755\n"
     ]
    }
   ],
   "source": [
    "submission = finalCV()"
   ]
  },
  {
   "cell_type": "code",
   "execution_count": 64,
   "metadata": {},
   "outputs": [
    {
     "name": "stdout",
     "output_type": "stream",
     "text": [
      "1.33897106236144\n",
      "1.3381275352117918\n",
      "1.3385496669332297\n",
      "1.3392857125205417\n",
      "1.3418888664651394\n",
      "1.3396150809908751\n",
      "1.3388484042978772\n",
      "1.3412175592577835\n",
      "1.3373434942910984\n",
      "1.3351769330691794\n"
     ]
    }
   ],
   "source": [
    "submission = lgbfinalCV()"
   ]
  },
  {
   "cell_type": "code",
   "execution_count": 86,
   "metadata": {},
   "outputs": [
    {
     "name": "stdout",
     "output_type": "stream",
     "text": [
      "1.349358568308776\n",
      "1.349915904849445\n",
      "1.3486953708329945\n",
      "1.3472002294240941\n",
      "1.3475863731737476\n",
      "1.3493306937302767\n",
      "1.3497083232234177\n",
      "1.3486509775743047\n",
      "1.35118535169223\n",
      "1.3432515261076807\n"
     ]
    }
   ],
   "source": [
    "submission = xgbfinalCV()"
   ]
  },
  {
   "cell_type": "markdown",
   "metadata": {},
   "source": [
    "#### ceiling to overestimate"
   ]
  },
  {
   "cell_type": "code",
   "execution_count": 102,
   "metadata": {},
   "outputs": [],
   "source": [
    "#submission.target = 1000*np.ceil(submission.target)\n",
    "#submission.target = 1000*submission.target\n",
    "submission.target = 1000*np.ceil(np.expm1(submission.target))"
   ]
  },
  {
   "cell_type": "code",
   "execution_count": 103,
   "metadata": {
    "scrolled": true
   },
   "outputs": [
    {
     "data": {
      "text/html": [
       "<div>\n",
       "<style scoped>\n",
       "    .dataframe tbody tr th:only-of-type {\n",
       "        vertical-align: middle;\n",
       "    }\n",
       "\n",
       "    .dataframe tbody tr th {\n",
       "        vertical-align: top;\n",
       "    }\n",
       "\n",
       "    .dataframe thead th {\n",
       "        text-align: right;\n",
       "    }\n",
       "</style>\n",
       "<table border=\"1\" class=\"dataframe\">\n",
       "  <thead>\n",
       "    <tr style=\"text-align: right;\">\n",
       "      <th></th>\n",
       "      <th>ID</th>\n",
       "      <th>target</th>\n",
       "    </tr>\n",
       "  </thead>\n",
       "  <tbody>\n",
       "    <tr>\n",
       "      <th>0</th>\n",
       "      <td>000137c73</td>\n",
       "      <td>1880000.0</td>\n",
       "    </tr>\n",
       "    <tr>\n",
       "      <th>1</th>\n",
       "      <td>00021489f</td>\n",
       "      <td>1413000.0</td>\n",
       "    </tr>\n",
       "    <tr>\n",
       "      <th>2</th>\n",
       "      <td>0004d7953</td>\n",
       "      <td>1963000.0</td>\n",
       "    </tr>\n",
       "    <tr>\n",
       "      <th>3</th>\n",
       "      <td>00056a333</td>\n",
       "      <td>4797000.0</td>\n",
       "    </tr>\n",
       "    <tr>\n",
       "      <th>4</th>\n",
       "      <td>00056d8eb</td>\n",
       "      <td>2627000.0</td>\n",
       "    </tr>\n",
       "    <tr>\n",
       "      <th>5</th>\n",
       "      <td>0005fc190</td>\n",
       "      <td>2674000.0</td>\n",
       "    </tr>\n",
       "    <tr>\n",
       "      <th>6</th>\n",
       "      <td>000787e86</td>\n",
       "      <td>1814000.0</td>\n",
       "    </tr>\n",
       "    <tr>\n",
       "      <th>7</th>\n",
       "      <td>0008510a0</td>\n",
       "      <td>2903000.0</td>\n",
       "    </tr>\n",
       "    <tr>\n",
       "      <th>8</th>\n",
       "      <td>000895faf</td>\n",
       "      <td>3069000.0</td>\n",
       "    </tr>\n",
       "    <tr>\n",
       "      <th>9</th>\n",
       "      <td>000986fba</td>\n",
       "      <td>3005000.0</td>\n",
       "    </tr>\n",
       "    <tr>\n",
       "      <th>10</th>\n",
       "      <td>0009efcc5</td>\n",
       "      <td>2630000.0</td>\n",
       "    </tr>\n",
       "  </tbody>\n",
       "</table>\n",
       "</div>"
      ],
      "text/plain": [
       "           ID     target\n",
       "0   000137c73  1880000.0\n",
       "1   00021489f  1413000.0\n",
       "2   0004d7953  1963000.0\n",
       "3   00056a333  4797000.0\n",
       "4   00056d8eb  2627000.0\n",
       "5   0005fc190  2674000.0\n",
       "6   000787e86  1814000.0\n",
       "7   0008510a0  2903000.0\n",
       "8   000895faf  3069000.0\n",
       "9   000986fba  3005000.0\n",
       "10  0009efcc5  2630000.0"
      ]
     },
     "execution_count": 103,
     "metadata": {},
     "output_type": "execute_result"
    }
   ],
   "source": [
    "submission.head(11)"
   ]
  },
  {
   "cell_type": "code",
   "execution_count": 104,
   "metadata": {},
   "outputs": [],
   "source": [
    "submission.to_csv('../submission_files/leak/39. logstackcb_onlylgb_sumf_pc.csv', index=False)"
   ]
  },
  {
   "cell_type": "code",
   "execution_count": 90,
   "metadata": {
    "collapsed": true
   },
   "outputs": [],
   "source": [
    "sub.target[leak_index_test] = leak_values_test"
   ]
  },
  {
   "cell_type": "code",
   "execution_count": 2,
   "metadata": {},
   "outputs": [],
   "source": [
    "submission = pd.read_csv(\"../submission_files/leak/24. stackcb_sumf_pc_138_best.csv\")"
   ]
  },
  {
   "cell_type": "code",
   "execution_count": 105,
   "metadata": {},
   "outputs": [],
   "source": [
    "sub = submission.copy()"
   ]
  },
  {
   "cell_type": "code",
   "execution_count": 106,
   "metadata": {},
   "outputs": [],
   "source": [
    "leak2 = pd.read_csv('../submission_files/leak/public/03. leak_extrafeat.csv')\n",
    "\n",
    "leak2_idx = leak2[leak2.target != 0.].index.values\n",
    "leak2_vals = leak2[leak2.target != 0.].target.values\n",
    "\n",
    "leak2_vals = np.round(np.expm1(leak2_vals))"
   ]
  },
  {
   "cell_type": "code",
   "execution_count": 107,
   "metadata": {},
   "outputs": [],
   "source": [
    "sub.target[leak2_idx] = leak2_vals"
   ]
  },
  {
   "cell_type": "code",
   "execution_count": 108,
   "metadata": {},
   "outputs": [
    {
     "data": {
      "text/html": [
       "<div>\n",
       "<style scoped>\n",
       "    .dataframe tbody tr th:only-of-type {\n",
       "        vertical-align: middle;\n",
       "    }\n",
       "\n",
       "    .dataframe tbody tr th {\n",
       "        vertical-align: top;\n",
       "    }\n",
       "\n",
       "    .dataframe thead th {\n",
       "        text-align: right;\n",
       "    }\n",
       "</style>\n",
       "<table border=\"1\" class=\"dataframe\">\n",
       "  <thead>\n",
       "    <tr style=\"text-align: right;\">\n",
       "      <th></th>\n",
       "      <th>ID</th>\n",
       "      <th>target</th>\n",
       "    </tr>\n",
       "  </thead>\n",
       "  <tbody>\n",
       "    <tr>\n",
       "      <th>0</th>\n",
       "      <td>000137c73</td>\n",
       "      <td>1880000.0</td>\n",
       "    </tr>\n",
       "    <tr>\n",
       "      <th>1</th>\n",
       "      <td>00021489f</td>\n",
       "      <td>1413000.0</td>\n",
       "    </tr>\n",
       "    <tr>\n",
       "      <th>2</th>\n",
       "      <td>0004d7953</td>\n",
       "      <td>1963000.0</td>\n",
       "    </tr>\n",
       "    <tr>\n",
       "      <th>3</th>\n",
       "      <td>00056a333</td>\n",
       "      <td>4797000.0</td>\n",
       "    </tr>\n",
       "    <tr>\n",
       "      <th>4</th>\n",
       "      <td>00056d8eb</td>\n",
       "      <td>2627000.0</td>\n",
       "    </tr>\n",
       "    <tr>\n",
       "      <th>5</th>\n",
       "      <td>0005fc190</td>\n",
       "      <td>2674000.0</td>\n",
       "    </tr>\n",
       "    <tr>\n",
       "      <th>6</th>\n",
       "      <td>000787e86</td>\n",
       "      <td>1814000.0</td>\n",
       "    </tr>\n",
       "    <tr>\n",
       "      <th>7</th>\n",
       "      <td>0008510a0</td>\n",
       "      <td>2903000.0</td>\n",
       "    </tr>\n",
       "    <tr>\n",
       "      <th>8</th>\n",
       "      <td>000895faf</td>\n",
       "      <td>3069000.0</td>\n",
       "    </tr>\n",
       "    <tr>\n",
       "      <th>9</th>\n",
       "      <td>000986fba</td>\n",
       "      <td>3005000.0</td>\n",
       "    </tr>\n",
       "    <tr>\n",
       "      <th>10</th>\n",
       "      <td>0009efcc5</td>\n",
       "      <td>20000000.0</td>\n",
       "    </tr>\n",
       "  </tbody>\n",
       "</table>\n",
       "</div>"
      ],
      "text/plain": [
       "           ID      target\n",
       "0   000137c73   1880000.0\n",
       "1   00021489f   1413000.0\n",
       "2   0004d7953   1963000.0\n",
       "3   00056a333   4797000.0\n",
       "4   00056d8eb   2627000.0\n",
       "5   0005fc190   2674000.0\n",
       "6   000787e86   1814000.0\n",
       "7   0008510a0   2903000.0\n",
       "8   000895faf   3069000.0\n",
       "9   000986fba   3005000.0\n",
       "10  0009efcc5  20000000.0"
      ]
     },
     "execution_count": 108,
     "metadata": {},
     "output_type": "execute_result"
    }
   ],
   "source": [
    "sub.head(11)"
   ]
  },
  {
   "cell_type": "code",
   "execution_count": 109,
   "metadata": {},
   "outputs": [],
   "source": [
    "sub.to_csv(\"../submission_files/leak/40. 39+public03.csv\", index=False)"
   ]
  },
  {
   "cell_type": "code",
   "execution_count": 95,
   "metadata": {
    "collapsed": true
   },
   "outputs": [],
   "source": [
    "sub2 = pd.read_csv('../submission_files/leak/public/02. loveanswer_v11_maybe_063.csv')"
   ]
  },
  {
   "cell_type": "code",
   "execution_count": 15,
   "metadata": {
    "collapsed": true
   },
   "outputs": [],
   "source": [
    "sub2 = pd.read_csv('../submission_files/leak/28. stackcb+leak25_sumf_pc.csv')"
   ]
  },
  {
   "cell_type": "code",
   "execution_count": 19,
   "metadata": {
    "collapsed": true
   },
   "outputs": [],
   "source": [
    "sub3 = sub.copy()"
   ]
  },
  {
   "cell_type": "code",
   "execution_count": 17,
   "metadata": {
    "collapsed": true
   },
   "outputs": [],
   "source": [
    "sub3.target = 0.5*sub.target + 0.5*sub2.target"
   ]
  },
  {
   "cell_type": "code",
   "execution_count": 18,
   "metadata": {
    "collapsed": true
   },
   "outputs": [],
   "source": [
    "sub3.to_csv(\"../submission_files/leak/30. 05x28+05x29.csv\", index=False)"
   ]
  },
  {
   "cell_type": "code",
   "execution_count": null,
   "metadata": {
    "collapsed": true
   },
   "outputs": [],
   "source": []
  },
  {
   "cell_type": "code",
   "execution_count": null,
   "metadata": {
    "collapsed": true
   },
   "outputs": [],
   "source": []
  },
  {
   "cell_type": "code",
   "execution_count": 8,
   "metadata": {},
   "outputs": [],
   "source": [
    "ss = pd.read_csv('../submission_files/leak/28. 24+public03_059_best.csv')"
   ]
  },
  {
   "cell_type": "code",
   "execution_count": 9,
   "metadata": {},
   "outputs": [],
   "source": [
    "sub['h'] = sub.target - ss.target"
   ]
  },
  {
   "cell_type": "code",
   "execution_count": 10,
   "metadata": {},
   "outputs": [
    {
     "data": {
      "text/plain": [
       "(37,)"
      ]
     },
     "execution_count": 10,
     "metadata": {},
     "output_type": "execute_result"
    }
   ],
   "source": [
    "sub.h[sub.h!=0].index.values.shape"
   ]
  },
  {
   "cell_type": "code",
   "execution_count": null,
   "metadata": {},
   "outputs": [],
   "source": []
  }
 ],
 "metadata": {
  "kernelspec": {
   "display_name": "Python 3",
   "language": "python",
   "name": "python3"
  },
  "language_info": {
   "codemirror_mode": {
    "name": "ipython",
    "version": 3
   },
   "file_extension": ".py",
   "mimetype": "text/x-python",
   "name": "python",
   "nbconvert_exporter": "python",
   "pygments_lexer": "ipython3",
   "version": "3.6.2"
  }
 },
 "nbformat": 4,
 "nbformat_minor": 2
}
