{
 "cells": [
  {
   "cell_type": "code",
   "execution_count": 1,
   "metadata": {},
   "outputs": [],
   "source": [
    "# misc\n",
    "import warnings\n",
    "warnings.filterwarnings('ignore')\n",
    "import gc\n",
    "\n",
    "# basic imports\n",
    "import numpy as np\n",
    "import pandas as pd\n",
    "import seaborn as sns\n",
    "import matplotlib.pyplot as plt\n",
    "%matplotlib inline\n",
    "plt.style.use('seaborn')\n",
    "sns.set(palette='colorblind')\n",
    "\n",
    "# processing\n",
    "from sklearn.model_selection import KFold\n",
    "from sklearn.metrics import mean_squared_error\n",
    "from sklearn.feature_selection import VarianceThreshold\n",
    "from scipy.stats import gmean, mode\n",
    "from scipy.sparse import csr_matrix\n",
    "\n",
    "import shap\n",
    "\n",
    "# models\n",
    "import xgboost as xgb\n",
    "import lightgbm as lgb\n",
    "import catboost as cb\n",
    "from sklearn.linear_model import LinearRegression, Ridge"
   ]
  },
  {
   "cell_type": "code",
   "execution_count": 2,
   "metadata": {},
   "outputs": [],
   "source": [
    "# This will be now a dataframe\n",
    "def stats_prop(df, usefractions=False):\n",
    "    means = []\n",
    "    gmeans = []\n",
    "    medians = []\n",
    "    modes = []\n",
    "    stds = []\n",
    "    skews = []\n",
    "    kurts = []\n",
    "    mins = []\n",
    "    maxs = []\n",
    "    sums = []\n",
    "    counts = []\n",
    "    fractions = []\n",
    "    q1s = []\n",
    "    q3s = []\n",
    "    p10s = []\n",
    "    p20s = []\n",
    "    p30s = []\n",
    "    p40s = []\n",
    "    p60s = []\n",
    "    p70s = []\n",
    "    p80s = []\n",
    "    p90s = []\n",
    "    log_means = []\n",
    "    log_gmeans = []\n",
    "    log_medians = []\n",
    "    log_modes = []\n",
    "    log_stds = []\n",
    "    log_skews = []\n",
    "    log_kurts = []\n",
    "    log_mins = []\n",
    "    log_maxs = []\n",
    "    log_q1s = []\n",
    "    log_q3s = []\n",
    "    log_p10s = []\n",
    "    log_p20s = []\n",
    "    log_p30s = []\n",
    "    log_p40s = []\n",
    "    log_p60s = []\n",
    "    log_p70s = []\n",
    "    log_p80s = []\n",
    "    log_p90s = []\n",
    "       \n",
    "    for i, row in df.iterrows():\n",
    "        nonzero_values = row[row.nonzero()[0]]\n",
    "        if usefractions:\n",
    "            nonzero_values = nonzero_values[nonzero_values-nonzero_values//1 != 0.]\n",
    "        means.append(nonzero_values.mean())\n",
    "        gmeans.append(gmean(nonzero_values))\n",
    "        medians.append(nonzero_values.median())\n",
    "        modes.append(mode(nonzero_values)[0][0] if len(nonzero_values)>0 else np.nan)\n",
    "        stds.append(nonzero_values.std())\n",
    "        skews.append(nonzero_values.skew())\n",
    "        kurts.append(nonzero_values.kurtosis())\n",
    "        mins.append(nonzero_values.min())\n",
    "        maxs.append(nonzero_values.max())\n",
    "        sums.append(nonzero_values.sum())\n",
    "        counts.append(nonzero_values.count())\n",
    "        fractions.append(nonzero_values.count()/row.count())        \n",
    "        q1s.append(np.percentile(nonzero_values, q=25) if len(nonzero_values)>0 else np.nan)\n",
    "        q3s.append(np.percentile(nonzero_values, q=75) if len(nonzero_values)>0 else np.nan)\n",
    "        p10s.append(np.percentile(nonzero_values, q=10) if len(nonzero_values)>0 else np.nan)\n",
    "        p20s.append(np.percentile(nonzero_values, q=20) if len(nonzero_values)>0 else np.nan)\n",
    "        p30s.append(np.percentile(nonzero_values, q=30) if len(nonzero_values)>0 else np.nan)\n",
    "        p40s.append(np.percentile(nonzero_values, q=40) if len(nonzero_values)>0 else np.nan)\n",
    "        p60s.append(np.percentile(nonzero_values, q=60) if len(nonzero_values)>0 else np.nan)\n",
    "        p70s.append(np.percentile(nonzero_values, q=70) if len(nonzero_values)>0 else np.nan)\n",
    "        p80s.append(np.percentile(nonzero_values, q=80) if len(nonzero_values)>0 else np.nan)\n",
    "        p90s.append(np.percentile(nonzero_values, q=90) if len(nonzero_values)>0 else np.nan)\n",
    "        log_means.append(np.log1p(nonzero_values).mean())\n",
    "        log_gmeans.append(gmean(np.log1p(nonzero_values)))\n",
    "        log_medians.append(np.log1p(nonzero_values).median())\n",
    "        log_modes.append(mode(np.log1p(nonzero_values))[0][0] if len(nonzero_values)>0 else np.nan)\n",
    "        log_stds.append(np.log1p(nonzero_values).std())\n",
    "        log_skews.append(np.log1p(nonzero_values).skew())\n",
    "        log_kurts.append(np.log1p(nonzero_values).kurtosis())\n",
    "        log_mins.append(np.log1p(nonzero_values).min())\n",
    "        log_maxs.append(np.log1p(nonzero_values).max())\n",
    "        log_q1s.append(np.percentile(np.log1p(nonzero_values), q=25) if len(nonzero_values)>0 else np.nan)\n",
    "        log_q3s.append(np.percentile(np.log1p(nonzero_values), q=75) if len(nonzero_values)>0 else np.nan)\n",
    "        log_p10s.append(np.percentile(np.log1p(nonzero_values), q=10) if len(nonzero_values)>0 else np.nan)\n",
    "        log_p20s.append(np.percentile(np.log1p(nonzero_values), q=20) if len(nonzero_values)>0 else np.nan)\n",
    "        log_p30s.append(np.percentile(np.log1p(nonzero_values), q=30) if len(nonzero_values)>0 else np.nan)\n",
    "        log_p40s.append(np.percentile(np.log1p(nonzero_values), q=40) if len(nonzero_values)>0 else np.nan)\n",
    "        log_p60s.append(np.percentile(np.log1p(nonzero_values), q=60) if len(nonzero_values)>0 else np.nan)\n",
    "        log_p70s.append(np.percentile(np.log1p(nonzero_values), q=70) if len(nonzero_values)>0 else np.nan)\n",
    "        log_p80s.append(np.percentile(np.log1p(nonzero_values), q=80) if len(nonzero_values)>0 else np.nan)\n",
    "        log_p90s.append(np.percentile(np.log1p(nonzero_values), q=90) if len(nonzero_values)>0 else np.nan)\n",
    "    \n",
    "    stat_df = pd.DataFrame({'means': np.array(means)})\n",
    "    stat_df['gmeans'] = np.array(gmeans)\n",
    "    stat_df['medians'] = np.array(medians)\n",
    "    stat_df['modes'] = np.array(modes)\n",
    "    #stat_df['stds'] = np.array(stds)\n",
    "    #stat_df['skews'] = np.array(skews)\n",
    "    #stat_df['kurts'] = np.array(kurts)\n",
    "    stat_df['mins'] = np.array(mins)\n",
    "    stat_df['maxs'] = np.array(maxs)\n",
    "    stat_df['sums'] = np.array(sums)\n",
    "    stat_df['counts'] = np.array(counts)\n",
    "    stat_df['fractions'] = np.array(fractions)\n",
    "    stat_df['q1s'] = np.array(q1s)\n",
    "    stat_df['q3s'] = np.array(q3s)\n",
    "    stat_df['p10s'] = np.array(p10s)\n",
    "    stat_df['p20s'] = np.array(p20s)\n",
    "    stat_df['p30s'] = np.array(p30s)\n",
    "    stat_df['p40s'] = np.array(p40s)\n",
    "    stat_df['p60s'] = np.array(p60s)\n",
    "    stat_df['p70s'] = np.array(p70s)\n",
    "    stat_df['p80s'] = np.array(p80s)\n",
    "    stat_df['p90s'] = np.array(p90s)\n",
    "    stat_df['log_means'] = np.array(log_means)\n",
    "    #stat_df = pd.DataFrame({'log_means': np.array(log_means)})\n",
    "    stat_df['log_gmeans'] = np.array(log_gmeans)\n",
    "    stat_df['log_medians'] = np.array(log_medians)\n",
    "    stat_df['log_modes'] = np.array(log_modes)\n",
    "    #stat_df['log_stds'] = np.array(log_stds)\n",
    "    #stat_df['log_skews'] = np.array(log_skews)\n",
    "    #stat_df['log_kurts'] = np.array(log_kurts)\n",
    "    stat_df['log_mins'] = np.array(log_mins)\n",
    "    stat_df['log_maxs'] = np.array(log_maxs)\n",
    "    stat_df['log_q1s'] = np.array(log_q1s)\n",
    "    stat_df['log_q3s'] = np.array(log_q3s)\n",
    "    stat_df['log_p10s'] = np.array(log_p10s)\n",
    "    stat_df['log_p20s'] = np.array(log_p20s)\n",
    "    stat_df['log_p30s'] = np.array(log_p30s)\n",
    "    stat_df['log_p40s'] = np.array(log_p40s)\n",
    "    stat_df['log_p60s'] = np.array(log_p60s)\n",
    "    stat_df['log_p70s'] = np.array(log_p70s)\n",
    "    stat_df['log_p80s'] = np.array(log_p80s)\n",
    "    stat_df['log_p90s'] = np.array(log_p90s)\n",
    "    \n",
    "    return stat_df    "
   ]
  },
  {
   "cell_type": "code",
   "execution_count": 3,
   "metadata": {},
   "outputs": [],
   "source": [
    "train_data = pd.read_csv('../data/train.csv')\n",
    "test_data = pd.read_csv('../data/test.csv')"
   ]
  },
  {
   "cell_type": "code",
   "execution_count": 4,
   "metadata": {},
   "outputs": [],
   "source": [
    "target = train_data.target\n",
    "train_ID = train_data.ID\n",
    "train_data = train_data.drop(['target', 'ID'], axis=1)\n",
    "test_ID = test_data.ID\n",
    "test_data = test_data.drop(['ID'], axis=1)"
   ]
  },
  {
   "cell_type": "code",
   "execution_count": 5,
   "metadata": {},
   "outputs": [],
   "source": [
    "vt = VarianceThreshold(threshold=0.)\n",
    "vt.fit(train_data)\n",
    "selected_columns = train_data.columns[vt.get_support(indices=True)]"
   ]
  },
  {
   "cell_type": "code",
   "execution_count": 6,
   "metadata": {},
   "outputs": [
    {
     "data": {
      "text/plain": [
       "(4459, 4735)"
      ]
     },
     "execution_count": 6,
     "metadata": {},
     "output_type": "execute_result"
    }
   ],
   "source": [
    "train_data = train_data[selected_columns]\n",
    "test_data = test_data[selected_columns]\n",
    "\n",
    "train_data.shape"
   ]
  },
  {
   "cell_type": "code",
   "execution_count": 7,
   "metadata": {},
   "outputs": [
    {
     "data": {
      "text/plain": [
       "(4459, 4730)"
      ]
     },
     "execution_count": 7,
     "metadata": {},
     "output_type": "execute_result"
    }
   ],
   "source": [
    "train_data = train_data.T.drop_duplicates().T\n",
    "test_data = test_data[train_data.columns]\n",
    "\n",
    "train_data.shape"
   ]
  },
  {
   "cell_type": "code",
   "execution_count": 8,
   "metadata": {},
   "outputs": [],
   "source": [
    "train_data = train_data/1000.\n",
    "test_data = test_data/1000."
   ]
  },
  {
   "cell_type": "code",
   "execution_count": 14,
   "metadata": {},
   "outputs": [],
   "source": [
    "log_target = np.log1p(target/1000.)\n",
    "#log_target = np.log1p(target)"
   ]
  },
  {
   "cell_type": "code",
   "execution_count": 10,
   "metadata": {},
   "outputs": [],
   "source": [
    "stat_train = stats_prop(train_data)\n",
    "stat_test = stats_prop(test_data)"
   ]
  },
  {
   "cell_type": "code",
   "execution_count": 11,
   "metadata": {},
   "outputs": [],
   "source": [
    "train_data = train_data.replace(0., np.nan)\n",
    "test_data = test_data.replace(0., np.nan)"
   ]
  },
  {
   "cell_type": "code",
   "execution_count": 12,
   "metadata": {},
   "outputs": [
    {
     "data": {
      "text/html": [
       "<div>\n",
       "<style scoped>\n",
       "    .dataframe tbody tr th:only-of-type {\n",
       "        vertical-align: middle;\n",
       "    }\n",
       "\n",
       "    .dataframe tbody tr th {\n",
       "        vertical-align: top;\n",
       "    }\n",
       "\n",
       "    .dataframe thead th {\n",
       "        text-align: right;\n",
       "    }\n",
       "</style>\n",
       "<table border=\"1\" class=\"dataframe\">\n",
       "  <thead>\n",
       "    <tr style=\"text-align: right;\">\n",
       "      <th></th>\n",
       "      <th>48df886f9</th>\n",
       "      <th>0deb4b6a8</th>\n",
       "      <th>34b15f335</th>\n",
       "      <th>a8cb14b00</th>\n",
       "      <th>2f0771a37</th>\n",
       "      <th>30347e683</th>\n",
       "      <th>d08d1fbe3</th>\n",
       "      <th>6ee66e115</th>\n",
       "      <th>20aa07010</th>\n",
       "      <th>dc5a8f1d8</th>\n",
       "      <th>...</th>\n",
       "      <th>3ecc09859</th>\n",
       "      <th>9281abeea</th>\n",
       "      <th>8675bec0b</th>\n",
       "      <th>3a13ed79a</th>\n",
       "      <th>f677d4d13</th>\n",
       "      <th>71b203550</th>\n",
       "      <th>137efaa80</th>\n",
       "      <th>fb36b89d9</th>\n",
       "      <th>7e293fbaf</th>\n",
       "      <th>9fc776466</th>\n",
       "    </tr>\n",
       "  </thead>\n",
       "  <tbody>\n",
       "    <tr>\n",
       "      <th>0</th>\n",
       "      <td>NaN</td>\n",
       "      <td>NaN</td>\n",
       "      <td>NaN</td>\n",
       "      <td>NaN</td>\n",
       "      <td>NaN</td>\n",
       "      <td>NaN</td>\n",
       "      <td>NaN</td>\n",
       "      <td>NaN</td>\n",
       "      <td>NaN</td>\n",
       "      <td>NaN</td>\n",
       "      <td>...</td>\n",
       "      <td>NaN</td>\n",
       "      <td>NaN</td>\n",
       "      <td>NaN</td>\n",
       "      <td>NaN</td>\n",
       "      <td>NaN</td>\n",
       "      <td>NaN</td>\n",
       "      <td>NaN</td>\n",
       "      <td>NaN</td>\n",
       "      <td>NaN</td>\n",
       "      <td>NaN</td>\n",
       "    </tr>\n",
       "    <tr>\n",
       "      <th>1</th>\n",
       "      <td>NaN</td>\n",
       "      <td>NaN</td>\n",
       "      <td>NaN</td>\n",
       "      <td>NaN</td>\n",
       "      <td>NaN</td>\n",
       "      <td>NaN</td>\n",
       "      <td>NaN</td>\n",
       "      <td>NaN</td>\n",
       "      <td>2200.0</td>\n",
       "      <td>NaN</td>\n",
       "      <td>...</td>\n",
       "      <td>NaN</td>\n",
       "      <td>NaN</td>\n",
       "      <td>NaN</td>\n",
       "      <td>NaN</td>\n",
       "      <td>NaN</td>\n",
       "      <td>NaN</td>\n",
       "      <td>NaN</td>\n",
       "      <td>NaN</td>\n",
       "      <td>NaN</td>\n",
       "      <td>NaN</td>\n",
       "    </tr>\n",
       "    <tr>\n",
       "      <th>2</th>\n",
       "      <td>NaN</td>\n",
       "      <td>NaN</td>\n",
       "      <td>NaN</td>\n",
       "      <td>NaN</td>\n",
       "      <td>NaN</td>\n",
       "      <td>NaN</td>\n",
       "      <td>NaN</td>\n",
       "      <td>NaN</td>\n",
       "      <td>NaN</td>\n",
       "      <td>NaN</td>\n",
       "      <td>...</td>\n",
       "      <td>NaN</td>\n",
       "      <td>NaN</td>\n",
       "      <td>NaN</td>\n",
       "      <td>NaN</td>\n",
       "      <td>NaN</td>\n",
       "      <td>NaN</td>\n",
       "      <td>NaN</td>\n",
       "      <td>NaN</td>\n",
       "      <td>NaN</td>\n",
       "      <td>NaN</td>\n",
       "    </tr>\n",
       "    <tr>\n",
       "      <th>3</th>\n",
       "      <td>NaN</td>\n",
       "      <td>NaN</td>\n",
       "      <td>NaN</td>\n",
       "      <td>NaN</td>\n",
       "      <td>NaN</td>\n",
       "      <td>NaN</td>\n",
       "      <td>NaN</td>\n",
       "      <td>NaN</td>\n",
       "      <td>NaN</td>\n",
       "      <td>NaN</td>\n",
       "      <td>...</td>\n",
       "      <td>NaN</td>\n",
       "      <td>NaN</td>\n",
       "      <td>NaN</td>\n",
       "      <td>NaN</td>\n",
       "      <td>NaN</td>\n",
       "      <td>NaN</td>\n",
       "      <td>NaN</td>\n",
       "      <td>NaN</td>\n",
       "      <td>NaN</td>\n",
       "      <td>NaN</td>\n",
       "    </tr>\n",
       "    <tr>\n",
       "      <th>4</th>\n",
       "      <td>NaN</td>\n",
       "      <td>NaN</td>\n",
       "      <td>NaN</td>\n",
       "      <td>NaN</td>\n",
       "      <td>NaN</td>\n",
       "      <td>NaN</td>\n",
       "      <td>NaN</td>\n",
       "      <td>NaN</td>\n",
       "      <td>2000.0</td>\n",
       "      <td>NaN</td>\n",
       "      <td>...</td>\n",
       "      <td>NaN</td>\n",
       "      <td>NaN</td>\n",
       "      <td>NaN</td>\n",
       "      <td>NaN</td>\n",
       "      <td>NaN</td>\n",
       "      <td>NaN</td>\n",
       "      <td>NaN</td>\n",
       "      <td>NaN</td>\n",
       "      <td>NaN</td>\n",
       "      <td>NaN</td>\n",
       "    </tr>\n",
       "  </tbody>\n",
       "</table>\n",
       "<p>5 rows × 4730 columns</p>\n",
       "</div>"
      ],
      "text/plain": [
       "   48df886f9  0deb4b6a8  34b15f335  a8cb14b00  2f0771a37  30347e683  \\\n",
       "0        NaN        NaN        NaN        NaN        NaN        NaN   \n",
       "1        NaN        NaN        NaN        NaN        NaN        NaN   \n",
       "2        NaN        NaN        NaN        NaN        NaN        NaN   \n",
       "3        NaN        NaN        NaN        NaN        NaN        NaN   \n",
       "4        NaN        NaN        NaN        NaN        NaN        NaN   \n",
       "\n",
       "   d08d1fbe3  6ee66e115  20aa07010  dc5a8f1d8    ...      3ecc09859  \\\n",
       "0        NaN        NaN        NaN        NaN    ...            NaN   \n",
       "1        NaN        NaN     2200.0        NaN    ...            NaN   \n",
       "2        NaN        NaN        NaN        NaN    ...            NaN   \n",
       "3        NaN        NaN        NaN        NaN    ...            NaN   \n",
       "4        NaN        NaN     2000.0        NaN    ...            NaN   \n",
       "\n",
       "   9281abeea  8675bec0b  3a13ed79a  f677d4d13  71b203550  137efaa80  \\\n",
       "0        NaN        NaN        NaN        NaN        NaN        NaN   \n",
       "1        NaN        NaN        NaN        NaN        NaN        NaN   \n",
       "2        NaN        NaN        NaN        NaN        NaN        NaN   \n",
       "3        NaN        NaN        NaN        NaN        NaN        NaN   \n",
       "4        NaN        NaN        NaN        NaN        NaN        NaN   \n",
       "\n",
       "   fb36b89d9  7e293fbaf  9fc776466  \n",
       "0        NaN        NaN        NaN  \n",
       "1        NaN        NaN        NaN  \n",
       "2        NaN        NaN        NaN  \n",
       "3        NaN        NaN        NaN  \n",
       "4        NaN        NaN        NaN  \n",
       "\n",
       "[5 rows x 4730 columns]"
      ]
     },
     "execution_count": 12,
     "metadata": {},
     "output_type": "execute_result"
    }
   ],
   "source": [
    "train_data.head()"
   ]
  },
  {
   "cell_type": "code",
   "execution_count": 13,
   "metadata": {},
   "outputs": [
    {
     "data": {
      "text/html": [
       "<div>\n",
       "<style scoped>\n",
       "    .dataframe tbody tr th:only-of-type {\n",
       "        vertical-align: middle;\n",
       "    }\n",
       "\n",
       "    .dataframe tbody tr th {\n",
       "        vertical-align: top;\n",
       "    }\n",
       "\n",
       "    .dataframe thead th {\n",
       "        text-align: right;\n",
       "    }\n",
       "</style>\n",
       "<table border=\"1\" class=\"dataframe\">\n",
       "  <thead>\n",
       "    <tr style=\"text-align: right;\">\n",
       "      <th></th>\n",
       "      <th>means</th>\n",
       "      <th>gmeans</th>\n",
       "      <th>medians</th>\n",
       "      <th>modes</th>\n",
       "      <th>mins</th>\n",
       "      <th>maxs</th>\n",
       "      <th>sums</th>\n",
       "      <th>counts</th>\n",
       "      <th>fractions</th>\n",
       "      <th>q1s</th>\n",
       "      <th>...</th>\n",
       "      <th>log_q1s</th>\n",
       "      <th>log_q3s</th>\n",
       "      <th>log_p10s</th>\n",
       "      <th>log_p20s</th>\n",
       "      <th>log_p30s</th>\n",
       "      <th>log_p40s</th>\n",
       "      <th>log_p60s</th>\n",
       "      <th>log_p70s</th>\n",
       "      <th>log_p80s</th>\n",
       "      <th>log_p90s</th>\n",
       "    </tr>\n",
       "  </thead>\n",
       "  <tbody>\n",
       "    <tr>\n",
       "      <th>0</th>\n",
       "      <td>7066.356209</td>\n",
       "      <td>2858.971431</td>\n",
       "      <td>2400.00000</td>\n",
       "      <td>400.0</td>\n",
       "      <td>250.0</td>\n",
       "      <td>40000.0</td>\n",
       "      <td>720768.33332</td>\n",
       "      <td>102</td>\n",
       "      <td>0.021564</td>\n",
       "      <td>912.5</td>\n",
       "      <td>...</td>\n",
       "      <td>6.817007</td>\n",
       "      <td>8.878479</td>\n",
       "      <td>6.016226</td>\n",
       "      <td>6.579178</td>\n",
       "      <td>7.030055</td>\n",
       "      <td>7.410382</td>\n",
       "      <td>8.309112</td>\n",
       "      <td>8.705490</td>\n",
       "      <td>9.341456</td>\n",
       "      <td>9.998843</td>\n",
       "    </tr>\n",
       "    <tr>\n",
       "      <th>1</th>\n",
       "      <td>7939.800995</td>\n",
       "      <td>4303.260088</td>\n",
       "      <td>2225.00000</td>\n",
       "      <td>2000.0</td>\n",
       "      <td>800.0</td>\n",
       "      <td>50000.0</td>\n",
       "      <td>531966.66668</td>\n",
       "      <td>67</td>\n",
       "      <td>0.014165</td>\n",
       "      <td>2000.0</td>\n",
       "      <td>...</td>\n",
       "      <td>7.601402</td>\n",
       "      <td>9.157766</td>\n",
       "      <td>7.601402</td>\n",
       "      <td>7.601402</td>\n",
       "      <td>7.601402</td>\n",
       "      <td>7.601402</td>\n",
       "      <td>8.294300</td>\n",
       "      <td>8.853808</td>\n",
       "      <td>9.544127</td>\n",
       "      <td>9.878957</td>\n",
       "    </tr>\n",
       "    <tr>\n",
       "      <th>2</th>\n",
       "      <td>4233.333333</td>\n",
       "      <td>2473.859829</td>\n",
       "      <td>4000.00000</td>\n",
       "      <td>4000.0</td>\n",
       "      <td>200.0</td>\n",
       "      <td>12000.0</td>\n",
       "      <td>76200.00000</td>\n",
       "      <td>18</td>\n",
       "      <td>0.003805</td>\n",
       "      <td>1125.0</td>\n",
       "      <td>...</td>\n",
       "      <td>7.010038</td>\n",
       "      <td>8.677932</td>\n",
       "      <td>5.942616</td>\n",
       "      <td>6.775018</td>\n",
       "      <td>7.364943</td>\n",
       "      <td>7.824446</td>\n",
       "      <td>8.357977</td>\n",
       "      <td>8.612685</td>\n",
       "      <td>8.699681</td>\n",
       "      <td>9.108949</td>\n",
       "    </tr>\n",
       "    <tr>\n",
       "      <th>3</th>\n",
       "      <td>1517.757575</td>\n",
       "      <td>401.771116</td>\n",
       "      <td>261.33333</td>\n",
       "      <td>100.0</td>\n",
       "      <td>2.0</td>\n",
       "      <td>6000.0</td>\n",
       "      <td>33390.66666</td>\n",
       "      <td>22</td>\n",
       "      <td>0.004651</td>\n",
       "      <td>100.0</td>\n",
       "      <td>...</td>\n",
       "      <td>4.615121</td>\n",
       "      <td>7.601402</td>\n",
       "      <td>4.615121</td>\n",
       "      <td>4.615121</td>\n",
       "      <td>4.615121</td>\n",
       "      <td>5.303305</td>\n",
       "      <td>6.338374</td>\n",
       "      <td>7.472248</td>\n",
       "      <td>7.601402</td>\n",
       "      <td>8.664920</td>\n",
       "    </tr>\n",
       "    <tr>\n",
       "      <th>4</th>\n",
       "      <td>6872.846154</td>\n",
       "      <td>2567.099104</td>\n",
       "      <td>4700.00000</td>\n",
       "      <td>200.0</td>\n",
       "      <td>60.0</td>\n",
       "      <td>37662.0</td>\n",
       "      <td>178694.00000</td>\n",
       "      <td>26</td>\n",
       "      <td>0.005497</td>\n",
       "      <td>1180.0</td>\n",
       "      <td>...</td>\n",
       "      <td>7.074117</td>\n",
       "      <td>8.972850</td>\n",
       "      <td>5.303305</td>\n",
       "      <td>5.993961</td>\n",
       "      <td>7.337760</td>\n",
       "      <td>7.601402</td>\n",
       "      <td>8.699681</td>\n",
       "      <td>8.869724</td>\n",
       "      <td>8.987322</td>\n",
       "      <td>9.301593</td>\n",
       "    </tr>\n",
       "  </tbody>\n",
       "</table>\n",
       "<p>5 rows × 35 columns</p>\n",
       "</div>"
      ],
      "text/plain": [
       "         means       gmeans     medians   modes   mins     maxs          sums  \\\n",
       "0  7066.356209  2858.971431  2400.00000   400.0  250.0  40000.0  720768.33332   \n",
       "1  7939.800995  4303.260088  2225.00000  2000.0  800.0  50000.0  531966.66668   \n",
       "2  4233.333333  2473.859829  4000.00000  4000.0  200.0  12000.0   76200.00000   \n",
       "3  1517.757575   401.771116   261.33333   100.0    2.0   6000.0   33390.66666   \n",
       "4  6872.846154  2567.099104  4700.00000   200.0   60.0  37662.0  178694.00000   \n",
       "\n",
       "   counts  fractions     q1s    ...      log_q1s   log_q3s  log_p10s  \\\n",
       "0     102   0.021564   912.5    ...     6.817007  8.878479  6.016226   \n",
       "1      67   0.014165  2000.0    ...     7.601402  9.157766  7.601402   \n",
       "2      18   0.003805  1125.0    ...     7.010038  8.677932  5.942616   \n",
       "3      22   0.004651   100.0    ...     4.615121  7.601402  4.615121   \n",
       "4      26   0.005497  1180.0    ...     7.074117  8.972850  5.303305   \n",
       "\n",
       "   log_p20s  log_p30s  log_p40s  log_p60s  log_p70s  log_p80s  log_p90s  \n",
       "0  6.579178  7.030055  7.410382  8.309112  8.705490  9.341456  9.998843  \n",
       "1  7.601402  7.601402  7.601402  8.294300  8.853808  9.544127  9.878957  \n",
       "2  6.775018  7.364943  7.824446  8.357977  8.612685  8.699681  9.108949  \n",
       "3  4.615121  4.615121  5.303305  6.338374  7.472248  7.601402  8.664920  \n",
       "4  5.993961  7.337760  7.601402  8.699681  8.869724  8.987322  9.301593  \n",
       "\n",
       "[5 rows x 35 columns]"
      ]
     },
     "execution_count": 13,
     "metadata": {},
     "output_type": "execute_result"
    }
   ],
   "source": [
    "stat_train.head()"
   ]
  },
  {
   "cell_type": "code",
   "execution_count": 14,
   "metadata": {},
   "outputs": [],
   "source": [
    "#train_leak = pd.read_csv('../submission_files/leak/public/01. train_leak.csv', usecols=['compiled_leak']).replace(np.nan, 0.)\n",
    "#test_leak = pd.read_csv('../submission_files/leak/public/01. test_leak.csv', usecols=['compiled_leak']).replace(np.nan, 0.)"
   ]
  },
  {
   "cell_type": "code",
   "execution_count": 15,
   "metadata": {},
   "outputs": [],
   "source": [
    "#leak_index_train = train_leak[train_leak.compiled_leak != 0.].index.values\n",
    "#leak_index_test = test_leak[test_leak.compiled_leak != 0.].index.values"
   ]
  },
  {
   "cell_type": "code",
   "execution_count": 16,
   "metadata": {},
   "outputs": [],
   "source": [
    "#leak_values_train = train_leak.compiled_leak[leak_index_train].values\n",
    "#leak_values_test = test_leak.compiled_leak[leak_index_test].values"
   ]
  },
  {
   "cell_type": "code",
   "execution_count": 17,
   "metadata": {},
   "outputs": [],
   "source": [
    "cols_leak = ['f190486d6', '58e2e02e6', 'eeb9cd3aa', '9fd594eec', '6eef030c1', '15ace8c9f', 'fb0f5dbfe', '58e056e12', '20aa07010',\n",
    "             '024c577b9', 'd6bb78916', 'b43a7cfd5', '58232a6fb', '1702b5bf0', '324921c7b', '62e59a501', '2ec5b290f', '241f0f867',\n",
    "             'fb49e4212', '66ace2992', 'f74e8f13d', '5c6487af1', '963a49cdc', '26fc93eb7', '1931ccfdd', '703885424', '70feb1494',\n",
    "             '491b9ee45', '23310aa6f', 'e176a204a', '6619d81fc', '1db387535', 'fc99f9426', '91f701ba2', '0572565c2', '190db8488',\n",
    "             'adb64ff71', 'c47340d97', 'c5a231d81', '0ff32eb98']"
   ]
  },
  {
   "cell_type": "code",
   "execution_count": 18,
   "metadata": {},
   "outputs": [],
   "source": [
    "#other_cols = ['87ffda550', 'a5f8c7929', 'df838756c', '9d5c7cb94', '81de0d45e', '06148867b', '266525925', '3b843ae7e', \n",
    "#              '1ad24da13', 'a3e023f65', '0f8d7b98e', 'b33e83cdc', '4302b67ec', 'ec5764030', 'b6daeae32', '5b465f819', \n",
    "#              'ced6a7e91', '1d9078f84', '9fa984817', '5bf913a56', '5030aed26', 'a1cd7b681', '86cefbcc0', '7f72c937f', \n",
    "#              'd0d340214', '51c141e64', 'c928b4b74', '2d60e2f7a', '48b839509', '0d7692145', 'f3cf9341c', '920a04ee2', \n",
    "#              '9a2b0a8be', 'e20edfcb8', '63be1f619', 'a9819bda9', '509e911f0', '9d4428628', 'c13ee1dc9', '7ba58c14d', \n",
    "#              '9a9fc1aba', '75d240f7b', 'b26d16167', 'ccc7609f4', '53aa182a2', 'fec5644cf', 'bbfff6091', '2135fa05a', \n",
    "#              '8f6514df0', '50603ae3d']"
   ]
  },
  {
   "cell_type": "code",
   "execution_count": 44,
   "metadata": {},
   "outputs": [],
   "source": [
    "#all_cols = list(set(cols_leak)|set(other_cols))"
   ]
  },
  {
   "cell_type": "code",
   "execution_count": 19,
   "metadata": {},
   "outputs": [],
   "source": [
    "new_train = train_data.drop(cols_leak, axis=1)"
   ]
  },
  {
   "cell_type": "code",
   "execution_count": 20,
   "metadata": {},
   "outputs": [],
   "source": [
    "# CV folds\n",
    "kf = KFold(n_splits=10, shuffle=True)\n",
    "n_splits = kf.get_n_splits()"
   ]
  },
  {
   "cell_type": "code",
   "execution_count": 21,
   "metadata": {},
   "outputs": [],
   "source": [
    "# model parameters\n",
    "params = {'learning_rate':0.01, 'metric':'rmse', 'max_bin':63, 'device':'cpu', 'feature_fraction': 0.2}"
   ]
  },
  {
   "cell_type": "code",
   "execution_count": 22,
   "metadata": {},
   "outputs": [
    {
     "name": "stdout",
     "output_type": "stream",
     "text": [
      "Training until validation scores don't improve for 5 rounds.\n",
      "[200]\ttraining's rmse: 1.29231\tvalid_1's rmse: 1.46404\n",
      "Early stopping, best iteration is:\n",
      "[346]\ttraining's rmse: 1.16906\tvalid_1's rmse: 1.4353\n",
      "Training until validation scores don't improve for 5 rounds.\n",
      "[200]\ttraining's rmse: 1.29143\tvalid_1's rmse: 1.44852\n",
      "Early stopping, best iteration is:\n",
      "[368]\ttraining's rmse: 1.15454\tvalid_1's rmse: 1.42088\n",
      "Training until validation scores don't improve for 5 rounds.\n",
      "[200]\ttraining's rmse: 1.28332\tvalid_1's rmse: 1.54712\n",
      "Early stopping, best iteration is:\n",
      "[272]\ttraining's rmse: 1.21433\tvalid_1's rmse: 1.5289\n",
      "Training until validation scores don't improve for 5 rounds.\n",
      "[200]\ttraining's rmse: 1.30148\tvalid_1's rmse: 1.38222\n",
      "Early stopping, best iteration is:\n",
      "[364]\ttraining's rmse: 1.16692\tvalid_1's rmse: 1.34439\n",
      "Training until validation scores don't improve for 5 rounds.\n",
      "[200]\ttraining's rmse: 1.29147\tvalid_1's rmse: 1.45709\n",
      "Early stopping, best iteration is:\n",
      "[298]\ttraining's rmse: 1.2014\tvalid_1's rmse: 1.43856\n",
      "Training until validation scores don't improve for 5 rounds.\n",
      "[200]\ttraining's rmse: 1.28518\tvalid_1's rmse: 1.5321\n",
      "Early stopping, best iteration is:\n",
      "[377]\ttraining's rmse: 1.14396\tvalid_1's rmse: 1.49287\n",
      "Training until validation scores don't improve for 5 rounds.\n",
      "[200]\ttraining's rmse: 1.29147\tvalid_1's rmse: 1.47509\n",
      "Early stopping, best iteration is:\n",
      "[307]\ttraining's rmse: 1.1957\tvalid_1's rmse: 1.45313\n",
      "Training until validation scores don't improve for 5 rounds.\n",
      "[200]\ttraining's rmse: 1.29483\tvalid_1's rmse: 1.4515\n",
      "Early stopping, best iteration is:\n",
      "[340]\ttraining's rmse: 1.17648\tvalid_1's rmse: 1.42776\n",
      "Training until validation scores don't improve for 5 rounds.\n",
      "[200]\ttraining's rmse: 1.28451\tvalid_1's rmse: 1.5405\n",
      "Early stopping, best iteration is:\n",
      "[261]\ttraining's rmse: 1.22596\tvalid_1's rmse: 1.52425\n",
      "Training until validation scores don't improve for 5 rounds.\n",
      "[200]\ttraining's rmse: 1.29443\tvalid_1's rmse: 1.43402\n",
      "Early stopping, best iteration is:\n",
      "[294]\ttraining's rmse: 1.20678\tvalid_1's rmse: 1.41174\n"
     ]
    }
   ],
   "source": [
    "shap_values = np.zeros((new_train.shape[0],new_train.shape[1]+1))\n",
    "\n",
    "for train_index, test_index in kf.split(new_train):\n",
    "    \n",
    "    X_tr, X_tst = new_train.values[train_index], new_train.values[test_index]\n",
    "    y_tr, y_tst = log_target[train_index], log_target[test_index]\n",
    "    \n",
    "    train_set = lgb.Dataset(X_tr, label=y_tr)\n",
    "    valid_set = lgb.Dataset(X_tst, label=y_tst, reference=train_set)\n",
    "    \n",
    "    bst = lgb.train(params, train_set, num_boost_round=1500, valid_sets=[train_set, valid_set], early_stopping_rounds=5,\n",
    "                    verbose_eval=200)\n",
    "\n",
    "    shap_values += shap.TreeExplainer(bst).shap_values(new_train.values)/n_splits"
   ]
  },
  {
   "cell_type": "code",
   "execution_count": 23,
   "metadata": {},
   "outputs": [
    {
     "data": {
      "image/png": "[encoded data removed]",
      "text/plain": [
       "<Figure size 576x396 with 2 Axes>"
      ]
     },
     "metadata": {},
     "output_type": "display_data"
    }
   ],
   "source": [
    "shap.summary_plot(shap_values, train_data, max_display=10, plot_type='dot')"
   ]
  },
  {
   "cell_type": "code",
   "execution_count": 24,
   "metadata": {},
   "outputs": [],
   "source": [
    "N = 150\n",
    "sorted_columns = np.argsort(np.sum(np.abs(shap_values), axis=0)[:-1])[::-1]\n",
    "most_relevant = train_data.columns[sorted_columns[:N]]"
   ]
  },
  {
   "cell_type": "code",
   "execution_count": 25,
   "metadata": {},
   "outputs": [],
   "source": [
    "union_cols = list(set(most_relevant)|set(cols_leak))\n",
    "#diff_cols = list(set(most_relevant)-set(cols_leak))"
   ]
  },
  {
   "cell_type": "code",
   "execution_count": 26,
   "metadata": {},
   "outputs": [],
   "source": [
    "feat_train = train_data[union_cols]\n",
    "feat_test = test_data[union_cols]"
   ]
  },
  {
   "cell_type": "code",
   "execution_count": 27,
   "metadata": {},
   "outputs": [],
   "source": [
    "feat_train = feat_train[feat_train.isna().sum().sort_values().index.values]\n",
    "feat_test = feat_test[feat_train.isna().sum().sort_values().index.values]"
   ]
  },
  {
   "cell_type": "markdown",
   "metadata": {},
   "source": [
    "#### Assembly"
   ]
  },
  {
   "cell_type": "code",
   "execution_count": 28,
   "metadata": {},
   "outputs": [],
   "source": [
    "train_final = np.hstack((feat_train.values, stat_train.values))\n",
    "test_final = np.hstack((feat_test.values, stat_test.values))"
   ]
  },
  {
   "cell_type": "code",
   "execution_count": 29,
   "metadata": {},
   "outputs": [
    {
     "name": "stdout",
     "output_type": "stream",
     "text": [
      "Final number of features: 225\n"
     ]
    }
   ],
   "source": [
    "print('Final number of features: %i' % train_final.shape[1])"
   ]
  },
  {
   "cell_type": "markdown",
   "metadata": {},
   "source": [
    "### before anything, grid search\n",
    "\n",
    "#### xgb\n",
    "\n",
    "params before:\n",
    "{'learning_rate':0.1, 'colsample_bytree': .04, 'eval_metric':'rmse', 'lambda': 3., 'alpha': 0.03}\n",
    "\n",
    "params now:\n",
    "{'learning_rate':0.003, 'colsample_bytree': .75, 'eval_metric':'rmse', 'lambda': 0.0004, 'alpha': 0., 'min_child_weight': 4, 'subsample': 0.15}"
   ]
  },
  {
   "cell_type": "code",
   "execution_count": null,
   "metadata": {
    "collapsed": true
   },
   "outputs": [],
   "source": [
    "from sklearn.model_selection import GridSearchCV"
   ]
  },
  {
   "cell_type": "code",
   "execution_count": null,
   "metadata": {
    "collapsed": true
   },
   "outputs": [],
   "source": [
    "cv_params = {'learning_rate': [0.003]}\n",
    "ind_params = {'num_boost_round': 6000, 'colsample_bytree': 0.75, 'min_child_weight': 4, 'reg_alpha': 0.,\n",
    "             'subsample': 0.15, 'reg_lambda': 0.0004}"
   ]
  },
  {
   "cell_type": "code",
   "execution_count": null,
   "metadata": {
    "collapsed": true
   },
   "outputs": [],
   "source": [
    "optimized_GBM = GridSearchCV(xgb.XGBRegressor(**ind_params), cv_params, scoring = 'neg_mean_squared_error', cv = 5, n_jobs = -1,\n",
    "                            verbose=1)"
   ]
  },
  {
   "cell_type": "code",
   "execution_count": null,
   "metadata": {
    "collapsed": true
   },
   "outputs": [],
   "source": [
    "optimized_GBM.fit(train_final, log_target)"
   ]
  },
  {
   "cell_type": "code",
   "execution_count": null,
   "metadata": {
    "collapsed": true
   },
   "outputs": [],
   "source": [
    "optimized_GBM.best_params_"
   ]
  },
  {
   "cell_type": "markdown",
   "metadata": {},
   "source": [
    "#### lgb\n",
    "\n",
    "params before:\n",
    "{'learning_rate':0.001, 'lambda_l2': 0.05, 'feature_fraction': 0.075, 'lambda_l1': 0.01}\n",
    "\n",
    "params now:\n",
    "{'learning_rate':0.002, 'lambda_l2': 0.1, 'feature_fraction': 0.1, 'lambda_l1': 0.002}}"
   ]
  },
  {
   "cell_type": "code",
   "execution_count": null,
   "metadata": {
    "collapsed": true
   },
   "outputs": [],
   "source": [
    "cv_params = {'learning_rate': [0.002], 'lambda_l2': [0.1], 'feature_fraction': [0.08, 0.1,0.12],\n",
    "             'lambda_l1': [0.002]}"
   ]
  },
  {
   "cell_type": "code",
   "execution_count": null,
   "metadata": {
    "collapsed": true
   },
   "outputs": [],
   "source": [
    "def crossvaltest(params,n_splits=5):\n",
    "    kf = KFold(n_splits=n_splits,shuffle=True) \n",
    "    res = []\n",
    "    for train_index, test_index in kf.split(train_final):\n",
    "        X_tr, X_tst = train_final[train_index], train_final[test_index]\n",
    "        y_tr, y_tst = log_target[train_index], log_target[test_index]\n",
    "\n",
    "        train_set = lgb.Dataset(X_tr, label=y_tr)\n",
    "        valid_set = lgb.Dataset(X_tst, label=y_tst, reference=train_set)\n",
    "\n",
    "        bst = lgb.train(params, train_set, num_boost_round=7500, valid_sets=[train_set, valid_set], early_stopping_rounds=500, \n",
    "                        verbose_eval=1000)\n",
    "\n",
    "        y_val = bst.predict(X_tst, num_iteration=bst.best_iteration)\n",
    "\n",
    "        rmsle = np.sqrt(mean_squared_error(y_tst, y_val))\n",
    "\n",
    "        res.append(rmsle)\n",
    "    return np.mean(res)"
   ]
  },
  {
   "cell_type": "code",
   "execution_count": null,
   "metadata": {
    "collapsed": true
   },
   "outputs": [],
   "source": [
    "from itertools import product\n",
    "\n",
    "def param_tune(n_splits=5):\n",
    "    score = ('nothing', 3.)\n",
    "    for prms in product(cv_params['learning_rate'],\n",
    "                      cv_params['lambda_l2'],\n",
    "                      cv_params['feature_fraction'],\n",
    "                      cv_params['lambda_l1']):\n",
    "        params = {'metric': 'rmse', 'learning_rate': prms[0], 'lambda_l2': prms[1], 'feature_fraction': prms[2],\n",
    "                  'lambda_l1': prms[3]}\n",
    "        res = crossvaltest(params,n_splits)\n",
    "        # save the crossvalidation result so that future iterations can reuse the best parameters\n",
    "        print(res)\n",
    "        if res<score[1]:\n",
    "            score = (str(params), res)\n",
    "    return score"
   ]
  },
  {
   "cell_type": "code",
   "execution_count": null,
   "metadata": {
    "collapsed": true
   },
   "outputs": [],
   "source": [
    "bestpar = param_tune()"
   ]
  },
  {
   "cell_type": "code",
   "execution_count": null,
   "metadata": {
    "collapsed": true
   },
   "outputs": [],
   "source": [
    "bestpar"
   ]
  },
  {
   "cell_type": "markdown",
   "metadata": {},
   "source": [
    "#### cb\n",
    "\n",
    "params before:\n",
    "{'eta':0.01, 'l2_leaf_reg: 3, 'border_count': 32, 'depth': 5}\n",
    "\n",
    "params now:\n",
    "{'learning_rate':0.01, 'l2_leaf_reg': 8, 'border_count': 45, 'depth': 5}}"
   ]
  },
  {
   "cell_type": "code",
   "execution_count": null,
   "metadata": {
    "collapsed": true
   },
   "outputs": [],
   "source": [
    "cv_params = {'eta': [0.01], 'l2_leaf_reg':[8], 'border_count':[45], 'depth': [5]}"
   ]
  },
  {
   "cell_type": "code",
   "execution_count": null,
   "metadata": {
    "collapsed": true
   },
   "outputs": [],
   "source": [
    "def crossvaltest(params,n_splits=5):\n",
    "    kf = KFold(n_splits=n_splits,shuffle=True) \n",
    "    res = []\n",
    "    for train_index, test_index in kf.split(train_final):\n",
    "        X_tr, X_tst = train_final[train_index], train_final[test_index]\n",
    "        y_tr, y_tst = log_target[train_index], log_target[test_index]\n",
    "\n",
    "        bst = cb.CatBoostRegressor(eta=params[0], l2_leaf_reg=params[1], border_count=params[2], iterations=7500,\n",
    "                                   loss_function='RMSE', eval_metric='RMSE', depth=params[3])\n",
    "    \n",
    "        bst.fit(X_tr, y_tr, use_best_model=True, eval_set=(X_tst, y_tst), verbose=False)\n",
    "\n",
    "        y_val = bst.predict(X_tst)\n",
    "\n",
    "        rmsle = np.sqrt(mean_squared_error(y_tst, y_val))\n",
    "\n",
    "        res.append(rmsle)\n",
    "    return np.mean(res)"
   ]
  },
  {
   "cell_type": "code",
   "execution_count": null,
   "metadata": {
    "collapsed": true
   },
   "outputs": [],
   "source": [
    "from itertools import product\n",
    "\n",
    "def param_tune(n_splits=5):\n",
    "    score = ('nothing', 3.)\n",
    "    for prms in product(cv_params['eta'],\n",
    "                      cv_params['l2_leaf_reg'],\n",
    "                      cv_params['border_count'],\n",
    "                      cv_params['depth']):\n",
    "        res = crossvaltest(prms,n_splits)\n",
    "        # save the crossvalidation result so that future iterations can reuse the best parameters\n",
    "        print(res)\n",
    "        if res<score[1]:\n",
    "            score = (str(prms), res)\n",
    "    return score"
   ]
  },
  {
   "cell_type": "code",
   "execution_count": null,
   "metadata": {
    "collapsed": true,
    "scrolled": false
   },
   "outputs": [],
   "source": [
    "bestpar = param_tune()"
   ]
  },
  {
   "cell_type": "code",
   "execution_count": null,
   "metadata": {
    "collapsed": true
   },
   "outputs": [],
   "source": [
    "bestpar"
   ]
  },
  {
   "cell_type": "markdown",
   "metadata": {},
   "source": [
    "### oof train+test"
   ]
  },
  {
   "cell_type": "code",
   "execution_count": 30,
   "metadata": {},
   "outputs": [],
   "source": [
    "train_df = pd.DataFrame.from_dict({'ID': train_ID})\n",
    "test_df = pd.DataFrame.from_dict({'ID': test_ID})"
   ]
  },
  {
   "cell_type": "code",
   "execution_count": 31,
   "metadata": {},
   "outputs": [],
   "source": [
    "def lgbCV(ooftrain, ooftest, n_folds=5, multiplier=10):\n",
    "    params = {'boosting': 'gbdt', 'objective':'regression', 'learning_rate':0.002, 'metric':'rmse', 'max_bin':63, \n",
    "              'lambda_l2': 0.1, 'device':'cpu', 'feature_fraction': 0.1, 'lambda_l1': 0.002}\n",
    "    for i in range(multiplier):\n",
    "        ooftrain['lgb_'+str(i)] = np.zeros(train_ID.shape[0])\n",
    "        ooftest['lgb_'+str(i)] = np.zeros(test_ID.shape[0])\n",
    "        kf = KFold(n_splits=n_folds,shuffle=True)\n",
    "        res = []\n",
    "        for train_index, test_index in kf.split(train_final):\n",
    "            X_tr, X_tst = train_final[train_index], train_final[test_index]\n",
    "            y_tr, y_tst = log_target[train_index], log_target[test_index]\n",
    "\n",
    "            train_set = lgb.Dataset(X_tr, label=y_tr)\n",
    "            valid_set = lgb.Dataset(X_tst, label=y_tst, reference=train_set)\n",
    "\n",
    "            bst = lgb.train(params, train_set, num_boost_round=7500, valid_sets=[train_set, valid_set],\n",
    "                            early_stopping_rounds=500, verbose_eval=False)\n",
    "\n",
    "            y_val = bst.predict(X_tst, num_iteration=bst.best_iteration)\n",
    "\n",
    "            rmsle = np.sqrt(mean_squared_error(y_tst, y_val))\n",
    "            \n",
    "            res.append(rmsle)\n",
    "            \n",
    "            ooftrain['lgb_'+str(i)][test_index] = np.expm1(y_val)\n",
    "    \n",
    "            ooftest['lgb_'+str(i)] = ooftest['lgb_'+str(i)] + np.expm1(bst.predict(test_final, \n",
    "                                                                                   num_iteration=bst.best_iteration))/n_folds\n",
    "\n",
    "        print(np.mean(res))\n",
    "    return"
   ]
  },
  {
   "cell_type": "code",
   "execution_count": 32,
   "metadata": {},
   "outputs": [],
   "source": [
    "def xgbCV(ooftrain, ooftest, n_folds=5, multiplier=10):\n",
    "    params = {'booster': 'gbtree', 'learning_rate':0.003, 'colsample_bytree': .75, 'eval_metric':'rmse', 'lambda': 0.0004,\n",
    "              'alpha': 0., 'min_child_weight': 4, 'subsample': 0.15}\n",
    "    test_set = xgb.DMatrix(test_final)\n",
    "    for i in range(multiplier):\n",
    "        ooftrain['xgb_'+str(i)] = np.zeros(train_ID.shape[0])\n",
    "        ooftest['xgb_'+str(i)] = np.zeros(test_ID.shape[0])\n",
    "        kf = KFold(n_splits=n_folds,shuffle=True)\n",
    "        res = []\n",
    "        for train_index, test_index in kf.split(train_final):\n",
    "            X_tr, X_tst = train_final[train_index], train_final[test_index]\n",
    "            y_tr, y_tst = log_target[train_index], log_target[test_index]\n",
    "\n",
    "            train_set = xgb.DMatrix(X_tr, label=y_tr)\n",
    "            valid_set = xgb.DMatrix(X_tst, label=y_tst)\n",
    "\n",
    "            bst = xgb.train(params, train_set, num_boost_round=20000, evals=[(train_set, 'train'), (valid_set, 'val')],\n",
    "                            early_stopping_rounds=500, verbose_eval=False)\n",
    "\n",
    "            y_val = bst.predict(valid_set, ntree_limit=bst.best_ntree_limit)\n",
    "\n",
    "            rmsle = np.sqrt(mean_squared_error(y_tst, y_val))\n",
    "            \n",
    "            res.append(rmsle)\n",
    "            \n",
    "            ooftrain['xgb_'+str(i)][test_index] = np.expm1(y_val)\n",
    "    \n",
    "            ooftest['xgb_'+str(i)] = ooftest['xgb_'+str(i)] + np.expm1(bst.predict(test_set,\n",
    "                                                                                     ntree_limit=bst.best_ntree_limit))/n_folds\n",
    "\n",
    "        print(np.mean(res))\n",
    "    return"
   ]
  },
  {
   "cell_type": "code",
   "execution_count": 33,
   "metadata": {},
   "outputs": [],
   "source": [
    "def cbCV(ooftrain, ooftest, n_folds=5, multiplier=10):\n",
    "    for i in range(multiplier):\n",
    "        ooftrain['cb_'+str(i)] = np.zeros(train_ID.shape[0])\n",
    "        ooftest['cb_'+str(i)] = np.zeros(test_ID.shape[0])\n",
    "        kf = KFold(n_splits=n_folds,shuffle=True)\n",
    "        res = []\n",
    "        for train_index, test_index in kf.split(train_final):\n",
    "            X_tr, X_tst = train_final[train_index], train_final[test_index]\n",
    "            y_tr, y_tst = log_target[train_index], log_target[test_index]\n",
    "\n",
    "            bst = cb.CatBoostRegressor(eta=0.01, l2_leaf_reg=8, border_count=45, iterations=7500,\n",
    "                                       loss_function='RMSE', eval_metric='RMSE', depth=5)\n",
    "    \n",
    "            bst.fit(X_tr, y_tr, use_best_model=True, eval_set=(X_tst, y_tst), verbose=False)\n",
    "\n",
    "            y_val = bst.predict(X_tst)\n",
    "\n",
    "            rmsle = np.sqrt(mean_squared_error(y_tst, y_val))\n",
    "            \n",
    "            res.append(rmsle)\n",
    "            \n",
    "            ooftrain['cb_'+str(i)][test_index] = np.expm1(y_val)\n",
    "    \n",
    "            ooftest['cb_'+str(i)] = ooftest['cb_'+str(i)] + np.expm1(bst.predict(test_final))/n_folds\n",
    "\n",
    "        print(np.mean(res))\n",
    "    return"
   ]
  },
  {
   "cell_type": "code",
   "execution_count": 34,
   "metadata": {},
   "outputs": [
    {
     "name": "stdout",
     "output_type": "stream",
     "text": [
      "1.3312689020183046\n",
      "1.3369216363768246\n",
      "1.331645764293455\n",
      "1.3261778246213567\n",
      "1.3332382440392152\n",
      "1.3306893003563571\n",
      "1.332401401679239\n",
      "1.3359750931452898\n",
      "1.3263152301547088\n",
      "1.3294557529602913\n"
     ]
    }
   ],
   "source": [
    "lgbCV(train_df,test_df)"
   ]
  },
  {
   "cell_type": "code",
   "execution_count": 35,
   "metadata": {},
   "outputs": [
    {
     "name": "stdout",
     "output_type": "stream",
     "text": [
      "1.3394850135083856\n",
      "1.340642637732085\n",
      "1.3484433730838632\n",
      "1.339881136499843\n",
      "1.3413718013839646\n",
      "1.3424023025564051\n",
      "1.3389333055183044\n",
      "1.3438799197195288\n",
      "1.345059880754065\n",
      "1.3430150503496492\n"
     ]
    }
   ],
   "source": [
    "xgbCV(train_df,test_df)"
   ]
  },
  {
   "cell_type": "code",
   "execution_count": 36,
   "metadata": {},
   "outputs": [
    {
     "name": "stdout",
     "output_type": "stream",
     "text": [
      "1.3468224530158586\n",
      "1.34473844607654\n",
      "1.3422515827503938\n",
      "1.3474088149921943\n",
      "1.3412714257931964\n",
      "1.3455116393693003\n",
      "1.3419546755774403\n",
      "1.3465892331701392\n",
      "1.3459014013514985\n",
      "1.342424996031792\n"
     ]
    }
   ],
   "source": [
    "cbCV(train_df,test_df)"
   ]
  },
  {
   "cell_type": "code",
   "execution_count": 37,
   "metadata": {},
   "outputs": [
    {
     "data": {
      "text/html": [
       "<div>\n",
       "<style scoped>\n",
       "    .dataframe tbody tr th:only-of-type {\n",
       "        vertical-align: middle;\n",
       "    }\n",
       "\n",
       "    .dataframe tbody tr th {\n",
       "        vertical-align: top;\n",
       "    }\n",
       "\n",
       "    .dataframe thead th {\n",
       "        text-align: right;\n",
       "    }\n",
       "</style>\n",
       "<table border=\"1\" class=\"dataframe\">\n",
       "  <thead>\n",
       "    <tr style=\"text-align: right;\">\n",
       "      <th></th>\n",
       "      <th>ID</th>\n",
       "      <th>lgb_0</th>\n",
       "      <th>lgb_1</th>\n",
       "      <th>lgb_2</th>\n",
       "      <th>lgb_3</th>\n",
       "      <th>lgb_4</th>\n",
       "      <th>lgb_5</th>\n",
       "      <th>lgb_6</th>\n",
       "      <th>lgb_7</th>\n",
       "      <th>lgb_8</th>\n",
       "      <th>...</th>\n",
       "      <th>cb_0</th>\n",
       "      <th>cb_1</th>\n",
       "      <th>cb_2</th>\n",
       "      <th>cb_3</th>\n",
       "      <th>cb_4</th>\n",
       "      <th>cb_5</th>\n",
       "      <th>cb_6</th>\n",
       "      <th>cb_7</th>\n",
       "      <th>cb_8</th>\n",
       "      <th>cb_9</th>\n",
       "    </tr>\n",
       "  </thead>\n",
       "  <tbody>\n",
       "    <tr>\n",
       "      <th>0</th>\n",
       "      <td>000d6aaf2</td>\n",
       "      <td>2443.989237</td>\n",
       "      <td>2670.423649</td>\n",
       "      <td>2270.088300</td>\n",
       "      <td>2052.841811</td>\n",
       "      <td>2262.585018</td>\n",
       "      <td>2167.449745</td>\n",
       "      <td>2453.364063</td>\n",
       "      <td>2416.767426</td>\n",
       "      <td>2727.913587</td>\n",
       "      <td>...</td>\n",
       "      <td>2834.150261</td>\n",
       "      <td>2530.986057</td>\n",
       "      <td>2953.019000</td>\n",
       "      <td>3108.757535</td>\n",
       "      <td>2700.513517</td>\n",
       "      <td>3123.380601</td>\n",
       "      <td>3089.223890</td>\n",
       "      <td>2731.421142</td>\n",
       "      <td>3373.954603</td>\n",
       "      <td>2706.944588</td>\n",
       "    </tr>\n",
       "    <tr>\n",
       "      <th>1</th>\n",
       "      <td>000fbd867</td>\n",
       "      <td>3047.382614</td>\n",
       "      <td>3557.194804</td>\n",
       "      <td>3181.242457</td>\n",
       "      <td>3150.765183</td>\n",
       "      <td>2988.669645</td>\n",
       "      <td>3170.073748</td>\n",
       "      <td>3139.065015</td>\n",
       "      <td>3491.409845</td>\n",
       "      <td>2753.003494</td>\n",
       "      <td>...</td>\n",
       "      <td>4302.240825</td>\n",
       "      <td>3855.948239</td>\n",
       "      <td>3617.611522</td>\n",
       "      <td>3764.085373</td>\n",
       "      <td>3321.427088</td>\n",
       "      <td>3415.185342</td>\n",
       "      <td>3099.586495</td>\n",
       "      <td>3424.988735</td>\n",
       "      <td>3075.633986</td>\n",
       "      <td>3875.059032</td>\n",
       "    </tr>\n",
       "    <tr>\n",
       "      <th>2</th>\n",
       "      <td>0027d6b71</td>\n",
       "      <td>2387.734883</td>\n",
       "      <td>2625.061776</td>\n",
       "      <td>2824.739397</td>\n",
       "      <td>2778.946141</td>\n",
       "      <td>2375.506266</td>\n",
       "      <td>2476.315128</td>\n",
       "      <td>2740.639277</td>\n",
       "      <td>2438.131316</td>\n",
       "      <td>2355.831340</td>\n",
       "      <td>...</td>\n",
       "      <td>2515.603512</td>\n",
       "      <td>2251.642231</td>\n",
       "      <td>2381.913050</td>\n",
       "      <td>2308.421338</td>\n",
       "      <td>2824.808421</td>\n",
       "      <td>1853.078391</td>\n",
       "      <td>2372.428650</td>\n",
       "      <td>2070.507471</td>\n",
       "      <td>2121.925004</td>\n",
       "      <td>2387.223268</td>\n",
       "    </tr>\n",
       "    <tr>\n",
       "      <th>3</th>\n",
       "      <td>0028cbf45</td>\n",
       "      <td>794.538534</td>\n",
       "      <td>994.468188</td>\n",
       "      <td>666.711836</td>\n",
       "      <td>858.139913</td>\n",
       "      <td>800.910641</td>\n",
       "      <td>907.453220</td>\n",
       "      <td>772.531547</td>\n",
       "      <td>952.729701</td>\n",
       "      <td>942.949060</td>\n",
       "      <td>...</td>\n",
       "      <td>1082.525236</td>\n",
       "      <td>761.529652</td>\n",
       "      <td>864.603772</td>\n",
       "      <td>765.376492</td>\n",
       "      <td>907.266617</td>\n",
       "      <td>794.358866</td>\n",
       "      <td>860.346758</td>\n",
       "      <td>773.823805</td>\n",
       "      <td>897.765588</td>\n",
       "      <td>879.504465</td>\n",
       "    </tr>\n",
       "    <tr>\n",
       "      <th>4</th>\n",
       "      <td>002a68644</td>\n",
       "      <td>3152.055650</td>\n",
       "      <td>3416.403142</td>\n",
       "      <td>3809.980399</td>\n",
       "      <td>3352.825697</td>\n",
       "      <td>3278.282077</td>\n",
       "      <td>3492.012594</td>\n",
       "      <td>3548.185944</td>\n",
       "      <td>3542.271579</td>\n",
       "      <td>3758.285158</td>\n",
       "      <td>...</td>\n",
       "      <td>3207.749720</td>\n",
       "      <td>3094.607780</td>\n",
       "      <td>2771.458825</td>\n",
       "      <td>2799.970431</td>\n",
       "      <td>2924.291852</td>\n",
       "      <td>2357.856774</td>\n",
       "      <td>3146.500333</td>\n",
       "      <td>3109.498414</td>\n",
       "      <td>2710.730021</td>\n",
       "      <td>2895.752365</td>\n",
       "    </tr>\n",
       "  </tbody>\n",
       "</table>\n",
       "<p>5 rows × 31 columns</p>\n",
       "</div>"
      ],
      "text/plain": [
       "          ID        lgb_0        lgb_1        lgb_2        lgb_3        lgb_4  \\\n",
       "0  000d6aaf2  2443.989237  2670.423649  2270.088300  2052.841811  2262.585018   \n",
       "1  000fbd867  3047.382614  3557.194804  3181.242457  3150.765183  2988.669645   \n",
       "2  0027d6b71  2387.734883  2625.061776  2824.739397  2778.946141  2375.506266   \n",
       "3  0028cbf45   794.538534   994.468188   666.711836   858.139913   800.910641   \n",
       "4  002a68644  3152.055650  3416.403142  3809.980399  3352.825697  3278.282077   \n",
       "\n",
       "         lgb_5        lgb_6        lgb_7        lgb_8     ...       \\\n",
       "0  2167.449745  2453.364063  2416.767426  2727.913587     ...        \n",
       "1  3170.073748  3139.065015  3491.409845  2753.003494     ...        \n",
       "2  2476.315128  2740.639277  2438.131316  2355.831340     ...        \n",
       "3   907.453220   772.531547   952.729701   942.949060     ...        \n",
       "4  3492.012594  3548.185944  3542.271579  3758.285158     ...        \n",
       "\n",
       "          cb_0         cb_1         cb_2         cb_3         cb_4  \\\n",
       "0  2834.150261  2530.986057  2953.019000  3108.757535  2700.513517   \n",
       "1  4302.240825  3855.948239  3617.611522  3764.085373  3321.427088   \n",
       "2  2515.603512  2251.642231  2381.913050  2308.421338  2824.808421   \n",
       "3  1082.525236   761.529652   864.603772   765.376492   907.266617   \n",
       "4  3207.749720  3094.607780  2771.458825  2799.970431  2924.291852   \n",
       "\n",
       "          cb_5         cb_6         cb_7         cb_8         cb_9  \n",
       "0  3123.380601  3089.223890  2731.421142  3373.954603  2706.944588  \n",
       "1  3415.185342  3099.586495  3424.988735  3075.633986  3875.059032  \n",
       "2  1853.078391  2372.428650  2070.507471  2121.925004  2387.223268  \n",
       "3   794.358866   860.346758   773.823805   897.765588   879.504465  \n",
       "4  2357.856774  3146.500333  3109.498414  2710.730021  2895.752365  \n",
       "\n",
       "[5 rows x 31 columns]"
      ]
     },
     "execution_count": 37,
     "metadata": {},
     "output_type": "execute_result"
    }
   ],
   "source": [
    "train_df.head()"
   ]
  },
  {
   "cell_type": "code",
   "execution_count": 38,
   "metadata": {},
   "outputs": [
    {
     "data": {
      "text/html": [
       "<div>\n",
       "<style scoped>\n",
       "    .dataframe tbody tr th:only-of-type {\n",
       "        vertical-align: middle;\n",
       "    }\n",
       "\n",
       "    .dataframe tbody tr th {\n",
       "        vertical-align: top;\n",
       "    }\n",
       "\n",
       "    .dataframe thead th {\n",
       "        text-align: right;\n",
       "    }\n",
       "</style>\n",
       "<table border=\"1\" class=\"dataframe\">\n",
       "  <thead>\n",
       "    <tr style=\"text-align: right;\">\n",
       "      <th></th>\n",
       "      <th>ID</th>\n",
       "      <th>lgb_0</th>\n",
       "      <th>lgb_1</th>\n",
       "      <th>lgb_2</th>\n",
       "      <th>lgb_3</th>\n",
       "      <th>lgb_4</th>\n",
       "      <th>lgb_5</th>\n",
       "      <th>lgb_6</th>\n",
       "      <th>lgb_7</th>\n",
       "      <th>lgb_8</th>\n",
       "      <th>...</th>\n",
       "      <th>cb_0</th>\n",
       "      <th>cb_1</th>\n",
       "      <th>cb_2</th>\n",
       "      <th>cb_3</th>\n",
       "      <th>cb_4</th>\n",
       "      <th>cb_5</th>\n",
       "      <th>cb_6</th>\n",
       "      <th>cb_7</th>\n",
       "      <th>cb_8</th>\n",
       "      <th>cb_9</th>\n",
       "    </tr>\n",
       "  </thead>\n",
       "  <tbody>\n",
       "    <tr>\n",
       "      <th>0</th>\n",
       "      <td>000137c73</td>\n",
       "      <td>2108.617860</td>\n",
       "      <td>2091.993509</td>\n",
       "      <td>2066.323586</td>\n",
       "      <td>2160.928159</td>\n",
       "      <td>2020.037656</td>\n",
       "      <td>2074.071534</td>\n",
       "      <td>2141.055330</td>\n",
       "      <td>2115.442800</td>\n",
       "      <td>2160.793330</td>\n",
       "      <td>...</td>\n",
       "      <td>1637.391108</td>\n",
       "      <td>1627.924375</td>\n",
       "      <td>1874.137464</td>\n",
       "      <td>1649.856093</td>\n",
       "      <td>1718.613457</td>\n",
       "      <td>1969.594948</td>\n",
       "      <td>2070.855959</td>\n",
       "      <td>1801.576023</td>\n",
       "      <td>1526.853953</td>\n",
       "      <td>1614.523689</td>\n",
       "    </tr>\n",
       "    <tr>\n",
       "      <th>1</th>\n",
       "      <td>00021489f</td>\n",
       "      <td>1814.485345</td>\n",
       "      <td>1730.380730</td>\n",
       "      <td>1732.363449</td>\n",
       "      <td>1790.250907</td>\n",
       "      <td>1787.021790</td>\n",
       "      <td>1765.716296</td>\n",
       "      <td>1773.606759</td>\n",
       "      <td>1839.740891</td>\n",
       "      <td>1793.623062</td>\n",
       "      <td>...</td>\n",
       "      <td>2113.334166</td>\n",
       "      <td>1819.295271</td>\n",
       "      <td>2100.863081</td>\n",
       "      <td>2033.594231</td>\n",
       "      <td>2120.148786</td>\n",
       "      <td>2421.836198</td>\n",
       "      <td>2317.494119</td>\n",
       "      <td>2045.175613</td>\n",
       "      <td>1865.539526</td>\n",
       "      <td>1933.943437</td>\n",
       "    </tr>\n",
       "    <tr>\n",
       "      <th>2</th>\n",
       "      <td>0004d7953</td>\n",
       "      <td>1941.195573</td>\n",
       "      <td>1913.528053</td>\n",
       "      <td>1918.502247</td>\n",
       "      <td>1956.773888</td>\n",
       "      <td>1960.055608</td>\n",
       "      <td>1921.126404</td>\n",
       "      <td>1913.108317</td>\n",
       "      <td>1975.615429</td>\n",
       "      <td>2003.972866</td>\n",
       "      <td>...</td>\n",
       "      <td>1851.230360</td>\n",
       "      <td>1840.857181</td>\n",
       "      <td>1855.167950</td>\n",
       "      <td>1858.601337</td>\n",
       "      <td>1798.619734</td>\n",
       "      <td>1824.315034</td>\n",
       "      <td>1824.292975</td>\n",
       "      <td>1830.578330</td>\n",
       "      <td>1856.714126</td>\n",
       "      <td>1807.811087</td>\n",
       "    </tr>\n",
       "    <tr>\n",
       "      <th>3</th>\n",
       "      <td>00056a333</td>\n",
       "      <td>5048.213215</td>\n",
       "      <td>5000.362706</td>\n",
       "      <td>4987.926487</td>\n",
       "      <td>5373.030379</td>\n",
       "      <td>5048.809908</td>\n",
       "      <td>4983.530832</td>\n",
       "      <td>5309.750673</td>\n",
       "      <td>5066.867213</td>\n",
       "      <td>5444.354377</td>\n",
       "      <td>...</td>\n",
       "      <td>4551.050865</td>\n",
       "      <td>4561.362549</td>\n",
       "      <td>4686.418553</td>\n",
       "      <td>4672.005803</td>\n",
       "      <td>4878.592192</td>\n",
       "      <td>4709.060932</td>\n",
       "      <td>4200.912472</td>\n",
       "      <td>4453.589721</td>\n",
       "      <td>4944.653022</td>\n",
       "      <td>4220.119499</td>\n",
       "    </tr>\n",
       "    <tr>\n",
       "      <th>4</th>\n",
       "      <td>00056d8eb</td>\n",
       "      <td>2175.440725</td>\n",
       "      <td>2202.488435</td>\n",
       "      <td>2208.552650</td>\n",
       "      <td>2240.526784</td>\n",
       "      <td>2294.934206</td>\n",
       "      <td>2267.575114</td>\n",
       "      <td>2237.749713</td>\n",
       "      <td>2248.780575</td>\n",
       "      <td>2179.826917</td>\n",
       "      <td>...</td>\n",
       "      <td>2281.611252</td>\n",
       "      <td>2420.691793</td>\n",
       "      <td>2403.004807</td>\n",
       "      <td>2294.576606</td>\n",
       "      <td>2296.568352</td>\n",
       "      <td>2399.544147</td>\n",
       "      <td>2512.313171</td>\n",
       "      <td>2420.336370</td>\n",
       "      <td>2346.538844</td>\n",
       "      <td>2311.801377</td>\n",
       "    </tr>\n",
       "  </tbody>\n",
       "</table>\n",
       "<p>5 rows × 31 columns</p>\n",
       "</div>"
      ],
      "text/plain": [
       "          ID        lgb_0        lgb_1        lgb_2        lgb_3        lgb_4  \\\n",
       "0  000137c73  2108.617860  2091.993509  2066.323586  2160.928159  2020.037656   \n",
       "1  00021489f  1814.485345  1730.380730  1732.363449  1790.250907  1787.021790   \n",
       "2  0004d7953  1941.195573  1913.528053  1918.502247  1956.773888  1960.055608   \n",
       "3  00056a333  5048.213215  5000.362706  4987.926487  5373.030379  5048.809908   \n",
       "4  00056d8eb  2175.440725  2202.488435  2208.552650  2240.526784  2294.934206   \n",
       "\n",
       "         lgb_5        lgb_6        lgb_7        lgb_8     ...       \\\n",
       "0  2074.071534  2141.055330  2115.442800  2160.793330     ...        \n",
       "1  1765.716296  1773.606759  1839.740891  1793.623062     ...        \n",
       "2  1921.126404  1913.108317  1975.615429  2003.972866     ...        \n",
       "3  4983.530832  5309.750673  5066.867213  5444.354377     ...        \n",
       "4  2267.575114  2237.749713  2248.780575  2179.826917     ...        \n",
       "\n",
       "          cb_0         cb_1         cb_2         cb_3         cb_4  \\\n",
       "0  1637.391108  1627.924375  1874.137464  1649.856093  1718.613457   \n",
       "1  2113.334166  1819.295271  2100.863081  2033.594231  2120.148786   \n",
       "2  1851.230360  1840.857181  1855.167950  1858.601337  1798.619734   \n",
       "3  4551.050865  4561.362549  4686.418553  4672.005803  4878.592192   \n",
       "4  2281.611252  2420.691793  2403.004807  2294.576606  2296.568352   \n",
       "\n",
       "          cb_5         cb_6         cb_7         cb_8         cb_9  \n",
       "0  1969.594948  2070.855959  1801.576023  1526.853953  1614.523689  \n",
       "1  2421.836198  2317.494119  2045.175613  1865.539526  1933.943437  \n",
       "2  1824.315034  1824.292975  1830.578330  1856.714126  1807.811087  \n",
       "3  4709.060932  4200.912472  4453.589721  4944.653022  4220.119499  \n",
       "4  2399.544147  2512.313171  2420.336370  2346.538844  2311.801377  \n",
       "\n",
       "[5 rows x 31 columns]"
      ]
     },
     "execution_count": 38,
     "metadata": {},
     "output_type": "execute_result"
    }
   ],
   "source": [
    "test_df.head()"
   ]
  },
  {
   "cell_type": "code",
   "execution_count": 2,
   "metadata": {},
   "outputs": [],
   "source": [
    "#train_df.to_csv('../submission_files/leak/oof/train_df_190f_10x5fold.csv', index=False)\n",
    "#test_df.to_csv('../submission_files/leak/oof/test_df_190f_10x5fold.csv', index=False)\n",
    "train_df = pd.read_csv('../submission_files/leak/oof/train_df_sumf_pc_10x5fold.csv')\n",
    "test_df = pd.read_csv('../submission_files/leak/oof/test_df_sumf_pc_10x5fold.csv')"
   ]
  },
  {
   "cell_type": "code",
   "execution_count": 3,
   "metadata": {},
   "outputs": [],
   "source": [
    "train_df = train_df.drop(['ID'], axis=1)\n",
    "test_df = test_df.drop(['ID'], axis=1)"
   ]
  },
  {
   "cell_type": "code",
   "execution_count": 4,
   "metadata": {},
   "outputs": [],
   "source": [
    "#train_df = train_df[train_df.columns[:10]]\n",
    "#test_df = test_df[test_df.columns[:10]]"
   ]
  },
  {
   "cell_type": "code",
   "execution_count": 5,
   "metadata": {},
   "outputs": [],
   "source": [
    "#train_df2 = np.hstack((train_df.values, stat_train.values))#, stat_train2.values))\n",
    "#test_df2 = np.hstack((test_df.values, stat_test.values))#, stat_test2.values))\n",
    "train_df2 = train_df.values\n",
    "test_df2 = test_df.values"
   ]
  },
  {
   "cell_type": "code",
   "execution_count": 6,
   "metadata": {},
   "outputs": [
    {
     "data": {
      "text/plain": [
       "(4459, 30)"
      ]
     },
     "execution_count": 6,
     "metadata": {},
     "output_type": "execute_result"
    }
   ],
   "source": [
    "train_df2.shape"
   ]
  },
  {
   "cell_type": "markdown",
   "metadata": {},
   "source": [
    "### Final CV\n",
    "\n",
    "#### cb"
   ]
  },
  {
   "cell_type": "code",
   "execution_count": 7,
   "metadata": {},
   "outputs": [],
   "source": [
    "def finalCV(n_folds=5, multiplier=10):\n",
    "    submission = pd.DataFrame.from_dict({'ID': test_ID, 'target': np.zeros(test_ID.shape[0])})\n",
    "    for i in range(multiplier):\n",
    "        preds = np.zeros(test_ID.shape[0])\n",
    "        kf = KFold(n_splits=n_folds,shuffle=True)\n",
    "        res = []\n",
    "        for train_index, test_index in kf.split(train_df2):\n",
    "            X_tr, X_tst = train_df2[train_index], train_df2[test_index]\n",
    "            y_tr, y_tst = log_target[train_index], log_target[test_index]\n",
    "\n",
    "            bst = cb.CatBoostRegressor(eta=0.01, iterations=2500,\n",
    "                                       loss_function='RMSE', eval_metric='RMSE', depth=4)\n",
    "    \n",
    "            bst.fit(X_tr, y_tr, use_best_model=True, eval_set=(X_tst, y_tst), verbose=False)\n",
    "\n",
    "            y_val = bst.predict(X_tst)\n",
    "\n",
    "            rmsle = np.sqrt(mean_squared_error(y_tst, y_val))\n",
    "            \n",
    "            res.append(rmsle)\n",
    "            \n",
    "            preds = preds + np.expm1(bst.predict(test_df2))/n_folds\n",
    "\n",
    "        print(np.mean(res))\n",
    "        \n",
    "        submission.target = submission.target + preds/multiplier\n",
    "    return submission"
   ]
  },
  {
   "cell_type": "code",
   "execution_count": 8,
   "metadata": {},
   "outputs": [],
   "source": [
    "def lgbfinalCV(n_folds=5, multiplier=10):\n",
    "    params = {'boosting': 'gbdt', 'objective':'regression', 'learning_rate':0.01, 'metric':'rmse', 'max_bin':63, \n",
    "              'lambda_l2': 0.1, 'device':'cpu', 'feature_fraction': 0.1, 'lambda_l1': 0.002}\n",
    "    submission = pd.DataFrame.from_dict({'ID': test_ID, 'target': np.zeros(test_ID.shape[0])})\n",
    "    for i in range(multiplier):\n",
    "        preds = np.zeros(test_ID.shape[0])\n",
    "        kf = KFold(n_splits=n_folds,shuffle=True)\n",
    "        res = []\n",
    "        for train_index, test_index in kf.split(train_df2):\n",
    "            X_tr, X_tst = train_df2[train_index], train_df2[test_index]\n",
    "            y_tr, y_tst = log_target[train_index], log_target[test_index]\n",
    "\n",
    "            train_set = lgb.Dataset(X_tr, label=y_tr)\n",
    "            valid_set = lgb.Dataset(X_tst, label=y_tst, reference=train_set)\n",
    "\n",
    "            bst = lgb.train(params, train_set, num_boost_round=7500, valid_sets=[train_set, valid_set],\n",
    "                            early_stopping_rounds=500, verbose_eval=False)\n",
    "\n",
    "            y_val = bst.predict(X_tst, num_iteration=bst.best_iteration)\n",
    "\n",
    "            rmsle = np.sqrt(mean_squared_error(y_tst, y_val))\n",
    "            \n",
    "            res.append(rmsle)\n",
    "            \n",
    "            preds = preds + np.expm1(bst.predict(test_df2, num_iteration=bst.best_iteration))/n_folds\n",
    "\n",
    "        print(np.mean(res))\n",
    "        \n",
    "        submission.target = submission.target + preds/multiplier\n",
    "    return submission"
   ]
  },
  {
   "cell_type": "code",
   "execution_count": 9,
   "metadata": {},
   "outputs": [],
   "source": [
    "def xgbfinalCV(n_folds=5, multiplier=10):\n",
    "    params = {'booster': 'gbtree', 'learning_rate':0.003, 'colsample_bytree': .75, 'eval_metric':'rmse', 'lambda': 0.0004,\n",
    "              'alpha': 0., 'min_child_weight': 4, 'subsample': 0.15}\n",
    "    test_set = xgb.DMatrix(test_df2)\n",
    "    submission = pd.DataFrame.from_dict({'ID': test_ID, 'target': np.zeros(test_ID.shape[0])})\n",
    "    for i in range(multiplier):\n",
    "        preds = np.zeros(test_ID.shape[0])\n",
    "        kf = KFold(n_splits=n_folds,shuffle=True)\n",
    "        res = []\n",
    "        for train_index, test_index in kf.split(train_df2):\n",
    "            X_tr, X_tst = train_df2[train_index], train_df2[test_index]\n",
    "            y_tr, y_tst = log_target[train_index], log_target[test_index]\n",
    "\n",
    "            train_set = xgb.DMatrix(X_tr, label=y_tr)\n",
    "            valid_set = xgb.DMatrix(X_tst, label=y_tst)\n",
    "\n",
    "            bst = xgb.train(params, train_set, num_boost_round=20000, evals=[(train_set, 'train'), (valid_set, 'val')],\n",
    "                            early_stopping_rounds=500, verbose_eval=False)\n",
    "\n",
    "            y_val = bst.predict(valid_set, ntree_limit=bst.best_ntree_limit)\n",
    "\n",
    "            rmsle = np.sqrt(mean_squared_error(y_tst, y_val))\n",
    "            \n",
    "            res.append(rmsle)\n",
    "            \n",
    "            preds = preds + np.expm1(bst.predict(test_set, ntree_limit=bst.best_ntree_limit))/n_folds\n",
    "\n",
    "        print(np.mean(res))\n",
    "        \n",
    "        submission.target = submission.target + preds/multiplier\n",
    "    return submission"
   ]
  },
  {
   "cell_type": "code",
   "execution_count": 47,
   "metadata": {},
   "outputs": [
    {
     "name": "stdout",
     "output_type": "stream",
     "text": [
      "1.3290071134883052\n",
      "1.329739455961762\n",
      "1.3253622483985423\n",
      "1.3300545508109565\n",
      "1.3271772615197457\n",
      "1.3295697674415174\n",
      "1.3279008855605337\n",
      "1.3288004200361865\n",
      "1.3282013412592315\n",
      "1.3289768722801707\n"
     ]
    }
   ],
   "source": [
    "submission_cb = finalCV()"
   ]
  },
  {
   "cell_type": "code",
   "execution_count": 48,
   "metadata": {},
   "outputs": [
    {
     "name": "stdout",
     "output_type": "stream",
     "text": [
      "1.3333575121797545\n",
      "1.333025871824744\n",
      "1.3330645685351614\n",
      "1.3324237973706152\n",
      "1.3363825752109326\n",
      "1.3359883927075291\n",
      "1.3350056697611727\n",
      "1.333140323213886\n",
      "1.3365256771210485\n",
      "1.3371340900534912\n"
     ]
    }
   ],
   "source": [
    "submission_lgb = lgbfinalCV()"
   ]
  },
  {
   "cell_type": "code",
   "execution_count": 15,
   "metadata": {},
   "outputs": [
    {
     "name": "stdout",
     "output_type": "stream",
     "text": [
      "1.347339646145811\n",
      "1.3449710724663162\n",
      "1.3395912554832112\n",
      "1.3443460433388947\n",
      "1.3488258424557187\n",
      "1.3472256596928998\n",
      "1.3448654966901659\n",
      "1.3437956987031487\n",
      "1.3491910710289317\n",
      "1.3477975453283437\n"
     ]
    }
   ],
   "source": [
    "submission_xgb = xgbfinalCV()"
   ]
  },
  {
   "cell_type": "markdown",
   "metadata": {},
   "source": [
    "#### ceiling to overestimate"
   ]
  },
  {
   "cell_type": "code",
   "execution_count": 16,
   "metadata": {},
   "outputs": [],
   "source": [
    "for submission in [submission_xgb]:\n",
    "    submission.target = 1000*np.ceil(submission.target)\n",
    "#submission.target = 1000*submission.target"
   ]
  },
  {
   "cell_type": "code",
   "execution_count": 17,
   "metadata": {
    "scrolled": true
   },
   "outputs": [
    {
     "ename": "NameError",
     "evalue": "name 'submission_cb' is not defined",
     "output_type": "error",
     "traceback": [
      "\u001b[1;31m---------------------------------------------------------------------------\u001b[0m",
      "\u001b[1;31mNameError\u001b[0m                                 Traceback (most recent call last)",
      "\u001b[1;32m<ipython-input-17-a80f60dd0040>\u001b[0m in \u001b[0;36m<module>\u001b[1;34m()\u001b[0m\n\u001b[1;32m----> 1\u001b[1;33m \u001b[0msubmission_cb\u001b[0m\u001b[1;33m.\u001b[0m\u001b[0mhead\u001b[0m\u001b[1;33m(\u001b[0m\u001b[1;36m11\u001b[0m\u001b[1;33m)\u001b[0m\u001b[1;33m\u001b[0m\u001b[0m\n\u001b[0m",
      "\u001b[1;31mNameError\u001b[0m: name 'submission_cb' is not defined"
     ]
    }
   ],
   "source": [
    "submission_cb.head(11)"
   ]
  },
  {
   "cell_type": "code",
   "execution_count": 52,
   "metadata": {},
   "outputs": [
    {
     "data": {
      "text/html": [
       "<div>\n",
       "<style scoped>\n",
       "    .dataframe tbody tr th:only-of-type {\n",
       "        vertical-align: middle;\n",
       "    }\n",
       "\n",
       "    .dataframe tbody tr th {\n",
       "        vertical-align: top;\n",
       "    }\n",
       "\n",
       "    .dataframe thead th {\n",
       "        text-align: right;\n",
       "    }\n",
       "</style>\n",
       "<table border=\"1\" class=\"dataframe\">\n",
       "  <thead>\n",
       "    <tr style=\"text-align: right;\">\n",
       "      <th></th>\n",
       "      <th>ID</th>\n",
       "      <th>target</th>\n",
       "    </tr>\n",
       "  </thead>\n",
       "  <tbody>\n",
       "    <tr>\n",
       "      <th>0</th>\n",
       "      <td>000137c73</td>\n",
       "      <td>2197000.0</td>\n",
       "    </tr>\n",
       "    <tr>\n",
       "      <th>1</th>\n",
       "      <td>00021489f</td>\n",
       "      <td>1838000.0</td>\n",
       "    </tr>\n",
       "    <tr>\n",
       "      <th>2</th>\n",
       "      <td>0004d7953</td>\n",
       "      <td>2390000.0</td>\n",
       "    </tr>\n",
       "    <tr>\n",
       "      <th>3</th>\n",
       "      <td>00056a333</td>\n",
       "      <td>4549000.0</td>\n",
       "    </tr>\n",
       "    <tr>\n",
       "      <th>4</th>\n",
       "      <td>00056d8eb</td>\n",
       "      <td>2282000.0</td>\n",
       "    </tr>\n",
       "    <tr>\n",
       "      <th>5</th>\n",
       "      <td>0005fc190</td>\n",
       "      <td>2718000.0</td>\n",
       "    </tr>\n",
       "    <tr>\n",
       "      <th>6</th>\n",
       "      <td>000787e86</td>\n",
       "      <td>2616000.0</td>\n",
       "    </tr>\n",
       "    <tr>\n",
       "      <th>7</th>\n",
       "      <td>0008510a0</td>\n",
       "      <td>2732000.0</td>\n",
       "    </tr>\n",
       "    <tr>\n",
       "      <th>8</th>\n",
       "      <td>000895faf</td>\n",
       "      <td>3260000.0</td>\n",
       "    </tr>\n",
       "    <tr>\n",
       "      <th>9</th>\n",
       "      <td>000986fba</td>\n",
       "      <td>2286000.0</td>\n",
       "    </tr>\n",
       "    <tr>\n",
       "      <th>10</th>\n",
       "      <td>0009efcc5</td>\n",
       "      <td>2528000.0</td>\n",
       "    </tr>\n",
       "  </tbody>\n",
       "</table>\n",
       "</div>"
      ],
      "text/plain": [
       "           ID     target\n",
       "0   000137c73  2197000.0\n",
       "1   00021489f  1838000.0\n",
       "2   0004d7953  2390000.0\n",
       "3   00056a333  4549000.0\n",
       "4   00056d8eb  2282000.0\n",
       "5   0005fc190  2718000.0\n",
       "6   000787e86  2616000.0\n",
       "7   0008510a0  2732000.0\n",
       "8   000895faf  3260000.0\n",
       "9   000986fba  2286000.0\n",
       "10  0009efcc5  2528000.0"
      ]
     },
     "execution_count": 52,
     "metadata": {},
     "output_type": "execute_result"
    }
   ],
   "source": [
    "submission_lgb.head(11)"
   ]
  },
  {
   "cell_type": "code",
   "execution_count": 18,
   "metadata": {},
   "outputs": [
    {
     "data": {
      "text/html": [
       "<div>\n",
       "<style scoped>\n",
       "    .dataframe tbody tr th:only-of-type {\n",
       "        vertical-align: middle;\n",
       "    }\n",
       "\n",
       "    .dataframe tbody tr th {\n",
       "        vertical-align: top;\n",
       "    }\n",
       "\n",
       "    .dataframe thead th {\n",
       "        text-align: right;\n",
       "    }\n",
       "</style>\n",
       "<table border=\"1\" class=\"dataframe\">\n",
       "  <thead>\n",
       "    <tr style=\"text-align: right;\">\n",
       "      <th></th>\n",
       "      <th>ID</th>\n",
       "      <th>target</th>\n",
       "    </tr>\n",
       "  </thead>\n",
       "  <tbody>\n",
       "    <tr>\n",
       "      <th>0</th>\n",
       "      <td>000137c73</td>\n",
       "      <td>1672000.0</td>\n",
       "    </tr>\n",
       "    <tr>\n",
       "      <th>1</th>\n",
       "      <td>00021489f</td>\n",
       "      <td>1282000.0</td>\n",
       "    </tr>\n",
       "    <tr>\n",
       "      <th>2</th>\n",
       "      <td>0004d7953</td>\n",
       "      <td>2186000.0</td>\n",
       "    </tr>\n",
       "    <tr>\n",
       "      <th>3</th>\n",
       "      <td>00056a333</td>\n",
       "      <td>4352000.0</td>\n",
       "    </tr>\n",
       "    <tr>\n",
       "      <th>4</th>\n",
       "      <td>00056d8eb</td>\n",
       "      <td>2104000.0</td>\n",
       "    </tr>\n",
       "    <tr>\n",
       "      <th>5</th>\n",
       "      <td>0005fc190</td>\n",
       "      <td>3022000.0</td>\n",
       "    </tr>\n",
       "    <tr>\n",
       "      <th>6</th>\n",
       "      <td>000787e86</td>\n",
       "      <td>1899000.0</td>\n",
       "    </tr>\n",
       "    <tr>\n",
       "      <th>7</th>\n",
       "      <td>0008510a0</td>\n",
       "      <td>2985000.0</td>\n",
       "    </tr>\n",
       "    <tr>\n",
       "      <th>8</th>\n",
       "      <td>000895faf</td>\n",
       "      <td>2626000.0</td>\n",
       "    </tr>\n",
       "    <tr>\n",
       "      <th>9</th>\n",
       "      <td>000986fba</td>\n",
       "      <td>2752000.0</td>\n",
       "    </tr>\n",
       "    <tr>\n",
       "      <th>10</th>\n",
       "      <td>0009efcc5</td>\n",
       "      <td>1893000.0</td>\n",
       "    </tr>\n",
       "  </tbody>\n",
       "</table>\n",
       "</div>"
      ],
      "text/plain": [
       "           ID     target\n",
       "0   000137c73  1672000.0\n",
       "1   00021489f  1282000.0\n",
       "2   0004d7953  2186000.0\n",
       "3   00056a333  4352000.0\n",
       "4   00056d8eb  2104000.0\n",
       "5   0005fc190  3022000.0\n",
       "6   000787e86  1899000.0\n",
       "7   0008510a0  2985000.0\n",
       "8   000895faf  2626000.0\n",
       "9   000986fba  2752000.0\n",
       "10  0009efcc5  1893000.0"
      ]
     },
     "execution_count": 18,
     "metadata": {},
     "output_type": "execute_result"
    }
   ],
   "source": [
    "submission_xgb.head(11)"
   ]
  },
  {
   "cell_type": "code",
   "execution_count": 19,
   "metadata": {},
   "outputs": [],
   "source": [
    "#submission_cb.to_csv('../submission_files/leak/45. stackcb_190f.csv', index=False)\n",
    "#submission_lgb.to_csv('../submission_files/leak/46. stacklgb_190f.csv', index=False)\n",
    "submission_xgb.to_csv('../submission_files/leak/49. stackxgb_190f.csv', index=False)"
   ]
  },
  {
   "cell_type": "code",
   "execution_count": 16,
   "metadata": {},
   "outputs": [],
   "source": [
    "submission = pd.read_csv(\"../submission_files/leak/53. 05x51+05xpublic04.csv\")"
   ]
  },
  {
   "cell_type": "code",
   "execution_count": 17,
   "metadata": {},
   "outputs": [],
   "source": [
    "leak2 = pd.read_csv('../submission_files/leak/public/extraf6.csv')\n",
    "\n",
    "leak2_idx = leak2[leak2.target != 0.].index.values\n",
    "leak2_vals = leak2[leak2.target != 0.].target.values\n",
    "\n",
    "leak2_vals = np.round(np.expm1(leak2_vals))"
   ]
  },
  {
   "cell_type": "code",
   "execution_count": 18,
   "metadata": {},
   "outputs": [],
   "source": [
    "sub = submission.copy()"
   ]
  },
  {
   "cell_type": "code",
   "execution_count": 20,
   "metadata": {},
   "outputs": [],
   "source": [
    "sub.target[leak2_idx] = 0.5*sub.target[leak2_idx] + 0.5*leak2_vals"
   ]
  },
  {
   "cell_type": "code",
   "execution_count": 21,
   "metadata": {},
   "outputs": [
    {
     "data": {
      "text/html": [
       "<div>\n",
       "<style scoped>\n",
       "    .dataframe tbody tr th:only-of-type {\n",
       "        vertical-align: middle;\n",
       "    }\n",
       "\n",
       "    .dataframe tbody tr th {\n",
       "        vertical-align: top;\n",
       "    }\n",
       "\n",
       "    .dataframe thead th {\n",
       "        text-align: right;\n",
       "    }\n",
       "</style>\n",
       "<table border=\"1\" class=\"dataframe\">\n",
       "  <thead>\n",
       "    <tr style=\"text-align: right;\">\n",
       "      <th></th>\n",
       "      <th>ID</th>\n",
       "      <th>target</th>\n",
       "    </tr>\n",
       "  </thead>\n",
       "  <tbody>\n",
       "    <tr>\n",
       "      <th>0</th>\n",
       "      <td>000137c73</td>\n",
       "      <td>1.680908e+06</td>\n",
       "    </tr>\n",
       "    <tr>\n",
       "      <th>1</th>\n",
       "      <td>00021489f</td>\n",
       "      <td>1.558343e+06</td>\n",
       "    </tr>\n",
       "    <tr>\n",
       "      <th>2</th>\n",
       "      <td>0004d7953</td>\n",
       "      <td>1.976375e+06</td>\n",
       "    </tr>\n",
       "    <tr>\n",
       "      <th>3</th>\n",
       "      <td>00056a333</td>\n",
       "      <td>4.193232e+06</td>\n",
       "    </tr>\n",
       "    <tr>\n",
       "      <th>4</th>\n",
       "      <td>00056d8eb</td>\n",
       "      <td>2.105072e+06</td>\n",
       "    </tr>\n",
       "    <tr>\n",
       "      <th>5</th>\n",
       "      <td>0005fc190</td>\n",
       "      <td>2.511025e+06</td>\n",
       "    </tr>\n",
       "    <tr>\n",
       "      <th>6</th>\n",
       "      <td>000787e86</td>\n",
       "      <td>1.700873e+06</td>\n",
       "    </tr>\n",
       "    <tr>\n",
       "      <th>7</th>\n",
       "      <td>0008510a0</td>\n",
       "      <td>2.790256e+06</td>\n",
       "    </tr>\n",
       "    <tr>\n",
       "      <th>8</th>\n",
       "      <td>000895faf</td>\n",
       "      <td>2.673861e+06</td>\n",
       "    </tr>\n",
       "    <tr>\n",
       "      <th>9</th>\n",
       "      <td>000986fba</td>\n",
       "      <td>2.738353e+06</td>\n",
       "    </tr>\n",
       "    <tr>\n",
       "      <th>10</th>\n",
       "      <td>0009efcc5</td>\n",
       "      <td>1.104877e+07</td>\n",
       "    </tr>\n",
       "  </tbody>\n",
       "</table>\n",
       "</div>"
      ],
      "text/plain": [
       "           ID        target\n",
       "0   000137c73  1.680908e+06\n",
       "1   00021489f  1.558343e+06\n",
       "2   0004d7953  1.976375e+06\n",
       "3   00056a333  4.193232e+06\n",
       "4   00056d8eb  2.105072e+06\n",
       "5   0005fc190  2.511025e+06\n",
       "6   000787e86  1.700873e+06\n",
       "7   0008510a0  2.790256e+06\n",
       "8   000895faf  2.673861e+06\n",
       "9   000986fba  2.738353e+06\n",
       "10  0009efcc5  1.104877e+07"
      ]
     },
     "execution_count": 21,
     "metadata": {},
     "output_type": "execute_result"
    }
   ],
   "source": [
    "sub.head(11)"
   ]
  },
  {
   "cell_type": "code",
   "execution_count": 15,
   "metadata": {},
   "outputs": [],
   "source": [
    "sub.to_csv(\"../submission_files/leak/55. 053+extraf6.csv\", index=False)"
   ]
  },
  {
   "cell_type": "code",
   "execution_count": 4,
   "metadata": {},
   "outputs": [],
   "source": [
    "sub2 = pd.read_csv('../submission_files/leak/public/04. honest_v5_137.csv')"
   ]
  },
  {
   "cell_type": "code",
   "execution_count": 37,
   "metadata": {},
   "outputs": [],
   "source": [
    "sub2 = pd.read_csv('../submission_files/leak/26. stacklgb_sumf_pc_138.csv')"
   ]
  },
  {
   "cell_type": "code",
   "execution_count": 5,
   "metadata": {},
   "outputs": [],
   "source": [
    "sub3 = sub.copy()"
   ]
  },
  {
   "cell_type": "code",
   "execution_count": 6,
   "metadata": {},
   "outputs": [],
   "source": [
    "sub3.target = 0.5*sub.target + 0.5*sub2.target"
   ]
  },
  {
   "cell_type": "code",
   "execution_count": 7,
   "metadata": {},
   "outputs": [],
   "source": [
    "sub3.to_csv(\"../submission_files/leak/53. 05x51+05xpublic04.csv\", index=False)"
   ]
  },
  {
   "cell_type": "code",
   "execution_count": null,
   "metadata": {
    "collapsed": true
   },
   "outputs": [],
   "source": []
  },
  {
   "cell_type": "code",
   "execution_count": null,
   "metadata": {
    "collapsed": true
   },
   "outputs": [],
   "source": []
  },
  {
   "cell_type": "code",
   "execution_count": 8,
   "metadata": {},
   "outputs": [],
   "source": [
    "ss = pd.read_csv('../submission_files/leak/28. 24+public03_059_best.csv')"
   ]
  },
  {
   "cell_type": "code",
   "execution_count": 9,
   "metadata": {},
   "outputs": [],
   "source": [
    "sub['h'] = sub.target - ss.target"
   ]
  },
  {
   "cell_type": "code",
   "execution_count": 10,
   "metadata": {},
   "outputs": [
    {
     "data": {
      "text/plain": [
       "(37,)"
      ]
     },
     "execution_count": 10,
     "metadata": {},
     "output_type": "execute_result"
    }
   ],
   "source": [
    "sub.h[sub.h!=0].index.values.shape"
   ]
  },
  {
   "cell_type": "code",
   "execution_count": null,
   "metadata": {},
   "outputs": [],
   "source": []
  }
 ],
 "metadata": {
  "kernelspec": {
   "display_name": "Python 3",
   "language": "python",
   "name": "python3"
  },
  "language_info": {
   "codemirror_mode": {
    "name": "ipython",
    "version": 3
   },
   "file_extension": ".py",
   "mimetype": "text/x-python",
   "name": "python",
   "nbconvert_exporter": "python",
   "pygments_lexer": "ipython3",
   "version": "3.6.2"
  }
 },
 "nbformat": 4,
 "nbformat_minor": 2
}
