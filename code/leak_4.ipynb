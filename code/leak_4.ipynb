{
 "cells": [
  {
   "cell_type": "code",
   "execution_count": 1,
   "metadata": {},
   "outputs": [],
   "source": [
    "# misc\n",
    "import warnings\n",
    "warnings.filterwarnings('ignore')\n",
    "import gc\n",
    "\n",
    "# basic imports\n",
    "import numpy as np\n",
    "import pandas as pd\n",
    "import seaborn as sns\n",
    "import matplotlib.pyplot as plt\n",
    "%matplotlib inline\n",
    "plt.style.use('seaborn')\n",
    "sns.set(palette='colorblind')\n",
    "\n",
    "# processing\n",
    "from sklearn.model_selection import KFold\n",
    "from sklearn.metrics import mean_squared_error\n",
    "from sklearn.feature_selection import VarianceThreshold\n",
    "from scipy.stats import gmean, mode\n",
    "from scipy.sparse import csr_matrix\n",
    "\n",
    "import shap\n",
    "\n",
    "# models\n",
    "import xgboost as xgb\n",
    "import lightgbm as lgb\n",
    "import catboost as cb\n",
    "from sklearn.linear_model import LinearRegression, Ridge"
   ]
  },
  {
   "cell_type": "code",
   "execution_count": 2,
   "metadata": {},
   "outputs": [],
   "source": [
    "# This will be now a dataframe\n",
    "def stats_prop(df, usefractions=False):\n",
    "    means = []\n",
    "    gmeans = []\n",
    "    medians = []\n",
    "    modes = []\n",
    "    stds = []\n",
    "    skews = []\n",
    "    kurts = []\n",
    "    mins = []\n",
    "    maxs = []\n",
    "    sums = []\n",
    "    counts = []\n",
    "    fractions = []\n",
    "    q1s = []\n",
    "    q3s = []\n",
    "    p10s = []\n",
    "    p20s = []\n",
    "    p30s = []\n",
    "    p40s = []\n",
    "    p60s = []\n",
    "    p70s = []\n",
    "    p80s = []\n",
    "    p90s = []\n",
    "    log_means = []\n",
    "    log_gmeans = []\n",
    "    log_medians = []\n",
    "    log_modes = []\n",
    "    log_stds = []\n",
    "    log_skews = []\n",
    "    log_kurts = []\n",
    "    log_mins = []\n",
    "    log_maxs = []\n",
    "    log_q1s = []\n",
    "    log_q3s = []\n",
    "    log_p10s = []\n",
    "    log_p20s = []\n",
    "    log_p30s = []\n",
    "    log_p40s = []\n",
    "    log_p60s = []\n",
    "    log_p70s = []\n",
    "    log_p80s = []\n",
    "    log_p90s = []\n",
    "       \n",
    "    for i, row in df.iterrows():\n",
    "        nonzero_values = row[row.nonzero()[0]]\n",
    "        if usefractions:\n",
    "            nonzero_values = nonzero_values[nonzero_values-nonzero_values//1 != 0.]\n",
    "        means.append(nonzero_values.mean())\n",
    "        gmeans.append(gmean(nonzero_values))\n",
    "        medians.append(nonzero_values.median())\n",
    "        modes.append(mode(nonzero_values)[0][0] if len(nonzero_values)>0 else np.nan)\n",
    "        stds.append(nonzero_values.std())\n",
    "        skews.append(nonzero_values.skew())\n",
    "        kurts.append(nonzero_values.kurtosis())\n",
    "        mins.append(nonzero_values.min())\n",
    "        maxs.append(nonzero_values.max())\n",
    "        sums.append(nonzero_values.sum())\n",
    "        counts.append(nonzero_values.count())\n",
    "        fractions.append(nonzero_values.count()/row.count())        \n",
    "        q1s.append(np.percentile(nonzero_values, q=25) if len(nonzero_values)>0 else np.nan)\n",
    "        q3s.append(np.percentile(nonzero_values, q=75) if len(nonzero_values)>0 else np.nan)\n",
    "        p10s.append(np.percentile(nonzero_values, q=10) if len(nonzero_values)>0 else np.nan)\n",
    "        p20s.append(np.percentile(nonzero_values, q=20) if len(nonzero_values)>0 else np.nan)\n",
    "        p30s.append(np.percentile(nonzero_values, q=30) if len(nonzero_values)>0 else np.nan)\n",
    "        p40s.append(np.percentile(nonzero_values, q=40) if len(nonzero_values)>0 else np.nan)\n",
    "        p60s.append(np.percentile(nonzero_values, q=60) if len(nonzero_values)>0 else np.nan)\n",
    "        p70s.append(np.percentile(nonzero_values, q=70) if len(nonzero_values)>0 else np.nan)\n",
    "        p80s.append(np.percentile(nonzero_values, q=80) if len(nonzero_values)>0 else np.nan)\n",
    "        p90s.append(np.percentile(nonzero_values, q=90) if len(nonzero_values)>0 else np.nan)\n",
    "        log_means.append(np.log1p(nonzero_values).mean())\n",
    "        log_gmeans.append(gmean(np.log1p(nonzero_values)))\n",
    "        log_medians.append(np.log1p(nonzero_values).median())\n",
    "        log_modes.append(mode(np.log1p(nonzero_values))[0][0] if len(nonzero_values)>0 else np.nan)\n",
    "        log_stds.append(np.log1p(nonzero_values).std())\n",
    "        log_skews.append(np.log1p(nonzero_values).skew())\n",
    "        log_kurts.append(np.log1p(nonzero_values).kurtosis())\n",
    "        log_mins.append(np.log1p(nonzero_values).min())\n",
    "        log_maxs.append(np.log1p(nonzero_values).max())\n",
    "        log_q1s.append(np.percentile(np.log1p(nonzero_values), q=25) if len(nonzero_values)>0 else np.nan)\n",
    "        log_q3s.append(np.percentile(np.log1p(nonzero_values), q=75) if len(nonzero_values)>0 else np.nan)\n",
    "        log_p10s.append(np.percentile(np.log1p(nonzero_values), q=10) if len(nonzero_values)>0 else np.nan)\n",
    "        log_p20s.append(np.percentile(np.log1p(nonzero_values), q=20) if len(nonzero_values)>0 else np.nan)\n",
    "        log_p30s.append(np.percentile(np.log1p(nonzero_values), q=30) if len(nonzero_values)>0 else np.nan)\n",
    "        log_p40s.append(np.percentile(np.log1p(nonzero_values), q=40) if len(nonzero_values)>0 else np.nan)\n",
    "        log_p60s.append(np.percentile(np.log1p(nonzero_values), q=60) if len(nonzero_values)>0 else np.nan)\n",
    "        log_p70s.append(np.percentile(np.log1p(nonzero_values), q=70) if len(nonzero_values)>0 else np.nan)\n",
    "        log_p80s.append(np.percentile(np.log1p(nonzero_values), q=80) if len(nonzero_values)>0 else np.nan)\n",
    "        log_p90s.append(np.percentile(np.log1p(nonzero_values), q=90) if len(nonzero_values)>0 else np.nan)\n",
    "    \n",
    "    stat_df = pd.DataFrame({'means': np.array(means)})\n",
    "    stat_df['gmeans'] = np.array(gmeans)\n",
    "    stat_df['medians'] = np.array(medians)\n",
    "    stat_df['modes'] = np.array(modes)\n",
    "    #stat_df['stds'] = np.array(stds)\n",
    "    #stat_df['skews'] = np.array(skews)\n",
    "    #stat_df['kurts'] = np.array(kurts)\n",
    "    stat_df['mins'] = np.array(mins)\n",
    "    stat_df['maxs'] = np.array(maxs)\n",
    "    stat_df['sums'] = np.array(sums)\n",
    "    stat_df['counts'] = np.array(counts)\n",
    "    stat_df['fractions'] = np.array(fractions)\n",
    "    stat_df['q1s'] = np.array(q1s)\n",
    "    stat_df['q3s'] = np.array(q3s)\n",
    "    stat_df['p10s'] = np.array(p10s)\n",
    "    stat_df['p20s'] = np.array(p20s)\n",
    "    stat_df['p30s'] = np.array(p30s)\n",
    "    stat_df['p40s'] = np.array(p40s)\n",
    "    stat_df['p60s'] = np.array(p60s)\n",
    "    stat_df['p70s'] = np.array(p70s)\n",
    "    stat_df['p80s'] = np.array(p80s)\n",
    "    stat_df['p90s'] = np.array(p90s)\n",
    "    #stat_df = pd.DataFrame({'log_means': np.array(log_means)})\n",
    "    stat_df['log_gmeans'] = np.array(log_gmeans)\n",
    "    stat_df['log_medians'] = np.array(log_medians)\n",
    "    stat_df['log_modes'] = np.array(log_modes)\n",
    "    #stat_df['log_stds'] = np.array(log_stds)\n",
    "    #stat_df['log_skews'] = np.array(log_skews)\n",
    "    #stat_df['log_kurts'] = np.array(log_kurts)\n",
    "    stat_df['log_mins'] = np.array(log_mins)\n",
    "    stat_df['log_maxs'] = np.array(log_maxs)\n",
    "    stat_df['log_q1s'] = np.array(log_q1s)\n",
    "    stat_df['log_q3s'] = np.array(log_q3s)\n",
    "    stat_df['log_p10s'] = np.array(log_p10s)\n",
    "    stat_df['log_p20s'] = np.array(log_p20s)\n",
    "    stat_df['log_p30s'] = np.array(log_p30s)\n",
    "    stat_df['log_p40s'] = np.array(log_p40s)\n",
    "    stat_df['log_p60s'] = np.array(log_p60s)\n",
    "    stat_df['log_p70s'] = np.array(log_p70s)\n",
    "    stat_df['log_p80s'] = np.array(log_p80s)\n",
    "    stat_df['log_p90s'] = np.array(log_p90s)\n",
    "    \n",
    "    return stat_df    "
   ]
  },
  {
   "cell_type": "code",
   "execution_count": 3,
   "metadata": {},
   "outputs": [],
   "source": [
    "train_data = pd.read_csv('../data/train.csv')\n",
    "test_data = pd.read_csv('../data/test.csv')"
   ]
  },
  {
   "cell_type": "code",
   "execution_count": 4,
   "metadata": {},
   "outputs": [],
   "source": [
    "target = train_data.target\n",
    "train_ID = train_data.ID\n",
    "train_data = train_data.drop(['target', 'ID'], axis=1)\n",
    "test_ID = test_data.ID\n",
    "test_data = test_data.drop(['ID'], axis=1)"
   ]
  },
  {
   "cell_type": "code",
   "execution_count": 5,
   "metadata": {},
   "outputs": [],
   "source": [
    "vt = VarianceThreshold(threshold=0.)\n",
    "vt.fit(train_data)\n",
    "selected_columns = train_data.columns[vt.get_support(indices=True)]"
   ]
  },
  {
   "cell_type": "code",
   "execution_count": 6,
   "metadata": {},
   "outputs": [
    {
     "data": {
      "text/plain": [
       "(4459, 4735)"
      ]
     },
     "execution_count": 6,
     "metadata": {},
     "output_type": "execute_result"
    }
   ],
   "source": [
    "train_data = train_data[selected_columns]\n",
    "test_data = test_data[selected_columns]\n",
    "\n",
    "train_data.shape"
   ]
  },
  {
   "cell_type": "code",
   "execution_count": 7,
   "metadata": {},
   "outputs": [
    {
     "data": {
      "text/plain": [
       "(4459, 4730)"
      ]
     },
     "execution_count": 7,
     "metadata": {},
     "output_type": "execute_result"
    }
   ],
   "source": [
    "train_data = train_data.T.drop_duplicates().T\n",
    "test_data = test_data[train_data.columns]\n",
    "\n",
    "train_data.shape"
   ]
  },
  {
   "cell_type": "code",
   "execution_count": 8,
   "metadata": {},
   "outputs": [],
   "source": [
    "train_data = train_data/1000.\n",
    "test_data = test_data/1000."
   ]
  },
  {
   "cell_type": "code",
   "execution_count": 9,
   "metadata": {},
   "outputs": [],
   "source": [
    "log_target = np.log1p(target/1000.)\n",
    "#log_target = np.log1p(target)"
   ]
  },
  {
   "cell_type": "code",
   "execution_count": 10,
   "metadata": {},
   "outputs": [],
   "source": [
    "stat_train = stats_prop(train_data)\n",
    "stat_test = stats_prop(test_data)"
   ]
  },
  {
   "cell_type": "code",
   "execution_count": 11,
   "metadata": {},
   "outputs": [],
   "source": [
    "train_data = train_data.replace(0., np.nan)\n",
    "test_data = test_data.replace(0., np.nan)"
   ]
  },
  {
   "cell_type": "code",
   "execution_count": 12,
   "metadata": {},
   "outputs": [
    {
     "data": {
      "text/html": [
       "<div>\n",
       "<style scoped>\n",
       "    .dataframe tbody tr th:only-of-type {\n",
       "        vertical-align: middle;\n",
       "    }\n",
       "\n",
       "    .dataframe tbody tr th {\n",
       "        vertical-align: top;\n",
       "    }\n",
       "\n",
       "    .dataframe thead th {\n",
       "        text-align: right;\n",
       "    }\n",
       "</style>\n",
       "<table border=\"1\" class=\"dataframe\">\n",
       "  <thead>\n",
       "    <tr style=\"text-align: right;\">\n",
       "      <th></th>\n",
       "      <th>48df886f9</th>\n",
       "      <th>0deb4b6a8</th>\n",
       "      <th>34b15f335</th>\n",
       "      <th>a8cb14b00</th>\n",
       "      <th>2f0771a37</th>\n",
       "      <th>30347e683</th>\n",
       "      <th>d08d1fbe3</th>\n",
       "      <th>6ee66e115</th>\n",
       "      <th>20aa07010</th>\n",
       "      <th>dc5a8f1d8</th>\n",
       "      <th>...</th>\n",
       "      <th>3ecc09859</th>\n",
       "      <th>9281abeea</th>\n",
       "      <th>8675bec0b</th>\n",
       "      <th>3a13ed79a</th>\n",
       "      <th>f677d4d13</th>\n",
       "      <th>71b203550</th>\n",
       "      <th>137efaa80</th>\n",
       "      <th>fb36b89d9</th>\n",
       "      <th>7e293fbaf</th>\n",
       "      <th>9fc776466</th>\n",
       "    </tr>\n",
       "  </thead>\n",
       "  <tbody>\n",
       "    <tr>\n",
       "      <th>0</th>\n",
       "      <td>NaN</td>\n",
       "      <td>NaN</td>\n",
       "      <td>NaN</td>\n",
       "      <td>NaN</td>\n",
       "      <td>NaN</td>\n",
       "      <td>NaN</td>\n",
       "      <td>NaN</td>\n",
       "      <td>NaN</td>\n",
       "      <td>NaN</td>\n",
       "      <td>NaN</td>\n",
       "      <td>...</td>\n",
       "      <td>NaN</td>\n",
       "      <td>NaN</td>\n",
       "      <td>NaN</td>\n",
       "      <td>NaN</td>\n",
       "      <td>NaN</td>\n",
       "      <td>NaN</td>\n",
       "      <td>NaN</td>\n",
       "      <td>NaN</td>\n",
       "      <td>NaN</td>\n",
       "      <td>NaN</td>\n",
       "    </tr>\n",
       "    <tr>\n",
       "      <th>1</th>\n",
       "      <td>NaN</td>\n",
       "      <td>NaN</td>\n",
       "      <td>NaN</td>\n",
       "      <td>NaN</td>\n",
       "      <td>NaN</td>\n",
       "      <td>NaN</td>\n",
       "      <td>NaN</td>\n",
       "      <td>NaN</td>\n",
       "      <td>2200.0</td>\n",
       "      <td>NaN</td>\n",
       "      <td>...</td>\n",
       "      <td>NaN</td>\n",
       "      <td>NaN</td>\n",
       "      <td>NaN</td>\n",
       "      <td>NaN</td>\n",
       "      <td>NaN</td>\n",
       "      <td>NaN</td>\n",
       "      <td>NaN</td>\n",
       "      <td>NaN</td>\n",
       "      <td>NaN</td>\n",
       "      <td>NaN</td>\n",
       "    </tr>\n",
       "    <tr>\n",
       "      <th>2</th>\n",
       "      <td>NaN</td>\n",
       "      <td>NaN</td>\n",
       "      <td>NaN</td>\n",
       "      <td>NaN</td>\n",
       "      <td>NaN</td>\n",
       "      <td>NaN</td>\n",
       "      <td>NaN</td>\n",
       "      <td>NaN</td>\n",
       "      <td>NaN</td>\n",
       "      <td>NaN</td>\n",
       "      <td>...</td>\n",
       "      <td>NaN</td>\n",
       "      <td>NaN</td>\n",
       "      <td>NaN</td>\n",
       "      <td>NaN</td>\n",
       "      <td>NaN</td>\n",
       "      <td>NaN</td>\n",
       "      <td>NaN</td>\n",
       "      <td>NaN</td>\n",
       "      <td>NaN</td>\n",
       "      <td>NaN</td>\n",
       "    </tr>\n",
       "    <tr>\n",
       "      <th>3</th>\n",
       "      <td>NaN</td>\n",
       "      <td>NaN</td>\n",
       "      <td>NaN</td>\n",
       "      <td>NaN</td>\n",
       "      <td>NaN</td>\n",
       "      <td>NaN</td>\n",
       "      <td>NaN</td>\n",
       "      <td>NaN</td>\n",
       "      <td>NaN</td>\n",
       "      <td>NaN</td>\n",
       "      <td>...</td>\n",
       "      <td>NaN</td>\n",
       "      <td>NaN</td>\n",
       "      <td>NaN</td>\n",
       "      <td>NaN</td>\n",
       "      <td>NaN</td>\n",
       "      <td>NaN</td>\n",
       "      <td>NaN</td>\n",
       "      <td>NaN</td>\n",
       "      <td>NaN</td>\n",
       "      <td>NaN</td>\n",
       "    </tr>\n",
       "    <tr>\n",
       "      <th>4</th>\n",
       "      <td>NaN</td>\n",
       "      <td>NaN</td>\n",
       "      <td>NaN</td>\n",
       "      <td>NaN</td>\n",
       "      <td>NaN</td>\n",
       "      <td>NaN</td>\n",
       "      <td>NaN</td>\n",
       "      <td>NaN</td>\n",
       "      <td>2000.0</td>\n",
       "      <td>NaN</td>\n",
       "      <td>...</td>\n",
       "      <td>NaN</td>\n",
       "      <td>NaN</td>\n",
       "      <td>NaN</td>\n",
       "      <td>NaN</td>\n",
       "      <td>NaN</td>\n",
       "      <td>NaN</td>\n",
       "      <td>NaN</td>\n",
       "      <td>NaN</td>\n",
       "      <td>NaN</td>\n",
       "      <td>NaN</td>\n",
       "    </tr>\n",
       "  </tbody>\n",
       "</table>\n",
       "<p>5 rows × 4730 columns</p>\n",
       "</div>"
      ],
      "text/plain": [
       "   48df886f9  0deb4b6a8  34b15f335  a8cb14b00  2f0771a37  30347e683  \\\n",
       "0        NaN        NaN        NaN        NaN        NaN        NaN   \n",
       "1        NaN        NaN        NaN        NaN        NaN        NaN   \n",
       "2        NaN        NaN        NaN        NaN        NaN        NaN   \n",
       "3        NaN        NaN        NaN        NaN        NaN        NaN   \n",
       "4        NaN        NaN        NaN        NaN        NaN        NaN   \n",
       "\n",
       "   d08d1fbe3  6ee66e115  20aa07010  dc5a8f1d8    ...      3ecc09859  \\\n",
       "0        NaN        NaN        NaN        NaN    ...            NaN   \n",
       "1        NaN        NaN     2200.0        NaN    ...            NaN   \n",
       "2        NaN        NaN        NaN        NaN    ...            NaN   \n",
       "3        NaN        NaN        NaN        NaN    ...            NaN   \n",
       "4        NaN        NaN     2000.0        NaN    ...            NaN   \n",
       "\n",
       "   9281abeea  8675bec0b  3a13ed79a  f677d4d13  71b203550  137efaa80  \\\n",
       "0        NaN        NaN        NaN        NaN        NaN        NaN   \n",
       "1        NaN        NaN        NaN        NaN        NaN        NaN   \n",
       "2        NaN        NaN        NaN        NaN        NaN        NaN   \n",
       "3        NaN        NaN        NaN        NaN        NaN        NaN   \n",
       "4        NaN        NaN        NaN        NaN        NaN        NaN   \n",
       "\n",
       "   fb36b89d9  7e293fbaf  9fc776466  \n",
       "0        NaN        NaN        NaN  \n",
       "1        NaN        NaN        NaN  \n",
       "2        NaN        NaN        NaN  \n",
       "3        NaN        NaN        NaN  \n",
       "4        NaN        NaN        NaN  \n",
       "\n",
       "[5 rows x 4730 columns]"
      ]
     },
     "execution_count": 12,
     "metadata": {},
     "output_type": "execute_result"
    }
   ],
   "source": [
    "train_data.head()"
   ]
  },
  {
   "cell_type": "code",
   "execution_count": 13,
   "metadata": {},
   "outputs": [
    {
     "data": {
      "text/html": [
       "<div>\n",
       "<style scoped>\n",
       "    .dataframe tbody tr th:only-of-type {\n",
       "        vertical-align: middle;\n",
       "    }\n",
       "\n",
       "    .dataframe tbody tr th {\n",
       "        vertical-align: top;\n",
       "    }\n",
       "\n",
       "    .dataframe thead th {\n",
       "        text-align: right;\n",
       "    }\n",
       "</style>\n",
       "<table border=\"1\" class=\"dataframe\">\n",
       "  <thead>\n",
       "    <tr style=\"text-align: right;\">\n",
       "      <th></th>\n",
       "      <th>means</th>\n",
       "      <th>gmeans</th>\n",
       "      <th>medians</th>\n",
       "      <th>modes</th>\n",
       "      <th>mins</th>\n",
       "      <th>maxs</th>\n",
       "      <th>sums</th>\n",
       "      <th>counts</th>\n",
       "      <th>fractions</th>\n",
       "      <th>q1s</th>\n",
       "      <th>...</th>\n",
       "      <th>log_q1s</th>\n",
       "      <th>log_q3s</th>\n",
       "      <th>log_p10s</th>\n",
       "      <th>log_p20s</th>\n",
       "      <th>log_p30s</th>\n",
       "      <th>log_p40s</th>\n",
       "      <th>log_p60s</th>\n",
       "      <th>log_p70s</th>\n",
       "      <th>log_p80s</th>\n",
       "      <th>log_p90s</th>\n",
       "    </tr>\n",
       "  </thead>\n",
       "  <tbody>\n",
       "    <tr>\n",
       "      <th>0</th>\n",
       "      <td>7066.356209</td>\n",
       "      <td>2858.971431</td>\n",
       "      <td>2400.00000</td>\n",
       "      <td>400.0</td>\n",
       "      <td>250.0</td>\n",
       "      <td>40000.0</td>\n",
       "      <td>720768.33332</td>\n",
       "      <td>102</td>\n",
       "      <td>0.021564</td>\n",
       "      <td>912.5</td>\n",
       "      <td>...</td>\n",
       "      <td>6.817007</td>\n",
       "      <td>8.878479</td>\n",
       "      <td>6.016226</td>\n",
       "      <td>6.579178</td>\n",
       "      <td>7.030055</td>\n",
       "      <td>7.410382</td>\n",
       "      <td>8.309112</td>\n",
       "      <td>8.705490</td>\n",
       "      <td>9.341456</td>\n",
       "      <td>9.998843</td>\n",
       "    </tr>\n",
       "    <tr>\n",
       "      <th>1</th>\n",
       "      <td>7939.800995</td>\n",
       "      <td>4303.260088</td>\n",
       "      <td>2225.00000</td>\n",
       "      <td>2000.0</td>\n",
       "      <td>800.0</td>\n",
       "      <td>50000.0</td>\n",
       "      <td>531966.66668</td>\n",
       "      <td>67</td>\n",
       "      <td>0.014165</td>\n",
       "      <td>2000.0</td>\n",
       "      <td>...</td>\n",
       "      <td>7.601402</td>\n",
       "      <td>9.157766</td>\n",
       "      <td>7.601402</td>\n",
       "      <td>7.601402</td>\n",
       "      <td>7.601402</td>\n",
       "      <td>7.601402</td>\n",
       "      <td>8.294300</td>\n",
       "      <td>8.853808</td>\n",
       "      <td>9.544127</td>\n",
       "      <td>9.878957</td>\n",
       "    </tr>\n",
       "    <tr>\n",
       "      <th>2</th>\n",
       "      <td>4233.333333</td>\n",
       "      <td>2473.859829</td>\n",
       "      <td>4000.00000</td>\n",
       "      <td>4000.0</td>\n",
       "      <td>200.0</td>\n",
       "      <td>12000.0</td>\n",
       "      <td>76200.00000</td>\n",
       "      <td>18</td>\n",
       "      <td>0.003805</td>\n",
       "      <td>1125.0</td>\n",
       "      <td>...</td>\n",
       "      <td>7.010038</td>\n",
       "      <td>8.677932</td>\n",
       "      <td>5.942616</td>\n",
       "      <td>6.775018</td>\n",
       "      <td>7.364943</td>\n",
       "      <td>7.824446</td>\n",
       "      <td>8.357977</td>\n",
       "      <td>8.612685</td>\n",
       "      <td>8.699681</td>\n",
       "      <td>9.108949</td>\n",
       "    </tr>\n",
       "    <tr>\n",
       "      <th>3</th>\n",
       "      <td>1517.757575</td>\n",
       "      <td>401.771116</td>\n",
       "      <td>261.33333</td>\n",
       "      <td>100.0</td>\n",
       "      <td>2.0</td>\n",
       "      <td>6000.0</td>\n",
       "      <td>33390.66666</td>\n",
       "      <td>22</td>\n",
       "      <td>0.004651</td>\n",
       "      <td>100.0</td>\n",
       "      <td>...</td>\n",
       "      <td>4.615121</td>\n",
       "      <td>7.601402</td>\n",
       "      <td>4.615121</td>\n",
       "      <td>4.615121</td>\n",
       "      <td>4.615121</td>\n",
       "      <td>5.303305</td>\n",
       "      <td>6.338374</td>\n",
       "      <td>7.472248</td>\n",
       "      <td>7.601402</td>\n",
       "      <td>8.664920</td>\n",
       "    </tr>\n",
       "    <tr>\n",
       "      <th>4</th>\n",
       "      <td>6872.846154</td>\n",
       "      <td>2567.099104</td>\n",
       "      <td>4700.00000</td>\n",
       "      <td>200.0</td>\n",
       "      <td>60.0</td>\n",
       "      <td>37662.0</td>\n",
       "      <td>178694.00000</td>\n",
       "      <td>26</td>\n",
       "      <td>0.005497</td>\n",
       "      <td>1180.0</td>\n",
       "      <td>...</td>\n",
       "      <td>7.074117</td>\n",
       "      <td>8.972850</td>\n",
       "      <td>5.303305</td>\n",
       "      <td>5.993961</td>\n",
       "      <td>7.337760</td>\n",
       "      <td>7.601402</td>\n",
       "      <td>8.699681</td>\n",
       "      <td>8.869724</td>\n",
       "      <td>8.987322</td>\n",
       "      <td>9.301593</td>\n",
       "    </tr>\n",
       "  </tbody>\n",
       "</table>\n",
       "<p>5 rows × 34 columns</p>\n",
       "</div>"
      ],
      "text/plain": [
       "         means       gmeans     medians   modes   mins     maxs          sums  \\\n",
       "0  7066.356209  2858.971431  2400.00000   400.0  250.0  40000.0  720768.33332   \n",
       "1  7939.800995  4303.260088  2225.00000  2000.0  800.0  50000.0  531966.66668   \n",
       "2  4233.333333  2473.859829  4000.00000  4000.0  200.0  12000.0   76200.00000   \n",
       "3  1517.757575   401.771116   261.33333   100.0    2.0   6000.0   33390.66666   \n",
       "4  6872.846154  2567.099104  4700.00000   200.0   60.0  37662.0  178694.00000   \n",
       "\n",
       "   counts  fractions     q1s    ...      log_q1s   log_q3s  log_p10s  \\\n",
       "0     102   0.021564   912.5    ...     6.817007  8.878479  6.016226   \n",
       "1      67   0.014165  2000.0    ...     7.601402  9.157766  7.601402   \n",
       "2      18   0.003805  1125.0    ...     7.010038  8.677932  5.942616   \n",
       "3      22   0.004651   100.0    ...     4.615121  7.601402  4.615121   \n",
       "4      26   0.005497  1180.0    ...     7.074117  8.972850  5.303305   \n",
       "\n",
       "   log_p20s  log_p30s  log_p40s  log_p60s  log_p70s  log_p80s  log_p90s  \n",
       "0  6.579178  7.030055  7.410382  8.309112  8.705490  9.341456  9.998843  \n",
       "1  7.601402  7.601402  7.601402  8.294300  8.853808  9.544127  9.878957  \n",
       "2  6.775018  7.364943  7.824446  8.357977  8.612685  8.699681  9.108949  \n",
       "3  4.615121  4.615121  5.303305  6.338374  7.472248  7.601402  8.664920  \n",
       "4  5.993961  7.337760  7.601402  8.699681  8.869724  8.987322  9.301593  \n",
       "\n",
       "[5 rows x 34 columns]"
      ]
     },
     "execution_count": 13,
     "metadata": {},
     "output_type": "execute_result"
    }
   ],
   "source": [
    "stat_train.head()"
   ]
  },
  {
   "cell_type": "code",
   "execution_count": 14,
   "metadata": {},
   "outputs": [],
   "source": [
    "cols_leak = ['f190486d6', '58e2e02e6', 'eeb9cd3aa', '9fd594eec', '6eef030c1', \n",
    "            '15ace8c9f', 'fb0f5dbfe', '58e056e12', '20aa07010', '024c577b9', \n",
    "            'd6bb78916', 'b43a7cfd5', '58232a6fb', '1702b5bf0', '324921c7b', \n",
    "            '62e59a501', '2ec5b290f', '241f0f867', 'fb49e4212', '66ace2992', \n",
    "            'f74e8f13d', '5c6487af1', '963a49cdc', '26fc93eb7', '1931ccfdd', \n",
    "            '703885424', '70feb1494', '491b9ee45', '23310aa6f', 'e176a204a', \n",
    "            '6619d81fc', '1db387535', 'fc99f9426', '91f701ba2', '0572565c2', \n",
    "            '190db8488', 'adb64ff71', 'c47340d97', 'c5a231d81', '0ff32eb98']"
   ]
  },
  {
   "cell_type": "code",
   "execution_count": 52,
   "metadata": {},
   "outputs": [],
   "source": [
    "predtrain = pd.read_csv('../data/predtrain.csv', header=None)"
   ]
  },
  {
   "cell_type": "code",
   "execution_count": 39,
   "metadata": {},
   "outputs": [],
   "source": [
    "predtrain = predtrain[0].values"
   ]
  },
  {
   "cell_type": "code",
   "execution_count": 45,
   "metadata": {},
   "outputs": [],
   "source": [
    "predtrain = np.log1p(np.expm1(predtrain)/1000)"
   ]
  },
  {
   "cell_type": "code",
   "execution_count": 54,
   "metadata": {},
   "outputs": [],
   "source": [
    "idx_leak = predtrain[predtrain[0]>0].index.values"
   ]
  },
  {
   "cell_type": "code",
   "execution_count": 55,
   "metadata": {},
   "outputs": [
    {
     "data": {
      "text/plain": [
       "array([   0,    1,    3, ..., 4456, 4457, 4458], dtype=int64)"
      ]
     },
     "execution_count": 55,
     "metadata": {},
     "output_type": "execute_result"
    }
   ],
   "source": [
    "idx_leak"
   ]
  },
  {
   "cell_type": "code",
   "execution_count": 56,
   "metadata": {},
   "outputs": [],
   "source": [
    "new_train = train_data.drop(idx_leak, axis=0)"
   ]
  },
  {
   "cell_type": "code",
   "execution_count": 61,
   "metadata": {},
   "outputs": [],
   "source": [
    "# CV folds\n",
    "kf = KFold(n_splits=10, shuffle=True)\n",
    "n_splits = kf.get_n_splits()"
   ]
  },
  {
   "cell_type": "code",
   "execution_count": 62,
   "metadata": {},
   "outputs": [],
   "source": [
    "# model parameters\n",
    "params = {'learning_rate':0.01, 'metric':'rmse', 'max_bin':63, 'device':'cpu', 'feature_fraction': 0.2}"
   ]
  },
  {
   "cell_type": "code",
   "execution_count": 63,
   "metadata": {},
   "outputs": [
    {
     "name": "stdout",
     "output_type": "stream",
     "text": [
      "Training until validation scores don't improve for 5 rounds.\n",
      "Early stopping, best iteration is:\n",
      "[10]\ttraining's rmse: 1.69775\tvalid_1's rmse: 1.62818\n",
      "Training until validation scores don't improve for 5 rounds.\n",
      "Early stopping, best iteration is:\n",
      "[34]\ttraining's rmse: 1.64896\tvalid_1's rmse: 1.81591\n",
      "Training until validation scores don't improve for 5 rounds.\n",
      "Early stopping, best iteration is:\n",
      "[1]\ttraining's rmse: 1.68772\tvalid_1's rmse: 1.80866\n",
      "Training until validation scores don't improve for 5 rounds.\n",
      "Early stopping, best iteration is:\n",
      "[5]\ttraining's rmse: 1.68762\tvalid_1's rmse: 1.77052\n",
      "Training until validation scores don't improve for 5 rounds.\n",
      "Early stopping, best iteration is:\n",
      "[2]\ttraining's rmse: 1.69238\tvalid_1's rmse: 1.7658\n",
      "Training until validation scores don't improve for 5 rounds.\n",
      "Early stopping, best iteration is:\n",
      "[18]\ttraining's rmse: 1.68109\tvalid_1's rmse: 1.69137\n",
      "Training until validation scores don't improve for 5 rounds.\n",
      "Early stopping, best iteration is:\n",
      "[23]\ttraining's rmse: 1.68609\tvalid_1's rmse: 1.57169\n",
      "Training until validation scores don't improve for 5 rounds.\n",
      "Early stopping, best iteration is:\n",
      "[1]\ttraining's rmse: 1.71288\tvalid_1's rmse: 1.57982\n",
      "Training until validation scores don't improve for 5 rounds.\n",
      "Early stopping, best iteration is:\n",
      "[9]\ttraining's rmse: 1.68944\tvalid_1's rmse: 1.71212\n",
      "Training until validation scores don't improve for 5 rounds.\n",
      "Early stopping, best iteration is:\n",
      "[1]\ttraining's rmse: 1.70704\tvalid_1's rmse: 1.64409\n"
     ]
    }
   ],
   "source": [
    "shap_values = np.zeros((new_train.shape[0],new_train.shape[1]+1))\n",
    "\n",
    "for train_index, test_index in kf.split(new_train):\n",
    "    \n",
    "    X_tr, X_tst = new_train.values[train_index], new_train.values[test_index]\n",
    "    y_tr, y_tst = log_target[train_index], log_target[test_index]\n",
    "    \n",
    "    train_set = lgb.Dataset(X_tr, label=y_tr)\n",
    "    valid_set = lgb.Dataset(X_tst, label=y_tst, reference=train_set)\n",
    "    \n",
    "    bst = lgb.train(params, train_set, num_boost_round=1500, valid_sets=[train_set, valid_set], early_stopping_rounds=5,\n",
    "                    verbose_eval=200)\n",
    "\n",
    "    shap_values += shap.TreeExplainer(bst).shap_values(new_train.values)/n_splits"
   ]
  },
  {
   "cell_type": "code",
   "execution_count": 67,
   "metadata": {},
   "outputs": [
    {
     "data": {
      "image/png": "[encoded data removed]",
      "text/plain": [
       "<Figure size 576x684 with 2 Axes>"
      ]
     },
     "metadata": {},
     "output_type": "display_data"
    }
   ],
   "source": [
    "shap.summary_plot(shap_values, new_train, max_display=20, plot_type='violin')"
   ]
  },
  {
   "cell_type": "code",
   "execution_count": 68,
   "metadata": {},
   "outputs": [],
   "source": [
    "N = 150\n",
    "sorted_columns = np.argsort(np.sum(np.abs(shap_values), axis=0)[:-1])[::-1]\n",
    "most_relevant = train_data.columns[sorted_columns[:N]]"
   ]
  },
  {
   "cell_type": "code",
   "execution_count": 69,
   "metadata": {},
   "outputs": [],
   "source": [
    "union_cols = list(set(most_relevant)|set(cols_leak))\n",
    "#diff_cols = list(set(most_relevant)-set(cols_leak))"
   ]
  },
  {
   "cell_type": "code",
   "execution_count": 107,
   "metadata": {},
   "outputs": [],
   "source": [
    "feat_train = train_data\n",
    "feat_test = test_data"
   ]
  },
  {
   "cell_type": "code",
   "execution_count": 108,
   "metadata": {},
   "outputs": [],
   "source": [
    "feat_train = feat_train[feat_train.isna().sum().sort_values().index.values]\n",
    "feat_test = feat_test[feat_train.isna().sum().sort_values().index.values]"
   ]
  },
  {
   "cell_type": "code",
   "execution_count": null,
   "metadata": {},
   "outputs": [],
   "source": [
    "feats.remove('a7f6de992')\n",
    "feats.remove('ae28689a2')"
   ]
  },
  {
   "cell_type": "code",
   "execution_count": null,
   "metadata": {},
   "outputs": [],
   "source": [
    "feat_train = train_data[union_cols]\n",
    "feat_test = test_data[union_cols]"
   ]
  },
  {
   "cell_type": "code",
   "execution_count": null,
   "metadata": {},
   "outputs": [],
   "source": [
    "stat_train = stats_prop(feat_train)\n",
    "stat_test = stats_prop(feat_test)"
   ]
  },
  {
   "cell_type": "code",
   "execution_count": 109,
   "metadata": {},
   "outputs": [],
   "source": [
    "feat_train = feat_train.drop(idx_leak, axis=0)\n",
    "#stat_train = stat_train.drop(idx_leak, axis=0)"
   ]
  },
  {
   "cell_type": "markdown",
   "metadata": {},
   "source": [
    "#### Assembly"
   ]
  },
  {
   "cell_type": "code",
   "execution_count": 110,
   "metadata": {},
   "outputs": [],
   "source": [
    "train_final = np.hstack((feat_train.values, stat_train.values))\n",
    "test_final = np.hstack((feat_test.values, stat_test.values))"
   ]
  },
  {
   "cell_type": "code",
   "execution_count": 111,
   "metadata": {},
   "outputs": [
    {
     "name": "stdout",
     "output_type": "stream",
     "text": [
      "Final number of features: 4764\n"
     ]
    }
   ],
   "source": [
    "print('Final number of features: %i' % train_final.shape[1])"
   ]
  },
  {
   "cell_type": "markdown",
   "metadata": {},
   "source": [
    "### oof train+test"
   ]
  },
  {
   "cell_type": "code",
   "execution_count": 94,
   "metadata": {},
   "outputs": [],
   "source": [
    "train_df = pd.DataFrame.from_dict({'ID': train_ID})\n",
    "test_df = pd.DataFrame.from_dict({'ID': test_ID})"
   ]
  },
  {
   "cell_type": "code",
   "execution_count": 120,
   "metadata": {},
   "outputs": [],
   "source": [
    "def lgbCV(ooftrain, ooftest, n_folds=3, multiplier=10):\n",
    "    params = {'boosting': 'gbdt', 'objective':'regression', 'learning_rate':0.002, 'metric':'rmse', 'max_bin':63, \n",
    "              'lambda_l2': 0.1, 'device':'cpu', 'feature_fraction': 0.5, 'lambda_l1': 0.002}\n",
    "    for i in range(multiplier):\n",
    "        ooftrain['lgb_'+str(i)] = np.zeros(train_ID.shape[0])\n",
    "        ooftest['lgb_'+str(i)] = np.zeros(test_ID.shape[0])\n",
    "        kf = KFold(n_splits=n_folds,shuffle=True)\n",
    "        res = []\n",
    "        for train_index, test_index in kf.split(train_final):\n",
    "            X_tr, X_tst = train_final[train_index], train_final[test_index]\n",
    "            y_tr, y_tst = log_target[train_index], log_target[test_index]\n",
    "\n",
    "            train_set = lgb.Dataset(X_tr, label=y_tr)\n",
    "            valid_set = lgb.Dataset(X_tst, label=y_tst, reference=train_set)\n",
    "\n",
    "            bst = lgb.train(params, train_set, num_boost_round=7500, valid_sets=[train_set, valid_set],\n",
    "                            early_stopping_rounds=500, verbose_eval=False)\n",
    "\n",
    "            #predtrain_val = predtrain[test_index]\n",
    "            \n",
    "            y_val = bst.predict(X_tst, num_iteration=bst.best_iteration)\n",
    "            \n",
    "            #y_val[predtrain_val>0.] = predtrain_val[predtrain_val>0]\n",
    "\n",
    "            rmsle = np.sqrt(mean_squared_error(y_tst, y_val))\n",
    "            \n",
    "            res.append(rmsle)\n",
    "            \n",
    "            ooftrain['lgb_'+str(i)][test_index] = np.expm1(y_val)\n",
    "    \n",
    "            ooftest['lgb_'+str(i)] = ooftest['lgb_'+str(i)] + np.expm1(bst.predict(test_final, \n",
    "                                                                                   num_iteration=bst.best_iteration))/n_folds\n",
    "\n",
    "        print(np.mean(res))\n",
    "    return"
   ]
  },
  {
   "cell_type": "code",
   "execution_count": 121,
   "metadata": {},
   "outputs": [],
   "source": [
    "def xgbCV(ooftrain, ooftest, n_folds=4, multiplier=10):\n",
    "    params = {'booster': 'gbtree', 'learning_rate':0.003, 'colsample_bytree': .75, 'eval_metric':'rmse', 'lambda': 0.0004,\n",
    "              'alpha': 0., 'min_child_weight': 4, 'subsample': 0.15}\n",
    "    test_set = xgb.DMatrix(test_final)\n",
    "    for i in range(multiplier):\n",
    "        ooftrain['xgb_'+str(i)] = np.zeros(train_ID.shape[0])\n",
    "        ooftest['xgb_'+str(i)] = np.zeros(test_ID.shape[0])\n",
    "        kf = KFold(n_splits=n_folds,shuffle=True)\n",
    "        res = []\n",
    "        for train_index, test_index in kf.split(train_final):\n",
    "            X_tr, X_tst = train_final[train_index], train_final[test_index]\n",
    "            y_tr, y_tst = log_target[train_index], log_target[test_index]\n",
    "\n",
    "            train_set = xgb.DMatrix(X_tr, label=y_tr)\n",
    "            valid_set = xgb.DMatrix(X_tst, label=y_tst)\n",
    "\n",
    "            bst = xgb.train(params, train_set, num_boost_round=20000, evals=[(train_set, 'train'), (valid_set, 'val')],\n",
    "                            early_stopping_rounds=500, verbose_eval=False)\n",
    "\n",
    "            y_val = bst.predict(valid_set, ntree_limit=bst.best_ntree_limit)\n",
    "            \n",
    "            #predtrain_val = predtrain[test_index]\n",
    "            \n",
    "            #y_val[predtrain_val>0.] = predtrain_val[predtrain_val>0]\n",
    "\n",
    "            rmsle = np.sqrt(mean_squared_error(y_tst, y_val))\n",
    "            \n",
    "            res.append(rmsle)\n",
    "            \n",
    "            ooftrain['xgb_'+str(i)][test_index] = np.expm1(y_val)\n",
    "    \n",
    "            ooftest['xgb_'+str(i)] = ooftest['xgb_'+str(i)] + np.expm1(bst.predict(test_set,\n",
    "                                                                                     ntree_limit=bst.best_ntree_limit))/n_folds\n",
    "\n",
    "        print(np.mean(res))\n",
    "    return"
   ]
  },
  {
   "cell_type": "code",
   "execution_count": 122,
   "metadata": {},
   "outputs": [],
   "source": [
    "def cbCV(ooftrain, ooftest, n_folds=4, multiplier=10):\n",
    "    for i in range(multiplier):\n",
    "        ooftrain['cb_'+str(i)] = np.zeros(train_ID.shape[0])\n",
    "        ooftest['cb_'+str(i)] = np.zeros(test_ID.shape[0])\n",
    "        kf = KFold(n_splits=n_folds,shuffle=True)\n",
    "        res = []\n",
    "        for train_index, test_index in kf.split(train_final):\n",
    "            X_tr, X_tst = train_final[train_index], train_final[test_index]\n",
    "            y_tr, y_tst = log_target[train_index], log_target[test_index]\n",
    "\n",
    "            bst = cb.CatBoostRegressor(eta=0.01, l2_leaf_reg=8, border_count=45, iterations=7500,\n",
    "                                       loss_function='RMSE', eval_metric='RMSE', depth=5)\n",
    "    \n",
    "            bst.fit(X_tr, y_tr, use_best_model=True, eval_set=(X_tst, y_tst), verbose=False)\n",
    "\n",
    "            y_val = bst.predict(X_tst)\n",
    "\n",
    "            rmsle = np.sqrt(mean_squared_error(y_tst, y_val))\n",
    "            \n",
    "            res.append(rmsle)\n",
    "            \n",
    "            ooftrain['cb_'+str(i)][test_index] = np.expm1(y_val)\n",
    "    \n",
    "            ooftest['cb_'+str(i)] = ooftest['cb_'+str(i)] + np.expm1(bst.predict(test_final))/n_folds\n",
    "\n",
    "        print(np.mean(res))\n",
    "    return"
   ]
  },
  {
   "cell_type": "code",
   "execution_count": 123,
   "metadata": {},
   "outputs": [
    {
     "name": "stdout",
     "output_type": "stream",
     "text": [
      "1.6987086595860852\n",
      "1.698908619122357\n",
      "1.6987097888067015\n",
      "1.701007189273505\n",
      "1.6996005453429621\n",
      "1.701900528178926\n",
      "1.7006514673368602\n",
      "1.700046218105123\n",
      "1.6988556147510077\n",
      "1.7000795982351553\n"
     ]
    }
   ],
   "source": [
    "lgbCV(train_df,test_df)"
   ]
  },
  {
   "cell_type": "code",
   "execution_count": 80,
   "metadata": {},
   "outputs": [
    {
     "name": "stdout",
     "output_type": "stream",
     "text": [
      "1.753413370789545\n",
      "1.7429450380295344\n",
      "1.7347238834013128\n",
      "1.7502560436858898\n",
      "1.7442130251524433\n",
      "1.7454717536271072\n",
      "1.7274041561163038\n",
      "1.7623968415882652\n",
      "1.7565706779197328\n",
      "1.7654370172207414\n"
     ]
    }
   ],
   "source": [
    "xgbCV(train_df,test_df)"
   ]
  },
  {
   "cell_type": "code",
   "execution_count": null,
   "metadata": {},
   "outputs": [],
   "source": [
    "cbCV(train_df,test_df)"
   ]
  },
  {
   "cell_type": "code",
   "execution_count": 37,
   "metadata": {},
   "outputs": [
    {
     "data": {
      "text/html": [
       "<div>\n",
       "<style scoped>\n",
       "    .dataframe tbody tr th:only-of-type {\n",
       "        vertical-align: middle;\n",
       "    }\n",
       "\n",
       "    .dataframe tbody tr th {\n",
       "        vertical-align: top;\n",
       "    }\n",
       "\n",
       "    .dataframe thead th {\n",
       "        text-align: right;\n",
       "    }\n",
       "</style>\n",
       "<table border=\"1\" class=\"dataframe\">\n",
       "  <thead>\n",
       "    <tr style=\"text-align: right;\">\n",
       "      <th></th>\n",
       "      <th>ID</th>\n",
       "      <th>lgb_0</th>\n",
       "      <th>lgb_1</th>\n",
       "      <th>lgb_2</th>\n",
       "      <th>lgb_3</th>\n",
       "      <th>lgb_4</th>\n",
       "      <th>lgb_5</th>\n",
       "      <th>lgb_6</th>\n",
       "      <th>lgb_7</th>\n",
       "      <th>lgb_8</th>\n",
       "      <th>...</th>\n",
       "      <th>xgb_0</th>\n",
       "      <th>xgb_1</th>\n",
       "      <th>xgb_2</th>\n",
       "      <th>xgb_3</th>\n",
       "      <th>xgb_4</th>\n",
       "      <th>xgb_5</th>\n",
       "      <th>xgb_6</th>\n",
       "      <th>xgb_7</th>\n",
       "      <th>xgb_8</th>\n",
       "      <th>xgb_9</th>\n",
       "    </tr>\n",
       "  </thead>\n",
       "  <tbody>\n",
       "    <tr>\n",
       "      <th>0</th>\n",
       "      <td>000d6aaf2</td>\n",
       "      <td>2565.983436</td>\n",
       "      <td>2086.443558</td>\n",
       "      <td>2260.534071</td>\n",
       "      <td>2701.728041</td>\n",
       "      <td>2069.787706</td>\n",
       "      <td>2261.766193</td>\n",
       "      <td>1973.316905</td>\n",
       "      <td>2471.285865</td>\n",
       "      <td>2407.232077</td>\n",
       "      <td>...</td>\n",
       "      <td>2627.829102</td>\n",
       "      <td>2392.968750</td>\n",
       "      <td>2945.404297</td>\n",
       "      <td>2270.577881</td>\n",
       "      <td>3017.836182</td>\n",
       "      <td>2678.730957</td>\n",
       "      <td>2188.171631</td>\n",
       "      <td>2449.648926</td>\n",
       "      <td>2809.797852</td>\n",
       "      <td>2612.948242</td>\n",
       "    </tr>\n",
       "    <tr>\n",
       "      <th>1</th>\n",
       "      <td>000fbd867</td>\n",
       "      <td>2921.002129</td>\n",
       "      <td>3093.502325</td>\n",
       "      <td>3527.628101</td>\n",
       "      <td>3248.547739</td>\n",
       "      <td>3445.516149</td>\n",
       "      <td>2918.703973</td>\n",
       "      <td>2778.843722</td>\n",
       "      <td>2886.965687</td>\n",
       "      <td>3599.330579</td>\n",
       "      <td>...</td>\n",
       "      <td>3096.312256</td>\n",
       "      <td>3603.129395</td>\n",
       "      <td>3107.948486</td>\n",
       "      <td>3022.036621</td>\n",
       "      <td>3217.696289</td>\n",
       "      <td>2850.651855</td>\n",
       "      <td>3544.313232</td>\n",
       "      <td>3209.409912</td>\n",
       "      <td>3028.671875</td>\n",
       "      <td>3537.489990</td>\n",
       "    </tr>\n",
       "    <tr>\n",
       "      <th>2</th>\n",
       "      <td>0027d6b71</td>\n",
       "      <td>2798.523489</td>\n",
       "      <td>2511.300145</td>\n",
       "      <td>2504.945872</td>\n",
       "      <td>2202.690138</td>\n",
       "      <td>2670.775177</td>\n",
       "      <td>2601.656087</td>\n",
       "      <td>2615.446777</td>\n",
       "      <td>2655.241777</td>\n",
       "      <td>2571.651617</td>\n",
       "      <td>...</td>\n",
       "      <td>2393.968994</td>\n",
       "      <td>2317.320068</td>\n",
       "      <td>2409.109375</td>\n",
       "      <td>2621.826660</td>\n",
       "      <td>2430.071289</td>\n",
       "      <td>2143.507568</td>\n",
       "      <td>2633.504883</td>\n",
       "      <td>2418.440674</td>\n",
       "      <td>2413.145508</td>\n",
       "      <td>2190.652100</td>\n",
       "    </tr>\n",
       "    <tr>\n",
       "      <th>3</th>\n",
       "      <td>0028cbf45</td>\n",
       "      <td>682.562484</td>\n",
       "      <td>810.585950</td>\n",
       "      <td>799.497231</td>\n",
       "      <td>750.521792</td>\n",
       "      <td>883.039854</td>\n",
       "      <td>726.673191</td>\n",
       "      <td>866.608056</td>\n",
       "      <td>796.145762</td>\n",
       "      <td>1044.218287</td>\n",
       "      <td>...</td>\n",
       "      <td>806.731812</td>\n",
       "      <td>1164.073853</td>\n",
       "      <td>1011.080688</td>\n",
       "      <td>1109.988281</td>\n",
       "      <td>845.801270</td>\n",
       "      <td>948.634949</td>\n",
       "      <td>831.039795</td>\n",
       "      <td>1009.720154</td>\n",
       "      <td>1067.922363</td>\n",
       "      <td>842.580750</td>\n",
       "    </tr>\n",
       "    <tr>\n",
       "      <th>4</th>\n",
       "      <td>002a68644</td>\n",
       "      <td>3142.640857</td>\n",
       "      <td>3757.304215</td>\n",
       "      <td>3131.859651</td>\n",
       "      <td>2781.894977</td>\n",
       "      <td>3566.504390</td>\n",
       "      <td>3749.006871</td>\n",
       "      <td>3716.042291</td>\n",
       "      <td>3941.930195</td>\n",
       "      <td>3235.503512</td>\n",
       "      <td>...</td>\n",
       "      <td>3036.584473</td>\n",
       "      <td>3366.578369</td>\n",
       "      <td>3159.438232</td>\n",
       "      <td>2838.515869</td>\n",
       "      <td>3179.260010</td>\n",
       "      <td>2630.410156</td>\n",
       "      <td>3414.225342</td>\n",
       "      <td>3413.212402</td>\n",
       "      <td>3161.795898</td>\n",
       "      <td>3132.460938</td>\n",
       "    </tr>\n",
       "  </tbody>\n",
       "</table>\n",
       "<p>5 rows × 21 columns</p>\n",
       "</div>"
      ],
      "text/plain": [
       "          ID        lgb_0        lgb_1        lgb_2        lgb_3        lgb_4  \\\n",
       "0  000d6aaf2  2565.983436  2086.443558  2260.534071  2701.728041  2069.787706   \n",
       "1  000fbd867  2921.002129  3093.502325  3527.628101  3248.547739  3445.516149   \n",
       "2  0027d6b71  2798.523489  2511.300145  2504.945872  2202.690138  2670.775177   \n",
       "3  0028cbf45   682.562484   810.585950   799.497231   750.521792   883.039854   \n",
       "4  002a68644  3142.640857  3757.304215  3131.859651  2781.894977  3566.504390   \n",
       "\n",
       "         lgb_5        lgb_6        lgb_7        lgb_8     ...       \\\n",
       "0  2261.766193  1973.316905  2471.285865  2407.232077     ...        \n",
       "1  2918.703973  2778.843722  2886.965687  3599.330579     ...        \n",
       "2  2601.656087  2615.446777  2655.241777  2571.651617     ...        \n",
       "3   726.673191   866.608056   796.145762  1044.218287     ...        \n",
       "4  3749.006871  3716.042291  3941.930195  3235.503512     ...        \n",
       "\n",
       "         xgb_0        xgb_1        xgb_2        xgb_3        xgb_4  \\\n",
       "0  2627.829102  2392.968750  2945.404297  2270.577881  3017.836182   \n",
       "1  3096.312256  3603.129395  3107.948486  3022.036621  3217.696289   \n",
       "2  2393.968994  2317.320068  2409.109375  2621.826660  2430.071289   \n",
       "3   806.731812  1164.073853  1011.080688  1109.988281   845.801270   \n",
       "4  3036.584473  3366.578369  3159.438232  2838.515869  3179.260010   \n",
       "\n",
       "         xgb_5        xgb_6        xgb_7        xgb_8        xgb_9  \n",
       "0  2678.730957  2188.171631  2449.648926  2809.797852  2612.948242  \n",
       "1  2850.651855  3544.313232  3209.409912  3028.671875  3537.489990  \n",
       "2  2143.507568  2633.504883  2418.440674  2413.145508  2190.652100  \n",
       "3   948.634949   831.039795  1009.720154  1067.922363   842.580750  \n",
       "4  2630.410156  3414.225342  3413.212402  3161.795898  3132.460938  \n",
       "\n",
       "[5 rows x 21 columns]"
      ]
     },
     "execution_count": 37,
     "metadata": {},
     "output_type": "execute_result"
    }
   ],
   "source": [
    "train_df.head()"
   ]
  },
  {
   "cell_type": "code",
   "execution_count": 38,
   "metadata": {},
   "outputs": [
    {
     "data": {
      "text/html": [
       "<div>\n",
       "<style scoped>\n",
       "    .dataframe tbody tr th:only-of-type {\n",
       "        vertical-align: middle;\n",
       "    }\n",
       "\n",
       "    .dataframe tbody tr th {\n",
       "        vertical-align: top;\n",
       "    }\n",
       "\n",
       "    .dataframe thead th {\n",
       "        text-align: right;\n",
       "    }\n",
       "</style>\n",
       "<table border=\"1\" class=\"dataframe\">\n",
       "  <thead>\n",
       "    <tr style=\"text-align: right;\">\n",
       "      <th></th>\n",
       "      <th>ID</th>\n",
       "      <th>lgb_0</th>\n",
       "      <th>lgb_1</th>\n",
       "      <th>lgb_2</th>\n",
       "      <th>lgb_3</th>\n",
       "      <th>lgb_4</th>\n",
       "      <th>lgb_5</th>\n",
       "      <th>lgb_6</th>\n",
       "      <th>lgb_7</th>\n",
       "      <th>lgb_8</th>\n",
       "      <th>...</th>\n",
       "      <th>xgb_0</th>\n",
       "      <th>xgb_1</th>\n",
       "      <th>xgb_2</th>\n",
       "      <th>xgb_3</th>\n",
       "      <th>xgb_4</th>\n",
       "      <th>xgb_5</th>\n",
       "      <th>xgb_6</th>\n",
       "      <th>xgb_7</th>\n",
       "      <th>xgb_8</th>\n",
       "      <th>xgb_9</th>\n",
       "    </tr>\n",
       "  </thead>\n",
       "  <tbody>\n",
       "    <tr>\n",
       "      <th>0</th>\n",
       "      <td>000137c73</td>\n",
       "      <td>2208.472205</td>\n",
       "      <td>2145.254689</td>\n",
       "      <td>2044.938018</td>\n",
       "      <td>2175.858984</td>\n",
       "      <td>2176.588397</td>\n",
       "      <td>2115.722348</td>\n",
       "      <td>2052.703093</td>\n",
       "      <td>2060.573657</td>\n",
       "      <td>2117.585963</td>\n",
       "      <td>...</td>\n",
       "      <td>2611.120178</td>\n",
       "      <td>2636.073608</td>\n",
       "      <td>2449.379456</td>\n",
       "      <td>2581.673767</td>\n",
       "      <td>2405.734680</td>\n",
       "      <td>2782.324219</td>\n",
       "      <td>2757.645447</td>\n",
       "      <td>2912.211975</td>\n",
       "      <td>2732.431244</td>\n",
       "      <td>2689.832275</td>\n",
       "    </tr>\n",
       "    <tr>\n",
       "      <th>1</th>\n",
       "      <td>00021489f</td>\n",
       "      <td>1739.514761</td>\n",
       "      <td>1848.670285</td>\n",
       "      <td>1841.256499</td>\n",
       "      <td>1699.112199</td>\n",
       "      <td>1763.266443</td>\n",
       "      <td>1738.139625</td>\n",
       "      <td>1744.471739</td>\n",
       "      <td>1853.519936</td>\n",
       "      <td>1891.919021</td>\n",
       "      <td>...</td>\n",
       "      <td>1944.980743</td>\n",
       "      <td>1898.766663</td>\n",
       "      <td>1906.157501</td>\n",
       "      <td>2001.843994</td>\n",
       "      <td>1936.309601</td>\n",
       "      <td>1951.709198</td>\n",
       "      <td>2199.655151</td>\n",
       "      <td>2273.914520</td>\n",
       "      <td>2078.324005</td>\n",
       "      <td>2043.855438</td>\n",
       "    </tr>\n",
       "    <tr>\n",
       "      <th>2</th>\n",
       "      <td>0004d7953</td>\n",
       "      <td>1964.183165</td>\n",
       "      <td>1975.447112</td>\n",
       "      <td>2028.329491</td>\n",
       "      <td>2038.659446</td>\n",
       "      <td>2012.352609</td>\n",
       "      <td>1976.024373</td>\n",
       "      <td>2015.253768</td>\n",
       "      <td>2023.193226</td>\n",
       "      <td>2024.028484</td>\n",
       "      <td>...</td>\n",
       "      <td>2323.575500</td>\n",
       "      <td>2385.110046</td>\n",
       "      <td>2360.122253</td>\n",
       "      <td>2276.601196</td>\n",
       "      <td>2398.879639</td>\n",
       "      <td>2378.556152</td>\n",
       "      <td>2186.331970</td>\n",
       "      <td>2429.158539</td>\n",
       "      <td>2254.248047</td>\n",
       "      <td>2351.267395</td>\n",
       "    </tr>\n",
       "    <tr>\n",
       "      <th>3</th>\n",
       "      <td>00056a333</td>\n",
       "      <td>5480.846754</td>\n",
       "      <td>5328.587406</td>\n",
       "      <td>5226.245698</td>\n",
       "      <td>5339.886898</td>\n",
       "      <td>5440.191024</td>\n",
       "      <td>5333.590951</td>\n",
       "      <td>5503.242323</td>\n",
       "      <td>5490.707796</td>\n",
       "      <td>5597.542496</td>\n",
       "      <td>...</td>\n",
       "      <td>4833.179688</td>\n",
       "      <td>5087.514526</td>\n",
       "      <td>4673.544983</td>\n",
       "      <td>4614.738159</td>\n",
       "      <td>4858.242004</td>\n",
       "      <td>4480.678223</td>\n",
       "      <td>4381.140625</td>\n",
       "      <td>4777.290649</td>\n",
       "      <td>4843.488647</td>\n",
       "      <td>4880.068176</td>\n",
       "    </tr>\n",
       "    <tr>\n",
       "      <th>4</th>\n",
       "      <td>00056d8eb</td>\n",
       "      <td>2254.158540</td>\n",
       "      <td>2181.381761</td>\n",
       "      <td>2186.360207</td>\n",
       "      <td>2252.343034</td>\n",
       "      <td>2159.100507</td>\n",
       "      <td>2292.238724</td>\n",
       "      <td>2282.147165</td>\n",
       "      <td>2287.989536</td>\n",
       "      <td>2233.866354</td>\n",
       "      <td>...</td>\n",
       "      <td>2448.493561</td>\n",
       "      <td>2446.369202</td>\n",
       "      <td>2657.072449</td>\n",
       "      <td>2438.778137</td>\n",
       "      <td>2490.410522</td>\n",
       "      <td>2422.372833</td>\n",
       "      <td>2605.997681</td>\n",
       "      <td>2544.232666</td>\n",
       "      <td>2579.081238</td>\n",
       "      <td>2627.478516</td>\n",
       "    </tr>\n",
       "  </tbody>\n",
       "</table>\n",
       "<p>5 rows × 21 columns</p>\n",
       "</div>"
      ],
      "text/plain": [
       "          ID        lgb_0        lgb_1        lgb_2        lgb_3        lgb_4  \\\n",
       "0  000137c73  2208.472205  2145.254689  2044.938018  2175.858984  2176.588397   \n",
       "1  00021489f  1739.514761  1848.670285  1841.256499  1699.112199  1763.266443   \n",
       "2  0004d7953  1964.183165  1975.447112  2028.329491  2038.659446  2012.352609   \n",
       "3  00056a333  5480.846754  5328.587406  5226.245698  5339.886898  5440.191024   \n",
       "4  00056d8eb  2254.158540  2181.381761  2186.360207  2252.343034  2159.100507   \n",
       "\n",
       "         lgb_5        lgb_6        lgb_7        lgb_8     ...       \\\n",
       "0  2115.722348  2052.703093  2060.573657  2117.585963     ...        \n",
       "1  1738.139625  1744.471739  1853.519936  1891.919021     ...        \n",
       "2  1976.024373  2015.253768  2023.193226  2024.028484     ...        \n",
       "3  5333.590951  5503.242323  5490.707796  5597.542496     ...        \n",
       "4  2292.238724  2282.147165  2287.989536  2233.866354     ...        \n",
       "\n",
       "         xgb_0        xgb_1        xgb_2        xgb_3        xgb_4  \\\n",
       "0  2611.120178  2636.073608  2449.379456  2581.673767  2405.734680   \n",
       "1  1944.980743  1898.766663  1906.157501  2001.843994  1936.309601   \n",
       "2  2323.575500  2385.110046  2360.122253  2276.601196  2398.879639   \n",
       "3  4833.179688  5087.514526  4673.544983  4614.738159  4858.242004   \n",
       "4  2448.493561  2446.369202  2657.072449  2438.778137  2490.410522   \n",
       "\n",
       "         xgb_5        xgb_6        xgb_7        xgb_8        xgb_9  \n",
       "0  2782.324219  2757.645447  2912.211975  2732.431244  2689.832275  \n",
       "1  1951.709198  2199.655151  2273.914520  2078.324005  2043.855438  \n",
       "2  2378.556152  2186.331970  2429.158539  2254.248047  2351.267395  \n",
       "3  4480.678223  4381.140625  4777.290649  4843.488647  4880.068176  \n",
       "4  2422.372833  2605.997681  2544.232666  2579.081238  2627.478516  \n",
       "\n",
       "[5 rows x 21 columns]"
      ]
     },
     "execution_count": 38,
     "metadata": {},
     "output_type": "execute_result"
    }
   ],
   "source": [
    "test_df.head()"
   ]
  },
  {
   "cell_type": "code",
   "execution_count": null,
   "metadata": {},
   "outputs": [],
   "source": [
    "train_df.to_csv('../submission_files/leak/oof/train_df_440f_10x5fold.csv', index=False)\n",
    "test_df.to_csv('../submission_files/leak/oof/test_df_440f_10x5fold.csv', index=False)\n",
    "#train_df = pd.read_csv('../submission_files/leak/oof/train_df_sumf_pc_10x5fold.csv')\n",
    "#test_df = pd.read_csv('../submission_files/leak/oof/test_df_sumf_pc_10x5fold.csv')"
   ]
  },
  {
   "cell_type": "code",
   "execution_count": 124,
   "metadata": {},
   "outputs": [],
   "source": [
    "train_df = train_df.drop(['ID'], axis=1)\n",
    "test_df = test_df.drop(['ID'], axis=1)"
   ]
  },
  {
   "cell_type": "code",
   "execution_count": 125,
   "metadata": {},
   "outputs": [],
   "source": [
    "#train_df = train_df[train_df.columns[:10]]\n",
    "#test_df = test_df[test_df.columns[:10]]"
   ]
  },
  {
   "cell_type": "code",
   "execution_count": 126,
   "metadata": {},
   "outputs": [],
   "source": [
    "#train_df2 = np.hstack((train_df.values, stat_train.values))#, stat_train2.values))\n",
    "#test_df2 = np.hstack((test_df.values, stat_test.values))#, stat_test2.values))\n",
    "train_df2 = train_df.values\n",
    "test_df2 = test_df.values"
   ]
  },
  {
   "cell_type": "code",
   "execution_count": 127,
   "metadata": {},
   "outputs": [
    {
     "data": {
      "text/plain": [
       "(4459, 10)"
      ]
     },
     "execution_count": 127,
     "metadata": {},
     "output_type": "execute_result"
    }
   ],
   "source": [
    "train_df2.shape"
   ]
  },
  {
   "cell_type": "markdown",
   "metadata": {},
   "source": [
    "### Final CV\n",
    "\n",
    "#### cb"
   ]
  },
  {
   "cell_type": "code",
   "execution_count": 128,
   "metadata": {},
   "outputs": [],
   "source": [
    "def finalCV(n_folds=3, multiplier=10):\n",
    "    submission = pd.DataFrame.from_dict({'ID': test_ID, 'target': np.zeros(test_ID.shape[0])})\n",
    "    for i in range(multiplier):\n",
    "        preds = np.zeros(test_ID.shape[0])\n",
    "        kf = KFold(n_splits=n_folds,shuffle=True)\n",
    "        res = []\n",
    "        for train_index, test_index in kf.split(train_df2):\n",
    "            X_tr, X_tst = train_df2[train_index], train_df2[test_index]\n",
    "            y_tr, y_tst = log_target[train_index], log_target[test_index]\n",
    "\n",
    "            bst = cb.CatBoostRegressor(eta=0.01, iterations=2500,\n",
    "                                       loss_function='RMSE', eval_metric='RMSE', depth=4)\n",
    "    \n",
    "            bst.fit(X_tr, y_tr, use_best_model=True, eval_set=(X_tst, y_tst), verbose=False)\n",
    "\n",
    "            y_val = bst.predict(X_tst)\n",
    "\n",
    "            rmsle = np.sqrt(mean_squared_error(y_tst, y_val))\n",
    "            \n",
    "            res.append(rmsle)\n",
    "            \n",
    "            preds = preds + np.expm1(bst.predict(test_df2))/n_folds\n",
    "\n",
    "        print(np.mean(res))\n",
    "        \n",
    "        submission.target = submission.target + preds/multiplier\n",
    "    return submission"
   ]
  },
  {
   "cell_type": "code",
   "execution_count": 129,
   "metadata": {},
   "outputs": [],
   "source": [
    "def lgbfinalCV(n_folds=5, multiplier=10):\n",
    "    params = {'boosting': 'gbdt', 'objective':'regression', 'learning_rate':0.01, 'metric':'rmse', 'max_bin':63, \n",
    "              'lambda_l2': 0.1, 'device':'cpu', 'feature_fraction': 0.1, 'lambda_l1': 0.002}\n",
    "    submission = pd.DataFrame.from_dict({'ID': test_ID, 'target': np.zeros(test_ID.shape[0])})\n",
    "    for i in range(multiplier):\n",
    "        preds = np.zeros(test_ID.shape[0])\n",
    "        kf = KFold(n_splits=n_folds,shuffle=True)\n",
    "        res = []\n",
    "        for train_index, test_index in kf.split(train_df2):\n",
    "            X_tr, X_tst = train_df2[train_index], train_df2[test_index]\n",
    "            y_tr, y_tst = log_target[train_index], log_target[test_index]\n",
    "\n",
    "            train_set = lgb.Dataset(X_tr, label=y_tr)\n",
    "            valid_set = lgb.Dataset(X_tst, label=y_tst, reference=train_set)\n",
    "\n",
    "            bst = lgb.train(params, train_set, num_boost_round=7500, valid_sets=[train_set, valid_set],\n",
    "                            early_stopping_rounds=500, verbose_eval=False)\n",
    "\n",
    "            y_val = bst.predict(X_tst, num_iteration=bst.best_iteration)\n",
    "\n",
    "            rmsle = np.sqrt(mean_squared_error(y_tst, y_val))\n",
    "            \n",
    "            res.append(rmsle)\n",
    "            \n",
    "            preds = preds + np.expm1(bst.predict(test_df2, num_iteration=bst.best_iteration))/n_folds\n",
    "\n",
    "        print(np.mean(res))\n",
    "        \n",
    "        submission.target = submission.target + preds/multiplier\n",
    "    return submission"
   ]
  },
  {
   "cell_type": "code",
   "execution_count": 130,
   "metadata": {},
   "outputs": [],
   "source": [
    "def xgbfinalCV(n_folds=5, multiplier=10):\n",
    "    params = {'booster': 'gbtree', 'learning_rate':0.003, 'colsample_bytree': .75, 'eval_metric':'rmse', 'lambda': 0.0004,\n",
    "              'alpha': 0., 'min_child_weight': 4, 'subsample': 0.15}\n",
    "    test_set = xgb.DMatrix(test_df2)\n",
    "    submission = pd.DataFrame.from_dict({'ID': test_ID, 'target': np.zeros(test_ID.shape[0])})\n",
    "    for i in range(multiplier):\n",
    "        preds = np.zeros(test_ID.shape[0])\n",
    "        kf = KFold(n_splits=n_folds,shuffle=True)\n",
    "        res = []\n",
    "        for train_index, test_index in kf.split(train_df2):\n",
    "            X_tr, X_tst = train_df2[train_index], train_df2[test_index]\n",
    "            y_tr, y_tst = log_target[train_index], log_target[test_index]\n",
    "\n",
    "            train_set = xgb.DMatrix(X_tr, label=y_tr)\n",
    "            valid_set = xgb.DMatrix(X_tst, label=y_tst)\n",
    "\n",
    "            bst = xgb.train(params, train_set, num_boost_round=20000, evals=[(train_set, 'train'), (valid_set, 'val')],\n",
    "                            early_stopping_rounds=500, verbose_eval=False)\n",
    "\n",
    "            y_val = bst.predict(valid_set, ntree_limit=bst.best_ntree_limit)\n",
    "\n",
    "            rmsle = np.sqrt(mean_squared_error(y_tst, y_val))\n",
    "            \n",
    "            res.append(rmsle)\n",
    "            \n",
    "            preds = preds + np.expm1(bst.predict(test_set, ntree_limit=bst.best_ntree_limit))/n_folds\n",
    "\n",
    "        print(np.mean(res))\n",
    "        \n",
    "        submission.target = submission.target + preds/multiplier\n",
    "    return submission"
   ]
  },
  {
   "cell_type": "code",
   "execution_count": 131,
   "metadata": {},
   "outputs": [
    {
     "name": "stdout",
     "output_type": "stream",
     "text": [
      "1.750840996888252\n"
     ]
    },
    {
     "ename": "KeyboardInterrupt",
     "evalue": "",
     "output_type": "error",
     "traceback": [
      "\u001b[1;31m---------------------------------------------------------------------------\u001b[0m",
      "\u001b[1;31mKeyboardInterrupt\u001b[0m                         Traceback (most recent call last)",
      "\u001b[1;32m<ipython-input-131-7b200f79c7fe>\u001b[0m in \u001b[0;36m<module>\u001b[1;34m()\u001b[0m\n\u001b[1;32m----> 1\u001b[1;33m \u001b[0msubmission_cb\u001b[0m \u001b[1;33m=\u001b[0m \u001b[0mfinalCV\u001b[0m\u001b[1;33m(\u001b[0m\u001b[1;33m)\u001b[0m\u001b[1;33m\u001b[0m\u001b[0m\n\u001b[0m",
      "\u001b[1;32m<ipython-input-128-b1128dd917da>\u001b[0m in \u001b[0;36mfinalCV\u001b[1;34m(n_folds, multiplier)\u001b[0m\n\u001b[0;32m     12\u001b[0m                                        loss_function='RMSE', eval_metric='RMSE', depth=4)\n\u001b[0;32m     13\u001b[0m \u001b[1;33m\u001b[0m\u001b[0m\n\u001b[1;32m---> 14\u001b[1;33m             \u001b[0mbst\u001b[0m\u001b[1;33m.\u001b[0m\u001b[0mfit\u001b[0m\u001b[1;33m(\u001b[0m\u001b[0mX_tr\u001b[0m\u001b[1;33m,\u001b[0m \u001b[0my_tr\u001b[0m\u001b[1;33m,\u001b[0m \u001b[0muse_best_model\u001b[0m\u001b[1;33m=\u001b[0m\u001b[1;32mTrue\u001b[0m\u001b[1;33m,\u001b[0m \u001b[0meval_set\u001b[0m\u001b[1;33m=\u001b[0m\u001b[1;33m(\u001b[0m\u001b[0mX_tst\u001b[0m\u001b[1;33m,\u001b[0m \u001b[0my_tst\u001b[0m\u001b[1;33m)\u001b[0m\u001b[1;33m,\u001b[0m \u001b[0mverbose\u001b[0m\u001b[1;33m=\u001b[0m\u001b[1;32mFalse\u001b[0m\u001b[1;33m)\u001b[0m\u001b[1;33m\u001b[0m\u001b[0m\n\u001b[0m\u001b[0;32m     15\u001b[0m \u001b[1;33m\u001b[0m\u001b[0m\n\u001b[0;32m     16\u001b[0m             \u001b[0my_val\u001b[0m \u001b[1;33m=\u001b[0m \u001b[0mbst\u001b[0m\u001b[1;33m.\u001b[0m\u001b[0mpredict\u001b[0m\u001b[1;33m(\u001b[0m\u001b[0mX_tst\u001b[0m\u001b[1;33m)\u001b[0m\u001b[1;33m\u001b[0m\u001b[0m\n",
      "\u001b[1;32mc:\\users\\cesar\\anaconda2\\envs\\py36\\lib\\site-packages\\catboost\\core.py\u001b[0m in \u001b[0;36mfit\u001b[1;34m(self, X, y, cat_features, sample_weight, baseline, use_best_model, eval_set, verbose, logging_level, plot, column_description)\u001b[0m\n\u001b[0;32m   1825\u001b[0m         \u001b[0mmodel\u001b[0m \u001b[1;33m:\u001b[0m \u001b[0mCatBoost\u001b[0m\u001b[1;33m\u001b[0m\u001b[0m\n\u001b[0;32m   1826\u001b[0m         \"\"\"\n\u001b[1;32m-> 1827\u001b[1;33m         \u001b[1;32mreturn\u001b[0m \u001b[0mself\u001b[0m\u001b[1;33m.\u001b[0m\u001b[0m_fit\u001b[0m\u001b[1;33m(\u001b[0m\u001b[0mX\u001b[0m\u001b[1;33m,\u001b[0m \u001b[0my\u001b[0m\u001b[1;33m,\u001b[0m \u001b[0mcat_features\u001b[0m\u001b[1;33m,\u001b[0m \u001b[1;32mNone\u001b[0m\u001b[1;33m,\u001b[0m \u001b[0msample_weight\u001b[0m\u001b[1;33m,\u001b[0m \u001b[1;32mNone\u001b[0m\u001b[1;33m,\u001b[0m \u001b[1;32mNone\u001b[0m\u001b[1;33m,\u001b[0m \u001b[0mbaseline\u001b[0m\u001b[1;33m,\u001b[0m \u001b[0muse_best_model\u001b[0m\u001b[1;33m,\u001b[0m \u001b[0meval_set\u001b[0m\u001b[1;33m,\u001b[0m \u001b[0mverbose\u001b[0m\u001b[1;33m,\u001b[0m \u001b[0mlogging_level\u001b[0m\u001b[1;33m,\u001b[0m \u001b[0mplot\u001b[0m\u001b[1;33m,\u001b[0m \u001b[0mcolumn_description\u001b[0m\u001b[1;33m)\u001b[0m\u001b[1;33m\u001b[0m\u001b[0m\n\u001b[0m\u001b[0;32m   1828\u001b[0m \u001b[1;33m\u001b[0m\u001b[0m\n\u001b[0;32m   1829\u001b[0m     \u001b[1;32mdef\u001b[0m \u001b[0mpredict\u001b[0m\u001b[1;33m(\u001b[0m\u001b[0mself\u001b[0m\u001b[1;33m,\u001b[0m \u001b[0mdata\u001b[0m\u001b[1;33m,\u001b[0m \u001b[0mntree_start\u001b[0m\u001b[1;33m=\u001b[0m\u001b[1;36m0\u001b[0m\u001b[1;33m,\u001b[0m \u001b[0mntree_end\u001b[0m\u001b[1;33m=\u001b[0m\u001b[1;36m0\u001b[0m\u001b[1;33m,\u001b[0m \u001b[0mthread_count\u001b[0m\u001b[1;33m=\u001b[0m\u001b[1;33m-\u001b[0m\u001b[1;36m1\u001b[0m\u001b[1;33m,\u001b[0m \u001b[0mverbose\u001b[0m\u001b[1;33m=\u001b[0m\u001b[1;32mNone\u001b[0m\u001b[1;33m)\u001b[0m\u001b[1;33m:\u001b[0m\u001b[1;33m\u001b[0m\u001b[0m\n",
      "\u001b[1;32mc:\\users\\cesar\\anaconda2\\envs\\py36\\lib\\site-packages\\catboost\\core.py\u001b[0m in \u001b[0;36m_fit\u001b[1;34m(self, X, y, cat_features, pairs, sample_weight, group_id, pairs_weight, baseline, use_best_model, eval_set, verbose, logging_level, plot, column_description)\u001b[0m\n\u001b[0;32m    695\u001b[0m                 \u001b[1;32mraise\u001b[0m \u001b[0mImportError\u001b[0m\u001b[1;33m(\u001b[0m\u001b[0mstr\u001b[0m\u001b[1;33m(\u001b[0m\u001b[0me\u001b[0m\u001b[1;33m)\u001b[0m\u001b[1;33m)\u001b[0m\u001b[1;33m\u001b[0m\u001b[0m\n\u001b[0;32m    696\u001b[0m         \u001b[1;32mwith\u001b[0m \u001b[0mlog_fixup\u001b[0m\u001b[1;33m(\u001b[0m\u001b[1;33m)\u001b[0m\u001b[1;33m:\u001b[0m\u001b[1;33m\u001b[0m\u001b[0m\n\u001b[1;32m--> 697\u001b[1;33m             \u001b[0mself\u001b[0m\u001b[1;33m.\u001b[0m\u001b[0m_train\u001b[0m\u001b[1;33m(\u001b[0m\u001b[0mtrain_pool\u001b[0m\u001b[1;33m,\u001b[0m \u001b[0meval_set\u001b[0m\u001b[1;33m,\u001b[0m \u001b[0mparams\u001b[0m\u001b[1;33m,\u001b[0m \u001b[0mallow_clear_pool\u001b[0m\u001b[1;33m)\u001b[0m\u001b[1;33m\u001b[0m\u001b[0m\n\u001b[0m\u001b[0;32m    698\u001b[0m         \u001b[1;32mif\u001b[0m \u001b[0mcalc_feature_importance\u001b[0m\u001b[1;33m:\u001b[0m\u001b[1;33m\u001b[0m\u001b[0m\n\u001b[0;32m    699\u001b[0m             \u001b[1;32mif\u001b[0m \u001b[0mallow_clear_pool\u001b[0m\u001b[1;33m:\u001b[0m\u001b[1;33m\u001b[0m\u001b[0m\n",
      "\u001b[1;32m_catboost.pyx\u001b[0m in \u001b[0;36m_catboost._CatBoostBase._train\u001b[1;34m()\u001b[0m\n",
      "\u001b[1;32m_catboost.pyx\u001b[0m in \u001b[0;36m_catboost._CatBoost._train\u001b[1;34m()\u001b[0m\n",
      "\u001b[1;32m_catboost.pyx\u001b[0m in \u001b[0;36m_catboost._CatBoost._train\u001b[1;34m()\u001b[0m\n",
      "\u001b[1;31mKeyboardInterrupt\u001b[0m: "
     ]
    }
   ],
   "source": [
    "submission_cb = finalCV()"
   ]
  },
  {
   "cell_type": "code",
   "execution_count": 132,
   "metadata": {},
   "outputs": [
    {
     "name": "stdout",
     "output_type": "stream",
     "text": [
      "1.7460416270300523\n",
      "1.7454358331196211\n",
      "1.7457964552640413\n",
      "1.7463268454211824\n",
      "1.7449163841189432\n",
      "1.745090013300624\n",
      "1.7452489740676183\n",
      "1.7462226876971338\n",
      "1.7461424436240347\n",
      "1.74505421475804\n"
     ]
    }
   ],
   "source": [
    "submission_lgb = lgbfinalCV()"
   ]
  },
  {
   "cell_type": "code",
   "execution_count": null,
   "metadata": {},
   "outputs": [],
   "source": [
    "submission_xgb = xgbfinalCV()"
   ]
  },
  {
   "cell_type": "markdown",
   "metadata": {},
   "source": [
    "#### ceiling to overestimate"
   ]
  },
  {
   "cell_type": "code",
   "execution_count": null,
   "metadata": {},
   "outputs": [],
   "source": [
    "for submission in [submission_cb,submission_lgb,submission_xgb]:\n",
    "    submission.target = 1000*np.ceil(submission.target)\n",
    "#submission.target = 1000*submission.target"
   ]
  },
  {
   "cell_type": "code",
   "execution_count": null,
   "metadata": {
    "scrolled": true
   },
   "outputs": [],
   "source": [
    "submission_cb.head(11)"
   ]
  },
  {
   "cell_type": "code",
   "execution_count": null,
   "metadata": {},
   "outputs": [],
   "source": [
    "submission_lgb.head(11)"
   ]
  },
  {
   "cell_type": "code",
   "execution_count": null,
   "metadata": {},
   "outputs": [],
   "source": [
    "submission_xgb.head(11)"
   ]
  },
  {
   "cell_type": "code",
   "execution_count": null,
   "metadata": {},
   "outputs": [],
   "source": [
    "submission_cb.to_csv('../submission_files/leak/58. stackcb_440f.csv', index=False)\n",
    "submission_lgb.to_csv('../submission_files/leak/56. stacklgb_440f.csv', index=False)\n",
    "submission_xgb.to_csv('../submission_files/leak/57. stackxgb_440f.csv', index=False)"
   ]
  },
  {
   "cell_type": "code",
   "execution_count": null,
   "metadata": {},
   "outputs": [],
   "source": [
    "submission = pd.read_csv(\"../submission_files/leak/24. stackcb_sumf_pc_138.csv\")"
   ]
  },
  {
   "cell_type": "code",
   "execution_count": null,
   "metadata": {},
   "outputs": [],
   "source": [
    "leak2 = pd.read_csv('../submission_files/leak/public/extraf6.csv')\n",
    "\n",
    "leak2_idx = leak2[leak2.target != 0.].index.values\n",
    "leak2_vals = leak2[leak2.target != 0.].target.values\n",
    "\n",
    "leak2_vals = np.round(np.expm1(leak2_vals))"
   ]
  },
  {
   "cell_type": "code",
   "execution_count": null,
   "metadata": {},
   "outputs": [],
   "source": [
    "sub = submission.copy()"
   ]
  },
  {
   "cell_type": "code",
   "execution_count": null,
   "metadata": {},
   "outputs": [],
   "source": [
    "sub.target = 0.5*submission.target + 0.5*submission_cb.target"
   ]
  },
  {
   "cell_type": "code",
   "execution_count": null,
   "metadata": {},
   "outputs": [],
   "source": [
    "sub.target[leak2_idx] = 0.5*sub.target[leak2_idx] + 0.5*leak2_vals"
   ]
  },
  {
   "cell_type": "code",
   "execution_count": null,
   "metadata": {},
   "outputs": [],
   "source": [
    "sub.head(11)"
   ]
  },
  {
   "cell_type": "code",
   "execution_count": null,
   "metadata": {},
   "outputs": [],
   "source": [
    "sub.to_csv(\"../submission_files/leak/59. 05x24+05x58.csv\", index=False)"
   ]
  },
  {
   "cell_type": "code",
   "execution_count": null,
   "metadata": {},
   "outputs": [],
   "source": [
    "sub = pd.read_csv('../submission_files/leak/public/04. honest_v5_137.csv')"
   ]
  },
  {
   "cell_type": "code",
   "execution_count": null,
   "metadata": {},
   "outputs": [],
   "source": [
    "sub2 = pd.read_csv('../submission_files/leak/59. 05x24+05x58_138.csv')"
   ]
  },
  {
   "cell_type": "code",
   "execution_count": null,
   "metadata": {},
   "outputs": [],
   "source": [
    "sub3 = sub.copy()"
   ]
  },
  {
   "cell_type": "code",
   "execution_count": null,
   "metadata": {},
   "outputs": [],
   "source": [
    "sub3.target = 0.7*sub.target + 0.3*sub2.target"
   ]
  },
  {
   "cell_type": "code",
   "execution_count": null,
   "metadata": {},
   "outputs": [],
   "source": [
    "sub3.to_csv(\"../submission_files/leak/60. 03x59+07xpublic04.csv\", index=False)"
   ]
  },
  {
   "cell_type": "code",
   "execution_count": null,
   "metadata": {},
   "outputs": [],
   "source": []
  },
  {
   "cell_type": "code",
   "execution_count": null,
   "metadata": {},
   "outputs": [],
   "source": []
  },
  {
   "cell_type": "code",
   "execution_count": null,
   "metadata": {},
   "outputs": [],
   "source": [
    "ss = pd.read_csv('../submission_files/leak/28. 24+public03_059_best.csv')"
   ]
  },
  {
   "cell_type": "code",
   "execution_count": null,
   "metadata": {},
   "outputs": [],
   "source": [
    "sub['h'] = sub.target - ss.target"
   ]
  },
  {
   "cell_type": "code",
   "execution_count": null,
   "metadata": {},
   "outputs": [],
   "source": [
    "sub.h[sub.h!=0].index.values.shape"
   ]
  },
  {
   "cell_type": "code",
   "execution_count": null,
   "metadata": {},
   "outputs": [],
   "source": []
  }
 ],
 "metadata": {
  "kernelspec": {
   "display_name": "Python 3",
   "language": "python",
   "name": "python3"
  },
  "language_info": {
   "codemirror_mode": {
    "name": "ipython",
    "version": 3
   },
   "file_extension": ".py",
   "mimetype": "text/x-python",
   "name": "python",
   "nbconvert_exporter": "python",
   "pygments_lexer": "ipython3",
   "version": "3.6.2"
  }
 },
 "nbformat": 4,
 "nbformat_minor": 2
}
