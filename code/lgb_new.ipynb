{
 "cells": [
  {
   "cell_type": "markdown",
   "metadata": {},
   "source": [
    "### Mixing our ideas and others (not all) from the forum\n",
    "\n",
    "**Steps:**\n",
    "1. Remove zero- and near-zero-variance features.\n",
    "2. Compute mean, std, etc *per row*.\n",
    "3. Train a simple lgb model on the remaining original features and determine 100 most important.\n",
    "4. Create a dataframe of polynomial features of these 100 most important.\n",
    "5. Assemble dataset of polynomial+statistical properties, *i.e.*, combinations of the 100 most relevant plus aggregated properties of ALL.\n",
    "6. Retrain lgb:\n",
    "    - `min_data_in_leaf`: 50\n",
    "    - `objective`: regression\n",
    "    - `num_leaves`: 31\n",
    "    - `learning_rate`: 0.05\n",
    "    - `metric`: rmse\n",
    "    - `lambda_l2`: 0.1\n",
    "    - `lambda_l1`: 0.007\n",
    "    - `feature_fraction`: 0.1\n",
    "    - 1.369, std 0.02\n",
    "    *****\n",
    "    - `learning_rate`: 0.01\n",
    "    - `feature_fraction`: 0.01\n",
    "    - 1.367, std 0.03"
   ]
  },
  {
   "cell_type": "code",
   "execution_count": 2,
   "metadata": {
    "collapsed": true
   },
   "outputs": [],
   "source": [
    "# misc\n",
    "import warnings\n",
    "warnings.filterwarnings('ignore')\n",
    "import gc\n",
    "\n",
    "# basic imports\n",
    "import numpy as np\n",
    "import pandas as pd\n",
    "import seaborn as sns\n",
    "import matplotlib.pyplot as plt\n",
    "%matplotlib inline\n",
    "plt.style.use('seaborn')\n",
    "sns.set(palette='colorblind')\n",
    "\n",
    "# processing\n",
    "from sklearn.preprocessing import StandardScaler, PolynomialFeatures\n",
    "from sklearn.model_selection import KFold\n",
    "from sklearn.metrics import mean_squared_error\n",
    "from sklearn.feature_selection import VarianceThreshold\n",
    "\n",
    "import shap\n",
    "\n",
    "# models\n",
    "import lightgbm as lgb"
   ]
  },
  {
   "cell_type": "code",
   "execution_count": 3,
   "metadata": {
    "collapsed": true
   },
   "outputs": [],
   "source": [
    "train_data = pd.read_csv('../data/train.csv')\n",
    "test_data = pd.read_csv('../data/test.csv')"
   ]
  },
  {
   "cell_type": "markdown",
   "metadata": {},
   "source": [
    "### Preprocessing\n",
    "\n",
    "#### Removing target"
   ]
  },
  {
   "cell_type": "code",
   "execution_count": 4,
   "metadata": {
    "collapsed": true
   },
   "outputs": [],
   "source": [
    "# remove target and ID columns\n",
    "target = train_data.target\n",
    "train_data = train_data.drop(['target', 'ID'], axis=1)\n",
    "test_ID = test_data.ID\n",
    "test_data = test_data.drop(['ID'], axis=1)"
   ]
  },
  {
   "cell_type": "markdown",
   "metadata": {},
   "source": [
    "#### Variance threshold"
   ]
  },
  {
   "cell_type": "code",
   "execution_count": 27,
   "metadata": {
    "collapsed": true
   },
   "outputs": [],
   "source": [
    "properties_train = train_data.describe()\n",
    "max_std = properties_train.transpose()['std'].max()\n",
    "\n",
    "threshold_var = max_std/1000."
   ]
  },
  {
   "cell_type": "code",
   "execution_count": 32,
   "metadata": {
    "collapsed": true
   },
   "outputs": [],
   "source": [
    "vt = VarianceThreshold(threshold=threshold_var)\n",
    "vt.fit(train_data)\n",
    "selected_columns = train_data.columns[vt.get_support(indices=True)]"
   ]
  },
  {
   "cell_type": "code",
   "execution_count": 34,
   "metadata": {
    "collapsed": true
   },
   "outputs": [],
   "source": [
    "train_novar = train_data[selected_columns]\n",
    "test_novar = test_data[selected_columns]"
   ]
  },
  {
   "cell_type": "code",
   "execution_count": 35,
   "metadata": {},
   "outputs": [
    {
     "name": "stdout",
     "output_type": "stream",
     "text": [
      "Remaining columns: 4725\n"
     ]
    }
   ],
   "source": [
    "print('Remaining columns: %i' % len(selected_columns))"
   ]
  },
  {
   "cell_type": "markdown",
   "metadata": {},
   "source": [
    "#### Statistical properties\n",
    "\n",
    "A first try. People in the forum recommend only considering non-zero values (right now medians are zero)."
   ]
  },
  {
   "cell_type": "code",
   "execution_count": 41,
   "metadata": {
    "collapsed": true
   },
   "outputs": [],
   "source": [
    "tr_means = train_novar.mean(axis=1)\n",
    "#tr_medians = train_novar.median(axis=1)\n",
    "tr_stds = train_novar.std(axis=1)\n",
    "tr_skews = train_novar.skew(axis=1)\n",
    "tr_maxs = train_novar.max(axis=1)"
   ]
  },
  {
   "cell_type": "code",
   "execution_count": 42,
   "metadata": {
    "collapsed": true
   },
   "outputs": [],
   "source": [
    "tst_means = test_novar.mean(axis=1)\n",
    "#tst_medians = test_novar.median(axis=1)\n",
    "tst_stds = test_novar.std(axis=1)\n",
    "tst_skews = test_novar.skew(axis=1)\n",
    "tst_maxs = test_novar.max(axis=1)"
   ]
  },
  {
   "cell_type": "code",
   "execution_count": 47,
   "metadata": {
    "collapsed": true
   },
   "outputs": [],
   "source": [
    "stat_train = pd.concat([tr_means, tr_stds, tr_skews, tr_maxs], axis=1)\n",
    "stat_test = pd.concat([tst_means, tst_stds, tst_skews, tst_maxs], axis=1)"
   ]
  },
  {
   "cell_type": "markdown",
   "metadata": {},
   "source": [
    "#### SHAP"
   ]
  },
  {
   "cell_type": "code",
   "execution_count": 52,
   "metadata": {
    "collapsed": true
   },
   "outputs": [],
   "source": [
    "#transform to log\n",
    "log_features_train = np.log1p(train_novar)\n",
    "log_features_test = np.log1p(test_novar)\n",
    "log_target = np.log1p(target)"
   ]
  },
  {
   "cell_type": "code",
   "execution_count": 55,
   "metadata": {
    "collapsed": true
   },
   "outputs": [],
   "source": [
    "# CV folds\n",
    "kf = KFold(n_splits=10, shuffle=True)\n",
    "n_splits = kf.get_n_splits()"
   ]
  },
  {
   "cell_type": "code",
   "execution_count": 64,
   "metadata": {
    "collapsed": true
   },
   "outputs": [],
   "source": [
    "# model parameters\n",
    "params = {'learning_rate':0.5, 'metric':'rmse', 'max_bin':63, 'device':'gpu'}"
   ]
  },
  {
   "cell_type": "code",
   "execution_count": 65,
   "metadata": {},
   "outputs": [
    {
     "name": "stdout",
     "output_type": "stream",
     "text": [
      "[1]\ttraining's rmse: 1.55576\tvalid_1's rmse: 1.62489\n",
      "Training until validation scores don't improve for 5 rounds.\n",
      "[2]\ttraining's rmse: 1.44063\tvalid_1's rmse: 1.55138\n",
      "[3]\ttraining's rmse: 1.36332\tvalid_1's rmse: 1.52302\n",
      "[4]\ttraining's rmse: 1.2998\tvalid_1's rmse: 1.50437\n",
      "[5]\ttraining's rmse: 1.25319\tvalid_1's rmse: 1.50248\n",
      "[6]\ttraining's rmse: 1.21124\tvalid_1's rmse: 1.48032\n",
      "[7]\ttraining's rmse: 1.17534\tvalid_1's rmse: 1.49762\n",
      "[8]\ttraining's rmse: 1.14446\tvalid_1's rmse: 1.50939\n",
      "[9]\ttraining's rmse: 1.11789\tvalid_1's rmse: 1.51973\n",
      "[10]\ttraining's rmse: 1.09383\tvalid_1's rmse: 1.51905\n",
      "[11]\ttraining's rmse: 1.06993\tvalid_1's rmse: 1.52657\n",
      "Early stopping, best iteration is:\n",
      "[6]\ttraining's rmse: 1.21124\tvalid_1's rmse: 1.48032\n",
      "[1]\ttraining's rmse: 1.54631\tvalid_1's rmse: 1.64778\n",
      "Training until validation scores don't improve for 5 rounds.\n",
      "[2]\ttraining's rmse: 1.42596\tvalid_1's rmse: 1.58801\n",
      "[3]\ttraining's rmse: 1.34705\tvalid_1's rmse: 1.56206\n",
      "[4]\ttraining's rmse: 1.2886\tvalid_1's rmse: 1.55638\n",
      "[5]\ttraining's rmse: 1.24129\tvalid_1's rmse: 1.55063\n",
      "[6]\ttraining's rmse: 1.20392\tvalid_1's rmse: 1.55831\n",
      "[7]\ttraining's rmse: 1.17075\tvalid_1's rmse: 1.5615\n",
      "[8]\ttraining's rmse: 1.14165\tvalid_1's rmse: 1.5662\n",
      "[9]\ttraining's rmse: 1.11253\tvalid_1's rmse: 1.57552\n",
      "[10]\ttraining's rmse: 1.08459\tvalid_1's rmse: 1.5742\n",
      "Early stopping, best iteration is:\n",
      "[5]\ttraining's rmse: 1.24129\tvalid_1's rmse: 1.55063\n",
      "[1]\ttraining's rmse: 1.54865\tvalid_1's rmse: 1.66983\n",
      "Training until validation scores don't improve for 5 rounds.\n",
      "[2]\ttraining's rmse: 1.43137\tvalid_1's rmse: 1.61156\n",
      "[3]\ttraining's rmse: 1.3445\tvalid_1's rmse: 1.55117\n",
      "[4]\ttraining's rmse: 1.28863\tvalid_1's rmse: 1.53226\n",
      "[5]\ttraining's rmse: 1.24214\tvalid_1's rmse: 1.54182\n",
      "[6]\ttraining's rmse: 1.20248\tvalid_1's rmse: 1.54524\n",
      "[7]\ttraining's rmse: 1.16832\tvalid_1's rmse: 1.54898\n",
      "[8]\ttraining's rmse: 1.13669\tvalid_1's rmse: 1.56475\n",
      "[9]\ttraining's rmse: 1.11214\tvalid_1's rmse: 1.56575\n",
      "Early stopping, best iteration is:\n",
      "[4]\ttraining's rmse: 1.28863\tvalid_1's rmse: 1.53226\n",
      "[1]\ttraining's rmse: 1.55474\tvalid_1's rmse: 1.54863\n",
      "Training until validation scores don't improve for 5 rounds.\n",
      "[2]\ttraining's rmse: 1.44092\tvalid_1's rmse: 1.49074\n",
      "[3]\ttraining's rmse: 1.36435\tvalid_1's rmse: 1.49465\n",
      "[4]\ttraining's rmse: 1.3055\tvalid_1's rmse: 1.46845\n",
      "[5]\ttraining's rmse: 1.25681\tvalid_1's rmse: 1.4916\n",
      "[6]\ttraining's rmse: 1.21596\tvalid_1's rmse: 1.48753\n",
      "[7]\ttraining's rmse: 1.17996\tvalid_1's rmse: 1.499\n",
      "[8]\ttraining's rmse: 1.14785\tvalid_1's rmse: 1.50343\n",
      "[9]\ttraining's rmse: 1.12036\tvalid_1's rmse: 1.507\n",
      "Early stopping, best iteration is:\n",
      "[4]\ttraining's rmse: 1.3055\tvalid_1's rmse: 1.46845\n",
      "[1]\ttraining's rmse: 1.55743\tvalid_1's rmse: 1.62762\n",
      "Training until validation scores don't improve for 5 rounds.\n",
      "[2]\ttraining's rmse: 1.4397\tvalid_1's rmse: 1.57665\n",
      "[3]\ttraining's rmse: 1.35412\tvalid_1's rmse: 1.54872\n",
      "[4]\ttraining's rmse: 1.2972\tvalid_1's rmse: 1.55004\n",
      "[5]\ttraining's rmse: 1.24927\tvalid_1's rmse: 1.56554\n",
      "[6]\ttraining's rmse: 1.20978\tvalid_1's rmse: 1.56063\n",
      "[7]\ttraining's rmse: 1.17454\tvalid_1's rmse: 1.55753\n",
      "[8]\ttraining's rmse: 1.14575\tvalid_1's rmse: 1.56538\n",
      "Early stopping, best iteration is:\n",
      "[3]\ttraining's rmse: 1.35412\tvalid_1's rmse: 1.54872\n",
      "[1]\ttraining's rmse: 1.56335\tvalid_1's rmse: 1.53064\n",
      "Training until validation scores don't improve for 5 rounds.\n",
      "[2]\ttraining's rmse: 1.44592\tvalid_1's rmse: 1.47507\n",
      "[3]\ttraining's rmse: 1.36659\tvalid_1's rmse: 1.45102\n",
      "[4]\ttraining's rmse: 1.30666\tvalid_1's rmse: 1.43757\n",
      "[5]\ttraining's rmse: 1.25666\tvalid_1's rmse: 1.44966\n",
      "[6]\ttraining's rmse: 1.21676\tvalid_1's rmse: 1.45931\n",
      "[7]\ttraining's rmse: 1.1844\tvalid_1's rmse: 1.4834\n",
      "[8]\ttraining's rmse: 1.15544\tvalid_1's rmse: 1.4823\n",
      "[9]\ttraining's rmse: 1.12346\tvalid_1's rmse: 1.49164\n",
      "Early stopping, best iteration is:\n",
      "[4]\ttraining's rmse: 1.30666\tvalid_1's rmse: 1.43757\n",
      "[1]\ttraining's rmse: 1.5511\tvalid_1's rmse: 1.61044\n",
      "Training until validation scores don't improve for 5 rounds.\n",
      "[2]\ttraining's rmse: 1.43361\tvalid_1's rmse: 1.56087\n",
      "[3]\ttraining's rmse: 1.35237\tvalid_1's rmse: 1.54984\n",
      "[4]\ttraining's rmse: 1.29585\tvalid_1's rmse: 1.55707\n",
      "[5]\ttraining's rmse: 1.24596\tvalid_1's rmse: 1.53928\n",
      "[6]\ttraining's rmse: 1.21247\tvalid_1's rmse: 1.54058\n",
      "[7]\ttraining's rmse: 1.17719\tvalid_1's rmse: 1.55502\n",
      "[8]\ttraining's rmse: 1.1493\tvalid_1's rmse: 1.55621\n",
      "[9]\ttraining's rmse: 1.1195\tvalid_1's rmse: 1.55621\n",
      "[10]\ttraining's rmse: 1.09701\tvalid_1's rmse: 1.5523\n",
      "Early stopping, best iteration is:\n",
      "[5]\ttraining's rmse: 1.24596\tvalid_1's rmse: 1.53928\n",
      "[1]\ttraining's rmse: 1.55637\tvalid_1's rmse: 1.59937\n",
      "Training until validation scores don't improve for 5 rounds.\n",
      "[2]\ttraining's rmse: 1.4381\tvalid_1's rmse: 1.56082\n",
      "[3]\ttraining's rmse: 1.35821\tvalid_1's rmse: 1.54719\n",
      "[4]\ttraining's rmse: 1.2997\tvalid_1's rmse: 1.55851\n",
      "[5]\ttraining's rmse: 1.25504\tvalid_1's rmse: 1.56321\n",
      "[6]\ttraining's rmse: 1.21627\tvalid_1's rmse: 1.56423\n",
      "[7]\ttraining's rmse: 1.18047\tvalid_1's rmse: 1.56909\n",
      "[8]\ttraining's rmse: 1.14944\tvalid_1's rmse: 1.56752\n",
      "Early stopping, best iteration is:\n",
      "[3]\ttraining's rmse: 1.35821\tvalid_1's rmse: 1.54719\n",
      "[1]\ttraining's rmse: 1.54097\tvalid_1's rmse: 1.67029\n",
      "Training until validation scores don't improve for 5 rounds.\n",
      "[2]\ttraining's rmse: 1.43007\tvalid_1's rmse: 1.59685\n",
      "[3]\ttraining's rmse: 1.35253\tvalid_1's rmse: 1.54751\n",
      "[4]\ttraining's rmse: 1.29757\tvalid_1's rmse: 1.54745\n",
      "[5]\ttraining's rmse: 1.24906\tvalid_1's rmse: 1.52716\n",
      "[6]\ttraining's rmse: 1.21018\tvalid_1's rmse: 1.50716\n",
      "[7]\ttraining's rmse: 1.17338\tvalid_1's rmse: 1.52198\n",
      "[8]\ttraining's rmse: 1.14533\tvalid_1's rmse: 1.51701\n",
      "[9]\ttraining's rmse: 1.11872\tvalid_1's rmse: 1.52825\n",
      "[10]\ttraining's rmse: 1.09513\tvalid_1's rmse: 1.52591\n",
      "[11]\ttraining's rmse: 1.07249\tvalid_1's rmse: 1.53348\n",
      "Early stopping, best iteration is:\n",
      "[6]\ttraining's rmse: 1.21018\tvalid_1's rmse: 1.50716\n",
      "[1]\ttraining's rmse: 1.55148\tvalid_1's rmse: 1.63924\n",
      "Training until validation scores don't improve for 5 rounds.\n",
      "[2]\ttraining's rmse: 1.4365\tvalid_1's rmse: 1.56157\n",
      "[3]\ttraining's rmse: 1.35477\tvalid_1's rmse: 1.53371\n",
      "[4]\ttraining's rmse: 1.29536\tvalid_1's rmse: 1.52806\n",
      "[5]\ttraining's rmse: 1.24886\tvalid_1's rmse: 1.5144\n",
      "[6]\ttraining's rmse: 1.21328\tvalid_1's rmse: 1.53206\n",
      "[7]\ttraining's rmse: 1.18006\tvalid_1's rmse: 1.54142\n",
      "[8]\ttraining's rmse: 1.14875\tvalid_1's rmse: 1.54204\n",
      "[9]\ttraining's rmse: 1.11536\tvalid_1's rmse: 1.53415\n",
      "[10]\ttraining's rmse: 1.09034\tvalid_1's rmse: 1.55109\n",
      "Early stopping, best iteration is:\n",
      "[5]\ttraining's rmse: 1.24886\tvalid_1's rmse: 1.5144\n"
     ]
    }
   ],
   "source": [
    "shap_values = np.zeros((log_features_train.shape[0],log_features_train.shape[1]+1))\n",
    "\n",
    "for train_index, test_index in kf.split(log_features_train):\n",
    "    \n",
    "    X_tr, X_tst = log_features_train.values[train_index], log_features_train.values[test_index]\n",
    "    y_tr, y_tst = log_target[train_index], log_target[test_index]\n",
    "    \n",
    "    train_set = lgb.Dataset(X_tr, label=y_tr)\n",
    "    valid_set = lgb.Dataset(X_tst, label=y_tst, reference=train_set)\n",
    "    \n",
    "    bst = lgb.train(params, train_set, num_boost_round=50, valid_sets=[train_set, valid_set], early_stopping_rounds=5,\n",
    "                    verbose_eval=1)\n",
    "\n",
    "    shap_values += shap.TreeExplainer(bst).shap_values(log_features_train.values)/n_splits"
   ]
  },
  {
   "cell_type": "code",
   "execution_count": 67,
   "metadata": {},
   "outputs": [
    {
     "data": {
      "image/png": "[encoded data removed]",
      "text/plain": [
       "<Figure size 576x540 with 2 Axes>"
      ]
     },
     "metadata": {},
     "output_type": "display_data"
    }
   ],
   "source": [
    "shap.summary_plot(shap_values, log_features_train, max_display=15, plot_type='dot')"
   ]
  },
  {
   "cell_type": "code",
   "execution_count": 71,
   "metadata": {
    "collapsed": true
   },
   "outputs": [],
   "source": [
    "sorted_columns = np.argsort(np.sum(np.abs(shap_values), axis=0)[:-1])[::-1]\n",
    "most_relevant = train_novar.columns[sorted_columns[:100]]"
   ]
  },
  {
   "cell_type": "code",
   "execution_count": 76,
   "metadata": {
    "collapsed": true
   },
   "outputs": [],
   "source": [
    "log_features_train = log_features_train[most_relevant]\n",
    "log_features_test = log_features_test[most_relevant]"
   ]
  },
  {
   "cell_type": "code",
   "execution_count": 77,
   "metadata": {},
   "outputs": [
    {
     "name": "stdout",
     "output_type": "stream",
     "text": [
      "Remaining columns: 100\n"
     ]
    }
   ],
   "source": [
    "print('Remaining columns: %i' % log_features_train.shape[1])"
   ]
  },
  {
   "cell_type": "markdown",
   "metadata": {},
   "source": [
    "#### Polynomial"
   ]
  },
  {
   "cell_type": "code",
   "execution_count": 78,
   "metadata": {
    "collapsed": true
   },
   "outputs": [],
   "source": [
    "#scaling\n",
    "scaler = StandardScaler()\n",
    "\n",
    "log_features_train = scaler.fit_transform(log_features_train)\n",
    "log_features_test = scaler.transform(log_features_test)"
   ]
  },
  {
   "cell_type": "code",
   "execution_count": 79,
   "metadata": {
    "collapsed": true
   },
   "outputs": [],
   "source": [
    "poly = PolynomialFeatures(2, interaction_only=True, include_bias=False)"
   ]
  },
  {
   "cell_type": "code",
   "execution_count": 80,
   "metadata": {
    "collapsed": true
   },
   "outputs": [],
   "source": [
    "poly_train = poly.fit_transform(log_features_train)\n",
    "poly_test = poly.fit_transform(log_features_test)"
   ]
  },
  {
   "cell_type": "markdown",
   "metadata": {},
   "source": [
    "#### Assembly"
   ]
  },
  {
   "cell_type": "code",
   "execution_count": 86,
   "metadata": {
    "collapsed": true
   },
   "outputs": [],
   "source": [
    "train_final = np.hstack((poly_train, stat_train))\n",
    "test_final = np.hstack((poly_test, stat_test))"
   ]
  },
  {
   "cell_type": "code",
   "execution_count": 87,
   "metadata": {},
   "outputs": [
    {
     "data": {
      "text/plain": [
       "21023"
      ]
     },
     "execution_count": 87,
     "metadata": {},
     "output_type": "execute_result"
    }
   ],
   "source": [
    "del train_data, test_data, train_novar, test_novar, log_features_train, log_features_test\n",
    "gc.collect()"
   ]
  },
  {
   "cell_type": "code",
   "execution_count": 88,
   "metadata": {},
   "outputs": [
    {
     "name": "stdout",
     "output_type": "stream",
     "text": [
      "Final number of features: 5054\n"
     ]
    }
   ],
   "source": [
    "print('Final number of features: %i' % train_final.shape[1])"
   ]
  },
  {
   "cell_type": "markdown",
   "metadata": {},
   "source": [
    "### lgb"
   ]
  },
  {
   "cell_type": "code",
   "execution_count": 163,
   "metadata": {
    "collapsed": true
   },
   "outputs": [],
   "source": [
    "# CV folds\n",
    "kf = KFold(n_splits=10, shuffle=True)\n",
    "n_splits = kf.get_n_splits()"
   ]
  },
  {
   "cell_type": "code",
   "execution_count": 202,
   "metadata": {
    "collapsed": true
   },
   "outputs": [],
   "source": [
    "# model parameters\n",
    "params = {'boosting': 'gbdt', 'objective':'regression', 'num_leaves':31, 'learning_rate':0.01, 'metric':'rmse', 'max_bin':63, \n",
    "          'lambda_l2': 0.1, 'device':'gpu', 'feature_fraction': 0.01, 'lambda_l1': 0.007, 'min_data_in_leaf': 20}"
   ]
  },
  {
   "cell_type": "code",
   "execution_count": null,
   "metadata": {
    "collapsed": true
   },
   "outputs": [],
   "source": [
    "submission = pd.DataFrame.from_dict({'ID': test_ID, 'target': np.zeros(test_ID.shape[0])})\n",
    "    \n",
    "errors = []\n",
    "\n",
    "for train_index, test_index in kf.split(train_final):\n",
    "\n",
    "    X_tr, X_tst = train_final[train_index], train_final[test_index]\n",
    "    y_tr, y_tst = log_target[train_index], log_target[test_index]\n",
    "\n",
    "    train_set = lgb.Dataset(X_tr, label=y_tr)\n",
    "    valid_set = lgb.Dataset(X_tst, label=y_tst, reference=train_set)\n",
    "\n",
    "    bst = lgb.train(params, train_set, num_boost_round=5000, valid_sets=[train_set, valid_set], early_stopping_rounds=200, verbose_eval=100)\n",
    "\n",
    "    y_val = bst.predict(X_tst, num_iteration=bst.best_iteration)\n",
    "\n",
    "    rmsle = np.sqrt(mean_squared_error(y_tst, y_val))\n",
    "\n",
    "    print('RMSLE: %.5f' % rmsle)\n",
    "\n",
    "    errors.append(rmsle)\n",
    "\n",
    "    submission.target = submission.target + np.expm1(bst.predict(test_final, num_iteration=bst.best_iteration))/n_splits\n",
    "\n",
    "print('\\n Fold mean of RMSLE: %.5f' % np.mean(errors))\n",
    "print('\\n Fold std of RMSLE: %.5f' % np.std(errors))"
   ]
  },
  {
   "cell_type": "code",
   "execution_count": 184,
   "metadata": {},
   "outputs": [
    {
     "data": {
      "text/html": [
       "<div>\n",
       "<style scoped>\n",
       "    .dataframe tbody tr th:only-of-type {\n",
       "        vertical-align: middle;\n",
       "    }\n",
       "\n",
       "    .dataframe tbody tr th {\n",
       "        vertical-align: top;\n",
       "    }\n",
       "\n",
       "    .dataframe thead th {\n",
       "        text-align: right;\n",
       "    }\n",
       "</style>\n",
       "<table border=\"1\" class=\"dataframe\">\n",
       "  <thead>\n",
       "    <tr style=\"text-align: right;\">\n",
       "      <th></th>\n",
       "      <th>ID</th>\n",
       "      <th>target</th>\n",
       "    </tr>\n",
       "  </thead>\n",
       "  <tbody>\n",
       "    <tr>\n",
       "      <th>0</th>\n",
       "      <td>000137c73</td>\n",
       "      <td>1.664715e+06</td>\n",
       "    </tr>\n",
       "    <tr>\n",
       "      <th>1</th>\n",
       "      <td>00021489f</td>\n",
       "      <td>2.126146e+06</td>\n",
       "    </tr>\n",
       "    <tr>\n",
       "      <th>2</th>\n",
       "      <td>0004d7953</td>\n",
       "      <td>1.963233e+06</td>\n",
       "    </tr>\n",
       "    <tr>\n",
       "      <th>3</th>\n",
       "      <td>00056a333</td>\n",
       "      <td>5.521954e+06</td>\n",
       "    </tr>\n",
       "    <tr>\n",
       "      <th>4</th>\n",
       "      <td>00056d8eb</td>\n",
       "      <td>2.172619e+06</td>\n",
       "    </tr>\n",
       "  </tbody>\n",
       "</table>\n",
       "</div>"
      ],
      "text/plain": [
       "          ID        target\n",
       "0  000137c73  1.664715e+06\n",
       "1  00021489f  2.126146e+06\n",
       "2  0004d7953  1.963233e+06\n",
       "3  00056a333  5.521954e+06\n",
       "4  00056d8eb  2.172619e+06"
      ]
     },
     "execution_count": 184,
     "metadata": {},
     "output_type": "execute_result"
    }
   ],
   "source": [
    "submission.head()"
   ]
  },
  {
   "cell_type": "code",
   "execution_count": 185,
   "metadata": {
    "collapsed": true
   },
   "outputs": [],
   "source": [
    "submission.to_csv('../submission_files/lgb_1367_003.csv', index=False)"
   ]
  },
  {
   "cell_type": "markdown",
   "metadata": {
    "heading_collapsed": true
   },
   "source": [
    "### NN"
   ]
  },
  {
   "cell_type": "code",
   "execution_count": null,
   "metadata": {
    "collapsed": true,
    "hidden": true
   },
   "outputs": [],
   "source": [
    "submission = pd.DataFrame.from_dict({'ID': test_ID, 'target': np.zeros(test_data.shape[0])})\n",
    "\n",
    "mean_of_errors = 0.\n",
    "\n",
    "for train_index, test_index in kf.split(log_features_train):\n",
    "        \n",
    "    X_tr, X_tst = log_features_train[train_index], log_features_train[test_index]\n",
    "    y_tr, y_tst = log_target[train_index], log_target[test_index]\n",
    "        \n",
    "    model = Sequential()\n",
    "    model.add(Dense(2, input_dim=X_tr.shape[1], activation='tanh'))\n",
    "    model.add(Dense(1))\n",
    "    \n",
    "    sgd = SGD(lr=0.05, momentum=0.1)\n",
    "    model.compile(optimizer=sgd, loss='mse', metrics=['mse'])\n",
    "    \n",
    "    model.fit(X_tr, y_tr, validation_data=(X_tst, y_tst), epochs=10)\n",
    "    \n",
    "    y_val = model.predict(X_tst)\n",
    "    \n",
    "    rmsle = np.sqrt(mean_squared_error(y_tst, y_val))\n",
    "    \n",
    "    print('RMSLE: %.5f' % rmsle)\n",
    "    \n",
    "    mean_of_errors += rmsle/n_splits\n",
    "        \n",
    "    submission.target = submission.target + np.expm1(model.predict(log_features_test)[:,0])/n_splits\n",
    "    \n",
    "print('\\n Fold mean of RMSLE: %.5f' % mean_of_errors)"
   ]
  },
  {
   "cell_type": "code",
   "execution_count": null,
   "metadata": {
    "collapsed": true,
    "hidden": true
   },
   "outputs": [],
   "source": [
    "submission.head()"
   ]
  },
  {
   "cell_type": "code",
   "execution_count": null,
   "metadata": {
    "collapsed": true,
    "hidden": true
   },
   "outputs": [],
   "source": [
    "submission.to_csv('../submission_files/nn_log_std_10fold.csv', index=False)"
   ]
  },
  {
   "cell_type": "markdown",
   "metadata": {},
   "source": [
    "### xgb"
   ]
  },
  {
   "cell_type": "code",
   "execution_count": 36,
   "metadata": {
    "collapsed": true
   },
   "outputs": [],
   "source": [
    "# model parameters\n",
    "\n",
    "params = {'booster': 'gbtree', 'learning_rate':0.01, 'colsample_bytree': 0.075, 'eval_metric':'rmse', 'lambda': 2.5,\n",
    "          'alpha': 0.05}"
   ]
  },
  {
   "cell_type": "code",
   "execution_count": 29,
   "metadata": {},
   "outputs": [
    {
     "name": "stdout",
     "output_type": "stream",
     "text": [
      "[0]\ttrain-rmse:13.9542\tval-rmse:14.0191\n",
      "Multiple eval metrics have been passed: 'val-rmse' will be used for early stopping.\n",
      "\n",
      "Will train until val-rmse hasn't improved in 250 rounds.\n",
      "[100]\ttrain-rmse:5.34451\tval-rmse:5.4152\n",
      "[200]\ttrain-rmse:2.3982\tval-rmse:2.50345\n",
      "[300]\ttrain-rmse:1.54827\tval-rmse:1.70507\n",
      "[400]\ttrain-rmse:1.3337\tval-rmse:1.53405\n",
      "[500]\ttrain-rmse:1.26195\tval-rmse:1.4941\n",
      "[600]\ttrain-rmse:1.22277\tval-rmse:1.47827\n",
      "[700]\ttrain-rmse:1.19246\tval-rmse:1.46935\n",
      "[800]\ttrain-rmse:1.16364\tval-rmse:1.46287\n",
      "[900]\ttrain-rmse:1.14055\tval-rmse:1.45998\n",
      "[1000]\ttrain-rmse:1.11797\tval-rmse:1.45592\n",
      "[1100]\ttrain-rmse:1.1002\tval-rmse:1.45208\n",
      "[1200]\ttrain-rmse:1.0823\tval-rmse:1.44961\n",
      "[1300]\ttrain-rmse:1.06725\tval-rmse:1.44739\n",
      "[1400]\ttrain-rmse:1.05271\tval-rmse:1.44557\n",
      "[1500]\ttrain-rmse:1.03737\tval-rmse:1.44286\n",
      "[1600]\ttrain-rmse:1.02501\tval-rmse:1.44059\n",
      "[1700]\ttrain-rmse:1.01247\tval-rmse:1.43869\n",
      "[1800]\ttrain-rmse:1.00117\tval-rmse:1.4373\n",
      "[1900]\ttrain-rmse:0.991369\tval-rmse:1.43542\n",
      "[2000]\ttrain-rmse:0.982198\tval-rmse:1.43418\n",
      "[2100]\ttrain-rmse:0.973133\tval-rmse:1.43343\n",
      "[2200]\ttrain-rmse:0.964183\tval-rmse:1.43158\n",
      "[2300]\ttrain-rmse:0.955153\tval-rmse:1.43055\n",
      "[2400]\ttrain-rmse:0.945633\tval-rmse:1.42948\n",
      "[2500]\ttrain-rmse:0.937347\tval-rmse:1.42883\n",
      "[2600]\ttrain-rmse:0.92913\tval-rmse:1.42867\n",
      "[2700]\ttrain-rmse:0.920227\tval-rmse:1.42782\n",
      "[2800]\ttrain-rmse:0.912809\tval-rmse:1.42699\n",
      "[2900]\ttrain-rmse:0.905922\tval-rmse:1.42672\n",
      "[3000]\ttrain-rmse:0.898575\tval-rmse:1.42676\n",
      "[3100]\ttrain-rmse:0.891916\tval-rmse:1.42593\n",
      "[3200]\ttrain-rmse:0.88591\tval-rmse:1.4258\n",
      "[3300]\ttrain-rmse:0.879109\tval-rmse:1.42505\n",
      "[3400]\ttrain-rmse:0.872831\tval-rmse:1.42486\n",
      "[3500]\ttrain-rmse:0.866499\tval-rmse:1.42464\n",
      "[3600]\ttrain-rmse:0.860685\tval-rmse:1.42445\n",
      "[3700]\ttrain-rmse:0.854832\tval-rmse:1.42462\n",
      "[3800]\ttrain-rmse:0.848772\tval-rmse:1.42452\n",
      "[3900]\ttrain-rmse:0.842714\tval-rmse:1.42415\n",
      "[4000]\ttrain-rmse:0.837296\tval-rmse:1.42459\n",
      "[4100]\ttrain-rmse:0.831329\tval-rmse:1.42462\n",
      "Stopping. Best iteration:\n",
      "[3932]\ttrain-rmse:0.840913\tval-rmse:1.42408\n",
      "\n",
      "RMSLE: 1.42408\n",
      "[0]\ttrain-rmse:13.9659\tval-rmse:13.9123\n",
      "Multiple eval metrics have been passed: 'val-rmse' will be used for early stopping.\n",
      "\n",
      "Will train until val-rmse hasn't improved in 250 rounds.\n",
      "[100]\ttrain-rmse:5.34847\tval-rmse:5.32942\n",
      "[200]\ttrain-rmse:2.40074\tval-rmse:2.45847\n",
      "[300]\ttrain-rmse:1.553\tval-rmse:1.69163\n",
      "[400]\ttrain-rmse:1.33953\tval-rmse:1.53121\n",
      "[500]\ttrain-rmse:1.26667\tval-rmse:1.4963\n",
      "[600]\ttrain-rmse:1.22473\tval-rmse:1.48481\n",
      "[700]\ttrain-rmse:1.19279\tval-rmse:1.47745\n",
      "[800]\ttrain-rmse:1.16485\tval-rmse:1.47321\n",
      "[900]\ttrain-rmse:1.1407\tval-rmse:1.47076\n",
      "[1000]\ttrain-rmse:1.11683\tval-rmse:1.46663\n",
      "[1100]\ttrain-rmse:1.09821\tval-rmse:1.4646\n",
      "[1200]\ttrain-rmse:1.0804\tval-rmse:1.46378\n",
      "[1300]\ttrain-rmse:1.06588\tval-rmse:1.46194\n",
      "[1400]\ttrain-rmse:1.05263\tval-rmse:1.46055\n",
      "[1500]\ttrain-rmse:1.03754\tval-rmse:1.4598\n",
      "[1600]\ttrain-rmse:1.02519\tval-rmse:1.45875\n",
      "[1700]\ttrain-rmse:1.01238\tval-rmse:1.45749\n",
      "[1800]\ttrain-rmse:1.00141\tval-rmse:1.45688\n",
      "[1900]\ttrain-rmse:0.991116\tval-rmse:1.456\n",
      "[2000]\ttrain-rmse:0.980723\tval-rmse:1.45458\n",
      "[2100]\ttrain-rmse:0.971233\tval-rmse:1.45454\n",
      "[2200]\ttrain-rmse:0.961234\tval-rmse:1.45451\n",
      "[2300]\ttrain-rmse:0.952213\tval-rmse:1.45448\n",
      "[2400]\ttrain-rmse:0.943573\tval-rmse:1.45408\n",
      "[2500]\ttrain-rmse:0.934382\tval-rmse:1.45442\n",
      "[2600]\ttrain-rmse:0.926163\tval-rmse:1.4548\n",
      "[2700]\ttrain-rmse:0.91767\tval-rmse:1.45491\n",
      "Stopping. Best iteration:\n",
      "[2454]\ttrain-rmse:0.93858\tval-rmse:1.45366\n",
      "\n",
      "RMSLE: 1.45366\n",
      "[0]\ttrain-rmse:13.9641\tval-rmse:13.9289\n",
      "Multiple eval metrics have been passed: 'val-rmse' will be used for early stopping.\n",
      "\n",
      "Will train until val-rmse hasn't improved in 250 rounds.\n",
      "[100]\ttrain-rmse:5.34805\tval-rmse:5.29746\n",
      "[200]\ttrain-rmse:2.40146\tval-rmse:2.3947\n",
      "[300]\ttrain-rmse:1.55204\tval-rmse:1.6217\n",
      "[400]\ttrain-rmse:1.33868\tval-rmse:1.47283\n",
      "[500]\ttrain-rmse:1.26915\tval-rmse:1.44425\n",
      "[600]\ttrain-rmse:1.23072\tval-rmse:1.43148\n",
      "[700]\ttrain-rmse:1.20131\tval-rmse:1.4249\n",
      "[800]\ttrain-rmse:1.17516\tval-rmse:1.41908\n",
      "[900]\ttrain-rmse:1.15298\tval-rmse:1.41499\n",
      "[1000]\ttrain-rmse:1.13177\tval-rmse:1.41059\n",
      "[1100]\ttrain-rmse:1.11304\tval-rmse:1.40709\n",
      "[1200]\ttrain-rmse:1.09513\tval-rmse:1.40529\n",
      "[1300]\ttrain-rmse:1.08012\tval-rmse:1.40326\n",
      "[1400]\ttrain-rmse:1.06419\tval-rmse:1.402\n",
      "[1500]\ttrain-rmse:1.04772\tval-rmse:1.40011\n",
      "[1600]\ttrain-rmse:1.03478\tval-rmse:1.39865\n",
      "[1700]\ttrain-rmse:1.02129\tval-rmse:1.39804\n",
      "[1800]\ttrain-rmse:1.0102\tval-rmse:1.39695\n",
      "[1900]\ttrain-rmse:0.999422\tval-rmse:1.39589\n",
      "[2000]\ttrain-rmse:0.9885\tval-rmse:1.39441\n",
      "[2100]\ttrain-rmse:0.977558\tval-rmse:1.39231\n",
      "[2200]\ttrain-rmse:0.966552\tval-rmse:1.39007\n",
      "[2300]\ttrain-rmse:0.956863\tval-rmse:1.38946\n",
      "[2400]\ttrain-rmse:0.947775\tval-rmse:1.38821\n",
      "[2500]\ttrain-rmse:0.939263\tval-rmse:1.3872\n",
      "[2600]\ttrain-rmse:0.931363\tval-rmse:1.38712\n",
      "[2700]\ttrain-rmse:0.922536\tval-rmse:1.38622\n",
      "[2800]\ttrain-rmse:0.914215\tval-rmse:1.38527\n",
      "[2900]\ttrain-rmse:0.906471\tval-rmse:1.3848\n",
      "[3000]\ttrain-rmse:0.899386\tval-rmse:1.38399\n",
      "[3100]\ttrain-rmse:0.892238\tval-rmse:1.38357\n",
      "[3200]\ttrain-rmse:0.886596\tval-rmse:1.38308\n",
      "[3300]\ttrain-rmse:0.879527\tval-rmse:1.38208\n",
      "[3400]\ttrain-rmse:0.872689\tval-rmse:1.38264\n",
      "[3500]\ttrain-rmse:0.866345\tval-rmse:1.38245\n",
      "Stopping. Best iteration:\n",
      "[3316]\ttrain-rmse:0.87837\tval-rmse:1.38185\n",
      "\n",
      "RMSLE: 1.38185\n",
      "[0]\ttrain-rmse:13.9595\tval-rmse:13.9711\n",
      "Multiple eval metrics have been passed: 'val-rmse' will be used for early stopping.\n",
      "\n",
      "Will train until val-rmse hasn't improved in 250 rounds.\n",
      "[100]\ttrain-rmse:5.34541\tval-rmse:5.36939\n",
      "[200]\ttrain-rmse:2.39936\tval-rmse:2.47194\n",
      "[300]\ttrain-rmse:1.55315\tval-rmse:1.68326\n",
      "[400]\ttrain-rmse:1.34063\tval-rmse:1.51567\n",
      "[500]\ttrain-rmse:1.27053\tval-rmse:1.47597\n",
      "[600]\ttrain-rmse:1.23126\tval-rmse:1.46132\n",
      "[700]\ttrain-rmse:1.20046\tval-rmse:1.45515\n",
      "[800]\ttrain-rmse:1.17429\tval-rmse:1.45193\n",
      "[900]\ttrain-rmse:1.15095\tval-rmse:1.44825\n",
      "[1000]\ttrain-rmse:1.12989\tval-rmse:1.44651\n",
      "[1100]\ttrain-rmse:1.10927\tval-rmse:1.44443\n",
      "[1200]\ttrain-rmse:1.09175\tval-rmse:1.44333\n",
      "[1300]\ttrain-rmse:1.07647\tval-rmse:1.44303\n",
      "[1400]\ttrain-rmse:1.06163\tval-rmse:1.44182\n",
      "[1500]\ttrain-rmse:1.04714\tval-rmse:1.44115\n",
      "[1600]\ttrain-rmse:1.03537\tval-rmse:1.44091\n",
      "[1700]\ttrain-rmse:1.02298\tval-rmse:1.43984\n",
      "[1800]\ttrain-rmse:1.01051\tval-rmse:1.43802\n",
      "[1900]\ttrain-rmse:0.999043\tval-rmse:1.43781\n",
      "[2000]\ttrain-rmse:0.989027\tval-rmse:1.43838\n",
      "[2100]\ttrain-rmse:0.978504\tval-rmse:1.43767\n",
      "[2200]\ttrain-rmse:0.967913\tval-rmse:1.43733\n",
      "[2300]\ttrain-rmse:0.95921\tval-rmse:1.43703\n",
      "[2400]\ttrain-rmse:0.950778\tval-rmse:1.43709\n",
      "[2500]\ttrain-rmse:0.942172\tval-rmse:1.43684\n",
      "[2600]\ttrain-rmse:0.933632\tval-rmse:1.43698\n",
      "[2700]\ttrain-rmse:0.926098\tval-rmse:1.43676\n",
      "[2800]\ttrain-rmse:0.918492\tval-rmse:1.43709\n",
      "[2900]\ttrain-rmse:0.910332\tval-rmse:1.43783\n",
      "Stopping. Best iteration:\n",
      "[2679]\ttrain-rmse:0.927596\tval-rmse:1.43646\n",
      "\n",
      "RMSLE: 1.43646\n",
      "[0]\ttrain-rmse:13.9641\tval-rmse:13.9288\n",
      "Multiple eval metrics have been passed: 'val-rmse' will be used for early stopping.\n",
      "\n",
      "Will train until val-rmse hasn't improved in 250 rounds.\n",
      "[100]\ttrain-rmse:5.34664\tval-rmse:5.32285\n",
      "[200]\ttrain-rmse:2.3985\tval-rmse:2.42945\n",
      "[300]\ttrain-rmse:1.54813\tval-rmse:1.66604\n",
      "[400]\ttrain-rmse:1.33301\tval-rmse:1.52045\n",
      "[500]\ttrain-rmse:1.26114\tval-rmse:1.49237\n",
      "[600]\ttrain-rmse:1.22026\tval-rmse:1.48527\n",
      "[700]\ttrain-rmse:1.1876\tval-rmse:1.48019\n",
      "[800]\ttrain-rmse:1.16114\tval-rmse:1.47673\n",
      "[900]\ttrain-rmse:1.13785\tval-rmse:1.47483\n",
      "[1000]\ttrain-rmse:1.11602\tval-rmse:1.4731\n",
      "[1100]\ttrain-rmse:1.09769\tval-rmse:1.47269\n",
      "[1200]\ttrain-rmse:1.07916\tval-rmse:1.47179\n",
      "[1300]\ttrain-rmse:1.06383\tval-rmse:1.472\n",
      "[1400]\ttrain-rmse:1.04923\tval-rmse:1.47168\n",
      "[1500]\ttrain-rmse:1.03543\tval-rmse:1.47159\n",
      "[1600]\ttrain-rmse:1.02394\tval-rmse:1.47225\n",
      "Stopping. Best iteration:\n",
      "[1367]\ttrain-rmse:1.05398\tval-rmse:1.47122\n",
      "\n",
      "RMSLE: 1.47122\n",
      "[0]\ttrain-rmse:13.9633\tval-rmse:13.9369\n",
      "Multiple eval metrics have been passed: 'val-rmse' will be used for early stopping.\n",
      "\n",
      "Will train until val-rmse hasn't improved in 250 rounds.\n",
      "[100]\ttrain-rmse:5.34791\tval-rmse:5.32262\n",
      "[200]\ttrain-rmse:2.40153\tval-rmse:2.41571\n",
      "[300]\ttrain-rmse:1.55333\tval-rmse:1.64876\n",
      "[400]\ttrain-rmse:1.34042\tval-rmse:1.49905\n",
      "[500]\ttrain-rmse:1.26802\tval-rmse:1.46855\n",
      "[600]\ttrain-rmse:1.22977\tval-rmse:1.46019\n",
      "[700]\ttrain-rmse:1.2007\tval-rmse:1.4535\n",
      "[800]\ttrain-rmse:1.17379\tval-rmse:1.45003\n"
     ]
    },
    {
     "name": "stdout",
     "output_type": "stream",
     "text": [
      "[900]\ttrain-rmse:1.15196\tval-rmse:1.44828\n",
      "[1000]\ttrain-rmse:1.12895\tval-rmse:1.44483\n",
      "[1100]\ttrain-rmse:1.10997\tval-rmse:1.44211\n",
      "[1200]\ttrain-rmse:1.09167\tval-rmse:1.44075\n",
      "[1300]\ttrain-rmse:1.07603\tval-rmse:1.4394\n",
      "[1400]\ttrain-rmse:1.06092\tval-rmse:1.43712\n",
      "[1500]\ttrain-rmse:1.04649\tval-rmse:1.43446\n",
      "[1600]\ttrain-rmse:1.03442\tval-rmse:1.43396\n",
      "[1700]\ttrain-rmse:1.02204\tval-rmse:1.43341\n",
      "[1800]\ttrain-rmse:1.01036\tval-rmse:1.43274\n",
      "[1900]\ttrain-rmse:0.998218\tval-rmse:1.43157\n",
      "[2000]\ttrain-rmse:0.98804\tval-rmse:1.43042\n",
      "[2100]\ttrain-rmse:0.978273\tval-rmse:1.42967\n",
      "[2200]\ttrain-rmse:0.967821\tval-rmse:1.42895\n",
      "[2300]\ttrain-rmse:0.95882\tval-rmse:1.42821\n",
      "[2400]\ttrain-rmse:0.949229\tval-rmse:1.42776\n",
      "[2500]\ttrain-rmse:0.940219\tval-rmse:1.42687\n",
      "[2600]\ttrain-rmse:0.931617\tval-rmse:1.42612\n",
      "[2700]\ttrain-rmse:0.922178\tval-rmse:1.42486\n",
      "[2800]\ttrain-rmse:0.914322\tval-rmse:1.4249\n",
      "[2900]\ttrain-rmse:0.905728\tval-rmse:1.4245\n",
      "[3000]\ttrain-rmse:0.898473\tval-rmse:1.42428\n",
      "[3100]\ttrain-rmse:0.891371\tval-rmse:1.42419\n",
      "[3200]\ttrain-rmse:0.884893\tval-rmse:1.42382\n",
      "[3300]\ttrain-rmse:0.878109\tval-rmse:1.42337\n",
      "[3400]\ttrain-rmse:0.871363\tval-rmse:1.42287\n",
      "[3500]\ttrain-rmse:0.864369\tval-rmse:1.422\n",
      "[3600]\ttrain-rmse:0.858755\tval-rmse:1.42191\n",
      "[3700]\ttrain-rmse:0.853329\tval-rmse:1.42164\n",
      "[3800]\ttrain-rmse:0.847891\tval-rmse:1.42145\n",
      "[3900]\ttrain-rmse:0.841649\tval-rmse:1.42158\n",
      "[4000]\ttrain-rmse:0.836051\tval-rmse:1.42113\n",
      "[4100]\ttrain-rmse:0.830758\tval-rmse:1.42089\n",
      "[4200]\ttrain-rmse:0.825086\tval-rmse:1.42086\n",
      "[4300]\ttrain-rmse:0.819811\tval-rmse:1.42094\n",
      "[4400]\ttrain-rmse:0.81478\tval-rmse:1.42075\n",
      "[4500]\ttrain-rmse:0.809313\tval-rmse:1.42052\n",
      "[4600]\ttrain-rmse:0.804323\tval-rmse:1.42034\n",
      "[4700]\ttrain-rmse:0.799308\tval-rmse:1.42018\n",
      "[4800]\ttrain-rmse:0.79463\tval-rmse:1.42032\n",
      "[4900]\ttrain-rmse:0.789808\tval-rmse:1.42014\n",
      "[5000]\ttrain-rmse:0.785126\tval-rmse:1.42024\n",
      "[5100]\ttrain-rmse:0.780634\tval-rmse:1.42005\n",
      "[5200]\ttrain-rmse:0.776097\tval-rmse:1.4199\n",
      "[5300]\ttrain-rmse:0.771596\tval-rmse:1.41982\n",
      "[5400]\ttrain-rmse:0.766691\tval-rmse:1.41893\n",
      "[5500]\ttrain-rmse:0.762297\tval-rmse:1.41884\n",
      "[5600]\ttrain-rmse:0.757915\tval-rmse:1.41826\n",
      "[5700]\ttrain-rmse:0.754003\tval-rmse:1.41819\n",
      "[5800]\ttrain-rmse:0.749448\tval-rmse:1.41821\n",
      "[5900]\ttrain-rmse:0.745408\tval-rmse:1.41789\n",
      "[6000]\ttrain-rmse:0.741432\tval-rmse:1.41768\n",
      "[6100]\ttrain-rmse:0.737175\tval-rmse:1.41748\n",
      "[6200]\ttrain-rmse:0.733425\tval-rmse:1.41719\n",
      "[6300]\ttrain-rmse:0.729754\tval-rmse:1.41674\n",
      "[6400]\ttrain-rmse:0.72626\tval-rmse:1.41688\n",
      "[6500]\ttrain-rmse:0.722439\tval-rmse:1.41693\n",
      "[6600]\ttrain-rmse:0.7188\tval-rmse:1.41688\n",
      "[6700]\ttrain-rmse:0.715042\tval-rmse:1.41661\n",
      "[6800]\ttrain-rmse:0.711666\tval-rmse:1.41645\n",
      "[6900]\ttrain-rmse:0.708548\tval-rmse:1.41638\n",
      "[7000]\ttrain-rmse:0.705077\tval-rmse:1.41676\n",
      "Stopping. Best iteration:\n",
      "[6788]\ttrain-rmse:0.712038\tval-rmse:1.41623\n",
      "\n",
      "RMSLE: 1.41623\n",
      "[0]\ttrain-rmse:13.951\tval-rmse:14.0483\n",
      "Multiple eval metrics have been passed: 'val-rmse' will be used for early stopping.\n",
      "\n",
      "Will train until val-rmse hasn't improved in 250 rounds.\n",
      "[100]\ttrain-rmse:5.34305\tval-rmse:5.43693\n",
      "[200]\ttrain-rmse:2.39982\tval-rmse:2.50979\n",
      "[300]\ttrain-rmse:1.55408\tval-rmse:1.70015\n",
      "[400]\ttrain-rmse:1.33892\tval-rmse:1.51594\n",
      "[500]\ttrain-rmse:1.2668\tval-rmse:1.47009\n",
      "[600]\ttrain-rmse:1.22791\tval-rmse:1.45302\n",
      "[700]\ttrain-rmse:1.19724\tval-rmse:1.44413\n",
      "[800]\ttrain-rmse:1.16969\tval-rmse:1.43717\n",
      "[900]\ttrain-rmse:1.14671\tval-rmse:1.43325\n",
      "[1000]\ttrain-rmse:1.12499\tval-rmse:1.43099\n",
      "[1100]\ttrain-rmse:1.10675\tval-rmse:1.42835\n",
      "[1200]\ttrain-rmse:1.08806\tval-rmse:1.42551\n",
      "[1300]\ttrain-rmse:1.07273\tval-rmse:1.42398\n",
      "[1400]\ttrain-rmse:1.05641\tval-rmse:1.42181\n",
      "[1500]\ttrain-rmse:1.042\tval-rmse:1.41954\n",
      "[1600]\ttrain-rmse:1.02865\tval-rmse:1.41875\n",
      "[1700]\ttrain-rmse:1.01616\tval-rmse:1.41831\n",
      "[1800]\ttrain-rmse:1.00266\tval-rmse:1.41768\n",
      "[1900]\ttrain-rmse:0.991545\tval-rmse:1.41613\n",
      "[2000]\ttrain-rmse:0.980927\tval-rmse:1.41469\n",
      "[2100]\ttrain-rmse:0.969811\tval-rmse:1.41408\n",
      "[2200]\ttrain-rmse:0.959229\tval-rmse:1.41383\n",
      "[2300]\ttrain-rmse:0.949935\tval-rmse:1.41345\n",
      "[2400]\ttrain-rmse:0.940518\tval-rmse:1.41279\n",
      "[2500]\ttrain-rmse:0.931809\tval-rmse:1.41289\n",
      "[2600]\ttrain-rmse:0.923154\tval-rmse:1.41354\n",
      "Stopping. Best iteration:\n",
      "[2423]\ttrain-rmse:0.938317\tval-rmse:1.41271\n",
      "\n",
      "RMSLE: 1.41271\n",
      "[0]\ttrain-rmse:13.9664\tval-rmse:13.9081\n",
      "Multiple eval metrics have been passed: 'val-rmse' will be used for early stopping.\n",
      "\n",
      "Will train until val-rmse hasn't improved in 250 rounds.\n",
      "[100]\ttrain-rmse:5.3503\tval-rmse:5.30513\n",
      "[200]\ttrain-rmse:2.40588\tval-rmse:2.39913\n",
      "[300]\ttrain-rmse:1.55999\tval-rmse:1.61286\n",
      "[400]\ttrain-rmse:1.34331\tval-rmse:1.4506\n",
      "[500]\ttrain-rmse:1.26765\tval-rmse:1.41581\n",
      "[600]\ttrain-rmse:1.22678\tval-rmse:1.40399\n",
      "[700]\ttrain-rmse:1.19838\tval-rmse:1.3986\n",
      "[800]\ttrain-rmse:1.17171\tval-rmse:1.39398\n",
      "[900]\ttrain-rmse:1.14889\tval-rmse:1.39307\n",
      "[1000]\ttrain-rmse:1.12635\tval-rmse:1.39251\n",
      "[1100]\ttrain-rmse:1.10902\tval-rmse:1.39246\n",
      "[1200]\ttrain-rmse:1.09071\tval-rmse:1.39077\n",
      "[1300]\ttrain-rmse:1.07446\tval-rmse:1.39035\n",
      "[1400]\ttrain-rmse:1.05942\tval-rmse:1.38957\n",
      "[1500]\ttrain-rmse:1.04344\tval-rmse:1.38865\n",
      "[1600]\ttrain-rmse:1.03063\tval-rmse:1.38866\n",
      "[1700]\ttrain-rmse:1.01715\tval-rmse:1.38711\n",
      "[1800]\ttrain-rmse:1.00557\tval-rmse:1.38676\n",
      "[1900]\ttrain-rmse:0.994764\tval-rmse:1.38704\n",
      "[2000]\ttrain-rmse:0.984643\tval-rmse:1.38717\n",
      "Stopping. Best iteration:\n",
      "[1811]\ttrain-rmse:1.00429\tval-rmse:1.38643\n",
      "\n",
      "RMSLE: 1.38643\n",
      "[0]\ttrain-rmse:13.9531\tval-rmse:14.0293\n",
      "Multiple eval metrics have been passed: 'val-rmse' will be used for early stopping.\n",
      "\n",
      "Will train until val-rmse hasn't improved in 250 rounds.\n",
      "[100]\ttrain-rmse:5.34321\tval-rmse:5.43143\n",
      "[200]\ttrain-rmse:2.39787\tval-rmse:2.53012\n",
      "[300]\ttrain-rmse:1.54924\tval-rmse:1.7347\n",
      "[400]\ttrain-rmse:1.3337\tval-rmse:1.56364\n",
      "[500]\ttrain-rmse:1.26025\tval-rmse:1.52612\n",
      "[600]\ttrain-rmse:1.21889\tval-rmse:1.51367\n",
      "[700]\ttrain-rmse:1.18786\tval-rmse:1.50935\n",
      "[800]\ttrain-rmse:1.16013\tval-rmse:1.50696\n",
      "[900]\ttrain-rmse:1.13617\tval-rmse:1.50586\n",
      "[1000]\ttrain-rmse:1.11366\tval-rmse:1.50531\n",
      "[1100]\ttrain-rmse:1.09437\tval-rmse:1.50399\n",
      "[1200]\ttrain-rmse:1.07481\tval-rmse:1.50212\n",
      "[1300]\ttrain-rmse:1.05944\tval-rmse:1.49991\n",
      "[1400]\ttrain-rmse:1.04405\tval-rmse:1.49856\n",
      "[1500]\ttrain-rmse:1.03008\tval-rmse:1.49816\n",
      "[1600]\ttrain-rmse:1.01809\tval-rmse:1.4981\n",
      "[1700]\ttrain-rmse:1.00593\tval-rmse:1.49717\n",
      "[1800]\ttrain-rmse:0.995763\tval-rmse:1.49714\n",
      "[1900]\ttrain-rmse:0.985341\tval-rmse:1.4969\n",
      "[2000]\ttrain-rmse:0.975514\tval-rmse:1.49636\n",
      "[2100]\ttrain-rmse:0.966251\tval-rmse:1.4967\n",
      "[2200]\ttrain-rmse:0.956602\tval-rmse:1.4964\n",
      "[2300]\ttrain-rmse:0.94833\tval-rmse:1.4959\n",
      "[2400]\ttrain-rmse:0.939799\tval-rmse:1.49515\n",
      "[2500]\ttrain-rmse:0.931819\tval-rmse:1.49439\n",
      "[2600]\ttrain-rmse:0.924091\tval-rmse:1.49412\n",
      "[2700]\ttrain-rmse:0.916125\tval-rmse:1.49363\n",
      "[2800]\ttrain-rmse:0.908681\tval-rmse:1.49286\n",
      "[2900]\ttrain-rmse:0.902298\tval-rmse:1.49208\n",
      "[3000]\ttrain-rmse:0.895644\tval-rmse:1.4915\n",
      "[3100]\ttrain-rmse:0.888489\tval-rmse:1.49076\n",
      "[3200]\ttrain-rmse:0.882686\tval-rmse:1.4901\n",
      "[3300]\ttrain-rmse:0.876308\tval-rmse:1.48995\n",
      "[3400]\ttrain-rmse:0.870214\tval-rmse:1.48951\n",
      "[3500]\ttrain-rmse:0.863884\tval-rmse:1.48926\n",
      "[3600]\ttrain-rmse:0.857632\tval-rmse:1.48859\n",
      "[3700]\ttrain-rmse:0.851752\tval-rmse:1.48791\n",
      "[3800]\ttrain-rmse:0.846614\tval-rmse:1.48779\n",
      "[3900]\ttrain-rmse:0.841287\tval-rmse:1.48763\n",
      "[4000]\ttrain-rmse:0.835138\tval-rmse:1.48748\n",
      "[4100]\ttrain-rmse:0.829991\tval-rmse:1.48765\n",
      "[4200]\ttrain-rmse:0.824634\tval-rmse:1.48764\n",
      "[4300]\ttrain-rmse:0.819807\tval-rmse:1.48746\n",
      "[4400]\ttrain-rmse:0.815447\tval-rmse:1.48771\n",
      "[4500]\ttrain-rmse:0.809584\tval-rmse:1.48737\n",
      "Stopping. Best iteration:\n",
      "[4250]\ttrain-rmse:0.822133\tval-rmse:1.48724\n",
      "\n",
      "RMSLE: 1.48724\n",
      "[0]\ttrain-rmse:13.9648\tval-rmse:13.9226\n",
      "Multiple eval metrics have been passed: 'val-rmse' will be used for early stopping.\n",
      "\n",
      "Will train until val-rmse hasn't improved in 250 rounds.\n",
      "[100]\ttrain-rmse:5.34902\tval-rmse:5.30315\n",
      "[200]\ttrain-rmse:2.40421\tval-rmse:2.39441\n",
      "[300]\ttrain-rmse:1.55983\tval-rmse:1.61296\n",
      "[400]\ttrain-rmse:1.34785\tval-rmse:1.4576\n",
      "[500]\ttrain-rmse:1.27576\tval-rmse:1.42518\n",
      "[600]\ttrain-rmse:1.23352\tval-rmse:1.4124\n",
      "[700]\ttrain-rmse:1.20547\tval-rmse:1.4053\n",
      "[800]\ttrain-rmse:1.17987\tval-rmse:1.39904\n",
      "[900]\ttrain-rmse:1.15796\tval-rmse:1.39311\n",
      "[1000]\ttrain-rmse:1.13714\tval-rmse:1.3872\n",
      "[1100]\ttrain-rmse:1.11898\tval-rmse:1.38343\n",
      "[1200]\ttrain-rmse:1.10203\tval-rmse:1.37888\n",
      "[1300]\ttrain-rmse:1.087\tval-rmse:1.37671\n"
     ]
    },
    {
     "name": "stdout",
     "output_type": "stream",
     "text": [
      "[1400]\ttrain-rmse:1.07189\tval-rmse:1.37509\n",
      "[1500]\ttrain-rmse:1.05701\tval-rmse:1.37329\n",
      "[1600]\ttrain-rmse:1.04411\tval-rmse:1.37227\n",
      "[1700]\ttrain-rmse:1.03204\tval-rmse:1.37116\n",
      "[1800]\ttrain-rmse:1.02058\tval-rmse:1.37106\n",
      "[1900]\ttrain-rmse:1.00954\tval-rmse:1.36997\n",
      "[2000]\ttrain-rmse:0.997477\tval-rmse:1.36939\n",
      "[2100]\ttrain-rmse:0.987115\tval-rmse:1.3692\n",
      "[2200]\ttrain-rmse:0.976672\tval-rmse:1.3685\n",
      "[2300]\ttrain-rmse:0.967697\tval-rmse:1.36841\n",
      "[2400]\ttrain-rmse:0.958426\tval-rmse:1.36847\n",
      "[2500]\ttrain-rmse:0.949589\tval-rmse:1.36886\n",
      "Stopping. Best iteration:\n",
      "[2285]\ttrain-rmse:0.96916\tval-rmse:1.36823\n",
      "\n",
      "RMSLE: 1.36823\n",
      "\n",
      " Fold mean of RMSLE: 1.42381\n"
     ]
    }
   ],
   "source": [
    "submission = pd.DataFrame.from_dict({'ID': test_ID, 'target': np.zeros(test_data.shape[0])})\n",
    "\n",
    "mean_of_errors = 0.\n",
    "\n",
    "test_set = xgb.DMatrix(log_features_test)\n",
    "\n",
    "for train_index, test_index in kf.split(log_features_train):\n",
    "        \n",
    "    X_tr, X_tst = log_features_train[train_index], log_features_train[test_index]\n",
    "    y_tr, y_tst = log_target[train_index], log_target[test_index]\n",
    "        \n",
    "    train_set = xgb.DMatrix(X_tr, label=y_tr)\n",
    "    valid_set = xgb.DMatrix(X_tst, label=y_tst)\n",
    "        \n",
    "    bst = xgb.train(params, train_set, num_boost_round=10000, evals=[(train_set, 'train'), (valid_set, 'val')],\n",
    "                    early_stopping_rounds=250, verbose_eval=100)\n",
    "    \n",
    "    y_val = bst.predict(valid_set, ntree_limit=bst.best_ntree_limit)\n",
    "    \n",
    "    rmsle = np.sqrt(mean_squared_error(y_tst, y_val))\n",
    "    \n",
    "    print('RMSLE: %.5f' % rmsle)\n",
    "    \n",
    "    mean_of_errors += rmsle/n_splits\n",
    "        \n",
    "    submission.target = submission.target + np.expm1(bst.predict(test_set, ntree_limit=bst.best_ntree_limit))/n_splits\n",
    "        \n",
    "print('\\n Fold mean of RMSLE: %.5f' % mean_of_errors)"
   ]
  },
  {
   "cell_type": "code",
   "execution_count": 38,
   "metadata": {},
   "outputs": [
    {
     "data": {
      "text/html": [
       "<div>\n",
       "<style scoped>\n",
       "    .dataframe tbody tr th:only-of-type {\n",
       "        vertical-align: middle;\n",
       "    }\n",
       "\n",
       "    .dataframe tbody tr th {\n",
       "        vertical-align: top;\n",
       "    }\n",
       "\n",
       "    .dataframe thead th {\n",
       "        text-align: right;\n",
       "    }\n",
       "</style>\n",
       "<table border=\"1\" class=\"dataframe\">\n",
       "  <thead>\n",
       "    <tr style=\"text-align: right;\">\n",
       "      <th></th>\n",
       "      <th>ID</th>\n",
       "      <th>target</th>\n",
       "    </tr>\n",
       "  </thead>\n",
       "  <tbody>\n",
       "    <tr>\n",
       "      <th>0</th>\n",
       "      <td>000137c73</td>\n",
       "      <td>1.900761e+06</td>\n",
       "    </tr>\n",
       "    <tr>\n",
       "      <th>1</th>\n",
       "      <td>00021489f</td>\n",
       "      <td>1.871472e+06</td>\n",
       "    </tr>\n",
       "    <tr>\n",
       "      <th>2</th>\n",
       "      <td>0004d7953</td>\n",
       "      <td>1.286523e+06</td>\n",
       "    </tr>\n",
       "    <tr>\n",
       "      <th>3</th>\n",
       "      <td>00056a333</td>\n",
       "      <td>9.247469e+06</td>\n",
       "    </tr>\n",
       "    <tr>\n",
       "      <th>4</th>\n",
       "      <td>00056d8eb</td>\n",
       "      <td>1.903365e+06</td>\n",
       "    </tr>\n",
       "  </tbody>\n",
       "</table>\n",
       "</div>"
      ],
      "text/plain": [
       "          ID        target\n",
       "0  000137c73  1.900761e+06\n",
       "1  00021489f  1.871472e+06\n",
       "2  0004d7953  1.286523e+06\n",
       "3  00056a333  9.247469e+06\n",
       "4  00056d8eb  1.903365e+06"
      ]
     },
     "execution_count": 38,
     "metadata": {},
     "output_type": "execute_result"
    }
   ],
   "source": [
    "submission.head()"
   ]
  },
  {
   "cell_type": "code",
   "execution_count": 39,
   "metadata": {
    "collapsed": true
   },
   "outputs": [],
   "source": [
    "submission.to_csv('../submission_files/xgb_log_std_10fold.csv', index=False)"
   ]
  },
  {
   "cell_type": "code",
   "execution_count": null,
   "metadata": {
    "collapsed": true
   },
   "outputs": [],
   "source": []
  }
 ],
 "metadata": {
  "kernelspec": {
   "display_name": "Python 3",
   "language": "python",
   "name": "python3"
  },
  "language_info": {
   "codemirror_mode": {
    "name": "ipython",
    "version": 3
   },
   "file_extension": ".py",
   "mimetype": "text/x-python",
   "name": "python",
   "nbconvert_exporter": "python",
   "pygments_lexer": "ipython3",
   "version": "3.6.1"
  }
 },
 "nbformat": 4,
 "nbformat_minor": 2
}
